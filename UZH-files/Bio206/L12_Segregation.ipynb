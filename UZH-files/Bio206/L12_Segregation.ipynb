{
 "cells": [
  {
   "cell_type": "markdown",
   "metadata": {},
   "source": [
    "# ABM 1 \n",
    "## Spatial segregation"
   ]
  },
  {
   "cell_type": "code",
   "execution_count": 1,
   "metadata": {},
   "outputs": [],
   "source": [
    "import pycxsimulator\n",
    "from pylab import *\n",
    "\n",
    "def setupfunct(n = 1000, r = 0.1, thresh = 0.5):\n",
    "    class agent:\n",
    "        pass\n",
    "\n",
    "    def initialise():\n",
    "        global agents\n",
    "        agents = []\n",
    "        for i in range(n):\n",
    "            ag = agent()\n",
    "            ag.type = randint(2)\n",
    "            ag.x = random()\n",
    "            ag.y = random()\n",
    "            agents.append(ag)\n",
    "        \n",
    "    def observe():\n",
    "        global agents\n",
    "        cla()\n",
    "        red = [ag for ag in agents if ag.type == 0]\n",
    "        blue = [ag for ag in agents if ag.type == 1]\n",
    "        plot([ag.x for ag in red], [ag.y for ag in red], 'ro')\n",
    "        plot([ag.x for ag in blue], [ag.y for ag in blue], 'bo')\n",
    "        axis('image')\n",
    "        axis([0, 1, 0, 1])\n",
    "\n",
    "    def update():\n",
    "        global agents\n",
    "        ag = choice(agents)\n",
    "        neighbours = [nb for nb in agents\n",
    "                    if (ag.x - nb.x)**2 + (ag.y - nb.y)**2 < r**2 and nb != ag]\n",
    "        if len(neighbours) > 0:\n",
    "            q = len([nb for nb in neighbours if nb.type == ag.type]) \\\n",
    "                / float(len(neighbours))\n",
    "            if q < thresh:\n",
    "                ag.x, ag.y = random(), random()\n",
    "    funct = [initialise, observe, update]\n",
    "    return(funct)\n",
    "    \n",
    "pycxsimulator.GUI().start(func=setupfunct())\n",
    "    "
   ]
  },
  {
   "cell_type": "markdown",
   "metadata": {},
   "source": [
    "___\n",
    "# Comments\n",
    "\n",
    "We want to define agents in a city.\n",
    "therefore we need to define the paramenters\n",
    "* number of agents $n$\n",
    "* radius $r$ from an agent defining its neighbourhood\n",
    "* segregation threshold $thresh$: if less than fraction t of nehgboutrours is of the same type, agent moves\n",
    "if $thresh$ = 0: agent does not require neghbours to be simlar\n",
    "if $thresh$ = 0.4: agent moves if less than 40% of neighbours are of his type\n",
    "if $thresh$ = 1: agent moves unless all neighbours are of its type\n",
    "* $round$ = simulation round (one agent move) \n",
    "\n",
    "This ABM requires library **pylab**\n"
   ]
  },
  {
   "cell_type": "code",
   "execution_count": null,
   "metadata": {},
   "outputs": [],
   "source": [
    "import pycxsimulator\n",
    "from pylab import *\n",
    "\n",
    "n = 1000 # number of agents\n",
    "r = 0.1 # neighbourhood radius\n",
    "thresh = 0.5 # threshold for moving"
   ]
  },
  {
   "cell_type": "markdown",
   "metadata": {},
   "source": [
    "Now we define a class for agents "
   ]
  },
  {
   "cell_type": "code",
   "execution_count": null,
   "metadata": {},
   "outputs": [],
   "source": [
    "class agent:\n",
    "    pass "
   ]
  },
  {
   "cell_type": "markdown",
   "metadata": {},
   "source": [
    "* **Initialisation:**   "
   ]
  },
  {
   "cell_type": "code",
   "execution_count": null,
   "metadata": {},
   "outputs": [],
   "source": [
    "def initialise(): # define function initialise()\n",
    "    global agents # since agents are required by other functions in the simulation, we define it as a global variable \n",
    "    agents = [] # an empty list created to store all our n agents ag \n",
    "    for i in range(n): # loop repeats commands n times, range(n) means from 0 to n-1\n",
    "        ag = agent() # ag is agent(i), is appended to agents, and then rewritten for each i (it is a local variable)\n",
    "        ag.type = randint(2) # randint(2) to randomly selects agent type 0 or 1\n",
    "        ag.x = random() # we define an x position between 0 and 1 with random()\n",
    "        ag.y = random() # same for y position, so city is a 2D space ranging from x = (0,1) and y = (0,1) \n",
    "        agents.append(ag) # after defining ag, we append it as agent (i) to agents(), and recycle ag for next agent"
   ]
  },
  {
   "cell_type": "code",
   "execution_count": null,
   "metadata": {
    "scrolled": true
   },
   "outputs": [],
   "source": [
    "randint(2)\n",
    "random()\n",
    "agents[2].type"
   ]
  },
  {
   "cell_type": "markdown",
   "metadata": {},
   "source": [
    "* **Observation:**"
   ]
  },
  {
   "cell_type": "code",
   "execution_count": null,
   "metadata": {},
   "outputs": [],
   "source": [
    "def observe(): # define function observe()\n",
    "    global agents # we need agents created above, so we are calling the golbal values of agents\n",
    "    cla() # clears previous figure axes, which can then be updated, clf() clears figure and wrks as well   \n",
    "    red = [ag for ag in agents if ag.type == 0] # red is a list of agents ag, from agents, of type 0 \n",
    "    blue = [ag for ag in agents if ag.type == 1]\n",
    "    plot([ag.x for ag in red], [ag.y for ag in red], 'ro') \n",
    "    plot([ag.x for ag in blue], [ag.y for ag in blue], 'bo')\n",
    "    axis('image')\n",
    "    axis([0, 1, 0, 1])"
   ]
  },
  {
   "cell_type": "markdown",
   "metadata": {},
   "source": [
    "**Exercise:** \n",
    "<br>the code:</br>\n",
    "    <br>red = [ag for ag in agents if ag.type == 0]</br> \n",
    "<br>condensed four lines of code into one. How would you write it in extended form?</br>  \n",
    "\n",
    "<details><summary><u>Answer:</u></summary>\n",
    "<p>\n",
    "red = [ ] <br>\n",
    "for ag in agents: <br>\n",
    "    if ag.type == 0: <br>\n",
    "        append.red(ag)   \n",
    "</p>\n",
    "</details>"
   ]
  },
  {
   "cell_type": "markdown",
   "metadata": {},
   "source": [
    "* **Updating:**"
   ]
  },
  {
   "cell_type": "code",
   "execution_count": null,
   "metadata": {},
   "outputs": [],
   "source": [
    "def update(): # define update function\n",
    "    global agents # we also want to store value of round globally, so that it is not overwritten after each update  \n",
    "    ag = choice(agents) # choice() selects one element of a list, or here one random agent\n",
    "    neighbours = [nb for nb in agents \n",
    "                 if (ag.x - nb.x)**2 + (ag.y - nb.y)**2 < r**2 and nb != ag] # see exercise\n",
    "    if len(neighbours) > 0: #if ag has at least one neighbour \n",
    "        q = len([nb for nb in neighbors if nb.type == ag.type]) \\\n",
    "            / float(len(neighbors))   #  q = size of group of nb's of same type as ag, divided by size of group of all nb's of ag\n",
    "        if q < thresh: # if proportion q of same-type neighbours below ag threshold \n",
    "            ag.x, ag.y = random(), random() # ag is given new random location  "
   ]
  },
  {
   "cell_type": "markdown",
   "metadata": {},
   "source": [
    "**Exercise:**\n",
    "rewrite and interpret the code line <br>\n",
    "neighbours = [nb for nb in agents if (ag.x - nb.x)\"\"**\"2 + (ag.y - nb.y)\"\"**\"2 < r\"**\"2 and nb != ag]"
   ]
  },
  {
   "cell_type": "markdown",
   "metadata": {},
   "source": [
    "* **Running simulation:**"
   ]
  },
  {
   "cell_type": "code",
   "execution_count": null,
   "metadata": {},
   "outputs": [],
   "source": [
    "pycxsimulator.GUI().start(func=[initialise, observe, update])"
   ]
  },
  {
   "cell_type": "markdown",
   "metadata": {},
   "source": [
    "# **Practical:**\n",
    "\n",
    "a) Run the simulation each for thresh = (0.1, 0.2,..., 1). (n=1000). Plot the final dstributions in markdown."
   ]
  },
  {
   "cell_type": "code",
   "execution_count": 2,
   "metadata": {},
   "outputs": [],
   "source": [
    "pycxsimulator.GUI().start(func=setupfunct(n = 1000, r = 0.1, thresh = 0.1))"
   ]
  },
  {
   "cell_type": "code",
   "execution_count": null,
   "metadata": {},
   "outputs": [],
   "source": [
    "red = [ag for ag in agents if ag.type == 0]\n",
    "blue = [ag for ag in agents if ag.type == 1]\n",
    "plot([ag.x for ag in red], [ag.y for ag in red], 'ro')\n",
    "plot([ag.x for ag in blue], [ag.y for ag in blue], 'bo')\n",
    "axis('image')\n",
    "axis([0, 1, 0, 1])"
   ]
  },
  {
   "cell_type": "code",
   "execution_count": null,
   "metadata": {},
   "outputs": [],
   "source": [
    "pycxsimulator.GUI().start(func=setupfunct(n = 1000, r = 0.1, thresh = 0.2))"
   ]
  },
  {
   "cell_type": "code",
   "execution_count": 3,
   "metadata": {},
   "outputs": [],
   "source": [
    "pycxsimulator.GUI().start(func=setupfunct(n = 1000, r = 0.1, thresh = 0.3))"
   ]
  },
  {
   "cell_type": "code",
   "execution_count": 4,
   "metadata": {},
   "outputs": [],
   "source": [
    "pycxsimulator.GUI().start(func=setupfunct(n = 1000, r = 0.1, thresh = 0.4))"
   ]
  },
  {
   "cell_type": "code",
   "execution_count": 5,
   "metadata": {},
   "outputs": [],
   "source": [
    "pycxsimulator.GUI().start(func=setupfunct(n = 1000, r = 0.1, thresh = 0.5))"
   ]
  },
  {
   "cell_type": "code",
   "execution_count": 6,
   "metadata": {},
   "outputs": [],
   "source": [
    "pycxsimulator.GUI().start(func=setupfunct(n = 1000, r = 0.1, thresh = 0.6))"
   ]
  },
  {
   "cell_type": "code",
   "execution_count": 7,
   "metadata": {},
   "outputs": [],
   "source": [
    "pycxsimulator.GUI().start(func=setupfunct(n = 1000, r = 0.1, thresh = 0.7))"
   ]
  },
  {
   "cell_type": "code",
   "execution_count": 8,
   "metadata": {},
   "outputs": [],
   "source": [
    "pycxsimulator.GUI().start(func=setupfunct(n = 1000, r = 0.1, thresh = 0.8))"
   ]
  },
  {
   "cell_type": "code",
   "execution_count": 9,
   "metadata": {},
   "outputs": [],
   "source": [
    "pycxsimulator.GUI().start(func=setupfunct(n = 1000, r = 0.1, thresh = 0.9))"
   ]
  },
  {
   "cell_type": "code",
   "execution_count": 10,
   "metadata": {},
   "outputs": [],
   "source": [
    "pycxsimulator.GUI().start(func=setupfunct(n = 1000, r = 0.1, thresh = 1))"
   ]
  },
  {
   "cell_type": "markdown",
   "metadata": {},
   "source": [
    "b) Increase radius to 0.2 and 0.3 (for thresh = 0.5). Plot results."
   ]
  },
  {
   "cell_type": "code",
   "execution_count": 11,
   "metadata": {},
   "outputs": [],
   "source": [
    "pycxsimulator.GUI().start(func=setupfunct(n = 1000, r = 0.2, thresh = 0.5))"
   ]
  },
  {
   "cell_type": "code",
   "execution_count": 12,
   "metadata": {},
   "outputs": [],
   "source": [
    "pycxsimulator.GUI().start(func=setupfunct(n = 1000, r = 0.3, thresh = 0.5))"
   ]
  },
  {
   "cell_type": "markdown",
   "metadata": {},
   "source": [
    "c) Run simulation with n = 100, 5000. Plot results."
   ]
  },
  {
   "cell_type": "code",
   "execution_count": 13,
   "metadata": {},
   "outputs": [],
   "source": [
    "pycxsimulator.GUI().start(func=setupfunct(n = 100, r = 0.1, thresh = 0.5))"
   ]
  },
  {
   "cell_type": "code",
   "execution_count": 14,
   "metadata": {},
   "outputs": [],
   "source": [
    "pycxsimulator.GUI().start(func=setupfunct(n = 5000, r = 0.1, thresh = 0.5))"
   ]
  },
  {
   "cell_type": "markdown",
   "metadata": {},
   "source": []
  }
 ],
 "metadata": {
  "kernelspec": {
   "display_name": "Python 3",
   "language": "python",
   "name": "python3"
  },
  "language_info": {
   "codemirror_mode": {
    "name": "ipython",
    "version": 3
   },
   "file_extension": ".py",
   "mimetype": "text/x-python",
   "name": "python",
   "nbconvert_exporter": "python",
   "pygments_lexer": "ipython3",
   "version": "3.9.1-final"
  }
 },
 "nbformat": 4,
 "nbformat_minor": 4
}