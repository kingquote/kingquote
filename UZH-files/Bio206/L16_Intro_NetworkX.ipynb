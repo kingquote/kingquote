{
 "cells": [
  {
   "cell_type": "markdown",
   "metadata": {},
   "source": [
    "# Network analysis with NetworkX\n",
    "\n",
    "For network analysis in Python we use the the package **NetworkX**"
   ]
  },
  {
   "cell_type": "code",
   "execution_count": null,
   "metadata": {},
   "outputs": [],
   "source": [
    "import numpy as np\n",
    "import matplotlib.pyplot as plt\n",
    "import matplotlib\n",
    "\n",
    "import networkx as nx"
   ]
  },
  {
   "cell_type": "markdown",
   "metadata": {},
   "source": [
    "## Creating graphs, basic operations"
   ]
  },
  {
   "cell_type": "code",
   "execution_count": null,
   "metadata": {},
   "outputs": [],
   "source": [
    "# create an empty undirectional graph without nodes or edges\n",
    "G = nx.Graph()            \n",
    "print(G.nodes(), G.edges())"
   ]
  },
  {
   "cell_type": "code",
   "execution_count": null,
   "metadata": {},
   "outputs": [],
   "source": [
    "# add a single node\n",
    "G.add_node(1)    \n",
    "print(G.nodes())"
   ]
  },
  {
   "cell_type": "code",
   "execution_count": null,
   "metadata": {},
   "outputs": [],
   "source": [
    "# add a list of nodes\n",
    "G.add_nodes_from([2,3])    \n",
    "print(G.nodes())\n",
    "G.number_of_nodes()\n",
    "print('number of nodes:', G.number_of_nodes())"
   ]
  },
  {
   "cell_type": "code",
   "execution_count": null,
   "metadata": {},
   "outputs": [],
   "source": [
    "# basic summary\n",
    "print(nx.info(G))"
   ]
  },
  {
   "cell_type": "code",
   "execution_count": null,
   "metadata": {},
   "outputs": [],
   "source": [
    "# reset network\n",
    "G.clear()\n",
    "print(G.nodes())\n",
    "G.add_nodes_from([51,52,55,\"a\"])"
   ]
  },
  {
   "cell_type": "code",
   "execution_count": null,
   "metadata": {},
   "outputs": [],
   "source": [
    "# add edge\n",
    "G.add_edge(1,2)\n",
    "print(G.nodes(), G.edges())\n",
    "print(nx.info(G))"
   ]
  },
  {
   "cell_type": "code",
   "execution_count": null,
   "metadata": {},
   "outputs": [],
   "source": [
    "# create network from edgelist\n",
    "G.clear()\n",
    "G.add_edges_from([(1,2), (1,3)])\n",
    "print(G.edges())"
   ]
  },
  {
   "cell_type": "code",
   "execution_count": null,
   "metadata": {},
   "outputs": [],
   "source": [
    "# adding an edge that is already present\n",
    "G.add_edges_from([(2,1)]) \n",
    "print(G.edges())\n",
    "print(G.nodes())\n",
    "print(nx.info(G))"
   ]
  },
  {
   "cell_type": "code",
   "execution_count": null,
   "metadata": {},
   "outputs": [],
   "source": [
    "# create directional network\n",
    "G = nx.DiGraph()\n",
    "G.add_edges_from([(1,2), (1,3), (2,3)])\n",
    "print(G.edges())\n",
    "G.add_edges_from([(2,1)])\n",
    "print(G.edges())"
   ]
  },
  {
   "cell_type": "code",
   "execution_count": null,
   "metadata": {},
   "outputs": [],
   "source": [
    "# listing neighbours of node 1\n",
    "print(\"Neighbors\",list(G.neighbors(1)))\n",
    "print(\"Successors\",list(G.successors(1)))\n",
    "print(\"Predecessors\",list(G.predecessors(1)))"
   ]
  },
  {
   "cell_type": "code",
   "execution_count": null,
   "metadata": {},
   "outputs": [],
   "source": [
    "# loops\n",
    "# data=True to includes node attributes as dictionaries\n",
    "# so far, no attributes\n",
    "for node, data in G.nodes(data=True):\n",
    "    print(node, data)"
   ]
  },
  {
   "cell_type": "code",
   "execution_count": null,
   "metadata": {},
   "outputs": [],
   "source": [
    "for n1, n2, data in G.edges(data=True):\n",
    "    print(n1, \" <----> \", n2, data)"
   ]
  },
  {
   "cell_type": "code",
   "execution_count": null,
   "metadata": {},
   "outputs": [],
   "source": [
    "# drawing basic graphs\n",
    "nx.draw_networkx(G, with_labels=True)\n",
    "plt.show()"
   ]
  },
  {
   "cell_type": "code",
   "execution_count": null,
   "metadata": {},
   "outputs": [],
   "source": [
    "G = nx.DiGraph()\n",
    "G.add_edges_from([(1,2), (1,3)])\n",
    "print(G.edges())\n",
    "G.add_edge(2,1)\n",
    "nx.draw_networkx(G, with_labels=True)\n",
    "plt.axis('off')\n",
    "plt.show()"
   ]
  },
  {
   "cell_type": "code",
   "execution_count": null,
   "metadata": {},
   "outputs": [],
   "source": [
    "# creating network from adjacency matrix\n",
    "\n",
    "# create matrix\n",
    "#𝐴ij=1 if nodes i and 𝑗 are connected, Aij=0 otherwise.\n",
    "adj = np.array([[0, 0, 1],\n",
    "                [1, 0, 0],\n",
    "                [1, 1, 0]])"
   ]
  },
  {
   "cell_type": "code",
   "execution_count": null,
   "metadata": {},
   "outputs": [],
   "source": [
    "# create graph\n",
    "G = nx.from_numpy_matrix(adj)\n",
    "nx.draw_networkx(G, with_labels=True)\n",
    "plt.axis('off')\n",
    "plt.show()"
   ]
  },
  {
   "cell_type": "code",
   "execution_count": null,
   "metadata": {},
   "outputs": [],
   "source": [
    "#Operations\n",
    "\n",
    "# degree\n",
    "print(G.degree(0))\n",
    "# a DegreeView that can be converted to a dictionary)\n",
    "print(dict(G.degree()))\n",
    "# only degree values\n",
    "print(dict(G.degree()).values())"
   ]
  },
  {
   "cell_type": "code",
   "execution_count": null,
   "metadata": {},
   "outputs": [],
   "source": [
    "# local transitivity\n",
    "nx.clustering(G)"
   ]
  },
  {
   "cell_type": "code",
   "execution_count": null,
   "metadata": {},
   "outputs": [],
   "source": [
    "# global transitivity\n",
    "nx.transitivity(G)"
   ]
  },
  {
   "cell_type": "code",
   "execution_count": null,
   "metadata": {},
   "outputs": [],
   "source": [
    "# edge attributes\n",
    "G = nx.Graph()\n",
    "# adding two attributes\n",
    "G.add_edge(1,2,weight=10,transport=\"bus\")\n",
    "G.add_edge(2,3,weight=5,transport=\"train\")\n",
    "# edge attributes of edge (1, 2)\n",
    "print(G[1][2])"
   ]
  },
  {
   "cell_type": "code",
   "execution_count": null,
   "metadata": {},
   "outputs": [],
   "source": [
    "# looping\n",
    "for e in G.edges():\n",
    "    print(e)"
   ]
  },
  {
   "cell_type": "code",
   "execution_count": null,
   "metadata": {},
   "outputs": [],
   "source": [
    "# with attributes (data)\n",
    "for e in G.edges(data=True):\n",
    "    print(e)"
   ]
  },
  {
   "cell_type": "code",
   "execution_count": null,
   "metadata": {},
   "outputs": [],
   "source": [
    "for [e1, e2, w] in G.edges(data=True):\n",
    "    print(\"%d -- %d [weight=%g];\" % (e1,e2,w['weight']))"
   ]
  },
  {
   "cell_type": "code",
   "execution_count": null,
   "metadata": {},
   "outputs": [],
   "source": [
    "G = nx.Graph()\n",
    "G.add_edge('a', 'b', weight=0.6)\n",
    "G.add_edge('a', 'c', weight=0.2)\n",
    "G.add_edge('c', 'd', weight=0.1)\n",
    "G.add_edge('c', 'e', weight=0.7)\n",
    "G.add_edge('c', 'f', weight=0.9)\n",
    "G.add_edge('a', 'd', weight=0.9)\n",
    "\n",
    "edges = [(u, v) for (u, v) in G.edges()]\n",
    "weight = [d['weight']*5.0 for (u, v, d) in G.edges(data=True)]\n",
    "\n",
    "# layout: dynamical model for node positions\n",
    "pos = nx.spring_layout(G)\n",
    "# draw nodes\n",
    "nx.draw_networkx_nodes(G, pos, node_size=700)\n",
    "# draw edges\n",
    "nx.draw_networkx_edges(G, pos, edgelist=edges, width=weight)\n",
    "# draw labels\n",
    "nx.draw_networkx_labels(G, pos, font_size=20)\n",
    "plt.axis('off')\n",
    "plt.show()"
   ]
  },
  {
   "cell_type": "code",
   "execution_count": null,
   "metadata": {},
   "outputs": [],
   "source": [
    "# diamater and average path length\n",
    "nx.diameter(G)"
   ]
  },
  {
   "cell_type": "code",
   "execution_count": null,
   "metadata": {},
   "outputs": [],
   "source": [
    "nx.average_shortest_path_length(G)"
   ]
  },
  {
   "cell_type": "code",
   "execution_count": null,
   "metadata": {},
   "outputs": [],
   "source": [
    "# with weight\n",
    "nx.average_shortest_path_length(G, weight=\"weight\")"
   ]
  },
  {
   "cell_type": "code",
   "execution_count": null,
   "metadata": {},
   "outputs": [],
   "source": [
    "#Exercise: create network with 50 nodes and 50 edges with random weights\n",
    "G = nx.Graph()\n",
    "G.add_nodes_from([i for i in range(50)])\n",
    "for i in range(50):\n",
    "    node1, node2 = np.random.choice(list(G.nodes()),2)\n",
    "    G.add_edge(node1,node2)\n",
    "\n",
    "for i,j, data in G.edges(data=True):\n",
    "    data['weight'] = np.random.random()\n",
    "#print(list(G.edges(data=True)))\n",
    "\n",
    "elarge = [(u, v) for (u, v, d) in G.edges(data=True) if d['weight'] > 0.5]\n",
    "esmall = [(u, v) for (u, v, d) in G.edges(data=True) if d['weight'] <= 0.5]\n",
    "\n",
    "pos = nx.spring_layout(G)\n",
    "\n",
    "# nodes\n",
    "nx.draw_networkx_nodes(G, pos, node_size=10)\n",
    "# edges\n",
    "nx.draw_networkx_edges(G, pos, edgelist=elarge, width=3)\n",
    "nx.draw_networkx_edges(G, pos, edgelist=esmall,\n",
    "                       width=2, alpha=0.5, edge_color='r', style='dashed')"
   ]
  },
  {
   "cell_type": "markdown",
   "metadata": {},
   "source": [
    "## Model networks"
   ]
  },
  {
   "cell_type": "code",
   "execution_count": null,
   "metadata": {},
   "outputs": [],
   "source": [
    "# Model networks\n",
    "\n",
    "#random graph networks\n",
    "# create random graph with 1000 nodes and prob of edge p=0.01\n",
    "G = nx.erdos_renyi_graph(1000, 0.01)"
   ]
  },
  {
   "cell_type": "code",
   "execution_count": null,
   "metadata": {},
   "outputs": [],
   "source": [
    "# create list of degrees\n",
    "x = [G.degree([i][0]) for i in range(len(G))]\n",
    "print(x)"
   ]
  },
  {
   "cell_type": "code",
   "execution_count": null,
   "metadata": {},
   "outputs": [],
   "source": [
    "# plot histogram with degree distribution\n",
    "plt.figure(figsize=[10,5])\n",
    "plt.hist(x, facecolor='b', alpha=.5, rwidth=.8)\n",
    "plt.show()\n"
   ]
  },
  {
   "cell_type": "code",
   "execution_count": null,
   "metadata": {},
   "outputs": [],
   "source": [
    "# alternative\n",
    "degree = np.array(G.degree())[:,1:]\n",
    "plt.hist(degree, 10, density=True, facecolor='g', alpha=.2)"
   ]
  },
  {
   "cell_type": "code",
   "execution_count": null,
   "metadata": {},
   "outputs": [],
   "source": [
    "#connected components\n",
    "ER_graph=nx.erdos_renyi_graph(100, 0.01)\n",
    "nx.draw_networkx(ER_graph, with_labels=False,node_size=10, node_color=niceblu)\n",
    "plt.axis('off')\n",
    "plt.show()"
   ]
  },
  {
   "cell_type": "code",
   "execution_count": null,
   "metadata": {},
   "outputs": [],
   "source": [
    "for c in nx.connected_components(ER_graph):\n",
    "    print(c)\n",
    "#how many components\n",
    "len(sorted(nx.connected_components(ER_graph)))"
   ]
  },
  {
   "cell_type": "code",
   "execution_count": null,
   "metadata": {},
   "outputs": [],
   "source": [
    "#centrality\n",
    "nx.betweenness_centrality(ER_graph)"
   ]
  },
  {
   "cell_type": "code",
   "execution_count": null,
   "metadata": {},
   "outputs": [],
   "source": [
    "#small-world network\n",
    "#here, nei=number of neighbours on BOTH sidesm different from R where nei= neighbours on EACH side\n",
    "SW_graph = nx.watts_strogatz_graph(20, 4, 1)\n",
    "nx.draw_networkx(SW_graph, with_labels=False,node_size=40, node_color=nicegrn, edge_color='grey')\n",
    "plt.axis('off')\n",
    "plt.show()"
   ]
  },
  {
   "cell_type": "markdown",
   "metadata": {},
   "source": [
    "## Importing data from txt files"
   ]
  },
  {
   "cell_type": "code",
   "execution_count": null,
   "metadata": {},
   "outputs": [],
   "source": [
    "#importing\n",
    "file_name = 'hgcamp.txt'\n",
    "G=nx.read_weighted_edgelist(file_name, nodetype=int)\n",
    "print(nx.info(G))"
   ]
  },
  {
   "cell_type": "code",
   "execution_count": null,
   "metadata": {},
   "outputs": [],
   "source": [
    "nx.draw_networkx(G, with_labels=True)\n",
    "plt.axis('off')\n",
    "plt.show()"
   ]
  },
  {
   "cell_type": "code",
   "execution_count": null,
   "metadata": {},
   "outputs": [],
   "source": []
  }
 ],
 "metadata": {
  "kernelspec": {
   "display_name": "Python 3",
   "language": "python",
   "name": "python3"
  },
  "language_info": {
   "codemirror_mode": {
    "name": "ipython",
    "version": 3
   },
   "file_extension": ".py",
   "mimetype": "text/x-python",
   "name": "python",
   "nbconvert_exporter": "python",
   "pygments_lexer": "ipython3",
   "version": "3.8.5"
  }
 },
 "nbformat": 4,
 "nbformat_minor": 4
}
