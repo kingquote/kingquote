{
 "cells": [
  {
   "cell_type": "markdown",
   "metadata": {},
   "source": [
    "# Report 3\n",
    "## BIO206 2021 - Lucio Vinicius <br>\n",
    "\n",
    "For all questions, in addition to your answers (in markdown cells), provide each simulation code as well in a separate code cell, so that I can verify that they are working just by pressing Run. <br>\n",
    "\n",
    "**Deadline for submission**: Wednesday, 18:00. \n",
    "\n",
    "___"
   ]
  },
  {
   "cell_type": "markdown",
   "metadata": {},
   "source": [
    "* **Question 1. Segregation** <br>\n",
    "\n",
    "Adapt ABM 1 - Segregation, so that instead of two, you simulate *three* types of agents in a town, with potentially different homophyly thresholds (=required fraction of same-type individuals in their neighbourhood). <br> <br>\n",
    "Starting from an initially random distribution, populations show differences in homophyly depending on the scenario: <br> <br>\n",
    "**Scenario 1)** The three types are moderately tolerant of other types (all thresholds = 0.5) <br>\n",
    "**Scenario 2)** The three types are intolerant (all thresholds = 0.65) <br>\n",
    "**Scenario 3)** The three types are tolerant (all thresholds = 0.15)  <br>\n",
    "**Scenario 4)** Only one of the three types is intolerant (threshold = 0.65) <br>\n",
    "**Scenario 5)** Only one type is tolerant (threshold = 0.15) <br>\n",
    "\n",
    "For each of the scenarios above:  \n",
    "* Insert a figure with the result (first save the figure at the end of each of your simulations using the Save buttom in the simulation window. Place the saved figure in the same folder as your Jupyter notebook. Then insert figure in a *markdown* cell, using the simple code provided in the next cell). <br> \n",
    "* Discuss whether the outcome is: i) no segregation, ii) partial segregation, iii) total segregation of types. \n",
    "* Interpret the results, or why the result was i), ii) or iii).<br>\n",
    "\n",
    "Notes: <br>\n",
    "Run simulations for a *maximum* of 100,000 steps, although for some scenarios fewer than 5,000 are required to show a pattern.<br>\n",
    "Run each scenario 2-3 times to make sure of the pattern, but only present one figure for each. <br>\n",
    "Use n=1000 and r = 0.1 as in the original ABM 1.\n"
   ]
  },
  {
   "cell_type": "code",
   "execution_count": null,
   "metadata": {},
   "outputs": [],
   "source": [
    "Hello, this is the code to add figure (in a markdown cell, not a code cell like this one):\n",
    "<img src=\"Your_figure.png\">"
   ]
  },
  {
   "cell_type": "code",
   "execution_count": null,
   "metadata": {},
   "outputs": [],
   "source": []
  },
  {
   "cell_type": "markdown",
   "metadata": {},
   "source": [
    "* **Question 2. Cultural evolution** <br>\n",
    "\n",
    "Adapt ABM 5 - Cultural evolution.  \n",
    "\n",
    "**1)** Modify the original code so that instead of transferring a new tool only to close kin, both partners transmit new tools to **all** their neighbours. \n",
    "\n",
    "**2)** Modify original code so that instead of the Agta network, you play the game with a *complete* or fully connected network of the same size. Both partners transmit findings to all their neighbours. <br>\n",
    "(Notes: to create a complete graph of size n, use *nx.complete_graph(n)* with NetworkX. <br>\n",
    "You have to remove selection of playing partner based on weights of links, since the complete graph has no weigths. Select neighbour randomly.)\n",
    "\n",
    "**3)** Modify original code so that instead of the Agta network, you play the game with a *random network* of the same size and density (see code from Intro to NetworkX notebook). As the probability *p* of an edge in the random network, use the density of the Agta network. Also transmit fidings to all neighbours. <br>\n",
    "\n",
    "For each of the three cases above, run 100 simulations. Plot the histogram with distribution of number of rounds until superdrug was discovered, and mean number of rounds.\n",
    "\n",
    "**4)** Compare the results from the three scenarios. Is there evidence that some scenarios may accelerate or slow down the discovery of a superdrug? Discuss possible reasons."
   ]
  },
  {
   "cell_type": "code",
   "execution_count": null,
   "metadata": {},
   "outputs": [],
   "source": []
  }
 ],
 "metadata": {
  "kernelspec": {
   "display_name": "Python 3",
   "language": "python",
   "name": "python3"
  },
  "language_info": {
   "codemirror_mode": {
    "name": "ipython",
    "version": 3
   },
   "file_extension": ".py",
   "mimetype": "text/x-python",
   "name": "python",
   "nbconvert_exporter": "python",
   "pygments_lexer": "ipython3",
   "version": "3.8.5"
  }
 },
 "nbformat": 4,
 "nbformat_minor": 4
}
