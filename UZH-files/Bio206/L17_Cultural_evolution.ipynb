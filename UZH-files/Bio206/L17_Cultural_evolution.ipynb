{
 "cells": [
  {
   "cell_type": "markdown",
   "metadata": {},
   "source": [
    "# ABM 5 \n",
    "## Cultural evolution"
   ]
  },
  {
   "cell_type": "markdown",
   "metadata": {},
   "source": [
    "<p> We will simulate the cultural evolution of a medicinal cocktail through various rounds of recombination of an initial set of basic ingredients. <br>\n",
    "The simulation was based on an experiment where pairs of individuals mixed virtual medicines to generate cocktails. Some unique combinations represented innovations of higher medicinal value. <br>\n",
    "The end of the simulation occurs when a pair combines two lineages of cocktails A and B into a super drug cocktail C. \n",
    "\n",
    "Cultural evolution occurs in a social network, where edges differ by their weight (reflecting level of social contact). <br> \n",
    "So first we import the file with data on nodes, edges and weights.</p>"
   ]
  },
  {
   "cell_type": "code",
   "execution_count": 97,
   "metadata": {},
   "outputs": [
    {
     "output_type": "stream",
     "name": "stdout",
     "text": [
      "Name: \nType: Graph\nNumber of nodes: 53\nNumber of edges: 477\nAverage degree:  18.0000\n"
     ]
    }
   ],
   "source": [
    "import networkx as nx\n",
    "import random as rd\n",
    "import numpy as np\n",
    "\n",
    "net = 'agtanet.txt'\n",
    "G = nx.read_weighted_edgelist(net, nodetype = int)\n",
    "print(nx.info(G))"
   ]
  },
  {
   "cell_type": "code",
   "execution_count": 98,
   "metadata": {},
   "outputs": [
    {
     "output_type": "execute_result",
     "data": {
      "text/plain": [
       "NodeView((0, 1, 2, 11, 20, 22, 23, 24, 25, 27, 31, 32, 33, 35, 36, 37, 38, 41, 43, 45, 13, 42, 44, 3, 4, 6, 7, 8, 15, 16, 21, 26, 28, 29, 30, 46, 5, 47, 48, 40, 9, 12, 14, 18, 19, 10, 17, 34, 39, 52, 49, 50, 51))"
      ]
     },
     "metadata": {},
     "execution_count": 98
    }
   ],
   "source": [
    "#list of nodes in G\n",
    "G.nodes()"
   ]
  },
  {
   "cell_type": "code",
   "execution_count": 99,
   "metadata": {},
   "outputs": [
    {
     "output_type": "execute_result",
     "data": {
      "text/plain": [
       "AtlasView({0: {'weight': 269.0}, 2: {'weight': 3.0}, 11: {'weight': 1.0}, 13: {'weight': 1.0}, 20: {'weight': 1.0}, 22: {'weight': 9.0}, 23: {'weight': 12.0}, 24: {'weight': 107.0}, 25: {'weight': 3.0}, 27: {'weight': 5.0}, 31: {'weight': 1.0}, 33: {'weight': 6.0}, 35: {'weight': 1.0}, 37: {'weight': 2.0}, 38: {'weight': 1.0}, 41: {'weight': 1.0}, 42: {'weight': 1.0}, 43: {'weight': 11.0}, 44: {'weight': 1.0}, 45: {'weight': 3.0}})"
      ]
     },
     "metadata": {},
     "execution_count": 99
    }
   ],
   "source": [
    "# important: G[i] lists all neighbours of node i in G\n",
    "G[1] "
   ]
  },
  {
   "cell_type": "code",
   "execution_count": 100,
   "metadata": {},
   "outputs": [
    {
     "output_type": "execute_result",
     "data": {
      "text/plain": [
       "{'weight': 7.0}"
      ]
     },
     "metadata": {},
     "execution_count": 100
    }
   ],
   "source": [
    "# would list all 477 edges\n",
    "G.edges()\n",
    "\n",
    "# all edges with data (weight) info\n",
    "G.edges(data=True) \n",
    "\n",
    "# lists data (weight) on that edge\n",
    "G[2][26] \n",
    "\n",
    "#G.has_edge(2,36) "
   ]
  },
  {
   "cell_type": "markdown",
   "metadata": {},
   "source": [
    "<p> We have another file with info on kinship (relatedness) between the  nodes in each dyad.<br> \n",
    "Kinship is coded as kin = 10 (close kin), kin = 20 (distant kin), kin = 30 (non-kin). <br>\n",
    "Let us import is as well with another name.</p>"
   ]
  },
  {
   "cell_type": "code",
   "execution_count": 101,
   "metadata": {},
   "outputs": [
    {
     "output_type": "stream",
     "name": "stdout",
     "text": [
      "['0 1 269.0 10\\n']\n"
     ]
    }
   ],
   "source": [
    "kin = 'agtanetkin.txt'\n",
    "file_kin = open(kin, \"r\") # 'open' reads kin and creates kinfile\n",
    "\n",
    "line1 = file_kin.readlines(1) # thats how the start of kin was read\n",
    "print(line1)"
   ]
  },
  {
   "cell_type": "markdown",
   "metadata": {},
   "source": [
    "We need to read each line properly for our purposes "
   ]
  },
  {
   "cell_type": "code",
   "execution_count": 102,
   "metadata": {
    "scrolled": true
   },
   "outputs": [
    {
     "output_type": "stream",
     "name": "stdout",
     "text": [
      "0 2 3.0 30\n\n['0', ' ', '2', ' ', '3', '.', '0', ' ', '3', '0', '\\n']\n['0', '2', '3.0', '30\\n']\n['0', '2', '3.0', '30']\n[0, 2, 3, 30]\n"
     ]
    }
   ],
   "source": [
    "for line in file_kin.readlines(1):\n",
    "    print(line)\n",
    "    elems0 = [x for x in line]\n",
    "    elems1 = [x for x in line.split(\" \")]\n",
    "    elems2 = [x for x in line.strip(\"\\n \").split(\" \")]\n",
    "    elems3 = [int(float(x)) for x in line.strip(\"\\n \").split(\" \")] # that's what we want \n",
    "    #elems4 = [float(x) if \".\" in x else int(x) for x in line.strip(\"\\n \").split(\" \")]\n",
    "    \n",
    "print(elems0)\n",
    "print(elems1)\n",
    "print(elems2)\n",
    "print(elems3)\n",
    "#print(elems4)"
   ]
  },
  {
   "cell_type": "code",
   "execution_count": 103,
   "metadata": {},
   "outputs": [],
   "source": [
    "Agtakin = 'agtanetkin.txt'\n",
    "file_kin = open(Agtakin, \"r\") \n",
    "\n",
    "for line in file_kin.readlines(): \n",
    "    elems = [int(float(x)) if \"e\" in x or \".\" in x else int(x) for x in line.strip(\"\\n \").split(\" \")]\n",
    "    i=int(elems[0]) # extracts i and j nodes from dyad\n",
    "    j=int(elems[1])\n",
    "    kinship= int(elems[3]/10) # so kinship is 1 for close kin, 2 for distant kin, 3 for non-kin\n",
    "    #print(kinship)\n",
    "    \n",
    "    if G.has_edge(i,j) == True: # now check in G if (i, j) exists\n",
    "        G[i][j]['kin']=kinship # if so, create variable kin with value kinship \n",
    "\n",
    "file_kin.close()"
   ]
  },
  {
   "cell_type": "code",
   "execution_count": 104,
   "metadata": {},
   "outputs": [
    {
     "output_type": "execute_result",
     "data": {
      "text/plain": [
       "EdgeDataView([(0, 1, {'weight': 269.0, 'kin': 1}), (0, 2, {'weight': 3.0, 'kin': 3}), (0, 11, {'weight': 1.0, 'kin': 3}), (0, 20, {'weight': 1.0, 'kin': 3}), (0, 22, {'weight': 1.0, 'kin': 3}), (0, 23, {'weight': 4.0, 'kin': 3}), (0, 24, {'weight': 115.0, 'kin': 3}), (0, 25, {'weight': 1.0, 'kin': 3}), (0, 27, {'weight': 2.0, 'kin': 3}), (0, 31, {'weight': 1.0, 'kin': 3}), (0, 32, {'weight': 1.0, 'kin': 3}), (0, 33, {'weight': 4.0, 'kin': 3}), (0, 35, {'weight': 1.0, 'kin': 3}), (0, 36, {'weight': 1.0, 'kin': 3}), (0, 37, {'weight': 1.0, 'kin': 3}), (0, 38, {'weight': 1.0, 'kin': 3}), (0, 41, {'weight': 2.0, 'kin': 3}), (0, 43, {'weight': 1.0, 'kin': 3}), (0, 45, {'weight': 2.0, 'kin': 3}), (1, 2, {'weight': 3.0, 'kin': 3}), (1, 11, {'weight': 1.0, 'kin': 3}), (1, 13, {'weight': 1.0, 'kin': 3}), (1, 20, {'weight': 1.0, 'kin': 3}), (1, 22, {'weight': 9.0, 'kin': 3}), (1, 23, {'weight': 12.0, 'kin': 3}), (1, 24, {'weight': 107.0, 'kin': 1}), (1, 25, {'weight': 3.0, 'kin': 2}), (1, 27, {'weight': 5.0, 'kin': 2}), (1, 31, {'weight': 1.0, 'kin': 3}), (1, 33, {'weight': 6.0, 'kin': 2}), (1, 35, {'weight': 1.0, 'kin': 3}), (1, 37, {'weight': 2.0, 'kin': 3}), (1, 38, {'weight': 1.0, 'kin': 3}), (1, 41, {'weight': 1.0, 'kin': 3}), (1, 42, {'weight': 1.0, 'kin': 2}), (1, 43, {'weight': 11.0, 'kin': 3}), (1, 44, {'weight': 1.0, 'kin': 3}), (1, 45, {'weight': 3.0, 'kin': 3}), (2, 3, {'weight': 6.0, 'kin': 1}), (2, 4, {'weight': 8.0, 'kin': 3}), (2, 6, {'weight': 1.0, 'kin': 3}), (2, 7, {'weight': 7.0, 'kin': 1}), (2, 8, {'weight': 1.0, 'kin': 3}), (2, 15, {'weight': 2.0, 'kin': 3}), (2, 16, {'weight': 1.0, 'kin': 3}), (2, 21, {'weight': 1.0, 'kin': 3}), (2, 24, {'weight': 3.0, 'kin': 3}), (2, 25, {'weight': 86.0, 'kin': 3}), (2, 26, {'weight': 7.0, 'kin': 3}), (2, 27, {'weight': 32.0, 'kin': 3}), (2, 28, {'weight': 111.0, 'kin': 3}), (2, 29, {'weight': 130.0, 'kin': 2}), (2, 30, {'weight': 31.0, 'kin': 2}), (2, 31, {'weight': 35.0, 'kin': 1}), (2, 33, {'weight': 10.0, 'kin': 2}), (2, 35, {'weight': 1.0, 'kin': 3}), (2, 36, {'weight': 10.0, 'kin': 3}), (2, 37, {'weight': 10.0, 'kin': 3}), (2, 41, {'weight': 16.0, 'kin': 3}), (2, 42, {'weight': 156.0, 'kin': 3}), (2, 44, {'weight': 2.0, 'kin': 3}), (2, 46, {'weight': 1.0, 'kin': 3}), (11, 10, {'weight': 121.0, 'kin': 1}), (11, 12, {'weight': 1.0, 'kin': 3}), (11, 13, {'weight': 7.0, 'kin': 3}), (11, 14, {'weight': 13.0, 'kin': 3}), (11, 16, {'weight': 14.0, 'kin': 3}), (11, 17, {'weight': 13.0, 'kin': 2}), (11, 18, {'weight': 5.0, 'kin': 2}), (11, 19, {'weight': 1.0, 'kin': 3}), (11, 20, {'weight': 7.0, 'kin': 3}), (11, 21, {'weight': 5.0, 'kin': 3}), (11, 22, {'weight': 37.0, 'kin': 3}), (11, 23, {'weight': 28.0, 'kin': 3}), (11, 25, {'weight': 1.0, 'kin': 3}), (11, 31, {'weight': 1.0, 'kin': 3}), (11, 34, {'weight': 79.0, 'kin': 3}), (11, 35, {'weight': 79.0, 'kin': 2}), (11, 36, {'weight': 46.0, 'kin': 3}), (11, 37, {'weight': 33.0, 'kin': 3}), (11, 38, {'weight': 33.0, 'kin': 3}), (11, 39, {'weight': 18.0, 'kin': 3}), (11, 40, {'weight': 2.0, 'kin': 3}), (11, 41, {'weight': 4.0, 'kin': 3}), (11, 43, {'weight': 33.0, 'kin': 3}), (20, 9, {'weight': 17.0, 'kin': 3}), (20, 10, {'weight': 5.0, 'kin': 3}), (20, 12, {'weight': 22.0, 'kin': 3}), (20, 13, {'weight': 300.0, 'kin': 3}), (20, 14, {'weight': 23.0, 'kin': 3}), (20, 15, {'weight': 19.0, 'kin': 3}), (20, 16, {'weight': 61.0, 'kin': 1}), (20, 17, {'weight': 40.0, 'kin': 3}), (20, 18, {'weight': 17.0, 'kin': 2}), (20, 19, {'weight': 35.0, 'kin': 3}), (20, 21, {'weight': 194.0, 'kin': 1}), (20, 22, {'weight': 1.0, 'kin': 3}), (20, 27, {'weight': 2.0, 'kin': 3}), (20, 28, {'weight': 1.0, 'kin': 3}), (20, 29, {'weight': 1.0, 'kin': 3}), (20, 30, {'weight': 1.0, 'kin': 3}), (20, 31, {'weight': 4.0, 'kin': 3}), (20, 34, {'weight': 1.0, 'kin': 3}), (20, 35, {'weight': 2.0, 'kin': 3}), (20, 37, {'weight': 2.0, 'kin': 3}), (20, 38, {'weight': 2.0, 'kin': 3}), (20, 41, {'weight': 1.0, 'kin': 3}), (20, 43, {'weight': 1.0, 'kin': 3}), (22, 10, {'weight': 12.0, 'kin': 3}), (22, 13, {'weight': 2.0, 'kin': 3}), (22, 23, {'weight': 292.0, 'kin': 2}), (22, 24, {'weight': 1.0, 'kin': 3}), (22, 25, {'weight': 1.0, 'kin': 3}), (22, 27, {'weight': 2.0, 'kin': 3}), (22, 31, {'weight': 1.0, 'kin': 3}), (22, 33, {'weight': 2.0, 'kin': 3}), (22, 34, {'weight': 120.0, 'kin': 3}), (22, 35, {'weight': 173.0, 'kin': 3}), (22, 36, {'weight': 84.0, 'kin': 3}), (22, 37, {'weight': 71.0, 'kin': 3}), (22, 38, {'weight': 158.0, 'kin': 3}), (22, 39, {'weight': 78.0, 'kin': 3}), (22, 40, {'weight': 70.0, 'kin': 2}), (22, 41, {'weight': 3.0, 'kin': 3}), (22, 43, {'weight': 349.0, 'kin': 2}), (22, 44, {'weight': 1.0, 'kin': 3}), (22, 45, {'weight': 1.0, 'kin': 3}), (23, 10, {'weight': 21.0, 'kin': 3}), (23, 24, {'weight': 1.0, 'kin': 3}), (23, 25, {'weight': 1.0, 'kin': 3}), (23, 27, {'weight': 2.0, 'kin': 3}), (23, 31, {'weight': 1.0, 'kin': 3}), (23, 34, {'weight': 117.0, 'kin': 2}), (23, 35, {'weight': 114.0, 'kin': 3}), (23, 36, {'weight': 67.0, 'kin': 2}), (23, 37, {'weight': 58.0, 'kin': 3}), (23, 38, {'weight': 140.0, 'kin': 2}), (23, 39, {'weight': 85.0, 'kin': 2}), (23, 40, {'weight': 46.0, 'kin': 1}), (23, 41, {'weight': 2.0, 'kin': 3}), (23, 43, {'weight': 277.0, 'kin': 1}), (23, 45, {'weight': 2.0, 'kin': 3}), (24, 10, {'weight': 1.0, 'kin': 3}), (24, 27, {'weight': 2.0, 'kin': 2}), (24, 31, {'weight': 5.0, 'kin': 3}), (24, 32, {'weight': 10.0, 'kin': 2}), (24, 33, {'weight': 29.0, 'kin': 2}), (24, 38, {'weight': 1.0, 'kin': 3}), (24, 39, {'weight': 1.0, 'kin': 3}), (24, 43, {'weight': 1.0, 'kin': 3}), (25, 3, {'weight': 3.0, 'kin': 3}), (25, 6, {'weight': 4.0, 'kin': 2}), (25, 7, {'weight': 4.0, 'kin': 3}), (25, 8, {'weight': 3.0, 'kin': 3}), (25, 13, {'weight': 1.0, 'kin': 3}), (25, 26, {'weight': 5.0, 'kin': 1}), (25, 27, {'weight': 49.0, 'kin': 1}), (25, 28, {'weight': 81.0, 'kin': 1}), (25, 29, {'weight': 98.0, 'kin': 2}), (25, 30, {'weight': 15.0, 'kin': 3}), (25, 31, {'weight': 57.0, 'kin': 3}), (25, 32, {'weight': 1.0, 'kin': 3}), (25, 33, {'weight': 23.0, 'kin': 3}), (25, 34, {'weight': 1.0, 'kin': 3}), (25, 35, {'weight': 4.0, 'kin': 3}), (25, 36, {'weight': 1.0, 'kin': 3}), (25, 37, {'weight': 7.0, 'kin': 3}), (25, 39, {'weight': 1.0, 'kin': 3}), (25, 41, {'weight': 65.0, 'kin': 3}), (25, 42, {'weight': 38.0, 'kin': 1}), (25, 44, {'weight': 2.0, 'kin': 2}), (25, 45, {'weight': 5.0, 'kin': 1}), (27, 4, {'weight': 9.0, 'kin': 3}), (27, 5, {'weight': 4.0, 'kin': 2}), (27, 7, {'weight': 5.0, 'kin': 3}), (27, 9, {'weight': 1.0, 'kin': 3}), (27, 10, {'weight': 2.0, 'kin': 3}), (27, 12, {'weight': 1.0, 'kin': 3}), (27, 13, {'weight': 2.0, 'kin': 3}), (27, 14, {'weight': 1.0, 'kin': 3}), (27, 16, {'weight': 1.0, 'kin': 3}), (27, 19, {'weight': 1.0, 'kin': 3}), (27, 21, {'weight': 2.0, 'kin': 3}), (27, 26, {'weight': 8.0, 'kin': 1}), (27, 28, {'weight': 2.0, 'kin': 1}), (27, 29, {'weight': 11.0, 'kin': 2}), (27, 30, {'weight': 5.0, 'kin': 3}), (27, 31, {'weight': 8.0, 'kin': 3}), (27, 32, {'weight': 1.0, 'kin': 3}), (27, 33, {'weight': 32.0, 'kin': 3}), (27, 34, {'weight': 5.0, 'kin': 3}), (27, 35, {'weight': 3.0, 'kin': 3}), (27, 36, {'weight': 2.0, 'kin': 3}), (27, 37, {'weight': 4.0, 'kin': 3}), (27, 39, {'weight': 2.0, 'kin': 3}), (27, 40, {'weight': 3.0, 'kin': 3}), (27, 41, {'weight': 42.0, 'kin': 3}), (27, 42, {'weight': 30.0, 'kin': 1}), (27, 43, {'weight': 2.0, 'kin': 3}), (27, 44, {'weight': 5.0, 'kin': 2}), (27, 45, {'weight': 4.0, 'kin': 2}), (31, 3, {'weight': 8.0, 'kin': 2}), (31, 4, {'weight': 15.0, 'kin': 3}), (31, 5, {'weight': 13.0, 'kin': 3}), (31, 7, {'weight': 8.0, 'kin': 1}), (31, 10, {'weight': 3.0, 'kin': 3}), (31, 13, {'weight': 2.0, 'kin': 3}), (31, 16, {'weight': 1.0, 'kin': 3}), (31, 26, {'weight': 8.0, 'kin': 3}), (31, 28, {'weight': 54.0, 'kin': 2}), (31, 29, {'weight': 73.0, 'kin': 1}), (31, 30, {'weight': 64.0, 'kin': 1}), (31, 32, {'weight': 26.0, 'kin': 1}), (31, 33, {'weight': 114.0, 'kin': 1}), (31, 34, {'weight': 1.0, 'kin': 3}), (31, 35, {'weight': 1.0, 'kin': 3}), (31, 36, {'weight': 6.0, 'kin': 3}), (31, 37, {'weight': 7.0, 'kin': 3}), (31, 38, {'weight': 1.0, 'kin': 2}), (31, 41, {'weight': 10.0, 'kin': 3}), (31, 42, {'weight': 4.0, 'kin': 3}), (31, 44, {'weight': 1.0, 'kin': 3}), (31, 45, {'weight': 2.0, 'kin': 3}), (32, 28, {'weight': 4.0, 'kin': 2}), (32, 29, {'weight': 2.0, 'kin': 1}), (32, 33, {'weight': 47.0, 'kin': 1}), (33, 4, {'weight': 8.0, 'kin': 2}), (33, 5, {'weight': 2.0, 'kin': 3}), (33, 7, {'weight': 6.0, 'kin': 2}), (33, 10, {'weight': 10.0, 'kin': 3}), (33, 26, {'weight': 7.0, 'kin': 3}), (33, 28, {'weight': 21.0, 'kin': 2}), (33, 29, {'weight': 24.0, 'kin': 1}), (33, 30, {'weight': 11.0, 'kin': 1}), (33, 34, {'weight': 4.0, 'kin': 3}), (33, 36, {'weight': 1.0, 'kin': 3}), (33, 37, {'weight': 1.0, 'kin': 3}), (33, 41, {'weight': 21.0, 'kin': 3}), (33, 42, {'weight': 2.0, 'kin': 3}), (33, 43, {'weight': 1.0, 'kin': 3}), (35, 10, {'weight': 121.0, 'kin': 3}), (35, 13, {'weight': 3.0, 'kin': 3}), (35, 16, {'weight': 2.0, 'kin': 3}), (35, 34, {'weight': 362.0, 'kin': 3}), (35, 36, {'weight': 286.0, 'kin': 3}), (35, 37, {'weight': 189.0, 'kin': 3}), (35, 38, {'weight': 72.0, 'kin': 2}), (35, 39, {'weight': 296.0, 'kin': 3}), (35, 40, {'weight': 25.0, 'kin': 3}), (35, 41, {'weight': 6.0, 'kin': 3}), (35, 43, {'weight': 135.0, 'kin': 3}), (35, 44, {'weight': 1.0, 'kin': 3}), (36, 3, {'weight': 3.0, 'kin': 3}), (36, 4, {'weight': 7.0, 'kin': 3}), (36, 6, {'weight': 1.0, 'kin': 3}), (36, 7, {'weight': 3.0, 'kin': 3}), (36, 10, {'weight': 53.0, 'kin': 3}), (36, 13, {'weight': 1.0, 'kin': 3}), (36, 26, {'weight': 2.0, 'kin': 3}), (36, 28, {'weight': 6.0, 'kin': 3}), (36, 29, {'weight': 8.0, 'kin': 3}), (36, 30, {'weight': 7.0, 'kin': 3}), (36, 34, {'weight': 300.0, 'kin': 1}), (36, 37, {'weight': 207.0, 'kin': 1}), (36, 38, {'weight': 34.0, 'kin': 2}), (36, 39, {'weight': 337.0, 'kin': 1}), (36, 40, {'weight': 9.0, 'kin': 2}), (36, 41, {'weight': 34.0, 'kin': 2}), (36, 43, {'weight': 90.0, 'kin': 2}), (37, 3, {'weight': 2.0, 'kin': 3}), (37, 4, {'weight': 12.0, 'kin': 3}), (37, 7, {'weight': 2.0, 'kin': 3}), (37, 10, {'weight': 45.0, 'kin': 3}), (37, 12, {'weight': 3.0, 'kin': 3}), (37, 14, {'weight': 2.0, 'kin': 3}), (37, 15, {'weight': 2.0, 'kin': 2}), (37, 16, {'weight': 1.0, 'kin': 3}), (37, 21, {'weight': 3.0, 'kin': 3}), (37, 26, {'weight': 2.0, 'kin': 3}), (37, 28, {'weight': 6.0, 'kin': 3}), (37, 29, {'weight': 4.0, 'kin': 3}), (37, 30, {'weight': 8.0, 'kin': 3}), (37, 34, {'weight': 195.0, 'kin': 1}), (37, 38, {'weight': 45.0, 'kin': 3}), (37, 39, {'weight': 198.0, 'kin': 1}), (37, 40, {'weight': 6.0, 'kin': 3}), (37, 41, {'weight': 25.0, 'kin': 2}), (37, 42, {'weight': 6.0, 'kin': 3}), (37, 43, {'weight': 64.0, 'kin': 3}), (37, 45, {'weight': 1.0, 'kin': 3}), (38, 3, {'weight': 1.0, 'kin': 3}), (38, 4, {'weight': 1.0, 'kin': 2}), (38, 5, {'weight': 1.0, 'kin': 3}), (38, 6, {'weight': 1.0, 'kin': 3}), (38, 8, {'weight': 1.0, 'kin': 3}), (38, 10, {'weight': 17.0, 'kin': 3}), (38, 13, {'weight': 2.0, 'kin': 3}), (38, 16, {'weight': 1.0, 'kin': 3}), (38, 34, {'weight': 74.0, 'kin': 2}), (38, 39, {'weight': 52.0, 'kin': 2}), (38, 40, {'weight': 140.0, 'kin': 2}), (38, 41, {'weight': 1.0, 'kin': 3}), (38, 43, {'weight': 169.0, 'kin': 2}), (41, 9, {'weight': 1.0, 'kin': 3}), (41, 10, {'weight': 2.0, 'kin': 3}), (41, 12, {'weight': 1.0, 'kin': 3}), (41, 13, {'weight': 1.0, 'kin': 3}), (41, 14, {'weight': 1.0, 'kin': 3}), (41, 15, {'weight': 1.0, 'kin': 2}), (41, 16, {'weight': 2.0, 'kin': 3}), (41, 19, {'weight': 1.0, 'kin': 3}), (41, 28, {'weight': 15.0, 'kin': 3}), (41, 29, {'weight': 13.0, 'kin': 3}), (41, 34, {'weight': 8.0, 'kin': 2}), (41, 39, {'weight': 23.0, 'kin': 2}), (41, 42, {'weight': 146.0, 'kin': 3}), (41, 43, {'weight': 1.0, 'kin': 3}), (43, 10, {'weight': 8.0, 'kin': 3}), (43, 13, {'weight': 2.0, 'kin': 3}), (43, 16, {'weight': 1.0, 'kin': 3}), (43, 30, {'weight': 1.0, 'kin': 3}), (43, 34, {'weight': 131.0, 'kin': 2}), (43, 39, {'weight': 97.0, 'kin': 2}), (43, 40, {'weight': 62.0, 'kin': 1}), (43, 44, {'weight': 1.0, 'kin': 3}), (43, 45, {'weight': 1.0, 'kin': 3}), (45, 3, {'weight': 1.0, 'kin': 3}), (45, 6, {'weight': 128.0, 'kin': 2}), (45, 8, {'weight': 113.0, 'kin': 3}), (45, 44, {'weight': 188.0, 'kin': 1}), (13, 9, {'weight': 17.0, 'kin': 3}), (13, 10, {'weight': 5.0, 'kin': 3}), (13, 12, {'weight': 32.0, 'kin': 3}), (13, 14, {'weight': 33.0, 'kin': 2}), (13, 15, {'weight': 17.0, 'kin': 2}), (13, 16, {'weight': 82.0, 'kin': 3}), (13, 17, {'weight': 66.0, 'kin': 3}), (13, 18, {'weight': 21.0, 'kin': 3}), (13, 19, {'weight': 60.0, 'kin': 3}), (13, 21, {'weight': 158.0, 'kin': 3}), (13, 28, {'weight': 3.0, 'kin': 3}), (13, 29, {'weight': 3.0, 'kin': 3}), (13, 30, {'weight': 2.0, 'kin': 3}), (13, 39, {'weight': 1.0, 'kin': 3}), (42, 9, {'weight': 1.0, 'kin': 3}), (42, 12, {'weight': 1.0, 'kin': 3}), (42, 14, {'weight': 1.0, 'kin': 3}), (42, 21, {'weight': 1.0, 'kin': 3}), (42, 28, {'weight': 57.0, 'kin': 1}), (42, 29, {'weight': 53.0, 'kin': 2}), (42, 30, {'weight': 4.0, 'kin': 3}), (44, 3, {'weight': 1.0, 'kin': 3}), (44, 6, {'weight': 89.0, 'kin': 2}), (44, 8, {'weight': 107.0, 'kin': 3}), (44, 29, {'weight': 1.0, 'kin': 3}), (44, 30, {'weight': 1.0, 'kin': 3}), (44, 34, {'weight': 1.0, 'kin': 3}), (44, 39, {'weight': 1.0, 'kin': 3}), (3, 4, {'weight': 4.0, 'kin': 3}), (3, 5, {'weight': 4.0, 'kin': 3}), (3, 6, {'weight': 8.0, 'kin': 3}), (3, 7, {'weight': 82.0, 'kin': 2}), (3, 8, {'weight': 6.0, 'kin': 3}), (3, 26, {'weight': 143.0, 'kin': 3}), (3, 28, {'weight': 21.0, 'kin': 3}), (3, 29, {'weight': 18.0, 'kin': 3}), (3, 30, {'weight': 15.0, 'kin': 3}), (3, 47, {'weight': 1.0, 'kin': 3}), (3, 48, {'weight': 1.0, 'kin': 3}), (4, 5, {'weight': 46.0, 'kin': 2}), (4, 6, {'weight': 27.0, 'kin': 2}), (4, 7, {'weight': 30.0, 'kin': 3}), (4, 8, {'weight': 3.0, 'kin': 2}), (4, 26, {'weight': 18.0, 'kin': 3}), (4, 28, {'weight': 9.0, 'kin': 3}), (4, 29, {'weight': 11.0, 'kin': 2}), (4, 30, {'weight': 11.0, 'kin': 2}), (4, 40, {'weight': 1.0, 'kin': 3}), (6, 5, {'weight': 53.0, 'kin': 1}), (6, 7, {'weight': 2.0, 'kin': 3}), (6, 8, {'weight': 184.0, 'kin': 2}), (6, 26, {'weight': 8.0, 'kin': 2}), (6, 28, {'weight': 1.0, 'kin': 2}), (6, 30, {'weight': 1.0, 'kin': 2}), (6, 46, {'weight': 1.0, 'kin': 2}), (7, 5, {'weight': 7.0, 'kin': 3}), (7, 8, {'weight': 3.0, 'kin': 3}), (7, 26, {'weight': 190.0, 'kin': 3}), (7, 28, {'weight': 7.0, 'kin': 3}), (7, 29, {'weight': 7.0, 'kin': 2}), (7, 30, {'weight': 14.0, 'kin': 2}), (8, 5, {'weight': 24.0, 'kin': 3}), (8, 26, {'weight': 3.0, 'kin': 3}), (8, 28, {'weight': 1.0, 'kin': 3}), (15, 9, {'weight': 17.0, 'kin': 3}), (15, 12, {'weight': 23.0, 'kin': 3}), (15, 14, {'weight': 24.0, 'kin': 2}), (15, 16, {'weight': 18.0, 'kin': 3}), (15, 17, {'weight': 2.0, 'kin': 3}), (15, 19, {'weight': 22.0, 'kin': 3}), (15, 21, {'weight': 28.0, 'kin': 3}), (15, 28, {'weight': 1.0, 'kin': 3}), (15, 30, {'weight': 1.0, 'kin': 3}), (16, 9, {'weight': 18.0, 'kin': 3}), (16, 10, {'weight': 31.0, 'kin': 3}), (16, 12, {'weight': 22.0, 'kin': 3}), (16, 14, {'weight': 35.0, 'kin': 3}), (16, 17, {'weight': 204.0, 'kin': 3}), (16, 18, {'weight': 114.0, 'kin': 1}), (16, 19, {'weight': 71.0, 'kin': 2}), (16, 21, {'weight': 46.0, 'kin': 1}), (16, 30, {'weight': 1.0, 'kin': 3}), (16, 34, {'weight': 2.0, 'kin': 3}), (21, 9, {'weight': 17.0, 'kin': 3}), (21, 10, {'weight': 1.0, 'kin': 3}), (21, 12, {'weight': 151.0, 'kin': 3}), (21, 14, {'weight': 108.0, 'kin': 3}), (21, 17, {'weight': 23.0, 'kin': 3}), (21, 18, {'weight': 4.0, 'kin': 2}), (21, 19, {'weight': 37.0, 'kin': 3}), (21, 30, {'weight': 2.0, 'kin': 3}), (26, 5, {'weight': 10.0, 'kin': 2}), (26, 28, {'weight': 19.0, 'kin': 1}), (26, 29, {'weight': 14.0, 'kin': 2}), (26, 30, {'weight': 13.0, 'kin': 3}), (28, 5, {'weight': 12.0, 'kin': 2}), (28, 10, {'weight': 2.0, 'kin': 3}), (28, 17, {'weight': 1.0, 'kin': 3}), (28, 29, {'weight': 333.0, 'kin': 1}), (28, 30, {'weight': 16.0, 'kin': 2}), (28, 39, {'weight': 1.0, 'kin': 3}), (28, 46, {'weight': 1.0, 'kin': 3}), (29, 5, {'weight': 11.0, 'kin': 3}), (29, 10, {'weight': 2.0, 'kin': 3}), (29, 30, {'weight': 19.0, 'kin': 1}), (29, 39, {'weight': 2.0, 'kin': 3}), (29, 46, {'weight': 1.0, 'kin': 2}), (30, 5, {'weight': 2.0, 'kin': 2}), (30, 9, {'weight': 1.0, 'kin': 3}), (30, 12, {'weight': 1.0, 'kin': 3}), (30, 14, {'weight': 1.0, 'kin': 3}), (30, 19, {'weight': 1.0, 'kin': 3}), (46, 47, {'weight': 57.0, 'kin': 1}), (46, 48, {'weight': 39.0, 'kin': 2}), (47, 48, {'weight': 307.0, 'kin': 1}), (47, 52, {'weight': 1.0, 'kin': 3}), (48, 52, {'weight': 1.0, 'kin': 3}), (40, 10, {'weight': 5.0, 'kin': 3}), (40, 34, {'weight': 19.0, 'kin': 2}), (40, 39, {'weight': 9.0, 'kin': 2}), (9, 12, {'weight': 17.0, 'kin': 3}), (9, 14, {'weight': 17.0, 'kin': 3}), (9, 18, {'weight': 2.0, 'kin': 2}), (9, 19, {'weight': 17.0, 'kin': 3}), (12, 14, {'weight': 139.0, 'kin': 1}), (12, 17, {'weight': 1.0, 'kin': 3}), (12, 18, {'weight': 4.0, 'kin': 3}), (12, 19, {'weight': 22.0, 'kin': 3}), (14, 10, {'weight': 19.0, 'kin': 3}), (14, 17, {'weight': 11.0, 'kin': 3}), (14, 18, {'weight': 31.0, 'kin': 3}), (14, 19, {'weight': 26.0, 'kin': 3}), (18, 10, {'weight': 13.0, 'kin': 3}), (18, 17, {'weight': 99.0, 'kin': 1}), (18, 19, {'weight': 6.0, 'kin': 2}), (19, 10, {'weight': 1.0, 'kin': 3}), (19, 17, {'weight': 46.0, 'kin': 2}), (10, 17, {'weight': 15.0, 'kin': 3}), (10, 34, {'weight': 80.0, 'kin': 3}), (10, 39, {'weight': 32.0, 'kin': 3}), (34, 39, {'weight': 307.0, 'kin': 1}), (52, 49, {'weight': 288.0, 'kin': 1}), (52, 50, {'weight': 285.0, 'kin': 1}), (52, 51, {'weight': 298.0, 'kin': 1}), (49, 50, {'weight': 395.0, 'kin': 1}), (49, 51, {'weight': 393.0, 'kin': 1}), (50, 51, {'weight': 392.0, 'kin': 1})])"
      ]
     },
     "metadata": {},
     "execution_count": 104
    }
   ],
   "source": [
    "G.edges(data=True) # now edges in G have attribute weight and kin"
   ]
  },
  {
   "cell_type": "markdown",
   "metadata": {},
   "source": [
    "Now we create a weighted network only with close kin"
   ]
  },
  {
   "cell_type": "code",
   "execution_count": 105,
   "metadata": {},
   "outputs": [],
   "source": [
    "G_closekin = nx.Graph() # creates a new empty network\n",
    "for i, j in G.edges:\n",
    "    if G[i][j]['kin'] == 1: # if (i, j) dyad in G is kin = 1\n",
    "        G_closekin.add_edge(i, j) # add that edge to new network\n",
    "        G_closekin[i][j]['weight'] = G[i][j]['weight'] # add weight from G to new network "
   ]
  },
  {
   "cell_type": "code",
   "execution_count": 106,
   "metadata": {},
   "outputs": [
    {
     "output_type": "stream",
     "name": "stdout",
     "text": [
      "53 43\n"
     ]
    }
   ],
   "source": [
    "print(len(G), len(G_closekin)) #size of close kin network"
   ]
  },
  {
   "cell_type": "code",
   "execution_count": 107,
   "metadata": {},
   "outputs": [
    {
     "output_type": "execute_result",
     "data": {
      "text/plain": [
       "EdgeDataView([(0, 1, {'weight': 269.0}), (1, 24, {'weight': 107.0}), (2, 3, {'weight': 6.0}), (2, 7, {'weight': 7.0}), (2, 31, {'weight': 35.0}), (7, 31, {'weight': 8.0}), (31, 29, {'weight': 73.0}), (31, 30, {'weight': 64.0}), (31, 32, {'weight': 26.0}), (31, 33, {'weight': 114.0}), (11, 10, {'weight': 121.0}), (20, 16, {'weight': 61.0}), (20, 21, {'weight': 194.0}), (16, 18, {'weight': 114.0}), (16, 21, {'weight': 46.0}), (23, 40, {'weight': 46.0}), (23, 43, {'weight': 277.0}), (40, 43, {'weight': 62.0}), (25, 26, {'weight': 5.0}), (25, 27, {'weight': 49.0}), (25, 28, {'weight': 81.0}), (25, 42, {'weight': 38.0}), (25, 45, {'weight': 5.0}), (26, 27, {'weight': 8.0}), (26, 28, {'weight': 19.0}), (27, 28, {'weight': 2.0}), (27, 42, {'weight': 30.0}), (28, 42, {'weight': 57.0}), (28, 29, {'weight': 333.0}), (45, 44, {'weight': 188.0}), (29, 32, {'weight': 2.0}), (29, 33, {'weight': 24.0}), (29, 30, {'weight': 19.0}), (30, 33, {'weight': 11.0}), (32, 33, {'weight': 47.0}), (36, 34, {'weight': 300.0}), (36, 37, {'weight': 207.0}), (36, 39, {'weight': 337.0}), (34, 37, {'weight': 195.0}), (34, 39, {'weight': 307.0}), (37, 39, {'weight': 198.0}), (6, 5, {'weight': 53.0}), (18, 17, {'weight': 99.0}), (46, 47, {'weight': 57.0}), (47, 48, {'weight': 307.0}), (12, 14, {'weight': 139.0}), (52, 49, {'weight': 288.0}), (52, 50, {'weight': 285.0}), (52, 51, {'weight': 298.0}), (49, 50, {'weight': 395.0}), (49, 51, {'weight': 393.0}), (50, 51, {'weight': 392.0})])"
      ]
     },
     "metadata": {},
     "execution_count": 107
    }
   ],
   "source": [
    "G_closekin.edges(data=True)"
   ]
  },
  {
   "cell_type": "markdown",
   "metadata": {},
   "source": [
    "We add the missing 10 nodes from G so that they can be found in G_closekin, but as isolates (no edges) since they have not close kin"
   ]
  },
  {
   "cell_type": "code",
   "execution_count": 108,
   "metadata": {},
   "outputs": [],
   "source": [
    "for node in G: \n",
    "    if node not in G_closekin:\n",
    "        G_closekin.add_node(node)"
   ]
  },
  {
   "cell_type": "code",
   "execution_count": 109,
   "metadata": {},
   "outputs": [
    {
     "output_type": "stream",
     "name": "stdout",
     "text": [
      "53 53\n"
     ]
    }
   ],
   "source": [
    "print(len(G), len(G_closekin))"
   ]
  },
  {
   "cell_type": "markdown",
   "metadata": {},
   "source": [
    "<p> Now we go back to G.<br>\n",
    "We want to select one from all possible neighbours of each G node, taking into account edge weights (= the strength of social bond between node and neighbour)<br>\n",
    "As a result, every node will have a partner in that round."
   ]
  },
  {
   "cell_type": "code",
   "execution_count": 110,
   "metadata": {},
   "outputs": [
    {
     "output_type": "stream",
     "name": "stdout",
     "text": [
      "31 22\n3 28\n26 7\n9 19\n15 13\n42 2\n33 32\n14 12\n22 23\n39 34\n10 17\n8 6\n50 51\n16 20\n30 2\n35 36\n20 16\n47 48\n36 40\n6 5\n17 16\n38 35\n12 14\n7 27\n2 29\n27 7\n45 8\n52 49\n34 43\n21 16\n19 21\n51 50\n5 26\n44 8\n37 35\n40 43\n13 16\n41 39\n18 17\n32 31\n48 46\n46 2\n11 20\n1 0\n23 35\n49 51\n4 37\n43 23\n29 31\n28 29\n0 24\n24 0\n25 2\n"
     ]
    }
   ],
   "source": [
    "rounds = 1\n",
    "# purpose of this loop is to select one neighbour \n",
    "for x in range(rounds): \n",
    "    global node, selected_neighbour\n",
    "    random_node_list = rd.sample(range(len(G)), len(G)) # select G nodes in random order\n",
    "    for node in random_node_list: # for each node in random list\n",
    "        neighbour_list = []\n",
    "        for neighbour in G[node]: # G[node] = all neighbours of node\n",
    "            for times in range(int(G[node][neighbour]['weight'])): # counts weight x of a link\n",
    "                neighbour_list.append(neighbour) # and adds that neighbour x times to neighbour_list  \n",
    "        selected_neighbour = rd.choice(neighbour_list) # then selects one neighbour from the list \n",
    "        print(node, selected_neighbour) # print each node neighbour pair"
   ]
  },
  {
   "cell_type": "markdown",
   "metadata": {},
   "source": [
    "Next we give a set of basic medicinal drugs to each none. <br> \n",
    "We do it by creating an incidence matrix with rows = nodes, columns = medicines <br >\n",
    "We start with 6 basic drugs, and room for innovations (new drugs)"
   ]
  },
  {
   "cell_type": "code",
   "execution_count": 111,
   "metadata": {},
   "outputs": [
    {
     "output_type": "execute_result",
     "data": {
      "text/plain": [
       "[[0, 0, 0, 0, 0, 0, -1, -1, -1, -1, -1, -1, -1, -1],\n",
       " [0, 0, 0, 0, 0, 0, -1, -1, -1, -1, -1, -1, -1, -1],\n",
       " [0, 0, 0, 0, 0, 0, -1, -1, -1, -1, -1, -1, -1, -1],\n",
       " [0, 0, 0, 0, 0, 0, -1, -1, -1, -1, -1, -1, -1, -1],\n",
       " [0, 0, 0, 0, 0, 0, -1, -1, -1, -1, -1, -1, -1, -1],\n",
       " [0, 0, 0, 0, 0, 0, -1, -1, -1, -1, -1, -1, -1, -1],\n",
       " [0, 0, 0, 0, 0, 0, -1, -1, -1, -1, -1, -1, -1, -1],\n",
       " [0, 0, 0, 0, 0, 0, -1, -1, -1, -1, -1, -1, -1, -1],\n",
       " [0, 0, 0, 0, 0, 0, -1, -1, -1, -1, -1, -1, -1, -1],\n",
       " [0, 0, 0, 0, 0, 0, -1, -1, -1, -1, -1, -1, -1, -1],\n",
       " [0, 0, 0, 0, 0, 0, -1, -1, -1, -1, -1, -1, -1, -1],\n",
       " [0, 0, 0, 0, 0, 0, -1, -1, -1, -1, -1, -1, -1, -1],\n",
       " [0, 0, 0, 0, 0, 0, -1, -1, -1, -1, -1, -1, -1, -1],\n",
       " [0, 0, 0, 0, 0, 0, -1, -1, -1, -1, -1, -1, -1, -1],\n",
       " [0, 0, 0, 0, 0, 0, -1, -1, -1, -1, -1, -1, -1, -1],\n",
       " [0, 0, 0, 0, 0, 0, -1, -1, -1, -1, -1, -1, -1, -1],\n",
       " [0, 0, 0, 0, 0, 0, -1, -1, -1, -1, -1, -1, -1, -1],\n",
       " [0, 0, 0, 0, 0, 0, -1, -1, -1, -1, -1, -1, -1, -1],\n",
       " [0, 0, 0, 0, 0, 0, -1, -1, -1, -1, -1, -1, -1, -1],\n",
       " [0, 0, 0, 0, 0, 0, -1, -1, -1, -1, -1, -1, -1, -1],\n",
       " [0, 0, 0, 0, 0, 0, -1, -1, -1, -1, -1, -1, -1, -1],\n",
       " [0, 0, 0, 0, 0, 0, -1, -1, -1, -1, -1, -1, -1, -1],\n",
       " [0, 0, 0, 0, 0, 0, -1, -1, -1, -1, -1, -1, -1, -1],\n",
       " [0, 0, 0, 0, 0, 0, -1, -1, -1, -1, -1, -1, -1, -1],\n",
       " [0, 0, 0, 0, 0, 0, -1, -1, -1, -1, -1, -1, -1, -1],\n",
       " [0, 0, 0, 0, 0, 0, -1, -1, -1, -1, -1, -1, -1, -1],\n",
       " [0, 0, 0, 0, 0, 0, -1, -1, -1, -1, -1, -1, -1, -1],\n",
       " [0, 0, 0, 0, 0, 0, -1, -1, -1, -1, -1, -1, -1, -1],\n",
       " [0, 0, 0, 0, 0, 0, -1, -1, -1, -1, -1, -1, -1, -1],\n",
       " [0, 0, 0, 0, 0, 0, -1, -1, -1, -1, -1, -1, -1, -1],\n",
       " [0, 0, 0, 0, 0, 0, -1, -1, -1, -1, -1, -1, -1, -1],\n",
       " [0, 0, 0, 0, 0, 0, -1, -1, -1, -1, -1, -1, -1, -1],\n",
       " [0, 0, 0, 0, 0, 0, -1, -1, -1, -1, -1, -1, -1, -1],\n",
       " [0, 0, 0, 0, 0, 0, -1, -1, -1, -1, -1, -1, -1, -1],\n",
       " [0, 0, 0, 0, 0, 0, -1, -1, -1, -1, -1, -1, -1, -1],\n",
       " [0, 0, 0, 0, 0, 0, -1, -1, -1, -1, -1, -1, -1, -1],\n",
       " [0, 0, 0, 0, 0, 0, -1, -1, -1, -1, -1, -1, -1, -1],\n",
       " [0, 0, 0, 0, 0, 0, -1, -1, -1, -1, -1, -1, -1, -1],\n",
       " [0, 0, 0, 0, 0, 0, -1, -1, -1, -1, -1, -1, -1, -1],\n",
       " [0, 0, 0, 0, 0, 0, -1, -1, -1, -1, -1, -1, -1, -1],\n",
       " [0, 0, 0, 0, 0, 0, -1, -1, -1, -1, -1, -1, -1, -1],\n",
       " [0, 0, 0, 0, 0, 0, -1, -1, -1, -1, -1, -1, -1, -1],\n",
       " [0, 0, 0, 0, 0, 0, -1, -1, -1, -1, -1, -1, -1, -1],\n",
       " [0, 0, 0, 0, 0, 0, -1, -1, -1, -1, -1, -1, -1, -1],\n",
       " [0, 0, 0, 0, 0, 0, -1, -1, -1, -1, -1, -1, -1, -1],\n",
       " [0, 0, 0, 0, 0, 0, -1, -1, -1, -1, -1, -1, -1, -1],\n",
       " [0, 0, 0, 0, 0, 0, -1, -1, -1, -1, -1, -1, -1, -1],\n",
       " [0, 0, 0, 0, 0, 0, -1, -1, -1, -1, -1, -1, -1, -1],\n",
       " [0, 0, 0, 0, 0, 0, -1, -1, -1, -1, -1, -1, -1, -1],\n",
       " [0, 0, 0, 0, 0, 0, -1, -1, -1, -1, -1, -1, -1, -1],\n",
       " [0, 0, 0, 0, 0, 0, -1, -1, -1, -1, -1, -1, -1, -1],\n",
       " [0, 0, 0, 0, 0, 0, -1, -1, -1, -1, -1, -1, -1, -1],\n",
       " [0, 0, 0, 0, 0, 0, -1, -1, -1, -1, -1, -1, -1, -1]]"
      ]
     },
     "metadata": {},
     "execution_count": 111
    }
   ],
   "source": [
    "# number of rows (individuals) is the size of G\n",
    "# each column (tool or drug) is present (0) or absent (-1); we start with 6 0s and 8 -1s \n",
    "matrix_node_tools=[[0]*6 + [-1]*8 for i in range (len(G))]\n",
    "matrix_node_tools"
   ]
  },
  {
   "cell_type": "markdown",
   "metadata": {},
   "source": [
    "Each tool has a fitness or medicinal value, and we are using the original values in Derex and Boyd's original experiment"
   ]
  },
  {
   "cell_type": "code",
   "execution_count": 112,
   "metadata": {},
   "outputs": [],
   "source": [
    "fitness_values = [6, 8, 10, 6, 8, 10, 30, 30, 60, 60, 120, 120, 300, 300] # each column has a value"
   ]
  },
  {
   "cell_type": "markdown",
   "metadata": {},
   "source": [
    "Now we create a dictionary with the special combinations of 3 drugs that generate a superior drug. <br>\n",
    "Notice that there are two lineages: in lineage A, triad (0, 1, 2) creates drug 6 (A1), which is needed for drug 8 or A2 = (0, 4, 6), which is needed for drug 10. <br>\n",
    "Therefore lineage A is A1 = 6, A2 = 8, A3 = 10. <br>\n",
    "Lineage B will be B1 = 7, B2 = 9, B3 = 11. <br>\n",
    "The superdrug C is a combination of top A and B, with two options: superdrug 12 = (A2, A3, B3), or superdrug 13 = (B2, B3, A3) <br>\n",
    "(to avoid privileging A or B)"
   ]
  },
  {
   "cell_type": "code",
   "execution_count": 113,
   "metadata": {},
   "outputs": [],
   "source": [
    "innovations_dict = {(0, 1, 2): 6, \n",
    "             (3, 4, 5): 7,\n",
    "             (0, 4, 6): 8,\n",
    "             (1, 2, 7): 9,\n",
    "             (4, 5, 8): 10,\n",
    "             (1, 3, 9): 11,\n",
    "             (8, 10, 11): 12,\n",
    "             (9, 10, 11): 13}"
   ]
  },
  {
   "cell_type": "markdown",
   "metadata": {},
   "source": [
    "Now the pairs can start playing. First we create the lists of drugs of node and neighbour"
   ]
  },
  {
   "cell_type": "code",
   "execution_count": 114,
   "metadata": {},
   "outputs": [
    {
     "output_type": "stream",
     "name": "stdout",
     "text": [
      "25\n[0 1 2 3 4 5]\n[0 1 2 3 4 5]\n"
     ]
    }
   ],
   "source": [
    "# ingredients of node are 0s in matrix, so we select for each node (row) column where value is > -1\n",
    "print(node) # this value is stored from a previous loop\n",
    "ingredients_node= np.where(np.array(matrix_node_tools[node])>-1)[0] # don't forget to select element [0]\n",
    "print(ingredients_node)\n",
    "ingredients_neighbour=np.where(np.array(matrix_node_tools[selected_neighbour])>-1)[0]\n",
    "print(ingredients_neighbour)\n"
   ]
  },
  {
   "cell_type": "markdown",
   "metadata": {},
   "source": [
    "From their original sets above, they choose tools based on drug value. <br>\n",
    "To create the drug triad, node selects 2 of its drugs, and neighbour selects 1 "
   ]
  },
  {
   "cell_type": "code",
   "execution_count": 115,
   "metadata": {},
   "outputs": [
    {
     "output_type": "stream",
     "name": "stdout",
     "text": [
      "3 1\n"
     ]
    }
   ],
   "source": [
    "node_tools=[] #weigthed sampling\n",
    "for tool in ingredients_node:\n",
    "    for times in range(fitness_values[tool]):\n",
    "        node_tools.append(tool)\n",
    "node_tool_1, node_tool_2 = rd.sample(node_tools, 2)\n",
    "print(node_tool_1, node_tool_2)"
   ]
  },
  {
   "cell_type": "code",
   "execution_count": 116,
   "metadata": {},
   "outputs": [
    {
     "output_type": "stream",
     "name": "stdout",
     "text": [
      "5\n"
     ]
    }
   ],
   "source": [
    "neighbour_tools=[]\n",
    "for tool in ingredients_neighbour:\n",
    "    for times in range(fitness_values[tool]):\n",
    "        neighbour_tools.append(tool)\n",
    "neighbour_tool = rd.choice(neighbour_tools)\n",
    "print(neighbour_tool)"
   ]
  },
  {
   "cell_type": "code",
   "execution_count": 117,
   "metadata": {},
   "outputs": [
    {
     "output_type": "stream",
     "name": "stdout",
     "text": [
      "(1, 3, 5)\n-1\n"
     ]
    }
   ],
   "source": [
    "# just as a test: how to combine the drugs and see if chosen triad generated a new drug\n",
    "triad = [node_tool_1, node_tool_2, neighbour_tool] # create triad\n",
    "triad = tuple(sorted(triad)) # sort order\n",
    "print(triad)\n",
    "new_tool = innovations_dict.get(triad, -1) \n",
    "print(new_tool)\n",
    "#if triad is in dictionary, returns its key or ID (6, 7 etc), otherwise -1 or absent"
   ]
  },
  {
   "cell_type": "markdown",
   "metadata": {},
   "source": [
    "Now we put the elements above together to run the attepmts until a new drug is created"
   ]
  },
  {
   "cell_type": "code",
   "execution_count": 118,
   "metadata": {},
   "outputs": [
    {
     "output_type": "stream",
     "name": "stdout",
     "text": [
      "6 1 39 11\n"
     ]
    }
   ],
   "source": [
    "rounds=10000 \n",
    "stop_sim=0 # simulation starts\n",
    "for epoch in range(rounds):\n",
    "    random_node_list = rd.sample(range(len(G)), len(G))\n",
    "    for node in random_node_list: # select pairs\n",
    "        neighbour_list = []\n",
    "        for neighbour in G[node]:\n",
    "            for times in range(int(G[node][neighbour]['weight'])):\n",
    "                neighbour_list.append(neighbour)\n",
    "        selected_neighbour = rd.choice(neighbour_list)\n",
    "        \n",
    "        ingredients_node=np.where(np.array(matrix_node_tools[node])>-1)[0] # take their current drugs\n",
    "        ingredients_neighbour=np.where(np.array(matrix_node_tools[selected_neighbour])>-1)[0]\n",
    "        \n",
    "        node_tools=[] # drugs chosen for triad\n",
    "        for tool in ingredients_node:\n",
    "            for times in range(fitness_values[tool]):\n",
    "                node_tools.append(tool)\n",
    "        node_tool_1, node_tool_2 = rd.sample(node_tools, 2)\n",
    "        \n",
    "        neighbour_tools=[]\n",
    "        for tool in ingredients_neighbour:\n",
    "            for times in range(fitness_values[tool]):\n",
    "                neighbour_tools.append(tool)\n",
    "        neighbour_tool = rd.choice(neighbour_tools)\n",
    "        \n",
    "        triad = [node_tool_1, node_tool_2, neighbour_tool] # tirad generates a new tool or nothing\n",
    "        triad = tuple(sorted(triad))\n",
    "        new_tool = innovations_dict.get(triad,-1) \n",
    "        \n",
    "        if new_tool > -1: # when a new tool is created, print which drug, round, and players\n",
    "            print(new_tool, epoch + 1, node, selected_neighbour)\n",
    "            stop_sim=1\n",
    "            break\n",
    "    if stop_sim==1: # then stop\n",
    "        break"
   ]
  },
  {
   "cell_type": "markdown",
   "metadata": {},
   "source": [
    "Now we will run a simulation where any new drugs are transmitted only to close kin"
   ]
  },
  {
   "cell_type": "code",
   "execution_count": 119,
   "metadata": {},
   "outputs": [
    {
     "output_type": "stream",
     "name": "stdout",
     "text": [
      "6 1 31 29\n",
      "7 1 39 23\n",
      "6 1 45 6\n",
      "6 1 3 48\n",
      "8 2 47 48\n",
      "7 2 17 16\n",
      "9 2 16 21\n",
      "7 2 11 34\n",
      "6 2 18 16\n",
      "6 4 23 35\n",
      "6 5 24 33\n",
      "7 5 0 1\n",
      "10 6 46 47\n",
      "9 6 34 37\n",
      "7 7 28 2\n",
      "8 7 23 38\n",
      "9 8 2 42\n",
      "8 8 5 6\n",
      "8 8 33 4\n",
      "7 9 51 49\n",
      "9 9 28 29\n",
      "11 10 39 36\n",
      "9 10 41 25\n",
      "7 10 35 43\n",
      "11 11 15 21\n",
      "8 12 45 6\n",
      "10 14 40 34\n",
      "13 15 37 39\n"
     ]
    }
   ],
   "source": [
    "periods=10000\n",
    "stop_sim=0\n",
    "sim_duration = []\n",
    "for epoch in range(periods):\n",
    "    random_node_list = rd.sample(range(len(G)), len(G))\n",
    "    for node in random_node_list:\n",
    "        neighbour_list = []\n",
    "        for neighbour in G[node]:\n",
    "            for times in range(int(G[node][neighbour]['weight'])):\n",
    "                neighbour_list.append(neighbour)\n",
    "        selected_neighbour = rd.choice(neighbour_list)\n",
    "       \n",
    "        ingredients_node=np.where(np.array(matrix_node_tools[node])>-1)[0] \n",
    "        ingredients_neighbour=np.where(np.array(matrix_node_tools[selected_neighbour])>-1)[0]\n",
    "        \n",
    "        node_tools=[]\n",
    "        for tool in ingredients_node:\n",
    "            for times in range(fitness_values[tool]):\n",
    "                node_tools.append(tool)\n",
    "        node_tool_1, node_tool_2 = rd.sample(node_tools, 2)\n",
    "        \n",
    "        neighbour_tools=[]\n",
    "        for tool in ingredients_neighbour:\n",
    "            for times in range(fitness_values[tool]):\n",
    "                neighbour_tools.append(tool)\n",
    "        neighbour_tool = rd.choice(neighbour_tools)\n",
    "  \n",
    "        triad = [node_tool_1, node_tool_2, neighbour_tool]\n",
    "        triad = tuple(sorted(triad))\n",
    "        new_tool = innovations_dict.get(triad,-1)\n",
    "        \n",
    "        # until here, similar to previous cell  \n",
    "        \n",
    "        if new_tool > -1: # if a new drug was created (6, 7 or 8 etc) \n",
    "            # check if node and neighbour already have invented tool \n",
    "            have_new_tool = -1 # we need this later\n",
    "            if matrix_node_tools[node][new_tool] == -1: # if position (i = node, j = new tool) in matrix is absent\n",
    "                have_new_tool = 1 \n",
    "                matrix_node_tools[node][new_tool] = epoch + 1 # node gains new tools, replace -1 with round of discovery\n",
    "                for node_kin in G_closekin[node]: # now use matrix G_closekin to identify all close kin of node \n",
    "                    matrix_node_tools[node_kin][new_tool] = epoch + 1 # tranmits new tool to all kin\n",
    "            \n",
    "            if matrix_node_tools[selected_neighbour][new_tool] == -1: #check if selected neighbour has tool\n",
    "                have_new_tool = 1 \n",
    "                matrix_node_tools[selected_neighbour][new_tool]= epoch + 1 # neighbours gains new tool\n",
    "                for neighbour_kin in G_closekin[selected_neighbour]:\n",
    "                    matrix_node_tools[neighbour_kin][new_tool] = epoch+ 1\n",
    "\n",
    "            if have_new_tool == 1: #if either node or neighbour received the new tool\n",
    "                print(new_tool, epoch + 1, node, selected_neighbour)\n",
    "                if new_tool in [12,13]: # BUT if the new tool is a superdrug C1=12 or C2=13\n",
    "                    stop_sim=1 # simulations ends\n",
    "                    \n",
    "        if stop_sim==1:\n",
    "            break\n",
    "    if stop_sim==1:\n",
    "        break"
   ]
  },
  {
   "cell_type": "markdown",
   "metadata": {},
   "source": [
    "We can examine matrix to see when drugs were discovered and who created the superdrug <br>\n",
    "(can you interpret it?)"
   ]
  },
  {
   "cell_type": "code",
   "execution_count": 120,
   "metadata": {},
   "outputs": [
    {
     "output_type": "execute_result",
     "data": {
      "text/plain": [
       "[[0, 0, 0, 0, 0, 0, -1, 5, -1, -1, -1, -1, -1, -1],\n",
       " [0, 0, 0, 0, 0, 0, 5, 5, -1, -1, -1, -1, -1, -1],\n",
       " [0, 0, 0, 0, 0, 0, 1, 7, -1, 8, -1, -1, -1, -1],\n",
       " [0, 0, 0, 0, 0, 0, 1, 7, -1, 8, -1, -1, -1, -1],\n",
       " [0, 0, 0, 0, 0, 0, -1, -1, 8, -1, -1, -1, -1, -1],\n",
       " [0, 0, 0, 0, 0, 0, 1, -1, 8, -1, -1, -1, -1, -1],\n",
       " [0, 0, 0, 0, 0, 0, 1, -1, 8, -1, -1, -1, -1, -1],\n",
       " [0, 0, 0, 0, 0, 0, 1, 7, -1, 8, -1, -1, -1, -1],\n",
       " [0, 0, 0, 0, 0, 0, -1, -1, -1, -1, -1, -1, -1, -1],\n",
       " [0, 0, 0, 0, 0, 0, -1, -1, -1, -1, -1, -1, -1, -1],\n",
       " [0, 0, 0, 0, 0, 0, -1, 2, -1, -1, -1, -1, -1, -1],\n",
       " [0, 0, 0, 0, 0, 0, -1, 2, -1, -1, -1, -1, -1, -1],\n",
       " [0, 0, 0, 0, 0, 0, -1, -1, -1, -1, -1, -1, -1, -1],\n",
       " [0, 0, 0, 0, 0, 0, -1, -1, -1, -1, -1, -1, -1, -1],\n",
       " [0, 0, 0, 0, 0, 0, -1, -1, -1, -1, -1, -1, -1, -1],\n",
       " [0, 0, 0, 0, 0, 0, -1, -1, -1, -1, -1, 11, -1, -1],\n",
       " [0, 0, 0, 0, 0, 0, 2, 2, -1, 2, -1, 11, -1, -1],\n",
       " [0, 0, 0, 0, 0, 0, 2, 2, -1, -1, -1, -1, -1, -1],\n",
       " [0, 0, 0, 0, 0, 0, 2, 2, -1, 2, -1, -1, -1, -1],\n",
       " [0, 0, 0, 0, 0, 0, -1, -1, -1, -1, -1, -1, -1, -1],\n",
       " [0, 0, 0, 0, 0, 0, -1, 2, -1, 2, -1, 11, -1, -1],\n",
       " [0, 0, 0, 0, 0, 0, -1, 2, -1, 2, -1, 11, -1, -1],\n",
       " [0, 0, 0, 0, 0, 0, -1, -1, -1, -1, -1, -1, -1, -1],\n",
       " [0, 0, 0, 0, 0, 0, 4, 1, 7, -1, 14, -1, -1, -1],\n",
       " [0, 0, 0, 0, 0, 0, 5, -1, -1, -1, -1, -1, -1, -1],\n",
       " [0, 0, 0, 0, 0, 0, 1, 7, 12, 8, -1, -1, -1, -1],\n",
       " [0, 0, 0, 0, 0, 0, -1, 7, -1, -1, -1, -1, -1, -1],\n",
       " [0, 0, 0, 0, 0, 0, -1, 7, -1, 8, -1, -1, -1, -1],\n",
       " [0, 0, 0, 0, 0, 0, -1, 7, -1, 9, -1, -1, -1, -1],\n",
       " [0, 0, 0, 0, 0, 0, 1, 7, 8, 9, -1, -1, -1, -1],\n",
       " [0, 0, 0, 0, 0, 0, 1, -1, 8, 9, -1, -1, -1, -1],\n",
       " [0, 0, 0, 0, 0, 0, 1, 7, 8, 9, -1, -1, -1, -1],\n",
       " [0, 0, 0, 0, 0, 0, 1, -1, 8, 9, -1, -1, -1, -1],\n",
       " [0, 0, 0, 0, 0, 0, 1, -1, 8, 9, -1, -1, -1, -1],\n",
       " [0, 0, 0, 0, 0, 0, -1, 1, -1, 6, 14, 10, -1, 15],\n",
       " [0, 0, 0, 0, 0, 0, 4, 10, -1, -1, -1, -1, -1, -1],\n",
       " [0, 0, 0, 0, 0, 0, -1, 1, -1, 6, 14, 10, -1, 15],\n",
       " [0, 0, 0, 0, 0, 0, -1, 1, -1, 6, 14, 10, -1, 15],\n",
       " [0, 0, 0, 0, 0, 0, -1, -1, 7, -1, -1, -1, -1, -1],\n",
       " [0, 0, 0, 0, 0, 0, -1, 1, -1, 6, 14, 10, -1, 15],\n",
       " [0, 0, 0, 0, 0, 0, 4, 1, 7, -1, 14, -1, -1, -1],\n",
       " [0, 0, 0, 0, 0, 0, -1, -1, -1, 10, -1, -1, -1, -1],\n",
       " [0, 0, 0, 0, 0, 0, -1, 7, -1, 8, -1, -1, -1, -1],\n",
       " [0, 0, 0, 0, 0, 0, 4, 1, 7, -1, 14, -1, -1, -1],\n",
       " [0, 0, 0, 0, 0, 0, 1, -1, 12, -1, -1, -1, -1, -1],\n",
       " [0, 0, 0, 0, 0, 0, 1, -1, 12, -1, -1, -1, -1, -1],\n",
       " [0, 0, 0, 0, 0, 0, -1, -1, 2, -1, 6, -1, -1, -1],\n",
       " [0, 0, 0, 0, 0, 0, 1, -1, 2, -1, 6, -1, -1, -1],\n",
       " [0, 0, 0, 0, 0, 0, 1, -1, 2, -1, -1, -1, -1, -1],\n",
       " [0, 0, 0, 0, 0, 0, -1, 9, -1, -1, -1, -1, -1, -1],\n",
       " [0, 0, 0, 0, 0, 0, -1, 9, -1, -1, -1, -1, -1, -1],\n",
       " [0, 0, 0, 0, 0, 0, -1, 9, -1, -1, -1, -1, -1, -1],\n",
       " [0, 0, 0, 0, 0, 0, -1, 9, -1, -1, -1, -1, -1, -1]]"
      ]
     },
     "metadata": {},
     "execution_count": 120
    }
   ],
   "source": [
    "matrix_node_tools"
   ]
  },
  {
   "cell_type": "markdown",
   "metadata": {},
   "source": [
    "## The code below implements the simulation multiple times (parameter 'sims'), and plots a distribution of rounds until discovery of superdrug."
   ]
  },
  {
   "cell_type": "markdown",
   "metadata": {},
   "source": [
    "* This cell imports and prepares the files, therefore needs to be run only once"
   ]
  },
  {
   "cell_type": "code",
   "execution_count": 121,
   "metadata": {},
   "outputs": [],
   "source": [
    "net = 'agtanet.txt'\n",
    "G = nx.read_weighted_edgelist(net, nodetype = int)\n",
    "\n",
    "Agtakin = 'agtanetkin.txt'\n",
    "file_kin = open(Agtakin, \"r\") \n",
    "for line in file_kin.readlines(): \n",
    "    elems = [int(float(x)) if \"e\" in x or \".\" in x else int(x) for x in line.strip(\"\\n \").split(\" \")]\n",
    "    i=int(elems[0]) # extracts i and j nodes from dyad\n",
    "    j=int(elems[1])\n",
    "    kinship= int(elems[3]/10) # so kinship is 1 for close kin, 2 for distant kin, 3 for non-kin\n",
    "    #print(kinship)\n",
    "    if G.has_edge(i,j) == True: # now check in G if (i, j) exists\n",
    "        G[i][j]['kin']=kinship # if so, create variable kin with value kinship \n",
    "file_kin.close()"
   ]
  },
  {
   "cell_type": "markdown",
   "metadata": {},
   "source": [
    "* This cell should be re-run everytime you change number of sims, conditions etc."
   ]
  },
  {
   "cell_type": "code",
   "execution_count": 122,
   "metadata": {},
   "outputs": [
    {
     "output_type": "display_data",
     "data": {
      "text/plain": "<Figure size 432x288 with 1 Axes>",
      "image/svg+xml": "<?xml version=\"1.0\" encoding=\"utf-8\" standalone=\"no\"?>\r\n<!DOCTYPE svg PUBLIC \"-//W3C//DTD SVG 1.1//EN\"\r\n  \"http://www.w3.org/Graphics/SVG/1.1/DTD/svg11.dtd\">\r\n<!-- Created with matplotlib (https://matplotlib.org/) -->\r\n<svg height=\"248.518125pt\" version=\"1.1\" viewBox=\"0 0 368.925 248.518125\" width=\"368.925pt\" xmlns=\"http://www.w3.org/2000/svg\" xmlns:xlink=\"http://www.w3.org/1999/xlink\">\r\n <metadata>\r\n  <rdf:RDF xmlns:cc=\"http://creativecommons.org/ns#\" xmlns:dc=\"http://purl.org/dc/elements/1.1/\" xmlns:rdf=\"http://www.w3.org/1999/02/22-rdf-syntax-ns#\">\r\n   <cc:Work>\r\n    <dc:type rdf:resource=\"http://purl.org/dc/dcmitype/StillImage\"/>\r\n    <dc:date>2021-03-12T12:07:30.428543</dc:date>\r\n    <dc:format>image/svg+xml</dc:format>\r\n    <dc:creator>\r\n     <cc:Agent>\r\n      <dc:title>Matplotlib v3.3.4, https://matplotlib.org/</dc:title>\r\n     </cc:Agent>\r\n    </dc:creator>\r\n   </cc:Work>\r\n  </rdf:RDF>\r\n </metadata>\r\n <defs>\r\n  <style type=\"text/css\">*{stroke-linecap:butt;stroke-linejoin:round;}</style>\r\n </defs>\r\n <g id=\"figure_1\">\r\n  <g id=\"patch_1\">\r\n   <path d=\"M -0 248.518125 \r\nL 368.925 248.518125 \r\nL 368.925 0 \r\nL -0 0 \r\nz\r\n\" style=\"fill:none;\"/>\r\n  </g>\r\n  <g id=\"axes_1\">\r\n   <g id=\"patch_2\">\r\n    <path d=\"M 26.925 224.64 \r\nL 361.725 224.64 \r\nL 361.725 7.2 \r\nL 26.925 7.2 \r\nz\r\n\" style=\"fill:#ffffff;\"/>\r\n   </g>\r\n   <g id=\"patch_3\">\r\n    <path clip-path=\"url(#pdf45ff51bb)\" d=\"M 42.143182 224.64 \r\nL 66.989193 224.64 \r\nL 66.989193 80.329398 \r\nL 42.143182 80.329398 \r\nz\r\n\" style=\"fill:#0000ff;opacity:0.5;\"/>\r\n   </g>\r\n   <g id=\"patch_4\">\r\n    <path clip-path=\"url(#pdf45ff51bb)\" d=\"M 73.200696 224.64 \r\nL 98.046707 224.64 \r\nL 98.046707 27.41551 \r\nL 73.200696 27.41551 \r\nz\r\n\" style=\"fill:#0000ff;opacity:0.5;\"/>\r\n   </g>\r\n   <g id=\"patch_5\">\r\n    <path clip-path=\"url(#pdf45ff51bb)\" d=\"M 104.25821 224.64 \r\nL 129.104221 224.64 \r\nL 129.104221 142.863992 \r\nL 104.25821 142.863992 \r\nz\r\n\" style=\"fill:#0000ff;opacity:0.5;\"/>\r\n   </g>\r\n   <g id=\"patch_6\">\r\n    <path clip-path=\"url(#pdf45ff51bb)\" d=\"M 135.315724 224.64 \r\nL 160.161735 224.64 \r\nL 160.161735 186.157173 \r\nL 135.315724 186.157173 \r\nz\r\n\" style=\"fill:#0000ff;opacity:0.5;\"/>\r\n   </g>\r\n   <g id=\"patch_7\">\r\n    <path clip-path=\"url(#pdf45ff51bb)\" d=\"M 166.373237 224.64 \r\nL 191.219249 224.64 \r\nL 191.219249 215.019293 \r\nL 166.373237 215.019293 \r\nz\r\n\" style=\"fill:#0000ff;opacity:0.5;\"/>\r\n   </g>\r\n   <g id=\"patch_8\">\r\n    <path clip-path=\"url(#pdf45ff51bb)\" d=\"M 197.430751 224.64 \r\nL 222.276763 224.64 \r\nL 222.276763 224.64 \r\nL 197.430751 224.64 \r\nz\r\n\" style=\"fill:#0000ff;opacity:0.5;\"/>\r\n   </g>\r\n   <g id=\"patch_9\">\r\n    <path clip-path=\"url(#pdf45ff51bb)\" d=\"M 228.488265 224.64 \r\nL 253.334276 224.64 \r\nL 253.334276 219.829647 \r\nL 228.488265 219.829647 \r\nz\r\n\" style=\"fill:#0000ff;opacity:0.5;\"/>\r\n   </g>\r\n   <g id=\"patch_10\">\r\n    <path clip-path=\"url(#pdf45ff51bb)\" d=\"M 259.545779 224.64 \r\nL 284.39179 224.64 \r\nL 284.39179 224.64 \r\nL 259.545779 224.64 \r\nz\r\n\" style=\"fill:#0000ff;opacity:0.5;\"/>\r\n   </g>\r\n   <g id=\"patch_11\">\r\n    <path clip-path=\"url(#pdf45ff51bb)\" d=\"M 290.603293 224.64 \r\nL 315.449304 224.64 \r\nL 315.449304 224.64 \r\nL 290.603293 224.64 \r\nz\r\n\" style=\"fill:#0000ff;opacity:0.5;\"/>\r\n   </g>\r\n   <g id=\"patch_12\">\r\n    <path clip-path=\"url(#pdf45ff51bb)\" d=\"M 321.660807 224.64 \r\nL 346.506818 224.64 \r\nL 346.506818 219.829647 \r\nL 321.660807 219.829647 \r\nz\r\n\" style=\"fill:#0000ff;opacity:0.5;\"/>\r\n   </g>\r\n   <g id=\"matplotlib.axis_1\">\r\n    <g id=\"xtick_1\">\r\n     <g id=\"line2d_1\">\r\n      <defs>\r\n       <path d=\"M 0 0 \r\nL 0 3.5 \r\n\" id=\"m05fb321cb4\" style=\"stroke:#000000;stroke-width:0.8;\"/>\r\n      </defs>\r\n      <g>\r\n       <use style=\"stroke:#000000;stroke-width:0.8;\" x=\"63.960127\" xlink:href=\"#m05fb321cb4\" y=\"224.64\"/>\r\n      </g>\r\n     </g>\r\n     <g id=\"text_1\">\r\n      <!-- 20 -->\r\n      <g transform=\"translate(57.597627 239.238437)scale(0.1 -0.1)\">\r\n       <defs>\r\n        <path d=\"M 19.1875 8.296875 \r\nL 53.609375 8.296875 \r\nL 53.609375 0 \r\nL 7.328125 0 \r\nL 7.328125 8.296875 \r\nQ 12.9375 14.109375 22.625 23.890625 \r\nQ 32.328125 33.6875 34.8125 36.53125 \r\nQ 39.546875 41.84375 41.421875 45.53125 \r\nQ 43.3125 49.21875 43.3125 52.78125 \r\nQ 43.3125 58.59375 39.234375 62.25 \r\nQ 35.15625 65.921875 28.609375 65.921875 \r\nQ 23.96875 65.921875 18.8125 64.3125 \r\nQ 13.671875 62.703125 7.8125 59.421875 \r\nL 7.8125 69.390625 \r\nQ 13.765625 71.78125 18.9375 73 \r\nQ 24.125 74.21875 28.421875 74.21875 \r\nQ 39.75 74.21875 46.484375 68.546875 \r\nQ 53.21875 62.890625 53.21875 53.421875 \r\nQ 53.21875 48.921875 51.53125 44.890625 \r\nQ 49.859375 40.875 45.40625 35.40625 \r\nQ 44.1875 33.984375 37.640625 27.21875 \r\nQ 31.109375 20.453125 19.1875 8.296875 \r\nz\r\n\" id=\"DejaVuSans-50\"/>\r\n        <path d=\"M 31.78125 66.40625 \r\nQ 24.171875 66.40625 20.328125 58.90625 \r\nQ 16.5 51.421875 16.5 36.375 \r\nQ 16.5 21.390625 20.328125 13.890625 \r\nQ 24.171875 6.390625 31.78125 6.390625 \r\nQ 39.453125 6.390625 43.28125 13.890625 \r\nQ 47.125 21.390625 47.125 36.375 \r\nQ 47.125 51.421875 43.28125 58.90625 \r\nQ 39.453125 66.40625 31.78125 66.40625 \r\nz\r\nM 31.78125 74.21875 \r\nQ 44.046875 74.21875 50.515625 64.515625 \r\nQ 56.984375 54.828125 56.984375 36.375 \r\nQ 56.984375 17.96875 50.515625 8.265625 \r\nQ 44.046875 -1.421875 31.78125 -1.421875 \r\nQ 19.53125 -1.421875 13.0625 8.265625 \r\nQ 6.59375 17.96875 6.59375 36.375 \r\nQ 6.59375 54.828125 13.0625 64.515625 \r\nQ 19.53125 74.21875 31.78125 74.21875 \r\nz\r\n\" id=\"DejaVuSans-48\"/>\r\n       </defs>\r\n       <use xlink:href=\"#DejaVuSans-50\"/>\r\n       <use x=\"63.623047\" xlink:href=\"#DejaVuSans-48\"/>\r\n      </g>\r\n     </g>\r\n    </g>\r\n    <g id=\"xtick_2\">\r\n     <g id=\"line2d_2\">\r\n      <g>\r\n       <use style=\"stroke:#000000;stroke-width:0.8;\" x=\"102.302737\" xlink:href=\"#m05fb321cb4\" y=\"224.64\"/>\r\n      </g>\r\n     </g>\r\n     <g id=\"text_2\">\r\n      <!-- 40 -->\r\n      <g transform=\"translate(95.940237 239.238437)scale(0.1 -0.1)\">\r\n       <defs>\r\n        <path d=\"M 37.796875 64.3125 \r\nL 12.890625 25.390625 \r\nL 37.796875 25.390625 \r\nz\r\nM 35.203125 72.90625 \r\nL 47.609375 72.90625 \r\nL 47.609375 25.390625 \r\nL 58.015625 25.390625 \r\nL 58.015625 17.1875 \r\nL 47.609375 17.1875 \r\nL 47.609375 0 \r\nL 37.796875 0 \r\nL 37.796875 17.1875 \r\nL 4.890625 17.1875 \r\nL 4.890625 26.703125 \r\nz\r\n\" id=\"DejaVuSans-52\"/>\r\n       </defs>\r\n       <use xlink:href=\"#DejaVuSans-52\"/>\r\n       <use x=\"63.623047\" xlink:href=\"#DejaVuSans-48\"/>\r\n      </g>\r\n     </g>\r\n    </g>\r\n    <g id=\"xtick_3\">\r\n     <g id=\"line2d_3\">\r\n      <g>\r\n       <use style=\"stroke:#000000;stroke-width:0.8;\" x=\"140.645346\" xlink:href=\"#m05fb321cb4\" y=\"224.64\"/>\r\n      </g>\r\n     </g>\r\n     <g id=\"text_3\">\r\n      <!-- 60 -->\r\n      <g transform=\"translate(134.282846 239.238437)scale(0.1 -0.1)\">\r\n       <defs>\r\n        <path d=\"M 33.015625 40.375 \r\nQ 26.375 40.375 22.484375 35.828125 \r\nQ 18.609375 31.296875 18.609375 23.390625 \r\nQ 18.609375 15.53125 22.484375 10.953125 \r\nQ 26.375 6.390625 33.015625 6.390625 \r\nQ 39.65625 6.390625 43.53125 10.953125 \r\nQ 47.40625 15.53125 47.40625 23.390625 \r\nQ 47.40625 31.296875 43.53125 35.828125 \r\nQ 39.65625 40.375 33.015625 40.375 \r\nz\r\nM 52.59375 71.296875 \r\nL 52.59375 62.3125 \r\nQ 48.875 64.0625 45.09375 64.984375 \r\nQ 41.3125 65.921875 37.59375 65.921875 \r\nQ 27.828125 65.921875 22.671875 59.328125 \r\nQ 17.53125 52.734375 16.796875 39.40625 \r\nQ 19.671875 43.65625 24.015625 45.921875 \r\nQ 28.375 48.1875 33.59375 48.1875 \r\nQ 44.578125 48.1875 50.953125 41.515625 \r\nQ 57.328125 34.859375 57.328125 23.390625 \r\nQ 57.328125 12.15625 50.6875 5.359375 \r\nQ 44.046875 -1.421875 33.015625 -1.421875 \r\nQ 20.359375 -1.421875 13.671875 8.265625 \r\nQ 6.984375 17.96875 6.984375 36.375 \r\nQ 6.984375 53.65625 15.1875 63.9375 \r\nQ 23.390625 74.21875 37.203125 74.21875 \r\nQ 40.921875 74.21875 44.703125 73.484375 \r\nQ 48.484375 72.75 52.59375 71.296875 \r\nz\r\n\" id=\"DejaVuSans-54\"/>\r\n       </defs>\r\n       <use xlink:href=\"#DejaVuSans-54\"/>\r\n       <use x=\"63.623047\" xlink:href=\"#DejaVuSans-48\"/>\r\n      </g>\r\n     </g>\r\n    </g>\r\n    <g id=\"xtick_4\">\r\n     <g id=\"line2d_4\">\r\n      <g>\r\n       <use style=\"stroke:#000000;stroke-width:0.8;\" x=\"178.987956\" xlink:href=\"#m05fb321cb4\" y=\"224.64\"/>\r\n      </g>\r\n     </g>\r\n     <g id=\"text_4\">\r\n      <!-- 80 -->\r\n      <g transform=\"translate(172.625456 239.238437)scale(0.1 -0.1)\">\r\n       <defs>\r\n        <path d=\"M 31.78125 34.625 \r\nQ 24.75 34.625 20.71875 30.859375 \r\nQ 16.703125 27.09375 16.703125 20.515625 \r\nQ 16.703125 13.921875 20.71875 10.15625 \r\nQ 24.75 6.390625 31.78125 6.390625 \r\nQ 38.8125 6.390625 42.859375 10.171875 \r\nQ 46.921875 13.96875 46.921875 20.515625 \r\nQ 46.921875 27.09375 42.890625 30.859375 \r\nQ 38.875 34.625 31.78125 34.625 \r\nz\r\nM 21.921875 38.8125 \r\nQ 15.578125 40.375 12.03125 44.71875 \r\nQ 8.5 49.078125 8.5 55.328125 \r\nQ 8.5 64.0625 14.71875 69.140625 \r\nQ 20.953125 74.21875 31.78125 74.21875 \r\nQ 42.671875 74.21875 48.875 69.140625 \r\nQ 55.078125 64.0625 55.078125 55.328125 \r\nQ 55.078125 49.078125 51.53125 44.71875 \r\nQ 48 40.375 41.703125 38.8125 \r\nQ 48.828125 37.15625 52.796875 32.3125 \r\nQ 56.78125 27.484375 56.78125 20.515625 \r\nQ 56.78125 9.90625 50.3125 4.234375 \r\nQ 43.84375 -1.421875 31.78125 -1.421875 \r\nQ 19.734375 -1.421875 13.25 4.234375 \r\nQ 6.78125 9.90625 6.78125 20.515625 \r\nQ 6.78125 27.484375 10.78125 32.3125 \r\nQ 14.796875 37.15625 21.921875 38.8125 \r\nz\r\nM 18.3125 54.390625 \r\nQ 18.3125 48.734375 21.84375 45.5625 \r\nQ 25.390625 42.390625 31.78125 42.390625 \r\nQ 38.140625 42.390625 41.71875 45.5625 \r\nQ 45.3125 48.734375 45.3125 54.390625 \r\nQ 45.3125 60.0625 41.71875 63.234375 \r\nQ 38.140625 66.40625 31.78125 66.40625 \r\nQ 25.390625 66.40625 21.84375 63.234375 \r\nQ 18.3125 60.0625 18.3125 54.390625 \r\nz\r\n\" id=\"DejaVuSans-56\"/>\r\n       </defs>\r\n       <use xlink:href=\"#DejaVuSans-56\"/>\r\n       <use x=\"63.623047\" xlink:href=\"#DejaVuSans-48\"/>\r\n      </g>\r\n     </g>\r\n    </g>\r\n    <g id=\"xtick_5\">\r\n     <g id=\"line2d_5\">\r\n      <g>\r\n       <use style=\"stroke:#000000;stroke-width:0.8;\" x=\"217.330566\" xlink:href=\"#m05fb321cb4\" y=\"224.64\"/>\r\n      </g>\r\n     </g>\r\n     <g id=\"text_5\">\r\n      <!-- 100 -->\r\n      <g transform=\"translate(207.786816 239.238437)scale(0.1 -0.1)\">\r\n       <defs>\r\n        <path d=\"M 12.40625 8.296875 \r\nL 28.515625 8.296875 \r\nL 28.515625 63.921875 \r\nL 10.984375 60.40625 \r\nL 10.984375 69.390625 \r\nL 28.421875 72.90625 \r\nL 38.28125 72.90625 \r\nL 38.28125 8.296875 \r\nL 54.390625 8.296875 \r\nL 54.390625 0 \r\nL 12.40625 0 \r\nz\r\n\" id=\"DejaVuSans-49\"/>\r\n       </defs>\r\n       <use xlink:href=\"#DejaVuSans-49\"/>\r\n       <use x=\"63.623047\" xlink:href=\"#DejaVuSans-48\"/>\r\n       <use x=\"127.246094\" xlink:href=\"#DejaVuSans-48\"/>\r\n      </g>\r\n     </g>\r\n    </g>\r\n    <g id=\"xtick_6\">\r\n     <g id=\"line2d_6\">\r\n      <g>\r\n       <use style=\"stroke:#000000;stroke-width:0.8;\" x=\"255.673176\" xlink:href=\"#m05fb321cb4\" y=\"224.64\"/>\r\n      </g>\r\n     </g>\r\n     <g id=\"text_6\">\r\n      <!-- 120 -->\r\n      <g transform=\"translate(246.129426 239.238437)scale(0.1 -0.1)\">\r\n       <use xlink:href=\"#DejaVuSans-49\"/>\r\n       <use x=\"63.623047\" xlink:href=\"#DejaVuSans-50\"/>\r\n       <use x=\"127.246094\" xlink:href=\"#DejaVuSans-48\"/>\r\n      </g>\r\n     </g>\r\n    </g>\r\n    <g id=\"xtick_7\">\r\n     <g id=\"line2d_7\">\r\n      <g>\r\n       <use style=\"stroke:#000000;stroke-width:0.8;\" x=\"294.015785\" xlink:href=\"#m05fb321cb4\" y=\"224.64\"/>\r\n      </g>\r\n     </g>\r\n     <g id=\"text_7\">\r\n      <!-- 140 -->\r\n      <g transform=\"translate(284.472035 239.238437)scale(0.1 -0.1)\">\r\n       <use xlink:href=\"#DejaVuSans-49\"/>\r\n       <use x=\"63.623047\" xlink:href=\"#DejaVuSans-52\"/>\r\n       <use x=\"127.246094\" xlink:href=\"#DejaVuSans-48\"/>\r\n      </g>\r\n     </g>\r\n    </g>\r\n    <g id=\"xtick_8\">\r\n     <g id=\"line2d_8\">\r\n      <g>\r\n       <use style=\"stroke:#000000;stroke-width:0.8;\" x=\"332.358395\" xlink:href=\"#m05fb321cb4\" y=\"224.64\"/>\r\n      </g>\r\n     </g>\r\n     <g id=\"text_8\">\r\n      <!-- 160 -->\r\n      <g transform=\"translate(322.814645 239.238437)scale(0.1 -0.1)\">\r\n       <use xlink:href=\"#DejaVuSans-49\"/>\r\n       <use x=\"63.623047\" xlink:href=\"#DejaVuSans-54\"/>\r\n       <use x=\"127.246094\" xlink:href=\"#DejaVuSans-48\"/>\r\n      </g>\r\n     </g>\r\n    </g>\r\n   </g>\r\n   <g id=\"matplotlib.axis_2\">\r\n    <g id=\"ytick_1\">\r\n     <g id=\"line2d_9\">\r\n      <defs>\r\n       <path d=\"M 0 0 \r\nL -3.5 0 \r\n\" id=\"m77c9bd7b1e\" style=\"stroke:#000000;stroke-width:0.8;\"/>\r\n      </defs>\r\n      <g>\r\n       <use style=\"stroke:#000000;stroke-width:0.8;\" x=\"26.925\" xlink:href=\"#m77c9bd7b1e\" y=\"224.64\"/>\r\n      </g>\r\n     </g>\r\n     <g id=\"text_9\">\r\n      <!-- 0 -->\r\n      <g transform=\"translate(13.5625 228.439219)scale(0.1 -0.1)\">\r\n       <use xlink:href=\"#DejaVuSans-48\"/>\r\n      </g>\r\n     </g>\r\n    </g>\r\n    <g id=\"ytick_2\">\r\n     <g id=\"line2d_10\">\r\n      <g>\r\n       <use style=\"stroke:#000000;stroke-width:0.8;\" x=\"26.925\" xlink:href=\"#m77c9bd7b1e\" y=\"176.536466\"/>\r\n      </g>\r\n     </g>\r\n     <g id=\"text_10\">\r\n      <!-- 10 -->\r\n      <g transform=\"translate(7.2 180.335685)scale(0.1 -0.1)\">\r\n       <use xlink:href=\"#DejaVuSans-49\"/>\r\n       <use x=\"63.623047\" xlink:href=\"#DejaVuSans-48\"/>\r\n      </g>\r\n     </g>\r\n    </g>\r\n    <g id=\"ytick_3\">\r\n     <g id=\"line2d_11\">\r\n      <g>\r\n       <use style=\"stroke:#000000;stroke-width:0.8;\" x=\"26.925\" xlink:href=\"#m77c9bd7b1e\" y=\"128.432932\"/>\r\n      </g>\r\n     </g>\r\n     <g id=\"text_11\">\r\n      <!-- 20 -->\r\n      <g transform=\"translate(7.2 132.232151)scale(0.1 -0.1)\">\r\n       <use xlink:href=\"#DejaVuSans-50\"/>\r\n       <use x=\"63.623047\" xlink:href=\"#DejaVuSans-48\"/>\r\n      </g>\r\n     </g>\r\n    </g>\r\n    <g id=\"ytick_4\">\r\n     <g id=\"line2d_12\">\r\n      <g>\r\n       <use style=\"stroke:#000000;stroke-width:0.8;\" x=\"26.925\" xlink:href=\"#m77c9bd7b1e\" y=\"80.329398\"/>\r\n      </g>\r\n     </g>\r\n     <g id=\"text_12\">\r\n      <!-- 30 -->\r\n      <g transform=\"translate(7.2 84.128616)scale(0.1 -0.1)\">\r\n       <defs>\r\n        <path d=\"M 40.578125 39.3125 \r\nQ 47.65625 37.796875 51.625 33 \r\nQ 55.609375 28.21875 55.609375 21.1875 \r\nQ 55.609375 10.40625 48.1875 4.484375 \r\nQ 40.765625 -1.421875 27.09375 -1.421875 \r\nQ 22.515625 -1.421875 17.65625 -0.515625 \r\nQ 12.796875 0.390625 7.625 2.203125 \r\nL 7.625 11.71875 \r\nQ 11.71875 9.328125 16.59375 8.109375 \r\nQ 21.484375 6.890625 26.8125 6.890625 \r\nQ 36.078125 6.890625 40.9375 10.546875 \r\nQ 45.796875 14.203125 45.796875 21.1875 \r\nQ 45.796875 27.640625 41.28125 31.265625 \r\nQ 36.765625 34.90625 28.71875 34.90625 \r\nL 20.21875 34.90625 \r\nL 20.21875 43.015625 \r\nL 29.109375 43.015625 \r\nQ 36.375 43.015625 40.234375 45.921875 \r\nQ 44.09375 48.828125 44.09375 54.296875 \r\nQ 44.09375 59.90625 40.109375 62.90625 \r\nQ 36.140625 65.921875 28.71875 65.921875 \r\nQ 24.65625 65.921875 20.015625 65.03125 \r\nQ 15.375 64.15625 9.8125 62.3125 \r\nL 9.8125 71.09375 \r\nQ 15.4375 72.65625 20.34375 73.4375 \r\nQ 25.25 74.21875 29.59375 74.21875 \r\nQ 40.828125 74.21875 47.359375 69.109375 \r\nQ 53.90625 64.015625 53.90625 55.328125 \r\nQ 53.90625 49.265625 50.4375 45.09375 \r\nQ 46.96875 40.921875 40.578125 39.3125 \r\nz\r\n\" id=\"DejaVuSans-51\"/>\r\n       </defs>\r\n       <use xlink:href=\"#DejaVuSans-51\"/>\r\n       <use x=\"63.623047\" xlink:href=\"#DejaVuSans-48\"/>\r\n      </g>\r\n     </g>\r\n    </g>\r\n    <g id=\"ytick_5\">\r\n     <g id=\"line2d_13\">\r\n      <g>\r\n       <use style=\"stroke:#000000;stroke-width:0.8;\" x=\"26.925\" xlink:href=\"#m77c9bd7b1e\" y=\"32.225864\"/>\r\n      </g>\r\n     </g>\r\n     <g id=\"text_13\">\r\n      <!-- 40 -->\r\n      <g transform=\"translate(7.2 36.025082)scale(0.1 -0.1)\">\r\n       <use xlink:href=\"#DejaVuSans-52\"/>\r\n       <use x=\"63.623047\" xlink:href=\"#DejaVuSans-48\"/>\r\n      </g>\r\n     </g>\r\n    </g>\r\n   </g>\r\n   <g id=\"LineCollection_1\">\r\n    <path clip-path=\"url(#pdf45ff51bb)\" d=\"M 92.295315 224.64 \r\nL 92.295315 17.554286 \r\n\" style=\"fill:none;stroke:#ff0000;stroke-width:1.5;\"/>\r\n   </g>\r\n   <g id=\"LineCollection_2\">\r\n    <path clip-path=\"url(#pdf45ff51bb)\" d=\"M 84.089997 224.64 \r\nL 84.089997 17.554286 \r\n\" style=\"fill:none;stroke:#008000;stroke-width:1.5;\"/>\r\n   </g>\r\n   <g id=\"patch_13\">\r\n    <path d=\"M 26.925 224.64 \r\nL 26.925 7.2 \r\n\" style=\"fill:none;stroke:#000000;stroke-linecap:square;stroke-linejoin:miter;stroke-width:0.8;\"/>\r\n   </g>\r\n   <g id=\"patch_14\">\r\n    <path d=\"M 361.725 224.64 \r\nL 361.725 7.2 \r\n\" style=\"fill:none;stroke:#000000;stroke-linecap:square;stroke-linejoin:miter;stroke-width:0.8;\"/>\r\n   </g>\r\n   <g id=\"patch_15\">\r\n    <path d=\"M 26.925 224.64 \r\nL 361.725 224.64 \r\n\" style=\"fill:none;stroke:#000000;stroke-linecap:square;stroke-linejoin:miter;stroke-width:0.8;\"/>\r\n   </g>\r\n   <g id=\"patch_16\">\r\n    <path d=\"M 26.925 7.2 \r\nL 361.725 7.2 \r\n\" style=\"fill:none;stroke:#000000;stroke-linecap:square;stroke-linejoin:miter;stroke-width:0.8;\"/>\r\n   </g>\r\n   <g id=\"legend_1\">\r\n    <g id=\"patch_17\">\r\n     <path d=\"M 286.351562 44.55625 \r\nL 354.725 44.55625 \r\nQ 356.725 44.55625 356.725 42.55625 \r\nL 356.725 14.2 \r\nQ 356.725 12.2 354.725 12.2 \r\nL 286.351562 12.2 \r\nQ 284.351562 12.2 284.351562 14.2 \r\nL 284.351562 42.55625 \r\nQ 284.351562 44.55625 286.351562 44.55625 \r\nz\r\n\" style=\"fill:#ffffff;opacity:0.8;stroke:#cccccc;stroke-linejoin:miter;\"/>\r\n    </g>\r\n    <g id=\"line2d_14\">\r\n     <path d=\"M 288.351562 20.298437 \r\nL 308.351562 20.298437 \r\n\" style=\"fill:none;stroke:#ff0000;stroke-width:1.5;\"/>\r\n    </g>\r\n    <g id=\"text_14\">\r\n     <!-- Mean -->\r\n     <g transform=\"translate(316.351562 23.798437)scale(0.1 -0.1)\">\r\n      <defs>\r\n       <path d=\"M 9.8125 72.90625 \r\nL 24.515625 72.90625 \r\nL 43.109375 23.296875 \r\nL 61.8125 72.90625 \r\nL 76.515625 72.90625 \r\nL 76.515625 0 \r\nL 66.890625 0 \r\nL 66.890625 64.015625 \r\nL 48.09375 14.015625 \r\nL 38.1875 14.015625 \r\nL 19.390625 64.015625 \r\nL 19.390625 0 \r\nL 9.8125 0 \r\nz\r\n\" id=\"DejaVuSans-77\"/>\r\n       <path d=\"M 56.203125 29.59375 \r\nL 56.203125 25.203125 \r\nL 14.890625 25.203125 \r\nQ 15.484375 15.921875 20.484375 11.0625 \r\nQ 25.484375 6.203125 34.421875 6.203125 \r\nQ 39.59375 6.203125 44.453125 7.46875 \r\nQ 49.3125 8.734375 54.109375 11.28125 \r\nL 54.109375 2.78125 \r\nQ 49.265625 0.734375 44.1875 -0.34375 \r\nQ 39.109375 -1.421875 33.890625 -1.421875 \r\nQ 20.796875 -1.421875 13.15625 6.1875 \r\nQ 5.515625 13.8125 5.515625 26.8125 \r\nQ 5.515625 40.234375 12.765625 48.109375 \r\nQ 20.015625 56 32.328125 56 \r\nQ 43.359375 56 49.78125 48.890625 \r\nQ 56.203125 41.796875 56.203125 29.59375 \r\nz\r\nM 47.21875 32.234375 \r\nQ 47.125 39.59375 43.09375 43.984375 \r\nQ 39.0625 48.390625 32.421875 48.390625 \r\nQ 24.90625 48.390625 20.390625 44.140625 \r\nQ 15.875 39.890625 15.1875 32.171875 \r\nz\r\n\" id=\"DejaVuSans-101\"/>\r\n       <path d=\"M 34.28125 27.484375 \r\nQ 23.390625 27.484375 19.1875 25 \r\nQ 14.984375 22.515625 14.984375 16.5 \r\nQ 14.984375 11.71875 18.140625 8.90625 \r\nQ 21.296875 6.109375 26.703125 6.109375 \r\nQ 34.1875 6.109375 38.703125 11.40625 \r\nQ 43.21875 16.703125 43.21875 25.484375 \r\nL 43.21875 27.484375 \r\nz\r\nM 52.203125 31.203125 \r\nL 52.203125 0 \r\nL 43.21875 0 \r\nL 43.21875 8.296875 \r\nQ 40.140625 3.328125 35.546875 0.953125 \r\nQ 30.953125 -1.421875 24.3125 -1.421875 \r\nQ 15.921875 -1.421875 10.953125 3.296875 \r\nQ 6 8.015625 6 15.921875 \r\nQ 6 25.140625 12.171875 29.828125 \r\nQ 18.359375 34.515625 30.609375 34.515625 \r\nL 43.21875 34.515625 \r\nL 43.21875 35.40625 \r\nQ 43.21875 41.609375 39.140625 45 \r\nQ 35.0625 48.390625 27.6875 48.390625 \r\nQ 23 48.390625 18.546875 47.265625 \r\nQ 14.109375 46.140625 10.015625 43.890625 \r\nL 10.015625 52.203125 \r\nQ 14.9375 54.109375 19.578125 55.046875 \r\nQ 24.21875 56 28.609375 56 \r\nQ 40.484375 56 46.34375 49.84375 \r\nQ 52.203125 43.703125 52.203125 31.203125 \r\nz\r\n\" id=\"DejaVuSans-97\"/>\r\n       <path d=\"M 54.890625 33.015625 \r\nL 54.890625 0 \r\nL 45.90625 0 \r\nL 45.90625 32.71875 \r\nQ 45.90625 40.484375 42.875 44.328125 \r\nQ 39.84375 48.1875 33.796875 48.1875 \r\nQ 26.515625 48.1875 22.3125 43.546875 \r\nQ 18.109375 38.921875 18.109375 30.90625 \r\nL 18.109375 0 \r\nL 9.078125 0 \r\nL 9.078125 54.6875 \r\nL 18.109375 54.6875 \r\nL 18.109375 46.1875 \r\nQ 21.34375 51.125 25.703125 53.5625 \r\nQ 30.078125 56 35.796875 56 \r\nQ 45.21875 56 50.046875 50.171875 \r\nQ 54.890625 44.34375 54.890625 33.015625 \r\nz\r\n\" id=\"DejaVuSans-110\"/>\r\n      </defs>\r\n      <use xlink:href=\"#DejaVuSans-77\"/>\r\n      <use x=\"86.279297\" xlink:href=\"#DejaVuSans-101\"/>\r\n      <use x=\"147.802734\" xlink:href=\"#DejaVuSans-97\"/>\r\n      <use x=\"209.082031\" xlink:href=\"#DejaVuSans-110\"/>\r\n     </g>\r\n    </g>\r\n    <g id=\"line2d_15\">\r\n     <path d=\"M 288.351562 34.976562 \r\nL 308.351562 34.976562 \r\n\" style=\"fill:none;stroke:#008000;stroke-width:1.5;\"/>\r\n    </g>\r\n    <g id=\"text_15\">\r\n     <!-- Median -->\r\n     <g transform=\"translate(316.351562 38.476562)scale(0.1 -0.1)\">\r\n      <defs>\r\n       <path d=\"M 45.40625 46.390625 \r\nL 45.40625 75.984375 \r\nL 54.390625 75.984375 \r\nL 54.390625 0 \r\nL 45.40625 0 \r\nL 45.40625 8.203125 \r\nQ 42.578125 3.328125 38.25 0.953125 \r\nQ 33.9375 -1.421875 27.875 -1.421875 \r\nQ 17.96875 -1.421875 11.734375 6.484375 \r\nQ 5.515625 14.40625 5.515625 27.296875 \r\nQ 5.515625 40.1875 11.734375 48.09375 \r\nQ 17.96875 56 27.875 56 \r\nQ 33.9375 56 38.25 53.625 \r\nQ 42.578125 51.265625 45.40625 46.390625 \r\nz\r\nM 14.796875 27.296875 \r\nQ 14.796875 17.390625 18.875 11.75 \r\nQ 22.953125 6.109375 30.078125 6.109375 \r\nQ 37.203125 6.109375 41.296875 11.75 \r\nQ 45.40625 17.390625 45.40625 27.296875 \r\nQ 45.40625 37.203125 41.296875 42.84375 \r\nQ 37.203125 48.484375 30.078125 48.484375 \r\nQ 22.953125 48.484375 18.875 42.84375 \r\nQ 14.796875 37.203125 14.796875 27.296875 \r\nz\r\n\" id=\"DejaVuSans-100\"/>\r\n       <path d=\"M 9.421875 54.6875 \r\nL 18.40625 54.6875 \r\nL 18.40625 0 \r\nL 9.421875 0 \r\nz\r\nM 9.421875 75.984375 \r\nL 18.40625 75.984375 \r\nL 18.40625 64.59375 \r\nL 9.421875 64.59375 \r\nz\r\n\" id=\"DejaVuSans-105\"/>\r\n      </defs>\r\n      <use xlink:href=\"#DejaVuSans-77\"/>\r\n      <use x=\"86.279297\" xlink:href=\"#DejaVuSans-101\"/>\r\n      <use x=\"147.802734\" xlink:href=\"#DejaVuSans-100\"/>\r\n      <use x=\"211.279297\" xlink:href=\"#DejaVuSans-105\"/>\r\n      <use x=\"239.0625\" xlink:href=\"#DejaVuSans-97\"/>\r\n      <use x=\"300.341797\" xlink:href=\"#DejaVuSans-110\"/>\r\n     </g>\r\n    </g>\r\n   </g>\r\n  </g>\r\n </g>\r\n <defs>\r\n  <clipPath id=\"pdf45ff51bb\">\r\n   <rect height=\"217.44\" width=\"334.8\" x=\"26.925\" y=\"7.2\"/>\r\n  </clipPath>\r\n </defs>\r\n</svg>\r\n",
      "image/png": "[encoded data removed]"
     },
     "metadata": {
      "needs_background": "light"
     }
    },
    {
     "output_type": "stream",
     "name": "stdout",
     "text": [
      "Simulations =  100\nMean time to discovery of C1/C2 =  34.78 rounds\nMedian time to discovery of C1/C2 =  30.5 rounds\n"
     ]
    }
   ],
   "source": [
    "import networkx as nx\n",
    "import random as rd\n",
    "import numpy as np\n",
    "import matplotlib.pyplot as plt\n",
    "import matplotlib\n",
    "\n",
    "sims = 100\n",
    "sim_duration = [] # to store each simulation duration \n",
    "\n",
    "# beginning of simulations\n",
    "for i in range(sims):\n",
    "    G_closekin = nx.Graph() # creates a new empty network\n",
    "    for i, j in G.edges:\n",
    "        if G[i][j]['kin'] == 1: # if (i, j) dyad in G is kin = 1\n",
    "            G_closekin.add_edge(i, j) # add that edge to new network\n",
    "            G_closekin[i][j]['weight'] = G[i][j]['weight'] # add weight from G to new network \n",
    "\n",
    "    for node in G: \n",
    "        if node not in G_closekin:\n",
    "            G_closekin.add_node(node)\n",
    "\n",
    "    matrix_node_tools=[[0]*6 + [-1]*8 for i in range (len(G))]\n",
    "    fitness_values = [6, 8, 10, 6, 8, 10, 30, 30, 60, 60, 120, 120, 300, 300] # each column has a value\n",
    "    innovations_dict = {(0, 1, 2): 6, \n",
    "                 (3, 4, 5): 7,\n",
    "                 (0, 4, 6): 8,\n",
    "                 (1, 2, 7): 9,\n",
    "                 (4, 5, 8): 10,\n",
    "                 (1, 3, 9): 11,\n",
    "                 (8, 10, 11): 12,\n",
    "                 (9, 10, 11): 13}\n",
    "\n",
    "    periods=10000\n",
    "    stop_sim=0   \n",
    "    for epoch in range(periods):\n",
    "        random_node_list = rd.sample(range(len(G)), len(G))\n",
    "        for node in random_node_list:\n",
    "            neighbour_list = []\n",
    "            for neighbour in G[node]:\n",
    "                for times in range(int(G[node][neighbour]['weight'])):\n",
    "                    neighbour_list.append(neighbour)\n",
    "            selected_neighbour = rd.choice(neighbour_list)\n",
    "\n",
    "            ingredients_node=np.where(np.array(matrix_node_tools[node])>-1)[0] \n",
    "            ingredients_neighbour=np.where(np.array(matrix_node_tools[selected_neighbour])>-1)[0]\n",
    "\n",
    "            node_tools=[]\n",
    "            for tool in ingredients_node:\n",
    "                for times in range(fitness_values[tool]):\n",
    "                    node_tools.append(tool)\n",
    "            node_tool_1, node_tool_2 = rd.sample(node_tools, 2)\n",
    "\n",
    "            neighbour_tools=[]\n",
    "            for tool in ingredients_neighbour:\n",
    "                for times in range(fitness_values[tool]):\n",
    "                    neighbour_tools.append(tool)\n",
    "            neighbour_tool = rd.choice(neighbour_tools)\n",
    "\n",
    "            triad = [node_tool_1, node_tool_2, neighbour_tool]\n",
    "            triad = tuple(sorted(triad))\n",
    "            new_tool = innovations_dict.get(triad,-1)\n",
    "\n",
    "            # until here, similar to previous cell  \n",
    "\n",
    "            if new_tool > -1: # if a new drug was created (6, 7 or 8 etc) \n",
    "                # check if node and neighbour already have invented tool \n",
    "                have_new_tool = -1 # we need this later\n",
    "                if matrix_node_tools[node][new_tool] == -1: # if position (i = node, j = new tool) in matrix is absent\n",
    "                    have_new_tool = 1 \n",
    "                    matrix_node_tools[node][new_tool] = epoch + 1 # node gains new tools, replace -1 with round of discovery\n",
    "                    for node_kin in G_closekin[node]: # now use matrix G_closekin to identify all close kin of node \n",
    "                        matrix_node_tools[node_kin][new_tool] = epoch + 1 # tranmits new tool to all kin\n",
    "\n",
    "                if matrix_node_tools[selected_neighbour][new_tool] == -1: #check if selected neighbour has tool\n",
    "                    have_new_tool = 1 \n",
    "                    matrix_node_tools[selected_neighbour][new_tool]= epoch + 1 # neighbours gains new tool\n",
    "                    for neighbour_kin in G_closekin[selected_neighbour]:\n",
    "                        matrix_node_tools[neighbour_kin][new_tool] = epoch+ 1\n",
    "\n",
    "                if have_new_tool == 1: #if either node or neighbour received the new tool\n",
    "                    #print(new_tool, epoch + 1, node, selected_neighbour)\n",
    "                    if new_tool in [12,13]: # BUT if the new tool is a superdrug C1=12 or C2=13\n",
    "                        stop_sim=1 # simulations ends\n",
    "                        sim_duration.append(epoch + 1)                        \n",
    "            if stop_sim==1:\n",
    "                break\n",
    "        if stop_sim==1:\n",
    "            break\n",
    "\n",
    "mean1 = np.mean(sim_duration)\n",
    "median1 = np.median(sim_duration)\n",
    "simduration1 = sim_duration\n",
    "plt.hist(sim_duration, facecolor='b', alpha=.5, rwidth=.8)\n",
    "ymin, ymax = plt.gca().get_ylim()\n",
    "plt.vlines(mean1, colors = 'r', ymin = ymin, ymax = ymax, label = 'Mean')\n",
    "plt.vlines(median1, colors = 'g', ymin = ymin, ymax = ymax, label = 'Median')\n",
    "plt.gca().legend()\n",
    "plt.show()\n",
    "print(\"Simulations = \", sims)\n",
    "print(\"Mean time to discovery of C1/C2 = \", mean1, \"rounds\")\n",
    "print(\"Median time to discovery of C1/C2 = \", median1, \"rounds\")"
   ]
  },
  {
   "cell_type": "markdown",
   "metadata": {},
   "source": [
    "## Exercise 1\n",
    "\n",
    "Modify the code so that:\n",
    "* Instead of transferring the new tool only to close kin, both node and neighbour transmit new tools to **all** their neighbours \n",
    "\n"
   ]
  },
  {
   "cell_type": "code",
   "execution_count": 123,
   "metadata": {},
   "outputs": [
    {
     "output_type": "display_data",
     "data": {
      "text/plain": "<Figure size 432x288 with 1 Axes>",
      "image/svg+xml": "<?xml version=\"1.0\" encoding=\"utf-8\" standalone=\"no\"?>\r\n<!DOCTYPE svg PUBLIC \"-//W3C//DTD SVG 1.1//EN\"\r\n  \"http://www.w3.org/Graphics/SVG/1.1/DTD/svg11.dtd\">\r\n<!-- Created with matplotlib (https://matplotlib.org/) -->\r\n<svg height=\"248.518125pt\" version=\"1.1\" viewBox=\"0 0 368.925 248.518125\" width=\"368.925pt\" xmlns=\"http://www.w3.org/2000/svg\" xmlns:xlink=\"http://www.w3.org/1999/xlink\">\r\n <metadata>\r\n  <rdf:RDF xmlns:cc=\"http://creativecommons.org/ns#\" xmlns:dc=\"http://purl.org/dc/elements/1.1/\" xmlns:rdf=\"http://www.w3.org/1999/02/22-rdf-syntax-ns#\">\r\n   <cc:Work>\r\n    <dc:type rdf:resource=\"http://purl.org/dc/dcmitype/StillImage\"/>\r\n    <dc:date>2021-03-12T12:08:03.140728</dc:date>\r\n    <dc:format>image/svg+xml</dc:format>\r\n    <dc:creator>\r\n     <cc:Agent>\r\n      <dc:title>Matplotlib v3.3.4, https://matplotlib.org/</dc:title>\r\n     </cc:Agent>\r\n    </dc:creator>\r\n   </cc:Work>\r\n  </rdf:RDF>\r\n </metadata>\r\n <defs>\r\n  <style type=\"text/css\">*{stroke-linecap:butt;stroke-linejoin:round;}</style>\r\n </defs>\r\n <g id=\"figure_1\">\r\n  <g id=\"patch_1\">\r\n   <path d=\"M -0 248.518125 \r\nL 368.925 248.518125 \r\nL 368.925 0 \r\nL -0 0 \r\nz\r\n\" style=\"fill:none;\"/>\r\n  </g>\r\n  <g id=\"axes_1\">\r\n   <g id=\"patch_2\">\r\n    <path d=\"M 26.925 224.64 \r\nL 361.725 224.64 \r\nL 361.725 7.2 \r\nL 26.925 7.2 \r\nz\r\n\" style=\"fill:#ffffff;\"/>\r\n   </g>\r\n   <g id=\"patch_3\">\r\n    <path clip-path=\"url(#p84803f6ecd)\" d=\"M 42.143182 224.64 \r\nL 66.989193 224.64 \r\nL 66.989193 27.41551 \r\nL 42.143182 27.41551 \r\nz\r\n\" style=\"fill:#0000ff;opacity:0.5;\"/>\r\n   </g>\r\n   <g id=\"patch_4\">\r\n    <path clip-path=\"url(#p84803f6ecd)\" d=\"M 73.200696 224.64 \r\nL 98.046707 224.64 \r\nL 98.046707 200.588233 \r\nL 73.200696 200.588233 \r\nz\r\n\" style=\"fill:#0000ff;opacity:0.5;\"/>\r\n   </g>\r\n   <g id=\"patch_5\">\r\n    <path clip-path=\"url(#p84803f6ecd)\" d=\"M 104.25821 224.64 \r\nL 129.104221 224.64 \r\nL 129.104221 215.019293 \r\nL 104.25821 215.019293 \r\nz\r\n\" style=\"fill:#0000ff;opacity:0.5;\"/>\r\n   </g>\r\n   <g id=\"patch_6\">\r\n    <path clip-path=\"url(#p84803f6ecd)\" d=\"M 135.315724 224.64 \r\nL 160.161735 224.64 \r\nL 160.161735 219.829647 \r\nL 135.315724 219.829647 \r\nz\r\n\" style=\"fill:#0000ff;opacity:0.5;\"/>\r\n   </g>\r\n   <g id=\"patch_7\">\r\n    <path clip-path=\"url(#p84803f6ecd)\" d=\"M 166.373237 224.64 \r\nL 191.219249 224.64 \r\nL 191.219249 224.64 \r\nL 166.373237 224.64 \r\nz\r\n\" style=\"fill:#0000ff;opacity:0.5;\"/>\r\n   </g>\r\n   <g id=\"patch_8\">\r\n    <path clip-path=\"url(#p84803f6ecd)\" d=\"M 197.430751 224.64 \r\nL 222.276763 224.64 \r\nL 222.276763 222.234823 \r\nL 197.430751 222.234823 \r\nz\r\n\" style=\"fill:#0000ff;opacity:0.5;\"/>\r\n   </g>\r\n   <g id=\"patch_9\">\r\n    <path clip-path=\"url(#p84803f6ecd)\" d=\"M 228.488265 224.64 \r\nL 253.334276 224.64 \r\nL 253.334276 224.64 \r\nL 228.488265 224.64 \r\nz\r\n\" style=\"fill:#0000ff;opacity:0.5;\"/>\r\n   </g>\r\n   <g id=\"patch_10\">\r\n    <path clip-path=\"url(#p84803f6ecd)\" d=\"M 259.545779 224.64 \r\nL 284.39179 224.64 \r\nL 284.39179 224.64 \r\nL 259.545779 224.64 \r\nz\r\n\" style=\"fill:#0000ff;opacity:0.5;\"/>\r\n   </g>\r\n   <g id=\"patch_11\">\r\n    <path clip-path=\"url(#p84803f6ecd)\" d=\"M 290.603293 224.64 \r\nL 315.449304 224.64 \r\nL 315.449304 224.64 \r\nL 290.603293 224.64 \r\nz\r\n\" style=\"fill:#0000ff;opacity:0.5;\"/>\r\n   </g>\r\n   <g id=\"patch_12\">\r\n    <path clip-path=\"url(#p84803f6ecd)\" d=\"M 321.660807 224.64 \r\nL 346.506818 224.64 \r\nL 346.506818 222.234823 \r\nL 321.660807 222.234823 \r\nz\r\n\" style=\"fill:#0000ff;opacity:0.5;\"/>\r\n   </g>\r\n   <g id=\"matplotlib.axis_1\">\r\n    <g id=\"xtick_1\">\r\n     <g id=\"line2d_1\">\r\n      <defs>\r\n       <path d=\"M 0 0 \r\nL 0 3.5 \r\n\" id=\"m548e308d92\" style=\"stroke:#000000;stroke-width:0.8;\"/>\r\n      </defs>\r\n      <g>\r\n       <use style=\"stroke:#000000;stroke-width:0.8;\" x=\"36.857956\" xlink:href=\"#m548e308d92\" y=\"224.64\"/>\r\n      </g>\r\n     </g>\r\n     <g id=\"text_1\">\r\n      <!-- 0 -->\r\n      <g transform=\"translate(33.676706 239.238437)scale(0.1 -0.1)\">\r\n       <defs>\r\n        <path d=\"M 31.78125 66.40625 \r\nQ 24.171875 66.40625 20.328125 58.90625 \r\nQ 16.5 51.421875 16.5 36.375 \r\nQ 16.5 21.390625 20.328125 13.890625 \r\nQ 24.171875 6.390625 31.78125 6.390625 \r\nQ 39.453125 6.390625 43.28125 13.890625 \r\nQ 47.125 21.390625 47.125 36.375 \r\nQ 47.125 51.421875 43.28125 58.90625 \r\nQ 39.453125 66.40625 31.78125 66.40625 \r\nz\r\nM 31.78125 74.21875 \r\nQ 44.046875 74.21875 50.515625 64.515625 \r\nQ 56.984375 54.828125 56.984375 36.375 \r\nQ 56.984375 17.96875 50.515625 8.265625 \r\nQ 44.046875 -1.421875 31.78125 -1.421875 \r\nQ 19.53125 -1.421875 13.0625 8.265625 \r\nQ 6.59375 17.96875 6.59375 36.375 \r\nQ 6.59375 54.828125 13.0625 64.515625 \r\nQ 19.53125 74.21875 31.78125 74.21875 \r\nz\r\n\" id=\"DejaVuSans-48\"/>\r\n       </defs>\r\n       <use xlink:href=\"#DejaVuSans-48\"/>\r\n      </g>\r\n     </g>\r\n    </g>\r\n    <g id=\"xtick_2\">\r\n     <g id=\"line2d_2\">\r\n      <g>\r\n       <use style=\"stroke:#000000;stroke-width:0.8;\" x=\"91.344822\" xlink:href=\"#m548e308d92\" y=\"224.64\"/>\r\n      </g>\r\n     </g>\r\n     <g id=\"text_2\">\r\n      <!-- 100 -->\r\n      <g transform=\"translate(81.801072 239.238437)scale(0.1 -0.1)\">\r\n       <defs>\r\n        <path d=\"M 12.40625 8.296875 \r\nL 28.515625 8.296875 \r\nL 28.515625 63.921875 \r\nL 10.984375 60.40625 \r\nL 10.984375 69.390625 \r\nL 28.421875 72.90625 \r\nL 38.28125 72.90625 \r\nL 38.28125 8.296875 \r\nL 54.390625 8.296875 \r\nL 54.390625 0 \r\nL 12.40625 0 \r\nz\r\n\" id=\"DejaVuSans-49\"/>\r\n       </defs>\r\n       <use xlink:href=\"#DejaVuSans-49\"/>\r\n       <use x=\"63.623047\" xlink:href=\"#DejaVuSans-48\"/>\r\n       <use x=\"127.246094\" xlink:href=\"#DejaVuSans-48\"/>\r\n      </g>\r\n     </g>\r\n    </g>\r\n    <g id=\"xtick_3\">\r\n     <g id=\"line2d_3\">\r\n      <g>\r\n       <use style=\"stroke:#000000;stroke-width:0.8;\" x=\"145.831689\" xlink:href=\"#m548e308d92\" y=\"224.64\"/>\r\n      </g>\r\n     </g>\r\n     <g id=\"text_3\">\r\n      <!-- 200 -->\r\n      <g transform=\"translate(136.287939 239.238437)scale(0.1 -0.1)\">\r\n       <defs>\r\n        <path d=\"M 19.1875 8.296875 \r\nL 53.609375 8.296875 \r\nL 53.609375 0 \r\nL 7.328125 0 \r\nL 7.328125 8.296875 \r\nQ 12.9375 14.109375 22.625 23.890625 \r\nQ 32.328125 33.6875 34.8125 36.53125 \r\nQ 39.546875 41.84375 41.421875 45.53125 \r\nQ 43.3125 49.21875 43.3125 52.78125 \r\nQ 43.3125 58.59375 39.234375 62.25 \r\nQ 35.15625 65.921875 28.609375 65.921875 \r\nQ 23.96875 65.921875 18.8125 64.3125 \r\nQ 13.671875 62.703125 7.8125 59.421875 \r\nL 7.8125 69.390625 \r\nQ 13.765625 71.78125 18.9375 73 \r\nQ 24.125 74.21875 28.421875 74.21875 \r\nQ 39.75 74.21875 46.484375 68.546875 \r\nQ 53.21875 62.890625 53.21875 53.421875 \r\nQ 53.21875 48.921875 51.53125 44.890625 \r\nQ 49.859375 40.875 45.40625 35.40625 \r\nQ 44.1875 33.984375 37.640625 27.21875 \r\nQ 31.109375 20.453125 19.1875 8.296875 \r\nz\r\n\" id=\"DejaVuSans-50\"/>\r\n       </defs>\r\n       <use xlink:href=\"#DejaVuSans-50\"/>\r\n       <use x=\"63.623047\" xlink:href=\"#DejaVuSans-48\"/>\r\n       <use x=\"127.246094\" xlink:href=\"#DejaVuSans-48\"/>\r\n      </g>\r\n     </g>\r\n    </g>\r\n    <g id=\"xtick_4\">\r\n     <g id=\"line2d_4\">\r\n      <g>\r\n       <use style=\"stroke:#000000;stroke-width:0.8;\" x=\"200.318555\" xlink:href=\"#m548e308d92\" y=\"224.64\"/>\r\n      </g>\r\n     </g>\r\n     <g id=\"text_4\">\r\n      <!-- 300 -->\r\n      <g transform=\"translate(190.774805 239.238437)scale(0.1 -0.1)\">\r\n       <defs>\r\n        <path d=\"M 40.578125 39.3125 \r\nQ 47.65625 37.796875 51.625 33 \r\nQ 55.609375 28.21875 55.609375 21.1875 \r\nQ 55.609375 10.40625 48.1875 4.484375 \r\nQ 40.765625 -1.421875 27.09375 -1.421875 \r\nQ 22.515625 -1.421875 17.65625 -0.515625 \r\nQ 12.796875 0.390625 7.625 2.203125 \r\nL 7.625 11.71875 \r\nQ 11.71875 9.328125 16.59375 8.109375 \r\nQ 21.484375 6.890625 26.8125 6.890625 \r\nQ 36.078125 6.890625 40.9375 10.546875 \r\nQ 45.796875 14.203125 45.796875 21.1875 \r\nQ 45.796875 27.640625 41.28125 31.265625 \r\nQ 36.765625 34.90625 28.71875 34.90625 \r\nL 20.21875 34.90625 \r\nL 20.21875 43.015625 \r\nL 29.109375 43.015625 \r\nQ 36.375 43.015625 40.234375 45.921875 \r\nQ 44.09375 48.828125 44.09375 54.296875 \r\nQ 44.09375 59.90625 40.109375 62.90625 \r\nQ 36.140625 65.921875 28.71875 65.921875 \r\nQ 24.65625 65.921875 20.015625 65.03125 \r\nQ 15.375 64.15625 9.8125 62.3125 \r\nL 9.8125 71.09375 \r\nQ 15.4375 72.65625 20.34375 73.4375 \r\nQ 25.25 74.21875 29.59375 74.21875 \r\nQ 40.828125 74.21875 47.359375 69.109375 \r\nQ 53.90625 64.015625 53.90625 55.328125 \r\nQ 53.90625 49.265625 50.4375 45.09375 \r\nQ 46.96875 40.921875 40.578125 39.3125 \r\nz\r\n\" id=\"DejaVuSans-51\"/>\r\n       </defs>\r\n       <use xlink:href=\"#DejaVuSans-51\"/>\r\n       <use x=\"63.623047\" xlink:href=\"#DejaVuSans-48\"/>\r\n       <use x=\"127.246094\" xlink:href=\"#DejaVuSans-48\"/>\r\n      </g>\r\n     </g>\r\n    </g>\r\n    <g id=\"xtick_5\">\r\n     <g id=\"line2d_5\">\r\n      <g>\r\n       <use style=\"stroke:#000000;stroke-width:0.8;\" x=\"254.805422\" xlink:href=\"#m548e308d92\" y=\"224.64\"/>\r\n      </g>\r\n     </g>\r\n     <g id=\"text_5\">\r\n      <!-- 400 -->\r\n      <g transform=\"translate(245.261672 239.238437)scale(0.1 -0.1)\">\r\n       <defs>\r\n        <path d=\"M 37.796875 64.3125 \r\nL 12.890625 25.390625 \r\nL 37.796875 25.390625 \r\nz\r\nM 35.203125 72.90625 \r\nL 47.609375 72.90625 \r\nL 47.609375 25.390625 \r\nL 58.015625 25.390625 \r\nL 58.015625 17.1875 \r\nL 47.609375 17.1875 \r\nL 47.609375 0 \r\nL 37.796875 0 \r\nL 37.796875 17.1875 \r\nL 4.890625 17.1875 \r\nL 4.890625 26.703125 \r\nz\r\n\" id=\"DejaVuSans-52\"/>\r\n       </defs>\r\n       <use xlink:href=\"#DejaVuSans-52\"/>\r\n       <use x=\"63.623047\" xlink:href=\"#DejaVuSans-48\"/>\r\n       <use x=\"127.246094\" xlink:href=\"#DejaVuSans-48\"/>\r\n      </g>\r\n     </g>\r\n    </g>\r\n    <g id=\"xtick_6\">\r\n     <g id=\"line2d_6\">\r\n      <g>\r\n       <use style=\"stroke:#000000;stroke-width:0.8;\" x=\"309.292288\" xlink:href=\"#m548e308d92\" y=\"224.64\"/>\r\n      </g>\r\n     </g>\r\n     <g id=\"text_6\">\r\n      <!-- 500 -->\r\n      <g transform=\"translate(299.748538 239.238437)scale(0.1 -0.1)\">\r\n       <defs>\r\n        <path d=\"M 10.796875 72.90625 \r\nL 49.515625 72.90625 \r\nL 49.515625 64.59375 \r\nL 19.828125 64.59375 \r\nL 19.828125 46.734375 \r\nQ 21.96875 47.46875 24.109375 47.828125 \r\nQ 26.265625 48.1875 28.421875 48.1875 \r\nQ 40.625 48.1875 47.75 41.5 \r\nQ 54.890625 34.8125 54.890625 23.390625 \r\nQ 54.890625 11.625 47.5625 5.09375 \r\nQ 40.234375 -1.421875 26.90625 -1.421875 \r\nQ 22.3125 -1.421875 17.546875 -0.640625 \r\nQ 12.796875 0.140625 7.71875 1.703125 \r\nL 7.71875 11.625 \r\nQ 12.109375 9.234375 16.796875 8.0625 \r\nQ 21.484375 6.890625 26.703125 6.890625 \r\nQ 35.15625 6.890625 40.078125 11.328125 \r\nQ 45.015625 15.765625 45.015625 23.390625 \r\nQ 45.015625 31 40.078125 35.4375 \r\nQ 35.15625 39.890625 26.703125 39.890625 \r\nQ 22.75 39.890625 18.8125 39.015625 \r\nQ 14.890625 38.140625 10.796875 36.28125 \r\nz\r\n\" id=\"DejaVuSans-53\"/>\r\n       </defs>\r\n       <use xlink:href=\"#DejaVuSans-53\"/>\r\n       <use x=\"63.623047\" xlink:href=\"#DejaVuSans-48\"/>\r\n       <use x=\"127.246094\" xlink:href=\"#DejaVuSans-48\"/>\r\n      </g>\r\n     </g>\r\n    </g>\r\n   </g>\r\n   <g id=\"matplotlib.axis_2\">\r\n    <g id=\"ytick_1\">\r\n     <g id=\"line2d_7\">\r\n      <defs>\r\n       <path d=\"M 0 0 \r\nL -3.5 0 \r\n\" id=\"m140bcb124a\" style=\"stroke:#000000;stroke-width:0.8;\"/>\r\n      </defs>\r\n      <g>\r\n       <use style=\"stroke:#000000;stroke-width:0.8;\" x=\"26.925\" xlink:href=\"#m140bcb124a\" y=\"224.64\"/>\r\n      </g>\r\n     </g>\r\n     <g id=\"text_7\">\r\n      <!-- 0 -->\r\n      <g transform=\"translate(13.5625 228.439219)scale(0.1 -0.1)\">\r\n       <use xlink:href=\"#DejaVuSans-48\"/>\r\n      </g>\r\n     </g>\r\n    </g>\r\n    <g id=\"ytick_2\">\r\n     <g id=\"line2d_8\">\r\n      <g>\r\n       <use style=\"stroke:#000000;stroke-width:0.8;\" x=\"26.925\" xlink:href=\"#m140bcb124a\" y=\"176.536466\"/>\r\n      </g>\r\n     </g>\r\n     <g id=\"text_8\">\r\n      <!-- 20 -->\r\n      <g transform=\"translate(7.2 180.335685)scale(0.1 -0.1)\">\r\n       <use xlink:href=\"#DejaVuSans-50\"/>\r\n       <use x=\"63.623047\" xlink:href=\"#DejaVuSans-48\"/>\r\n      </g>\r\n     </g>\r\n    </g>\r\n    <g id=\"ytick_3\">\r\n     <g id=\"line2d_9\">\r\n      <g>\r\n       <use style=\"stroke:#000000;stroke-width:0.8;\" x=\"26.925\" xlink:href=\"#m140bcb124a\" y=\"128.432932\"/>\r\n      </g>\r\n     </g>\r\n     <g id=\"text_9\">\r\n      <!-- 40 -->\r\n      <g transform=\"translate(7.2 132.232151)scale(0.1 -0.1)\">\r\n       <use xlink:href=\"#DejaVuSans-52\"/>\r\n       <use x=\"63.623047\" xlink:href=\"#DejaVuSans-48\"/>\r\n      </g>\r\n     </g>\r\n    </g>\r\n    <g id=\"ytick_4\">\r\n     <g id=\"line2d_10\">\r\n      <g>\r\n       <use style=\"stroke:#000000;stroke-width:0.8;\" x=\"26.925\" xlink:href=\"#m140bcb124a\" y=\"80.329398\"/>\r\n      </g>\r\n     </g>\r\n     <g id=\"text_10\">\r\n      <!-- 60 -->\r\n      <g transform=\"translate(7.2 84.128616)scale(0.1 -0.1)\">\r\n       <defs>\r\n        <path d=\"M 33.015625 40.375 \r\nQ 26.375 40.375 22.484375 35.828125 \r\nQ 18.609375 31.296875 18.609375 23.390625 \r\nQ 18.609375 15.53125 22.484375 10.953125 \r\nQ 26.375 6.390625 33.015625 6.390625 \r\nQ 39.65625 6.390625 43.53125 10.953125 \r\nQ 47.40625 15.53125 47.40625 23.390625 \r\nQ 47.40625 31.296875 43.53125 35.828125 \r\nQ 39.65625 40.375 33.015625 40.375 \r\nz\r\nM 52.59375 71.296875 \r\nL 52.59375 62.3125 \r\nQ 48.875 64.0625 45.09375 64.984375 \r\nQ 41.3125 65.921875 37.59375 65.921875 \r\nQ 27.828125 65.921875 22.671875 59.328125 \r\nQ 17.53125 52.734375 16.796875 39.40625 \r\nQ 19.671875 43.65625 24.015625 45.921875 \r\nQ 28.375 48.1875 33.59375 48.1875 \r\nQ 44.578125 48.1875 50.953125 41.515625 \r\nQ 57.328125 34.859375 57.328125 23.390625 \r\nQ 57.328125 12.15625 50.6875 5.359375 \r\nQ 44.046875 -1.421875 33.015625 -1.421875 \r\nQ 20.359375 -1.421875 13.671875 8.265625 \r\nQ 6.984375 17.96875 6.984375 36.375 \r\nQ 6.984375 53.65625 15.1875 63.9375 \r\nQ 23.390625 74.21875 37.203125 74.21875 \r\nQ 40.921875 74.21875 44.703125 73.484375 \r\nQ 48.484375 72.75 52.59375 71.296875 \r\nz\r\n\" id=\"DejaVuSans-54\"/>\r\n       </defs>\r\n       <use xlink:href=\"#DejaVuSans-54\"/>\r\n       <use x=\"63.623047\" xlink:href=\"#DejaVuSans-48\"/>\r\n      </g>\r\n     </g>\r\n    </g>\r\n    <g id=\"ytick_5\">\r\n     <g id=\"line2d_11\">\r\n      <g>\r\n       <use style=\"stroke:#000000;stroke-width:0.8;\" x=\"26.925\" xlink:href=\"#m140bcb124a\" y=\"32.225864\"/>\r\n      </g>\r\n     </g>\r\n     <g id=\"text_11\">\r\n      <!-- 80 -->\r\n      <g transform=\"translate(7.2 36.025082)scale(0.1 -0.1)\">\r\n       <defs>\r\n        <path d=\"M 31.78125 34.625 \r\nQ 24.75 34.625 20.71875 30.859375 \r\nQ 16.703125 27.09375 16.703125 20.515625 \r\nQ 16.703125 13.921875 20.71875 10.15625 \r\nQ 24.75 6.390625 31.78125 6.390625 \r\nQ 38.8125 6.390625 42.859375 10.171875 \r\nQ 46.921875 13.96875 46.921875 20.515625 \r\nQ 46.921875 27.09375 42.890625 30.859375 \r\nQ 38.875 34.625 31.78125 34.625 \r\nz\r\nM 21.921875 38.8125 \r\nQ 15.578125 40.375 12.03125 44.71875 \r\nQ 8.5 49.078125 8.5 55.328125 \r\nQ 8.5 64.0625 14.71875 69.140625 \r\nQ 20.953125 74.21875 31.78125 74.21875 \r\nQ 42.671875 74.21875 48.875 69.140625 \r\nQ 55.078125 64.0625 55.078125 55.328125 \r\nQ 55.078125 49.078125 51.53125 44.71875 \r\nQ 48 40.375 41.703125 38.8125 \r\nQ 48.828125 37.15625 52.796875 32.3125 \r\nQ 56.78125 27.484375 56.78125 20.515625 \r\nQ 56.78125 9.90625 50.3125 4.234375 \r\nQ 43.84375 -1.421875 31.78125 -1.421875 \r\nQ 19.734375 -1.421875 13.25 4.234375 \r\nQ 6.78125 9.90625 6.78125 20.515625 \r\nQ 6.78125 27.484375 10.78125 32.3125 \r\nQ 14.796875 37.15625 21.921875 38.8125 \r\nz\r\nM 18.3125 54.390625 \r\nQ 18.3125 48.734375 21.84375 45.5625 \r\nQ 25.390625 42.390625 31.78125 42.390625 \r\nQ 38.140625 42.390625 41.71875 45.5625 \r\nQ 45.3125 48.734375 45.3125 54.390625 \r\nQ 45.3125 60.0625 41.71875 63.234375 \r\nQ 38.140625 66.40625 31.78125 66.40625 \r\nQ 25.390625 66.40625 21.84375 63.234375 \r\nQ 18.3125 60.0625 18.3125 54.390625 \r\nz\r\n\" id=\"DejaVuSans-56\"/>\r\n       </defs>\r\n       <use xlink:href=\"#DejaVuSans-56\"/>\r\n       <use x=\"63.623047\" xlink:href=\"#DejaVuSans-48\"/>\r\n      </g>\r\n     </g>\r\n    </g>\r\n   </g>\r\n   <g id=\"LineCollection_1\">\r\n    <path clip-path=\"url(#p84803f6ecd)\" d=\"M 62.940819 224.64 \r\nL 62.940819 17.554286 \r\n\" style=\"fill:none;stroke:#ff0000;stroke-width:1.5;\"/>\r\n   </g>\r\n   <g id=\"LineCollection_2\">\r\n    <path clip-path=\"url(#p84803f6ecd)\" d=\"M 51.024541 224.64 \r\nL 51.024541 17.554286 \r\n\" style=\"fill:none;stroke:#008000;stroke-width:1.5;\"/>\r\n   </g>\r\n   <g id=\"patch_13\">\r\n    <path d=\"M 26.925 224.64 \r\nL 26.925 7.2 \r\n\" style=\"fill:none;stroke:#000000;stroke-linecap:square;stroke-linejoin:miter;stroke-width:0.8;\"/>\r\n   </g>\r\n   <g id=\"patch_14\">\r\n    <path d=\"M 361.725 224.64 \r\nL 361.725 7.2 \r\n\" style=\"fill:none;stroke:#000000;stroke-linecap:square;stroke-linejoin:miter;stroke-width:0.8;\"/>\r\n   </g>\r\n   <g id=\"patch_15\">\r\n    <path d=\"M 26.925 224.64 \r\nL 361.725 224.64 \r\n\" style=\"fill:none;stroke:#000000;stroke-linecap:square;stroke-linejoin:miter;stroke-width:0.8;\"/>\r\n   </g>\r\n   <g id=\"patch_16\">\r\n    <path d=\"M 26.925 7.2 \r\nL 361.725 7.2 \r\n\" style=\"fill:none;stroke:#000000;stroke-linecap:square;stroke-linejoin:miter;stroke-width:0.8;\"/>\r\n   </g>\r\n   <g id=\"legend_1\">\r\n    <g id=\"patch_17\">\r\n     <path d=\"M 286.351562 44.55625 \r\nL 354.725 44.55625 \r\nQ 356.725 44.55625 356.725 42.55625 \r\nL 356.725 14.2 \r\nQ 356.725 12.2 354.725 12.2 \r\nL 286.351562 12.2 \r\nQ 284.351562 12.2 284.351562 14.2 \r\nL 284.351562 42.55625 \r\nQ 284.351562 44.55625 286.351562 44.55625 \r\nz\r\n\" style=\"fill:#ffffff;opacity:0.8;stroke:#cccccc;stroke-linejoin:miter;\"/>\r\n    </g>\r\n    <g id=\"line2d_12\">\r\n     <path d=\"M 288.351562 20.298437 \r\nL 308.351562 20.298437 \r\n\" style=\"fill:none;stroke:#ff0000;stroke-width:1.5;\"/>\r\n    </g>\r\n    <g id=\"text_12\">\r\n     <!-- Mean -->\r\n     <g transform=\"translate(316.351562 23.798437)scale(0.1 -0.1)\">\r\n      <defs>\r\n       <path d=\"M 9.8125 72.90625 \r\nL 24.515625 72.90625 \r\nL 43.109375 23.296875 \r\nL 61.8125 72.90625 \r\nL 76.515625 72.90625 \r\nL 76.515625 0 \r\nL 66.890625 0 \r\nL 66.890625 64.015625 \r\nL 48.09375 14.015625 \r\nL 38.1875 14.015625 \r\nL 19.390625 64.015625 \r\nL 19.390625 0 \r\nL 9.8125 0 \r\nz\r\n\" id=\"DejaVuSans-77\"/>\r\n       <path d=\"M 56.203125 29.59375 \r\nL 56.203125 25.203125 \r\nL 14.890625 25.203125 \r\nQ 15.484375 15.921875 20.484375 11.0625 \r\nQ 25.484375 6.203125 34.421875 6.203125 \r\nQ 39.59375 6.203125 44.453125 7.46875 \r\nQ 49.3125 8.734375 54.109375 11.28125 \r\nL 54.109375 2.78125 \r\nQ 49.265625 0.734375 44.1875 -0.34375 \r\nQ 39.109375 -1.421875 33.890625 -1.421875 \r\nQ 20.796875 -1.421875 13.15625 6.1875 \r\nQ 5.515625 13.8125 5.515625 26.8125 \r\nQ 5.515625 40.234375 12.765625 48.109375 \r\nQ 20.015625 56 32.328125 56 \r\nQ 43.359375 56 49.78125 48.890625 \r\nQ 56.203125 41.796875 56.203125 29.59375 \r\nz\r\nM 47.21875 32.234375 \r\nQ 47.125 39.59375 43.09375 43.984375 \r\nQ 39.0625 48.390625 32.421875 48.390625 \r\nQ 24.90625 48.390625 20.390625 44.140625 \r\nQ 15.875 39.890625 15.1875 32.171875 \r\nz\r\n\" id=\"DejaVuSans-101\"/>\r\n       <path d=\"M 34.28125 27.484375 \r\nQ 23.390625 27.484375 19.1875 25 \r\nQ 14.984375 22.515625 14.984375 16.5 \r\nQ 14.984375 11.71875 18.140625 8.90625 \r\nQ 21.296875 6.109375 26.703125 6.109375 \r\nQ 34.1875 6.109375 38.703125 11.40625 \r\nQ 43.21875 16.703125 43.21875 25.484375 \r\nL 43.21875 27.484375 \r\nz\r\nM 52.203125 31.203125 \r\nL 52.203125 0 \r\nL 43.21875 0 \r\nL 43.21875 8.296875 \r\nQ 40.140625 3.328125 35.546875 0.953125 \r\nQ 30.953125 -1.421875 24.3125 -1.421875 \r\nQ 15.921875 -1.421875 10.953125 3.296875 \r\nQ 6 8.015625 6 15.921875 \r\nQ 6 25.140625 12.171875 29.828125 \r\nQ 18.359375 34.515625 30.609375 34.515625 \r\nL 43.21875 34.515625 \r\nL 43.21875 35.40625 \r\nQ 43.21875 41.609375 39.140625 45 \r\nQ 35.0625 48.390625 27.6875 48.390625 \r\nQ 23 48.390625 18.546875 47.265625 \r\nQ 14.109375 46.140625 10.015625 43.890625 \r\nL 10.015625 52.203125 \r\nQ 14.9375 54.109375 19.578125 55.046875 \r\nQ 24.21875 56 28.609375 56 \r\nQ 40.484375 56 46.34375 49.84375 \r\nQ 52.203125 43.703125 52.203125 31.203125 \r\nz\r\n\" id=\"DejaVuSans-97\"/>\r\n       <path d=\"M 54.890625 33.015625 \r\nL 54.890625 0 \r\nL 45.90625 0 \r\nL 45.90625 32.71875 \r\nQ 45.90625 40.484375 42.875 44.328125 \r\nQ 39.84375 48.1875 33.796875 48.1875 \r\nQ 26.515625 48.1875 22.3125 43.546875 \r\nQ 18.109375 38.921875 18.109375 30.90625 \r\nL 18.109375 0 \r\nL 9.078125 0 \r\nL 9.078125 54.6875 \r\nL 18.109375 54.6875 \r\nL 18.109375 46.1875 \r\nQ 21.34375 51.125 25.703125 53.5625 \r\nQ 30.078125 56 35.796875 56 \r\nQ 45.21875 56 50.046875 50.171875 \r\nQ 54.890625 44.34375 54.890625 33.015625 \r\nz\r\n\" id=\"DejaVuSans-110\"/>\r\n      </defs>\r\n      <use xlink:href=\"#DejaVuSans-77\"/>\r\n      <use x=\"86.279297\" xlink:href=\"#DejaVuSans-101\"/>\r\n      <use x=\"147.802734\" xlink:href=\"#DejaVuSans-97\"/>\r\n      <use x=\"209.082031\" xlink:href=\"#DejaVuSans-110\"/>\r\n     </g>\r\n    </g>\r\n    <g id=\"line2d_13\">\r\n     <path d=\"M 288.351562 34.976562 \r\nL 308.351562 34.976562 \r\n\" style=\"fill:none;stroke:#008000;stroke-width:1.5;\"/>\r\n    </g>\r\n    <g id=\"text_13\">\r\n     <!-- Median -->\r\n     <g transform=\"translate(316.351562 38.476562)scale(0.1 -0.1)\">\r\n      <defs>\r\n       <path d=\"M 45.40625 46.390625 \r\nL 45.40625 75.984375 \r\nL 54.390625 75.984375 \r\nL 54.390625 0 \r\nL 45.40625 0 \r\nL 45.40625 8.203125 \r\nQ 42.578125 3.328125 38.25 0.953125 \r\nQ 33.9375 -1.421875 27.875 -1.421875 \r\nQ 17.96875 -1.421875 11.734375 6.484375 \r\nQ 5.515625 14.40625 5.515625 27.296875 \r\nQ 5.515625 40.1875 11.734375 48.09375 \r\nQ 17.96875 56 27.875 56 \r\nQ 33.9375 56 38.25 53.625 \r\nQ 42.578125 51.265625 45.40625 46.390625 \r\nz\r\nM 14.796875 27.296875 \r\nQ 14.796875 17.390625 18.875 11.75 \r\nQ 22.953125 6.109375 30.078125 6.109375 \r\nQ 37.203125 6.109375 41.296875 11.75 \r\nQ 45.40625 17.390625 45.40625 27.296875 \r\nQ 45.40625 37.203125 41.296875 42.84375 \r\nQ 37.203125 48.484375 30.078125 48.484375 \r\nQ 22.953125 48.484375 18.875 42.84375 \r\nQ 14.796875 37.203125 14.796875 27.296875 \r\nz\r\n\" id=\"DejaVuSans-100\"/>\r\n       <path d=\"M 9.421875 54.6875 \r\nL 18.40625 54.6875 \r\nL 18.40625 0 \r\nL 9.421875 0 \r\nz\r\nM 9.421875 75.984375 \r\nL 18.40625 75.984375 \r\nL 18.40625 64.59375 \r\nL 9.421875 64.59375 \r\nz\r\n\" id=\"DejaVuSans-105\"/>\r\n      </defs>\r\n      <use xlink:href=\"#DejaVuSans-77\"/>\r\n      <use x=\"86.279297\" xlink:href=\"#DejaVuSans-101\"/>\r\n      <use x=\"147.802734\" xlink:href=\"#DejaVuSans-100\"/>\r\n      <use x=\"211.279297\" xlink:href=\"#DejaVuSans-105\"/>\r\n      <use x=\"239.0625\" xlink:href=\"#DejaVuSans-97\"/>\r\n      <use x=\"300.341797\" xlink:href=\"#DejaVuSans-110\"/>\r\n     </g>\r\n    </g>\r\n   </g>\r\n  </g>\r\n </g>\r\n <defs>\r\n  <clipPath id=\"p84803f6ecd\">\r\n   <rect height=\"217.44\" width=\"334.8\" x=\"26.925\" y=\"7.2\"/>\r\n  </clipPath>\r\n </defs>\r\n</svg>\r\n",
      "image/png": "[encoded data removed]"
     },
     "metadata": {
      "needs_background": "light"
     }
    },
    {
     "output_type": "stream",
     "name": "stdout",
     "text": [
      "Simulations =  100\nMean time to discovery of C1/C2 =  47.87 rounds\nMedian time to discovery of C1/C2 =  26.0 rounds\n"
     ]
    }
   ],
   "source": [
    "import networkx as nx\n",
    "import random as rd\n",
    "import numpy as np\n",
    "import matplotlib.pyplot as plt\n",
    "import matplotlib\n",
    "\n",
    "sims = 100\n",
    "sim_duration = [] # to store each simulation duration \n",
    "\n",
    "# beginning of simulations\n",
    "for i in range(sims):\n",
    "    G_closekin = nx.Graph() # creates a new empty network\n",
    "    for i, j in G.edges:\n",
    "        if G[i][j]['kin'] == 1: # if (i, j) dyad in G is kin = 1\n",
    "            G_closekin.add_edge(i, j) # add that edge to new network\n",
    "            G_closekin[i][j]['weight'] = G[i][j]['weight'] # add weight from G to new network \n",
    "\n",
    "    for node in G: \n",
    "        if node not in G_closekin:\n",
    "            G_closekin.add_node(node)\n",
    "\n",
    "    matrix_node_tools=[[0]*6 + [-1]*8 for i in range (len(G))]\n",
    "    fitness_values = [6, 8, 10, 6, 8, 10, 30, 30, 60, 60, 120, 120, 300, 300] # each column has a value\n",
    "    innovations_dict = {(0, 1, 2): 6, \n",
    "                 (3, 4, 5): 7,\n",
    "                 (0, 4, 6): 8,\n",
    "                 (1, 2, 7): 9,\n",
    "                 (4, 5, 8): 10,\n",
    "                 (1, 3, 9): 11,\n",
    "                 (8, 10, 11): 12,\n",
    "                 (9, 10, 11): 13}\n",
    "\n",
    "    periods=10000\n",
    "    stop_sim=0   \n",
    "    for epoch in range(periods):\n",
    "        random_node_list = rd.sample(range(len(G)), len(G))\n",
    "        for node in random_node_list:\n",
    "            neighbour_list = []\n",
    "            for neighbour in G[node]:\n",
    "                for times in range(int(G[node][neighbour]['weight'])):\n",
    "                    neighbour_list.append(neighbour)\n",
    "            selected_neighbour = rd.choice(neighbour_list)\n",
    "\n",
    "            ingredients_node=np.where(np.array(matrix_node_tools[node])>-1)[0] \n",
    "            ingredients_neighbour=np.where(np.array(matrix_node_tools[selected_neighbour])>-1)[0]\n",
    "\n",
    "            node_tools=[]\n",
    "            for tool in ingredients_node:\n",
    "                for times in range(fitness_values[tool]):\n",
    "                    node_tools.append(tool)\n",
    "            node_tool_1, node_tool_2 = rd.sample(node_tools, 2)\n",
    "\n",
    "            neighbour_tools=[]\n",
    "            for tool in ingredients_neighbour:\n",
    "                for times in range(fitness_values[tool]):\n",
    "                    neighbour_tools.append(tool)\n",
    "            neighbour_tool = rd.choice(neighbour_tools)\n",
    "\n",
    "            triad = [node_tool_1, node_tool_2, neighbour_tool]\n",
    "            triad = tuple(sorted(triad))\n",
    "            new_tool = innovations_dict.get(triad,-1)\n",
    "\n",
    "            # until here, similar to previous cell  \n",
    "\n",
    "            if new_tool > -1: # if a new drug was created (6, 7 or 8 etc) \n",
    "                # check if node and neighbour already have invented tool \n",
    "                have_new_tool = -1 # we need this later\n",
    "                if matrix_node_tools[node][new_tool] == -1: # if position (i = node, j = new tool) in matrix is absent\n",
    "                    have_new_tool = 1 \n",
    "                    matrix_node_tools[node][new_tool] = epoch + 1 # node gains new tools, replace -1 with round of discovery\n",
    "                    for allneibs in G[node]: # now use matrix G_closekin to identify all close kin of node \n",
    "                        matrix_node_tools[allneibs][new_tool] = epoch + 1 # tranmits new tool to all kin\n",
    "\n",
    "                if matrix_node_tools[selected_neighbour][new_tool] == -1: #check if selected neighbour has tool\n",
    "                    have_new_tool = 1 \n",
    "                    matrix_node_tools[selected_neighbour][new_tool]= epoch + 1 # neighbours gains new tool\n",
    "                    for allneibneibs in G[selected_neighbour]:\n",
    "                        matrix_node_tools[allneibneibs][new_tool] = epoch+ 1\n",
    "\n",
    "                if have_new_tool == 1: #if either node or neighbour received the new tool\n",
    "                    #print(new_tool, epoch + 1, node, selected_neighbour)\n",
    "                    if new_tool in [12,13]: # BUT if the new tool is a superdrug C1=12 or C2=13\n",
    "                        stop_sim=1 # simulations ends\n",
    "                        sim_duration.append(epoch + 1)                        \n",
    "            if stop_sim==1:\n",
    "                break\n",
    "        if stop_sim==1:\n",
    "            break\n",
    "\n",
    "mean2 = np.mean(sim_duration)\n",
    "median2 = np.median(sim_duration)\n",
    "simduration2 = sim_duration\n",
    "plt.hist(sim_duration, facecolor='b', alpha=.5, rwidth=.8)\n",
    "ymin, ymax = plt.gca().get_ylim()\n",
    "plt.vlines(mean2, colors = 'r', ymin = ymin, ymax = ymax, label = 'Mean')\n",
    "plt.vlines(median2, colors = 'g', ymin = ymin, ymax = ymax, label = 'Median')\n",
    "plt.gca().legend()\n",
    "plt.show()\n",
    "print(\"Simulations = \", sims)\n",
    "print(\"Mean time to discovery of C1/C2 = \", mean2, \"rounds\")\n",
    "print(\"Median time to discovery of C1/C2 = \", median2, \"rounds\")"
   ]
  },
  {
   "cell_type": "markdown",
   "metadata": {},
   "source": [
    "## Exercise 2\n",
    "Modify code so that instead of the Agta network, you play the game with a *complete* or fully connected network of the same size. <br>\n",
    "Notes: <br>\n",
    "* to create a complete graph of size n, use:  C = nx.complete_graph(53) (default is undirected) <br>\n",
    "* you have to remove selection based on weights of links, since the complete graph has no weigths. Select neighbour randomly."
   ]
  },
  {
   "cell_type": "code",
   "execution_count": 124,
   "metadata": {},
   "outputs": [
    {
     "output_type": "display_data",
     "data": {
      "text/plain": "<Figure size 432x288 with 1 Axes>",
      "image/svg+xml": "<?xml version=\"1.0\" encoding=\"utf-8\" standalone=\"no\"?>\r\n<!DOCTYPE svg PUBLIC \"-//W3C//DTD SVG 1.1//EN\"\r\n  \"http://www.w3.org/Graphics/SVG/1.1/DTD/svg11.dtd\">\r\n<!-- Created with matplotlib (https://matplotlib.org/) -->\r\n<svg height=\"249.251789pt\" version=\"1.1\" viewBox=\"0 0 368.925 249.251789\" width=\"368.925pt\" xmlns=\"http://www.w3.org/2000/svg\" xmlns:xlink=\"http://www.w3.org/1999/xlink\">\r\n <metadata>\r\n  <rdf:RDF xmlns:cc=\"http://creativecommons.org/ns#\" xmlns:dc=\"http://purl.org/dc/elements/1.1/\" xmlns:rdf=\"http://www.w3.org/1999/02/22-rdf-syntax-ns#\">\r\n   <cc:Work>\r\n    <dc:type rdf:resource=\"http://purl.org/dc/dcmitype/StillImage\"/>\r\n    <dc:date>2021-03-12T12:08:55.075074</dc:date>\r\n    <dc:format>image/svg+xml</dc:format>\r\n    <dc:creator>\r\n     <cc:Agent>\r\n      <dc:title>Matplotlib v3.3.4, https://matplotlib.org/</dc:title>\r\n     </cc:Agent>\r\n    </dc:creator>\r\n   </cc:Work>\r\n  </rdf:RDF>\r\n </metadata>\r\n <defs>\r\n  <style type=\"text/css\">*{stroke-linecap:butt;stroke-linejoin:round;}</style>\r\n </defs>\r\n <g id=\"figure_1\">\r\n  <g id=\"patch_1\">\r\n   <path d=\"M -0 249.251789 \r\nL 368.925 249.251789 \r\nL 368.925 0 \r\nL -0 0 \r\nz\r\n\" style=\"fill:none;\"/>\r\n  </g>\r\n  <g id=\"axes_1\">\r\n   <g id=\"patch_2\">\r\n    <path d=\"M 26.925 225.373664 \r\nL 361.725 225.373664 \r\nL 361.725 7.933664 \r\nL 26.925 7.933664 \r\nz\r\n\" style=\"fill:#ffffff;\"/>\r\n   </g>\r\n   <g id=\"patch_3\">\r\n    <path clip-path=\"url(#pad697141e7)\" d=\"M 42.143182 225.373664 \r\nL 66.989193 225.373664 \r\nL 66.989193 88.174019 \r\nL 42.143182 88.174019 \r\nz\r\n\" style=\"fill:#0000ff;opacity:0.5;\"/>\r\n   </g>\r\n   <g id=\"patch_4\">\r\n    <path clip-path=\"url(#pad697141e7)\" d=\"M 73.200696 225.373664 \r\nL 98.046707 225.373664 \r\nL 98.046707 28.149174 \r\nL 73.200696 28.149174 \r\nz\r\n\" style=\"fill:#0000ff;opacity:0.5;\"/>\r\n   </g>\r\n   <g id=\"patch_5\">\r\n    <path clip-path=\"url(#pad697141e7)\" d=\"M 104.25821 225.373664 \r\nL 129.104221 225.373664 \r\nL 129.104221 36.724152 \r\nL 104.25821 36.724152 \r\nz\r\n\" style=\"fill:#0000ff;opacity:0.5;\"/>\r\n   </g>\r\n   <g id=\"patch_6\">\r\n    <path clip-path=\"url(#pad697141e7)\" d=\"M 135.315724 225.373664 \r\nL 160.161735 225.373664 \r\nL 160.161735 88.174019 \r\nL 135.315724 88.174019 \r\nz\r\n\" style=\"fill:#0000ff;opacity:0.5;\"/>\r\n   </g>\r\n   <g id=\"patch_7\">\r\n    <path clip-path=\"url(#pad697141e7)\" d=\"M 166.373237 225.373664 \r\nL 191.219249 225.373664 \r\nL 191.219249 131.048908 \r\nL 166.373237 131.048908 \r\nz\r\n\" style=\"fill:#0000ff;opacity:0.5;\"/>\r\n   </g>\r\n   <g id=\"patch_8\">\r\n    <path clip-path=\"url(#pad697141e7)\" d=\"M 197.430751 225.373664 \r\nL 222.276763 225.373664 \r\nL 222.276763 156.773842 \r\nL 197.430751 156.773842 \r\nz\r\n\" style=\"fill:#0000ff;opacity:0.5;\"/>\r\n   </g>\r\n   <g id=\"patch_9\">\r\n    <path clip-path=\"url(#pad697141e7)\" d=\"M 228.488265 225.373664 \r\nL 253.334276 225.373664 \r\nL 253.334276 216.798686 \r\nL 228.488265 216.798686 \r\nz\r\n\" style=\"fill:#0000ff;opacity:0.5;\"/>\r\n   </g>\r\n   <g id=\"patch_10\">\r\n    <path clip-path=\"url(#pad697141e7)\" d=\"M 259.545779 225.373664 \r\nL 284.39179 225.373664 \r\nL 284.39179 216.798686 \r\nL 259.545779 216.798686 \r\nz\r\n\" style=\"fill:#0000ff;opacity:0.5;\"/>\r\n   </g>\r\n   <g id=\"patch_11\">\r\n    <path clip-path=\"url(#pad697141e7)\" d=\"M 290.603293 225.373664 \r\nL 315.449304 225.373664 \r\nL 315.449304 225.373664 \r\nL 290.603293 225.373664 \r\nz\r\n\" style=\"fill:#0000ff;opacity:0.5;\"/>\r\n   </g>\r\n   <g id=\"patch_12\">\r\n    <path clip-path=\"url(#pad697141e7)\" d=\"M 321.660807 225.373664 \r\nL 346.506818 225.373664 \r\nL 346.506818 208.223709 \r\nL 321.660807 208.223709 \r\nz\r\n\" style=\"fill:#0000ff;opacity:0.5;\"/>\r\n   </g>\r\n   <g id=\"matplotlib.axis_1\">\r\n    <g id=\"xtick_1\">\r\n     <g id=\"line2d_1\">\r\n      <defs>\r\n       <path d=\"M 0 0 \r\nL 0 3.5 \r\n\" id=\"mf81c8a3f02\" style=\"stroke:#000000;stroke-width:0.8;\"/>\r\n      </defs>\r\n      <g>\r\n       <use style=\"stroke:#000000;stroke-width:0.8;\" x=\"29.964449\" xlink:href=\"#mf81c8a3f02\" y=\"225.373664\"/>\r\n      </g>\r\n     </g>\r\n     <g id=\"text_1\">\r\n      <!-- 0 -->\r\n      <g transform=\"translate(26.783199 239.972102)scale(0.1 -0.1)\">\r\n       <defs>\r\n        <path d=\"M 31.78125 66.40625 \r\nQ 24.171875 66.40625 20.328125 58.90625 \r\nQ 16.5 51.421875 16.5 36.375 \r\nQ 16.5 21.390625 20.328125 13.890625 \r\nQ 24.171875 6.390625 31.78125 6.390625 \r\nQ 39.453125 6.390625 43.28125 13.890625 \r\nQ 47.125 21.390625 47.125 36.375 \r\nQ 47.125 51.421875 43.28125 58.90625 \r\nQ 39.453125 66.40625 31.78125 66.40625 \r\nz\r\nM 31.78125 74.21875 \r\nQ 44.046875 74.21875 50.515625 64.515625 \r\nQ 56.984375 54.828125 56.984375 36.375 \r\nQ 56.984375 17.96875 50.515625 8.265625 \r\nQ 44.046875 -1.421875 31.78125 -1.421875 \r\nQ 19.53125 -1.421875 13.0625 8.265625 \r\nQ 6.59375 17.96875 6.59375 36.375 \r\nQ 6.59375 54.828125 13.0625 64.515625 \r\nQ 19.53125 74.21875 31.78125 74.21875 \r\nz\r\n\" id=\"DejaVuSans-48\"/>\r\n       </defs>\r\n       <use xlink:href=\"#DejaVuSans-48\"/>\r\n      </g>\r\n     </g>\r\n    </g>\r\n    <g id=\"xtick_2\">\r\n     <g id=\"line2d_2\">\r\n      <g>\r\n       <use style=\"stroke:#000000;stroke-width:0.8;\" x=\"99.756615\" xlink:href=\"#mf81c8a3f02\" y=\"225.373664\"/>\r\n      </g>\r\n     </g>\r\n     <g id=\"text_2\">\r\n      <!-- 100 -->\r\n      <g transform=\"translate(90.212865 239.972102)scale(0.1 -0.1)\">\r\n       <defs>\r\n        <path d=\"M 12.40625 8.296875 \r\nL 28.515625 8.296875 \r\nL 28.515625 63.921875 \r\nL 10.984375 60.40625 \r\nL 10.984375 69.390625 \r\nL 28.421875 72.90625 \r\nL 38.28125 72.90625 \r\nL 38.28125 8.296875 \r\nL 54.390625 8.296875 \r\nL 54.390625 0 \r\nL 12.40625 0 \r\nz\r\n\" id=\"DejaVuSans-49\"/>\r\n       </defs>\r\n       <use xlink:href=\"#DejaVuSans-49\"/>\r\n       <use x=\"63.623047\" xlink:href=\"#DejaVuSans-48\"/>\r\n       <use x=\"127.246094\" xlink:href=\"#DejaVuSans-48\"/>\r\n      </g>\r\n     </g>\r\n    </g>\r\n    <g id=\"xtick_3\">\r\n     <g id=\"line2d_3\">\r\n      <g>\r\n       <use style=\"stroke:#000000;stroke-width:0.8;\" x=\"169.548781\" xlink:href=\"#mf81c8a3f02\" y=\"225.373664\"/>\r\n      </g>\r\n     </g>\r\n     <g id=\"text_3\">\r\n      <!-- 200 -->\r\n      <g transform=\"translate(160.005031 239.972102)scale(0.1 -0.1)\">\r\n       <defs>\r\n        <path d=\"M 19.1875 8.296875 \r\nL 53.609375 8.296875 \r\nL 53.609375 0 \r\nL 7.328125 0 \r\nL 7.328125 8.296875 \r\nQ 12.9375 14.109375 22.625 23.890625 \r\nQ 32.328125 33.6875 34.8125 36.53125 \r\nQ 39.546875 41.84375 41.421875 45.53125 \r\nQ 43.3125 49.21875 43.3125 52.78125 \r\nQ 43.3125 58.59375 39.234375 62.25 \r\nQ 35.15625 65.921875 28.609375 65.921875 \r\nQ 23.96875 65.921875 18.8125 64.3125 \r\nQ 13.671875 62.703125 7.8125 59.421875 \r\nL 7.8125 69.390625 \r\nQ 13.765625 71.78125 18.9375 73 \r\nQ 24.125 74.21875 28.421875 74.21875 \r\nQ 39.75 74.21875 46.484375 68.546875 \r\nQ 53.21875 62.890625 53.21875 53.421875 \r\nQ 53.21875 48.921875 51.53125 44.890625 \r\nQ 49.859375 40.875 45.40625 35.40625 \r\nQ 44.1875 33.984375 37.640625 27.21875 \r\nQ 31.109375 20.453125 19.1875 8.296875 \r\nz\r\n\" id=\"DejaVuSans-50\"/>\r\n       </defs>\r\n       <use xlink:href=\"#DejaVuSans-50\"/>\r\n       <use x=\"63.623047\" xlink:href=\"#DejaVuSans-48\"/>\r\n       <use x=\"127.246094\" xlink:href=\"#DejaVuSans-48\"/>\r\n      </g>\r\n     </g>\r\n    </g>\r\n    <g id=\"xtick_4\">\r\n     <g id=\"line2d_4\">\r\n      <g>\r\n       <use style=\"stroke:#000000;stroke-width:0.8;\" x=\"239.340947\" xlink:href=\"#mf81c8a3f02\" y=\"225.373664\"/>\r\n      </g>\r\n     </g>\r\n     <g id=\"text_4\">\r\n      <!-- 300 -->\r\n      <g transform=\"translate(229.797197 239.972102)scale(0.1 -0.1)\">\r\n       <defs>\r\n        <path d=\"M 40.578125 39.3125 \r\nQ 47.65625 37.796875 51.625 33 \r\nQ 55.609375 28.21875 55.609375 21.1875 \r\nQ 55.609375 10.40625 48.1875 4.484375 \r\nQ 40.765625 -1.421875 27.09375 -1.421875 \r\nQ 22.515625 -1.421875 17.65625 -0.515625 \r\nQ 12.796875 0.390625 7.625 2.203125 \r\nL 7.625 11.71875 \r\nQ 11.71875 9.328125 16.59375 8.109375 \r\nQ 21.484375 6.890625 26.8125 6.890625 \r\nQ 36.078125 6.890625 40.9375 10.546875 \r\nQ 45.796875 14.203125 45.796875 21.1875 \r\nQ 45.796875 27.640625 41.28125 31.265625 \r\nQ 36.765625 34.90625 28.71875 34.90625 \r\nL 20.21875 34.90625 \r\nL 20.21875 43.015625 \r\nL 29.109375 43.015625 \r\nQ 36.375 43.015625 40.234375 45.921875 \r\nQ 44.09375 48.828125 44.09375 54.296875 \r\nQ 44.09375 59.90625 40.109375 62.90625 \r\nQ 36.140625 65.921875 28.71875 65.921875 \r\nQ 24.65625 65.921875 20.015625 65.03125 \r\nQ 15.375 64.15625 9.8125 62.3125 \r\nL 9.8125 71.09375 \r\nQ 15.4375 72.65625 20.34375 73.4375 \r\nQ 25.25 74.21875 29.59375 74.21875 \r\nQ 40.828125 74.21875 47.359375 69.109375 \r\nQ 53.90625 64.015625 53.90625 55.328125 \r\nQ 53.90625 49.265625 50.4375 45.09375 \r\nQ 46.96875 40.921875 40.578125 39.3125 \r\nz\r\n\" id=\"DejaVuSans-51\"/>\r\n       </defs>\r\n       <use xlink:href=\"#DejaVuSans-51\"/>\r\n       <use x=\"63.623047\" xlink:href=\"#DejaVuSans-48\"/>\r\n       <use x=\"127.246094\" xlink:href=\"#DejaVuSans-48\"/>\r\n      </g>\r\n     </g>\r\n    </g>\r\n    <g id=\"xtick_5\">\r\n     <g id=\"line2d_5\">\r\n      <g>\r\n       <use style=\"stroke:#000000;stroke-width:0.8;\" x=\"309.133113\" xlink:href=\"#mf81c8a3f02\" y=\"225.373664\"/>\r\n      </g>\r\n     </g>\r\n     <g id=\"text_5\">\r\n      <!-- 400 -->\r\n      <g transform=\"translate(299.589363 239.972102)scale(0.1 -0.1)\">\r\n       <defs>\r\n        <path d=\"M 37.796875 64.3125 \r\nL 12.890625 25.390625 \r\nL 37.796875 25.390625 \r\nz\r\nM 35.203125 72.90625 \r\nL 47.609375 72.90625 \r\nL 47.609375 25.390625 \r\nL 58.015625 25.390625 \r\nL 58.015625 17.1875 \r\nL 47.609375 17.1875 \r\nL 47.609375 0 \r\nL 37.796875 0 \r\nL 37.796875 17.1875 \r\nL 4.890625 17.1875 \r\nL 4.890625 26.703125 \r\nz\r\n\" id=\"DejaVuSans-52\"/>\r\n       </defs>\r\n       <use xlink:href=\"#DejaVuSans-52\"/>\r\n       <use x=\"63.623047\" xlink:href=\"#DejaVuSans-48\"/>\r\n       <use x=\"127.246094\" xlink:href=\"#DejaVuSans-48\"/>\r\n      </g>\r\n     </g>\r\n    </g>\r\n   </g>\r\n   <g id=\"matplotlib.axis_2\">\r\n    <g id=\"ytick_1\">\r\n     <g id=\"line2d_6\">\r\n      <defs>\r\n       <path d=\"M 0 0 \r\nL -3.5 0 \r\n\" id=\"m8b4c8fc043\" style=\"stroke:#000000;stroke-width:0.8;\"/>\r\n      </defs>\r\n      <g>\r\n       <use style=\"stroke:#000000;stroke-width:0.8;\" x=\"26.925\" xlink:href=\"#m8b4c8fc043\" y=\"225.373664\"/>\r\n      </g>\r\n     </g>\r\n     <g id=\"text_6\">\r\n      <!-- 0 -->\r\n      <g transform=\"translate(13.5625 229.172883)scale(0.1 -0.1)\">\r\n       <use xlink:href=\"#DejaVuSans-48\"/>\r\n      </g>\r\n     </g>\r\n    </g>\r\n    <g id=\"ytick_2\">\r\n     <g id=\"line2d_7\">\r\n      <g>\r\n       <use style=\"stroke:#000000;stroke-width:0.8;\" x=\"26.925\" xlink:href=\"#m8b4c8fc043\" y=\"182.498775\"/>\r\n      </g>\r\n     </g>\r\n     <g id=\"text_7\">\r\n      <!-- 5 -->\r\n      <g transform=\"translate(13.5625 186.297994)scale(0.1 -0.1)\">\r\n       <defs>\r\n        <path d=\"M 10.796875 72.90625 \r\nL 49.515625 72.90625 \r\nL 49.515625 64.59375 \r\nL 19.828125 64.59375 \r\nL 19.828125 46.734375 \r\nQ 21.96875 47.46875 24.109375 47.828125 \r\nQ 26.265625 48.1875 28.421875 48.1875 \r\nQ 40.625 48.1875 47.75 41.5 \r\nQ 54.890625 34.8125 54.890625 23.390625 \r\nQ 54.890625 11.625 47.5625 5.09375 \r\nQ 40.234375 -1.421875 26.90625 -1.421875 \r\nQ 22.3125 -1.421875 17.546875 -0.640625 \r\nQ 12.796875 0.140625 7.71875 1.703125 \r\nL 7.71875 11.625 \r\nQ 12.109375 9.234375 16.796875 8.0625 \r\nQ 21.484375 6.890625 26.703125 6.890625 \r\nQ 35.15625 6.890625 40.078125 11.328125 \r\nQ 45.015625 15.765625 45.015625 23.390625 \r\nQ 45.015625 31 40.078125 35.4375 \r\nQ 35.15625 39.890625 26.703125 39.890625 \r\nQ 22.75 39.890625 18.8125 39.015625 \r\nQ 14.890625 38.140625 10.796875 36.28125 \r\nz\r\n\" id=\"DejaVuSans-53\"/>\r\n       </defs>\r\n       <use xlink:href=\"#DejaVuSans-53\"/>\r\n      </g>\r\n     </g>\r\n    </g>\r\n    <g id=\"ytick_3\">\r\n     <g id=\"line2d_8\">\r\n      <g>\r\n       <use style=\"stroke:#000000;stroke-width:0.8;\" x=\"26.925\" xlink:href=\"#m8b4c8fc043\" y=\"139.623886\"/>\r\n      </g>\r\n     </g>\r\n     <g id=\"text_8\">\r\n      <!-- 10 -->\r\n      <g transform=\"translate(7.2 143.423105)scale(0.1 -0.1)\">\r\n       <use xlink:href=\"#DejaVuSans-49\"/>\r\n       <use x=\"63.623047\" xlink:href=\"#DejaVuSans-48\"/>\r\n      </g>\r\n     </g>\r\n    </g>\r\n    <g id=\"ytick_4\">\r\n     <g id=\"line2d_9\">\r\n      <g>\r\n       <use style=\"stroke:#000000;stroke-width:0.8;\" x=\"26.925\" xlink:href=\"#m8b4c8fc043\" y=\"96.748997\"/>\r\n      </g>\r\n     </g>\r\n     <g id=\"text_9\">\r\n      <!-- 15 -->\r\n      <g transform=\"translate(7.2 100.548216)scale(0.1 -0.1)\">\r\n       <use xlink:href=\"#DejaVuSans-49\"/>\r\n       <use x=\"63.623047\" xlink:href=\"#DejaVuSans-53\"/>\r\n      </g>\r\n     </g>\r\n    </g>\r\n    <g id=\"ytick_5\">\r\n     <g id=\"line2d_10\">\r\n      <g>\r\n       <use style=\"stroke:#000000;stroke-width:0.8;\" x=\"26.925\" xlink:href=\"#m8b4c8fc043\" y=\"53.874108\"/>\r\n      </g>\r\n     </g>\r\n     <g id=\"text_10\">\r\n      <!-- 20 -->\r\n      <g transform=\"translate(7.2 57.673327)scale(0.1 -0.1)\">\r\n       <use xlink:href=\"#DejaVuSans-50\"/>\r\n       <use x=\"63.623047\" xlink:href=\"#DejaVuSans-48\"/>\r\n      </g>\r\n     </g>\r\n    </g>\r\n    <g id=\"ytick_6\">\r\n     <g id=\"line2d_11\">\r\n      <g>\r\n       <use style=\"stroke:#000000;stroke-width:0.8;\" x=\"26.925\" xlink:href=\"#m8b4c8fc043\" y=\"10.999219\"/>\r\n      </g>\r\n     </g>\r\n     <g id=\"text_11\">\r\n      <!-- 25 -->\r\n      <g transform=\"translate(7.2 14.798437)scale(0.1 -0.1)\">\r\n       <use xlink:href=\"#DejaVuSans-50\"/>\r\n       <use x=\"63.623047\" xlink:href=\"#DejaVuSans-53\"/>\r\n      </g>\r\n     </g>\r\n    </g>\r\n   </g>\r\n   <g id=\"LineCollection_1\">\r\n    <path clip-path=\"url(#pad697141e7)\" d=\"M 125.230756 225.373664 \r\nL 125.230756 18.28795 \r\n\" style=\"fill:none;stroke:#ff0000;stroke-width:1.5;\"/>\r\n   </g>\r\n   <g id=\"LineCollection_2\">\r\n    <path clip-path=\"url(#pad697141e7)\" d=\"M 117.204656 225.373664 \r\nL 117.204656 18.28795 \r\n\" style=\"fill:none;stroke:#008000;stroke-width:1.5;\"/>\r\n   </g>\r\n   <g id=\"patch_13\">\r\n    <path d=\"M 26.925 225.373664 \r\nL 26.925 7.933664 \r\n\" style=\"fill:none;stroke:#000000;stroke-linecap:square;stroke-linejoin:miter;stroke-width:0.8;\"/>\r\n   </g>\r\n   <g id=\"patch_14\">\r\n    <path d=\"M 361.725 225.373664 \r\nL 361.725 7.933664 \r\n\" style=\"fill:none;stroke:#000000;stroke-linecap:square;stroke-linejoin:miter;stroke-width:0.8;\"/>\r\n   </g>\r\n   <g id=\"patch_15\">\r\n    <path d=\"M 26.925 225.373664 \r\nL 361.725 225.373664 \r\n\" style=\"fill:none;stroke:#000000;stroke-linecap:square;stroke-linejoin:miter;stroke-width:0.8;\"/>\r\n   </g>\r\n   <g id=\"patch_16\">\r\n    <path d=\"M 26.925 7.933664 \r\nL 361.725 7.933664 \r\n\" style=\"fill:none;stroke:#000000;stroke-linecap:square;stroke-linejoin:miter;stroke-width:0.8;\"/>\r\n   </g>\r\n   <g id=\"legend_1\">\r\n    <g id=\"patch_17\">\r\n     <path d=\"M 286.351562 45.289914 \r\nL 354.725 45.289914 \r\nQ 356.725 45.289914 356.725 43.289914 \r\nL 356.725 14.933664 \r\nQ 356.725 12.933664 354.725 12.933664 \r\nL 286.351562 12.933664 \r\nQ 284.351562 12.933664 284.351562 14.933664 \r\nL 284.351562 43.289914 \r\nQ 284.351562 45.289914 286.351562 45.289914 \r\nz\r\n\" style=\"fill:#ffffff;opacity:0.8;stroke:#cccccc;stroke-linejoin:miter;\"/>\r\n    </g>\r\n    <g id=\"line2d_12\">\r\n     <path d=\"M 288.351562 21.032102 \r\nL 308.351562 21.032102 \r\n\" style=\"fill:none;stroke:#ff0000;stroke-width:1.5;\"/>\r\n    </g>\r\n    <g id=\"text_12\">\r\n     <!-- Mean -->\r\n     <g transform=\"translate(316.351562 24.532102)scale(0.1 -0.1)\">\r\n      <defs>\r\n       <path d=\"M 9.8125 72.90625 \r\nL 24.515625 72.90625 \r\nL 43.109375 23.296875 \r\nL 61.8125 72.90625 \r\nL 76.515625 72.90625 \r\nL 76.515625 0 \r\nL 66.890625 0 \r\nL 66.890625 64.015625 \r\nL 48.09375 14.015625 \r\nL 38.1875 14.015625 \r\nL 19.390625 64.015625 \r\nL 19.390625 0 \r\nL 9.8125 0 \r\nz\r\n\" id=\"DejaVuSans-77\"/>\r\n       <path d=\"M 56.203125 29.59375 \r\nL 56.203125 25.203125 \r\nL 14.890625 25.203125 \r\nQ 15.484375 15.921875 20.484375 11.0625 \r\nQ 25.484375 6.203125 34.421875 6.203125 \r\nQ 39.59375 6.203125 44.453125 7.46875 \r\nQ 49.3125 8.734375 54.109375 11.28125 \r\nL 54.109375 2.78125 \r\nQ 49.265625 0.734375 44.1875 -0.34375 \r\nQ 39.109375 -1.421875 33.890625 -1.421875 \r\nQ 20.796875 -1.421875 13.15625 6.1875 \r\nQ 5.515625 13.8125 5.515625 26.8125 \r\nQ 5.515625 40.234375 12.765625 48.109375 \r\nQ 20.015625 56 32.328125 56 \r\nQ 43.359375 56 49.78125 48.890625 \r\nQ 56.203125 41.796875 56.203125 29.59375 \r\nz\r\nM 47.21875 32.234375 \r\nQ 47.125 39.59375 43.09375 43.984375 \r\nQ 39.0625 48.390625 32.421875 48.390625 \r\nQ 24.90625 48.390625 20.390625 44.140625 \r\nQ 15.875 39.890625 15.1875 32.171875 \r\nz\r\n\" id=\"DejaVuSans-101\"/>\r\n       <path d=\"M 34.28125 27.484375 \r\nQ 23.390625 27.484375 19.1875 25 \r\nQ 14.984375 22.515625 14.984375 16.5 \r\nQ 14.984375 11.71875 18.140625 8.90625 \r\nQ 21.296875 6.109375 26.703125 6.109375 \r\nQ 34.1875 6.109375 38.703125 11.40625 \r\nQ 43.21875 16.703125 43.21875 25.484375 \r\nL 43.21875 27.484375 \r\nz\r\nM 52.203125 31.203125 \r\nL 52.203125 0 \r\nL 43.21875 0 \r\nL 43.21875 8.296875 \r\nQ 40.140625 3.328125 35.546875 0.953125 \r\nQ 30.953125 -1.421875 24.3125 -1.421875 \r\nQ 15.921875 -1.421875 10.953125 3.296875 \r\nQ 6 8.015625 6 15.921875 \r\nQ 6 25.140625 12.171875 29.828125 \r\nQ 18.359375 34.515625 30.609375 34.515625 \r\nL 43.21875 34.515625 \r\nL 43.21875 35.40625 \r\nQ 43.21875 41.609375 39.140625 45 \r\nQ 35.0625 48.390625 27.6875 48.390625 \r\nQ 23 48.390625 18.546875 47.265625 \r\nQ 14.109375 46.140625 10.015625 43.890625 \r\nL 10.015625 52.203125 \r\nQ 14.9375 54.109375 19.578125 55.046875 \r\nQ 24.21875 56 28.609375 56 \r\nQ 40.484375 56 46.34375 49.84375 \r\nQ 52.203125 43.703125 52.203125 31.203125 \r\nz\r\n\" id=\"DejaVuSans-97\"/>\r\n       <path d=\"M 54.890625 33.015625 \r\nL 54.890625 0 \r\nL 45.90625 0 \r\nL 45.90625 32.71875 \r\nQ 45.90625 40.484375 42.875 44.328125 \r\nQ 39.84375 48.1875 33.796875 48.1875 \r\nQ 26.515625 48.1875 22.3125 43.546875 \r\nQ 18.109375 38.921875 18.109375 30.90625 \r\nL 18.109375 0 \r\nL 9.078125 0 \r\nL 9.078125 54.6875 \r\nL 18.109375 54.6875 \r\nL 18.109375 46.1875 \r\nQ 21.34375 51.125 25.703125 53.5625 \r\nQ 30.078125 56 35.796875 56 \r\nQ 45.21875 56 50.046875 50.171875 \r\nQ 54.890625 44.34375 54.890625 33.015625 \r\nz\r\n\" id=\"DejaVuSans-110\"/>\r\n      </defs>\r\n      <use xlink:href=\"#DejaVuSans-77\"/>\r\n      <use x=\"86.279297\" xlink:href=\"#DejaVuSans-101\"/>\r\n      <use x=\"147.802734\" xlink:href=\"#DejaVuSans-97\"/>\r\n      <use x=\"209.082031\" xlink:href=\"#DejaVuSans-110\"/>\r\n     </g>\r\n    </g>\r\n    <g id=\"line2d_13\">\r\n     <path d=\"M 288.351562 35.710227 \r\nL 308.351562 35.710227 \r\n\" style=\"fill:none;stroke:#008000;stroke-width:1.5;\"/>\r\n    </g>\r\n    <g id=\"text_13\">\r\n     <!-- Median -->\r\n     <g transform=\"translate(316.351562 39.210227)scale(0.1 -0.1)\">\r\n      <defs>\r\n       <path d=\"M 45.40625 46.390625 \r\nL 45.40625 75.984375 \r\nL 54.390625 75.984375 \r\nL 54.390625 0 \r\nL 45.40625 0 \r\nL 45.40625 8.203125 \r\nQ 42.578125 3.328125 38.25 0.953125 \r\nQ 33.9375 -1.421875 27.875 -1.421875 \r\nQ 17.96875 -1.421875 11.734375 6.484375 \r\nQ 5.515625 14.40625 5.515625 27.296875 \r\nQ 5.515625 40.1875 11.734375 48.09375 \r\nQ 17.96875 56 27.875 56 \r\nQ 33.9375 56 38.25 53.625 \r\nQ 42.578125 51.265625 45.40625 46.390625 \r\nz\r\nM 14.796875 27.296875 \r\nQ 14.796875 17.390625 18.875 11.75 \r\nQ 22.953125 6.109375 30.078125 6.109375 \r\nQ 37.203125 6.109375 41.296875 11.75 \r\nQ 45.40625 17.390625 45.40625 27.296875 \r\nQ 45.40625 37.203125 41.296875 42.84375 \r\nQ 37.203125 48.484375 30.078125 48.484375 \r\nQ 22.953125 48.484375 18.875 42.84375 \r\nQ 14.796875 37.203125 14.796875 27.296875 \r\nz\r\n\" id=\"DejaVuSans-100\"/>\r\n       <path d=\"M 9.421875 54.6875 \r\nL 18.40625 54.6875 \r\nL 18.40625 0 \r\nL 9.421875 0 \r\nz\r\nM 9.421875 75.984375 \r\nL 18.40625 75.984375 \r\nL 18.40625 64.59375 \r\nL 9.421875 64.59375 \r\nz\r\n\" id=\"DejaVuSans-105\"/>\r\n      </defs>\r\n      <use xlink:href=\"#DejaVuSans-77\"/>\r\n      <use x=\"86.279297\" xlink:href=\"#DejaVuSans-101\"/>\r\n      <use x=\"147.802734\" xlink:href=\"#DejaVuSans-100\"/>\r\n      <use x=\"211.279297\" xlink:href=\"#DejaVuSans-105\"/>\r\n      <use x=\"239.0625\" xlink:href=\"#DejaVuSans-97\"/>\r\n      <use x=\"300.341797\" xlink:href=\"#DejaVuSans-110\"/>\r\n     </g>\r\n    </g>\r\n   </g>\r\n  </g>\r\n </g>\r\n <defs>\r\n  <clipPath id=\"pad697141e7\">\r\n   <rect height=\"217.44\" width=\"334.8\" x=\"26.925\" y=\"7.933664\"/>\r\n  </clipPath>\r\n </defs>\r\n</svg>\r\n",
      "image/png": "[encoded data removed]"
     },
     "metadata": {
      "needs_background": "light"
     }
    },
    {
     "output_type": "stream",
     "name": "stdout",
     "text": [
      "Simulations =  100\nMean time to discovery of C1/C2 =  136.5 rounds\nMedian time to discovery of C1/C2 =  125.0 rounds\n"
     ]
    }
   ],
   "source": [
    "import networkx as nx\n",
    "import random as rd\n",
    "import numpy as np\n",
    "import matplotlib.pyplot as plt\n",
    "import matplotlib\n",
    "\n",
    "G = nx.complete_graph(53)\n",
    "\n",
    "sims = 100\n",
    "sim_duration = [] # to store each simulation duration \n",
    "\n",
    "# beginning of simulations\n",
    "for i in range(sims):\n",
    "\n",
    "    matrix_node_tools=[[0]*6 + [-1]*8 for i in range (len(G))]\n",
    "    fitness_values = [6, 8, 10, 6, 8, 10, 30, 30, 60, 60, 120, 120, 300, 300] # each column has a value\n",
    "    innovations_dict = {(0, 1, 2): 6, \n",
    "                 (3, 4, 5): 7,\n",
    "                 (0, 4, 6): 8,\n",
    "                 (1, 2, 7): 9,\n",
    "                 (4, 5, 8): 10,\n",
    "                 (1, 3, 9): 11,\n",
    "                 (8, 10, 11): 12,\n",
    "                 (9, 10, 11): 13}\n",
    "\n",
    "    periods=10000\n",
    "    stop_sim=0   \n",
    "    for epoch in range(periods):\n",
    "        random_node_list = rd.sample(range(len(G)), len(G))\n",
    "        for node in random_node_list:\n",
    "            neighbour_list = []\n",
    "            for neighbour in G[node]:\n",
    "                neighbour_list.append(neighbour)\n",
    "            selected_neighbour = rd.choice(neighbour_list)\n",
    "\n",
    "            ingredients_node=np.where(np.array(matrix_node_tools[node])>-1)[0] \n",
    "            ingredients_neighbour=np.where(np.array(matrix_node_tools[selected_neighbour])>-1)[0]\n",
    "\n",
    "            node_tools=[]\n",
    "            for tool in ingredients_node:\n",
    "                for times in range(fitness_values[tool]):\n",
    "                    node_tools.append(tool)\n",
    "            node_tool_1, node_tool_2 = rd.sample(node_tools, 2)\n",
    "\n",
    "            neighbour_tools=[]\n",
    "            for tool in ingredients_neighbour:\n",
    "                for times in range(fitness_values[tool]):\n",
    "                    neighbour_tools.append(tool)\n",
    "            neighbour_tool = rd.choice(neighbour_tools)\n",
    "\n",
    "            triad = [node_tool_1, node_tool_2, neighbour_tool]\n",
    "            triad = tuple(sorted(triad))\n",
    "            new_tool = innovations_dict.get(triad,-1)\n",
    "\n",
    "            # until here, similar to previous cell  \n",
    "\n",
    "            if new_tool > -1: # if a new drug was created (6, 7 or 8 etc) \n",
    "                # check if node and neighbour already have invented tool \n",
    "                have_new_tool = -1 # we need this later\n",
    "                if matrix_node_tools[node][new_tool] == -1: # if position (i = node, j = new tool) in matrix is absent\n",
    "                    have_new_tool = 1 \n",
    "                    matrix_node_tools[node][new_tool] = epoch + 1 # node gains new tools, replace -1 with round of discovery\n",
    "                    for allneibs in G[node]: # now use matrix G_closekin to identify all close kin of node \n",
    "                        matrix_node_tools[allneibs][new_tool] = epoch + 1 # tranmits new tool to all kin\n",
    "\n",
    "                if matrix_node_tools[selected_neighbour][new_tool] == -1: #check if selected neighbour has tool\n",
    "                    have_new_tool = 1 \n",
    "                    matrix_node_tools[selected_neighbour][new_tool]= epoch + 1 # neighbours gains new tool\n",
    "                    for allneibneibs in G[selected_neighbour]:\n",
    "                        matrix_node_tools[allneibneibs][new_tool] = epoch+ 1\n",
    "\n",
    "                if have_new_tool == 1: #if either node or neighbour received the new tool\n",
    "                    #print(new_tool, epoch + 1, node, selected_neighbour)\n",
    "                    if new_tool in [12,13]: # BUT if the new tool is a superdrug C1=12 or C2=13\n",
    "                        stop_sim=1 # simulations ends\n",
    "                        sim_duration.append(epoch + 1)                        \n",
    "            if stop_sim==1:\n",
    "                break\n",
    "        if stop_sim==1:\n",
    "            break\n",
    "\n",
    "mean3 = np.mean(sim_duration)\n",
    "median3 = np.median(sim_duration)\n",
    "simduration3 = sim_duration\n",
    "plt.hist(sim_duration, facecolor='b', alpha=.5, rwidth=.8)\n",
    "ymin, ymax = plt.gca().get_ylim()\n",
    "plt.vlines(mean3, colors = 'r', ymin = ymin, ymax = ymax, label = 'Mean')\n",
    "plt.vlines(median3, colors = 'g', ymin = ymin, ymax = ymax, label = 'Median')\n",
    "plt.gca().legend()\n",
    "plt.show()\n",
    "print(\"Simulations = \", sims)\n",
    "print(\"Mean time to discovery of C1/C2 = \", mean3, \"rounds\")\n",
    "print(\"Median time to discovery of C1/C2 = \", median3, \"rounds\")"
   ]
  },
  {
   "cell_type": "code",
   "execution_count": 128,
   "metadata": {},
   "outputs": [
    {
     "output_type": "display_data",
     "data": {
      "text/plain": "<Figure size 432x288 with 3 Axes>",
      "image/svg+xml": "<?xml version=\"1.0\" encoding=\"utf-8\" standalone=\"no\"?>\r\n<!DOCTYPE svg PUBLIC \"-//W3C//DTD SVG 1.1//EN\"\r\n  \"http://www.w3.org/Graphics/SVG/1.1/DTD/svg11.dtd\">\r\n<!-- Created with matplotlib (https://matplotlib.org/) -->\r\n<svg height=\"279.59625pt\" version=\"1.1\" viewBox=\"0 0 424.9 279.59625\" width=\"424.9pt\" xmlns=\"http://www.w3.org/2000/svg\" xmlns:xlink=\"http://www.w3.org/1999/xlink\">\r\n <metadata>\r\n  <rdf:RDF xmlns:cc=\"http://creativecommons.org/ns#\" xmlns:dc=\"http://purl.org/dc/elements/1.1/\" xmlns:rdf=\"http://www.w3.org/1999/02/22-rdf-syntax-ns#\">\r\n   <cc:Work>\r\n    <dc:type rdf:resource=\"http://purl.org/dc/dcmitype/StillImage\"/>\r\n    <dc:date>2021-03-12T12:11:28.574042</dc:date>\r\n    <dc:format>image/svg+xml</dc:format>\r\n    <dc:creator>\r\n     <cc:Agent>\r\n      <dc:title>Matplotlib v3.3.4, https://matplotlib.org/</dc:title>\r\n     </cc:Agent>\r\n    </dc:creator>\r\n   </cc:Work>\r\n  </rdf:RDF>\r\n </metadata>\r\n <defs>\r\n  <style type=\"text/css\">*{stroke-linecap:butt;stroke-linejoin:round;}</style>\r\n </defs>\r\n <g id=\"figure_1\">\r\n  <g id=\"patch_1\">\r\n   <path d=\"M 0 279.59625 \r\nL 424.9 279.59625 \r\nL 424.9 0 \r\nL 0 0 \r\nz\r\n\" style=\"fill:none;\"/>\r\n  </g>\r\n  <g id=\"axes_1\">\r\n   <g id=\"patch_2\">\r\n    <path d=\"M 26.925 117.118125 \r\nL 207.0375 117.118125 \r\nL 207.0375 22.318125 \r\nL 26.925 22.318125 \r\nz\r\n\" style=\"fill:#ffffff;\"/>\r\n   </g>\r\n   <g id=\"patch_3\">\r\n    <path clip-path=\"url(#p8059dcd439)\" d=\"M 35.111932 117.118125 \r\nL 48.478351 117.118125 \r\nL 48.478351 54.201251 \r\nL 35.111932 54.201251 \r\nz\r\n\" style=\"fill:#0000ff;opacity:0.5;\"/>\r\n   </g>\r\n   <g id=\"patch_4\">\r\n    <path clip-path=\"url(#p8059dcd439)\" d=\"M 51.819956 117.118125 \r\nL 65.186375 117.118125 \r\nL 65.186375 31.13173 \r\nL 51.819956 31.13173 \r\nz\r\n\" style=\"fill:#0000ff;opacity:0.5;\"/>\r\n   </g>\r\n   <g id=\"patch_5\">\r\n    <path clip-path=\"url(#p8059dcd439)\" d=\"M 68.52798 117.118125 \r\nL 81.894399 117.118125 \r\nL 81.894399 81.46523 \r\nL 68.52798 81.46523 \r\nz\r\n\" style=\"fill:#0000ff;opacity:0.5;\"/>\r\n   </g>\r\n   <g id=\"patch_6\">\r\n    <path clip-path=\"url(#p8059dcd439)\" d=\"M 85.236004 117.118125 \r\nL 98.602423 117.118125 \r\nL 98.602423 100.340292 \r\nL 85.236004 100.340292 \r\nz\r\n\" style=\"fill:#0000ff;opacity:0.5;\"/>\r\n   </g>\r\n   <g id=\"patch_7\">\r\n    <path clip-path=\"url(#p8059dcd439)\" d=\"M 101.944028 117.118125 \r\nL 115.310448 117.118125 \r\nL 115.310448 112.923667 \r\nL 101.944028 112.923667 \r\nz\r\n\" style=\"fill:#0000ff;opacity:0.5;\"/>\r\n   </g>\r\n   <g id=\"patch_8\">\r\n    <path clip-path=\"url(#p8059dcd439)\" d=\"M 118.652052 117.118125 \r\nL 132.018472 117.118125 \r\nL 132.018472 117.118125 \r\nL 118.652052 117.118125 \r\nz\r\n\" style=\"fill:#0000ff;opacity:0.5;\"/>\r\n   </g>\r\n   <g id=\"patch_9\">\r\n    <path clip-path=\"url(#p8059dcd439)\" d=\"M 135.360077 117.118125 \r\nL 148.726496 117.118125 \r\nL 148.726496 115.020896 \r\nL 135.360077 115.020896 \r\nz\r\n\" style=\"fill:#0000ff;opacity:0.5;\"/>\r\n   </g>\r\n   <g id=\"patch_10\">\r\n    <path clip-path=\"url(#p8059dcd439)\" d=\"M 152.068101 117.118125 \r\nL 165.43452 117.118125 \r\nL 165.43452 117.118125 \r\nL 152.068101 117.118125 \r\nz\r\n\" style=\"fill:#0000ff;opacity:0.5;\"/>\r\n   </g>\r\n   <g id=\"patch_11\">\r\n    <path clip-path=\"url(#p8059dcd439)\" d=\"M 168.776125 117.118125 \r\nL 182.142544 117.118125 \r\nL 182.142544 117.118125 \r\nL 168.776125 117.118125 \r\nz\r\n\" style=\"fill:#0000ff;opacity:0.5;\"/>\r\n   </g>\r\n   <g id=\"patch_12\">\r\n    <path clip-path=\"url(#p8059dcd439)\" d=\"M 185.484149 117.118125 \r\nL 198.850568 117.118125 \r\nL 198.850568 115.020896 \r\nL 185.484149 115.020896 \r\nz\r\n\" style=\"fill:#0000ff;opacity:0.5;\"/>\r\n   </g>\r\n   <g id=\"matplotlib.axis_1\">\r\n    <g id=\"xtick_1\">\r\n     <g id=\"line2d_1\">\r\n      <defs>\r\n       <path d=\"M 0 0 \r\nL 0 3.5 \r\n\" id=\"ma26008b6c9\" style=\"stroke:#000000;stroke-width:0.8;\"/>\r\n      </defs>\r\n      <g>\r\n       <use style=\"stroke:#000000;stroke-width:0.8;\" x=\"77.789588\" xlink:href=\"#ma26008b6c9\" y=\"117.118125\"/>\r\n      </g>\r\n     </g>\r\n     <g id=\"text_1\">\r\n      <!-- 50 -->\r\n      <g transform=\"translate(71.427088 131.716563)scale(0.1 -0.1)\">\r\n       <defs>\r\n        <path d=\"M 10.796875 72.90625 \r\nL 49.515625 72.90625 \r\nL 49.515625 64.59375 \r\nL 19.828125 64.59375 \r\nL 19.828125 46.734375 \r\nQ 21.96875 47.46875 24.109375 47.828125 \r\nQ 26.265625 48.1875 28.421875 48.1875 \r\nQ 40.625 48.1875 47.75 41.5 \r\nQ 54.890625 34.8125 54.890625 23.390625 \r\nQ 54.890625 11.625 47.5625 5.09375 \r\nQ 40.234375 -1.421875 26.90625 -1.421875 \r\nQ 22.3125 -1.421875 17.546875 -0.640625 \r\nQ 12.796875 0.140625 7.71875 1.703125 \r\nL 7.71875 11.625 \r\nQ 12.109375 9.234375 16.796875 8.0625 \r\nQ 21.484375 6.890625 26.703125 6.890625 \r\nQ 35.15625 6.890625 40.078125 11.328125 \r\nQ 45.015625 15.765625 45.015625 23.390625 \r\nQ 45.015625 31 40.078125 35.4375 \r\nQ 35.15625 39.890625 26.703125 39.890625 \r\nQ 22.75 39.890625 18.8125 39.015625 \r\nQ 14.890625 38.140625 10.796875 36.28125 \r\nz\r\n\" id=\"DejaVuSans-53\"/>\r\n        <path d=\"M 31.78125 66.40625 \r\nQ 24.171875 66.40625 20.328125 58.90625 \r\nQ 16.5 51.421875 16.5 36.375 \r\nQ 16.5 21.390625 20.328125 13.890625 \r\nQ 24.171875 6.390625 31.78125 6.390625 \r\nQ 39.453125 6.390625 43.28125 13.890625 \r\nQ 47.125 21.390625 47.125 36.375 \r\nQ 47.125 51.421875 43.28125 58.90625 \r\nQ 39.453125 66.40625 31.78125 66.40625 \r\nz\r\nM 31.78125 74.21875 \r\nQ 44.046875 74.21875 50.515625 64.515625 \r\nQ 56.984375 54.828125 56.984375 36.375 \r\nQ 56.984375 17.96875 50.515625 8.265625 \r\nQ 44.046875 -1.421875 31.78125 -1.421875 \r\nQ 19.53125 -1.421875 13.0625 8.265625 \r\nQ 6.59375 17.96875 6.59375 36.375 \r\nQ 6.59375 54.828125 13.0625 64.515625 \r\nQ 19.53125 74.21875 31.78125 74.21875 \r\nz\r\n\" id=\"DejaVuSans-48\"/>\r\n       </defs>\r\n       <use xlink:href=\"#DejaVuSans-53\"/>\r\n       <use x=\"63.623047\" xlink:href=\"#DejaVuSans-48\"/>\r\n      </g>\r\n     </g>\r\n    </g>\r\n    <g id=\"xtick_2\">\r\n     <g id=\"line2d_2\">\r\n      <g>\r\n       <use style=\"stroke:#000000;stroke-width:0.8;\" x=\"129.357564\" xlink:href=\"#ma26008b6c9\" y=\"117.118125\"/>\r\n      </g>\r\n     </g>\r\n     <g id=\"text_2\">\r\n      <!-- 100 -->\r\n      <g transform=\"translate(119.813814 131.716563)scale(0.1 -0.1)\">\r\n       <defs>\r\n        <path d=\"M 12.40625 8.296875 \r\nL 28.515625 8.296875 \r\nL 28.515625 63.921875 \r\nL 10.984375 60.40625 \r\nL 10.984375 69.390625 \r\nL 28.421875 72.90625 \r\nL 38.28125 72.90625 \r\nL 38.28125 8.296875 \r\nL 54.390625 8.296875 \r\nL 54.390625 0 \r\nL 12.40625 0 \r\nz\r\n\" id=\"DejaVuSans-49\"/>\r\n       </defs>\r\n       <use xlink:href=\"#DejaVuSans-49\"/>\r\n       <use x=\"63.623047\" xlink:href=\"#DejaVuSans-48\"/>\r\n       <use x=\"127.246094\" xlink:href=\"#DejaVuSans-48\"/>\r\n      </g>\r\n     </g>\r\n    </g>\r\n    <g id=\"xtick_3\">\r\n     <g id=\"line2d_3\">\r\n      <g>\r\n       <use style=\"stroke:#000000;stroke-width:0.8;\" x=\"180.92554\" xlink:href=\"#ma26008b6c9\" y=\"117.118125\"/>\r\n      </g>\r\n     </g>\r\n     <g id=\"text_3\">\r\n      <!-- 150 -->\r\n      <g transform=\"translate(171.38179 131.716563)scale(0.1 -0.1)\">\r\n       <use xlink:href=\"#DejaVuSans-49\"/>\r\n       <use x=\"63.623047\" xlink:href=\"#DejaVuSans-53\"/>\r\n       <use x=\"127.246094\" xlink:href=\"#DejaVuSans-48\"/>\r\n      </g>\r\n     </g>\r\n    </g>\r\n   </g>\r\n   <g id=\"matplotlib.axis_2\">\r\n    <g id=\"ytick_1\">\r\n     <g id=\"line2d_4\">\r\n      <defs>\r\n       <path d=\"M 0 0 \r\nL -3.5 0 \r\n\" id=\"m17c3ba5321\" style=\"stroke:#000000;stroke-width:0.8;\"/>\r\n      </defs>\r\n      <g>\r\n       <use style=\"stroke:#000000;stroke-width:0.8;\" x=\"26.925\" xlink:href=\"#m17c3ba5321\" y=\"117.118125\"/>\r\n      </g>\r\n     </g>\r\n     <g id=\"text_4\">\r\n      <!-- 0 -->\r\n      <g transform=\"translate(13.5625 120.917344)scale(0.1 -0.1)\">\r\n       <use xlink:href=\"#DejaVuSans-48\"/>\r\n      </g>\r\n     </g>\r\n    </g>\r\n    <g id=\"ytick_2\">\r\n     <g id=\"line2d_5\">\r\n      <g>\r\n       <use style=\"stroke:#000000;stroke-width:0.8;\" x=\"26.925\" xlink:href=\"#m17c3ba5321\" y=\"75.173542\"/>\r\n      </g>\r\n     </g>\r\n     <g id=\"text_5\">\r\n      <!-- 20 -->\r\n      <g transform=\"translate(7.2 78.972761)scale(0.1 -0.1)\">\r\n       <defs>\r\n        <path d=\"M 19.1875 8.296875 \r\nL 53.609375 8.296875 \r\nL 53.609375 0 \r\nL 7.328125 0 \r\nL 7.328125 8.296875 \r\nQ 12.9375 14.109375 22.625 23.890625 \r\nQ 32.328125 33.6875 34.8125 36.53125 \r\nQ 39.546875 41.84375 41.421875 45.53125 \r\nQ 43.3125 49.21875 43.3125 52.78125 \r\nQ 43.3125 58.59375 39.234375 62.25 \r\nQ 35.15625 65.921875 28.609375 65.921875 \r\nQ 23.96875 65.921875 18.8125 64.3125 \r\nQ 13.671875 62.703125 7.8125 59.421875 \r\nL 7.8125 69.390625 \r\nQ 13.765625 71.78125 18.9375 73 \r\nQ 24.125 74.21875 28.421875 74.21875 \r\nQ 39.75 74.21875 46.484375 68.546875 \r\nQ 53.21875 62.890625 53.21875 53.421875 \r\nQ 53.21875 48.921875 51.53125 44.890625 \r\nQ 49.859375 40.875 45.40625 35.40625 \r\nQ 44.1875 33.984375 37.640625 27.21875 \r\nQ 31.109375 20.453125 19.1875 8.296875 \r\nz\r\n\" id=\"DejaVuSans-50\"/>\r\n       </defs>\r\n       <use xlink:href=\"#DejaVuSans-50\"/>\r\n       <use x=\"63.623047\" xlink:href=\"#DejaVuSans-48\"/>\r\n      </g>\r\n     </g>\r\n    </g>\r\n    <g id=\"ytick_3\">\r\n     <g id=\"line2d_6\">\r\n      <g>\r\n       <use style=\"stroke:#000000;stroke-width:0.8;\" x=\"26.925\" xlink:href=\"#m17c3ba5321\" y=\"33.22896\"/>\r\n      </g>\r\n     </g>\r\n     <g id=\"text_6\">\r\n      <!-- 40 -->\r\n      <g transform=\"translate(7.2 37.028178)scale(0.1 -0.1)\">\r\n       <defs>\r\n        <path d=\"M 37.796875 64.3125 \r\nL 12.890625 25.390625 \r\nL 37.796875 25.390625 \r\nz\r\nM 35.203125 72.90625 \r\nL 47.609375 72.90625 \r\nL 47.609375 25.390625 \r\nL 58.015625 25.390625 \r\nL 58.015625 17.1875 \r\nL 47.609375 17.1875 \r\nL 47.609375 0 \r\nL 37.796875 0 \r\nL 37.796875 17.1875 \r\nL 4.890625 17.1875 \r\nL 4.890625 26.703125 \r\nz\r\n\" id=\"DejaVuSans-52\"/>\r\n       </defs>\r\n       <use xlink:href=\"#DejaVuSans-52\"/>\r\n       <use x=\"63.623047\" xlink:href=\"#DejaVuSans-48\"/>\r\n      </g>\r\n     </g>\r\n    </g>\r\n   </g>\r\n   <g id=\"LineCollection_1\">\r\n    <path clip-path=\"url(#p8059dcd439)\" d=\"M 62.092297 117.118125 \r\nL 62.092297 26.832411 \r\n\" style=\"fill:none;stroke:#ff0000;stroke-width:1.5;\"/>\r\n   </g>\r\n   <g id=\"LineCollection_2\">\r\n    <path clip-path=\"url(#p8059dcd439)\" d=\"M 57.678078 117.118125 \r\nL 57.678078 26.832411 \r\n\" style=\"fill:none;stroke:#008000;stroke-width:1.5;\"/>\r\n   </g>\r\n   <g id=\"patch_13\">\r\n    <path d=\"M 26.925 117.118125 \r\nL 26.925 22.318125 \r\n\" style=\"fill:none;stroke:#000000;stroke-linecap:square;stroke-linejoin:miter;stroke-width:0.8;\"/>\r\n   </g>\r\n   <g id=\"patch_14\">\r\n    <path d=\"M 207.0375 117.118125 \r\nL 207.0375 22.318125 \r\n\" style=\"fill:none;stroke:#000000;stroke-linecap:square;stroke-linejoin:miter;stroke-width:0.8;\"/>\r\n   </g>\r\n   <g id=\"patch_15\">\r\n    <path d=\"M 26.925 117.118125 \r\nL 207.0375 117.118125 \r\n\" style=\"fill:none;stroke:#000000;stroke-linecap:square;stroke-linejoin:miter;stroke-width:0.8;\"/>\r\n   </g>\r\n   <g id=\"patch_16\">\r\n    <path d=\"M 26.925 22.318125 \r\nL 207.0375 22.318125 \r\n\" style=\"fill:none;stroke:#000000;stroke-linecap:square;stroke-linejoin:miter;stroke-width:0.8;\"/>\r\n   </g>\r\n   <g id=\"text_7\">\r\n    <!-- Kinship Sharing -->\r\n    <g transform=\"translate(70.232813 16.318125)scale(0.12 -0.12)\">\r\n     <defs>\r\n      <path d=\"M 9.8125 72.90625 \r\nL 19.671875 72.90625 \r\nL 19.671875 42.09375 \r\nL 52.390625 72.90625 \r\nL 65.09375 72.90625 \r\nL 28.90625 38.921875 \r\nL 67.671875 0 \r\nL 54.6875 0 \r\nL 19.671875 35.109375 \r\nL 19.671875 0 \r\nL 9.8125 0 \r\nz\r\n\" id=\"DejaVuSans-75\"/>\r\n      <path d=\"M 9.421875 54.6875 \r\nL 18.40625 54.6875 \r\nL 18.40625 0 \r\nL 9.421875 0 \r\nz\r\nM 9.421875 75.984375 \r\nL 18.40625 75.984375 \r\nL 18.40625 64.59375 \r\nL 9.421875 64.59375 \r\nz\r\n\" id=\"DejaVuSans-105\"/>\r\n      <path d=\"M 54.890625 33.015625 \r\nL 54.890625 0 \r\nL 45.90625 0 \r\nL 45.90625 32.71875 \r\nQ 45.90625 40.484375 42.875 44.328125 \r\nQ 39.84375 48.1875 33.796875 48.1875 \r\nQ 26.515625 48.1875 22.3125 43.546875 \r\nQ 18.109375 38.921875 18.109375 30.90625 \r\nL 18.109375 0 \r\nL 9.078125 0 \r\nL 9.078125 54.6875 \r\nL 18.109375 54.6875 \r\nL 18.109375 46.1875 \r\nQ 21.34375 51.125 25.703125 53.5625 \r\nQ 30.078125 56 35.796875 56 \r\nQ 45.21875 56 50.046875 50.171875 \r\nQ 54.890625 44.34375 54.890625 33.015625 \r\nz\r\n\" id=\"DejaVuSans-110\"/>\r\n      <path d=\"M 44.28125 53.078125 \r\nL 44.28125 44.578125 \r\nQ 40.484375 46.53125 36.375 47.5 \r\nQ 32.28125 48.484375 27.875 48.484375 \r\nQ 21.1875 48.484375 17.84375 46.4375 \r\nQ 14.5 44.390625 14.5 40.28125 \r\nQ 14.5 37.15625 16.890625 35.375 \r\nQ 19.28125 33.59375 26.515625 31.984375 \r\nL 29.59375 31.296875 \r\nQ 39.15625 29.25 43.1875 25.515625 \r\nQ 47.21875 21.78125 47.21875 15.09375 \r\nQ 47.21875 7.46875 41.1875 3.015625 \r\nQ 35.15625 -1.421875 24.609375 -1.421875 \r\nQ 20.21875 -1.421875 15.453125 -0.5625 \r\nQ 10.6875 0.296875 5.421875 2 \r\nL 5.421875 11.28125 \r\nQ 10.40625 8.6875 15.234375 7.390625 \r\nQ 20.0625 6.109375 24.8125 6.109375 \r\nQ 31.15625 6.109375 34.5625 8.28125 \r\nQ 37.984375 10.453125 37.984375 14.40625 \r\nQ 37.984375 18.0625 35.515625 20.015625 \r\nQ 33.0625 21.96875 24.703125 23.78125 \r\nL 21.578125 24.515625 \r\nQ 13.234375 26.265625 9.515625 29.90625 \r\nQ 5.8125 33.546875 5.8125 39.890625 \r\nQ 5.8125 47.609375 11.28125 51.796875 \r\nQ 16.75 56 26.8125 56 \r\nQ 31.78125 56 36.171875 55.265625 \r\nQ 40.578125 54.546875 44.28125 53.078125 \r\nz\r\n\" id=\"DejaVuSans-115\"/>\r\n      <path d=\"M 54.890625 33.015625 \r\nL 54.890625 0 \r\nL 45.90625 0 \r\nL 45.90625 32.71875 \r\nQ 45.90625 40.484375 42.875 44.328125 \r\nQ 39.84375 48.1875 33.796875 48.1875 \r\nQ 26.515625 48.1875 22.3125 43.546875 \r\nQ 18.109375 38.921875 18.109375 30.90625 \r\nL 18.109375 0 \r\nL 9.078125 0 \r\nL 9.078125 75.984375 \r\nL 18.109375 75.984375 \r\nL 18.109375 46.1875 \r\nQ 21.34375 51.125 25.703125 53.5625 \r\nQ 30.078125 56 35.796875 56 \r\nQ 45.21875 56 50.046875 50.171875 \r\nQ 54.890625 44.34375 54.890625 33.015625 \r\nz\r\n\" id=\"DejaVuSans-104\"/>\r\n      <path d=\"M 18.109375 8.203125 \r\nL 18.109375 -20.796875 \r\nL 9.078125 -20.796875 \r\nL 9.078125 54.6875 \r\nL 18.109375 54.6875 \r\nL 18.109375 46.390625 \r\nQ 20.953125 51.265625 25.265625 53.625 \r\nQ 29.59375 56 35.59375 56 \r\nQ 45.5625 56 51.78125 48.09375 \r\nQ 58.015625 40.1875 58.015625 27.296875 \r\nQ 58.015625 14.40625 51.78125 6.484375 \r\nQ 45.5625 -1.421875 35.59375 -1.421875 \r\nQ 29.59375 -1.421875 25.265625 0.953125 \r\nQ 20.953125 3.328125 18.109375 8.203125 \r\nz\r\nM 48.6875 27.296875 \r\nQ 48.6875 37.203125 44.609375 42.84375 \r\nQ 40.53125 48.484375 33.40625 48.484375 \r\nQ 26.265625 48.484375 22.1875 42.84375 \r\nQ 18.109375 37.203125 18.109375 27.296875 \r\nQ 18.109375 17.390625 22.1875 11.75 \r\nQ 26.265625 6.109375 33.40625 6.109375 \r\nQ 40.53125 6.109375 44.609375 11.75 \r\nQ 48.6875 17.390625 48.6875 27.296875 \r\nz\r\n\" id=\"DejaVuSans-112\"/>\r\n      <path id=\"DejaVuSans-32\"/>\r\n      <path d=\"M 53.515625 70.515625 \r\nL 53.515625 60.890625 \r\nQ 47.90625 63.578125 42.921875 64.890625 \r\nQ 37.9375 66.21875 33.296875 66.21875 \r\nQ 25.25 66.21875 20.875 63.09375 \r\nQ 16.5 59.96875 16.5 54.203125 \r\nQ 16.5 49.359375 19.40625 46.890625 \r\nQ 22.3125 44.4375 30.421875 42.921875 \r\nL 36.375 41.703125 \r\nQ 47.40625 39.59375 52.65625 34.296875 \r\nQ 57.90625 29 57.90625 20.125 \r\nQ 57.90625 9.515625 50.796875 4.046875 \r\nQ 43.703125 -1.421875 29.984375 -1.421875 \r\nQ 24.8125 -1.421875 18.96875 -0.25 \r\nQ 13.140625 0.921875 6.890625 3.21875 \r\nL 6.890625 13.375 \r\nQ 12.890625 10.015625 18.65625 8.296875 \r\nQ 24.421875 6.59375 29.984375 6.59375 \r\nQ 38.421875 6.59375 43.015625 9.90625 \r\nQ 47.609375 13.234375 47.609375 19.390625 \r\nQ 47.609375 24.75 44.3125 27.78125 \r\nQ 41.015625 30.8125 33.5 32.328125 \r\nL 27.484375 33.5 \r\nQ 16.453125 35.6875 11.515625 40.375 \r\nQ 6.59375 45.0625 6.59375 53.421875 \r\nQ 6.59375 63.09375 13.40625 68.65625 \r\nQ 20.21875 74.21875 32.171875 74.21875 \r\nQ 37.3125 74.21875 42.625 73.28125 \r\nQ 47.953125 72.359375 53.515625 70.515625 \r\nz\r\n\" id=\"DejaVuSans-83\"/>\r\n      <path d=\"M 34.28125 27.484375 \r\nQ 23.390625 27.484375 19.1875 25 \r\nQ 14.984375 22.515625 14.984375 16.5 \r\nQ 14.984375 11.71875 18.140625 8.90625 \r\nQ 21.296875 6.109375 26.703125 6.109375 \r\nQ 34.1875 6.109375 38.703125 11.40625 \r\nQ 43.21875 16.703125 43.21875 25.484375 \r\nL 43.21875 27.484375 \r\nz\r\nM 52.203125 31.203125 \r\nL 52.203125 0 \r\nL 43.21875 0 \r\nL 43.21875 8.296875 \r\nQ 40.140625 3.328125 35.546875 0.953125 \r\nQ 30.953125 -1.421875 24.3125 -1.421875 \r\nQ 15.921875 -1.421875 10.953125 3.296875 \r\nQ 6 8.015625 6 15.921875 \r\nQ 6 25.140625 12.171875 29.828125 \r\nQ 18.359375 34.515625 30.609375 34.515625 \r\nL 43.21875 34.515625 \r\nL 43.21875 35.40625 \r\nQ 43.21875 41.609375 39.140625 45 \r\nQ 35.0625 48.390625 27.6875 48.390625 \r\nQ 23 48.390625 18.546875 47.265625 \r\nQ 14.109375 46.140625 10.015625 43.890625 \r\nL 10.015625 52.203125 \r\nQ 14.9375 54.109375 19.578125 55.046875 \r\nQ 24.21875 56 28.609375 56 \r\nQ 40.484375 56 46.34375 49.84375 \r\nQ 52.203125 43.703125 52.203125 31.203125 \r\nz\r\n\" id=\"DejaVuSans-97\"/>\r\n      <path d=\"M 41.109375 46.296875 \r\nQ 39.59375 47.171875 37.8125 47.578125 \r\nQ 36.03125 48 33.890625 48 \r\nQ 26.265625 48 22.1875 43.046875 \r\nQ 18.109375 38.09375 18.109375 28.8125 \r\nL 18.109375 0 \r\nL 9.078125 0 \r\nL 9.078125 54.6875 \r\nL 18.109375 54.6875 \r\nL 18.109375 46.1875 \r\nQ 20.953125 51.171875 25.484375 53.578125 \r\nQ 30.03125 56 36.53125 56 \r\nQ 37.453125 56 38.578125 55.875 \r\nQ 39.703125 55.765625 41.0625 55.515625 \r\nz\r\n\" id=\"DejaVuSans-114\"/>\r\n      <path d=\"M 45.40625 27.984375 \r\nQ 45.40625 37.75 41.375 43.109375 \r\nQ 37.359375 48.484375 30.078125 48.484375 \r\nQ 22.859375 48.484375 18.828125 43.109375 \r\nQ 14.796875 37.75 14.796875 27.984375 \r\nQ 14.796875 18.265625 18.828125 12.890625 \r\nQ 22.859375 7.515625 30.078125 7.515625 \r\nQ 37.359375 7.515625 41.375 12.890625 \r\nQ 45.40625 18.265625 45.40625 27.984375 \r\nz\r\nM 54.390625 6.78125 \r\nQ 54.390625 -7.171875 48.1875 -13.984375 \r\nQ 42 -20.796875 29.203125 -20.796875 \r\nQ 24.46875 -20.796875 20.265625 -20.09375 \r\nQ 16.0625 -19.390625 12.109375 -17.921875 \r\nL 12.109375 -9.1875 \r\nQ 16.0625 -11.328125 19.921875 -12.34375 \r\nQ 23.78125 -13.375 27.78125 -13.375 \r\nQ 36.625 -13.375 41.015625 -8.765625 \r\nQ 45.40625 -4.15625 45.40625 5.171875 \r\nL 45.40625 9.625 \r\nQ 42.625 4.78125 38.28125 2.390625 \r\nQ 33.9375 0 27.875 0 \r\nQ 17.828125 0 11.671875 7.65625 \r\nQ 5.515625 15.328125 5.515625 27.984375 \r\nQ 5.515625 40.671875 11.671875 48.328125 \r\nQ 17.828125 56 27.875 56 \r\nQ 33.9375 56 38.28125 53.609375 \r\nQ 42.625 51.21875 45.40625 46.390625 \r\nL 45.40625 54.6875 \r\nL 54.390625 54.6875 \r\nz\r\n\" id=\"DejaVuSans-103\"/>\r\n     </defs>\r\n     <use xlink:href=\"#DejaVuSans-75\"/>\r\n     <use x=\"65.576172\" xlink:href=\"#DejaVuSans-105\"/>\r\n     <use x=\"93.359375\" xlink:href=\"#DejaVuSans-110\"/>\r\n     <use x=\"156.738281\" xlink:href=\"#DejaVuSans-115\"/>\r\n     <use x=\"208.837891\" xlink:href=\"#DejaVuSans-104\"/>\r\n     <use x=\"272.216797\" xlink:href=\"#DejaVuSans-105\"/>\r\n     <use x=\"300\" xlink:href=\"#DejaVuSans-112\"/>\r\n     <use x=\"363.476562\" xlink:href=\"#DejaVuSans-32\"/>\r\n     <use x=\"395.263672\" xlink:href=\"#DejaVuSans-83\"/>\r\n     <use x=\"458.740234\" xlink:href=\"#DejaVuSans-104\"/>\r\n     <use x=\"522.119141\" xlink:href=\"#DejaVuSans-97\"/>\r\n     <use x=\"583.398438\" xlink:href=\"#DejaVuSans-114\"/>\r\n     <use x=\"624.511719\" xlink:href=\"#DejaVuSans-105\"/>\r\n     <use x=\"652.294922\" xlink:href=\"#DejaVuSans-110\"/>\r\n     <use x=\"715.673828\" xlink:href=\"#DejaVuSans-103\"/>\r\n    </g>\r\n   </g>\r\n   <g id=\"legend_1\">\r\n    <g id=\"patch_17\">\r\n     <path d=\"M 131.664063 59.674375 \r\nL 200.0375 59.674375 \r\nQ 202.0375 59.674375 202.0375 57.674375 \r\nL 202.0375 29.318125 \r\nQ 202.0375 27.318125 200.0375 27.318125 \r\nL 131.664063 27.318125 \r\nQ 129.664063 27.318125 129.664063 29.318125 \r\nL 129.664063 57.674375 \r\nQ 129.664063 59.674375 131.664063 59.674375 \r\nz\r\n\" style=\"fill:#ffffff;opacity:0.8;stroke:#cccccc;stroke-linejoin:miter;\"/>\r\n    </g>\r\n    <g id=\"line2d_7\">\r\n     <path d=\"M 133.664063 35.416562 \r\nL 153.664063 35.416562 \r\n\" style=\"fill:none;stroke:#ff0000;stroke-width:1.5;\"/>\r\n    </g>\r\n    <g id=\"text_8\">\r\n     <!-- Mean -->\r\n     <g transform=\"translate(161.664063 38.916562)scale(0.1 -0.1)\">\r\n      <defs>\r\n       <path d=\"M 9.8125 72.90625 \r\nL 24.515625 72.90625 \r\nL 43.109375 23.296875 \r\nL 61.8125 72.90625 \r\nL 76.515625 72.90625 \r\nL 76.515625 0 \r\nL 66.890625 0 \r\nL 66.890625 64.015625 \r\nL 48.09375 14.015625 \r\nL 38.1875 14.015625 \r\nL 19.390625 64.015625 \r\nL 19.390625 0 \r\nL 9.8125 0 \r\nz\r\n\" id=\"DejaVuSans-77\"/>\r\n       <path d=\"M 56.203125 29.59375 \r\nL 56.203125 25.203125 \r\nL 14.890625 25.203125 \r\nQ 15.484375 15.921875 20.484375 11.0625 \r\nQ 25.484375 6.203125 34.421875 6.203125 \r\nQ 39.59375 6.203125 44.453125 7.46875 \r\nQ 49.3125 8.734375 54.109375 11.28125 \r\nL 54.109375 2.78125 \r\nQ 49.265625 0.734375 44.1875 -0.34375 \r\nQ 39.109375 -1.421875 33.890625 -1.421875 \r\nQ 20.796875 -1.421875 13.15625 6.1875 \r\nQ 5.515625 13.8125 5.515625 26.8125 \r\nQ 5.515625 40.234375 12.765625 48.109375 \r\nQ 20.015625 56 32.328125 56 \r\nQ 43.359375 56 49.78125 48.890625 \r\nQ 56.203125 41.796875 56.203125 29.59375 \r\nz\r\nM 47.21875 32.234375 \r\nQ 47.125 39.59375 43.09375 43.984375 \r\nQ 39.0625 48.390625 32.421875 48.390625 \r\nQ 24.90625 48.390625 20.390625 44.140625 \r\nQ 15.875 39.890625 15.1875 32.171875 \r\nz\r\n\" id=\"DejaVuSans-101\"/>\r\n      </defs>\r\n      <use xlink:href=\"#DejaVuSans-77\"/>\r\n      <use x=\"86.279297\" xlink:href=\"#DejaVuSans-101\"/>\r\n      <use x=\"147.802734\" xlink:href=\"#DejaVuSans-97\"/>\r\n      <use x=\"209.082031\" xlink:href=\"#DejaVuSans-110\"/>\r\n     </g>\r\n    </g>\r\n    <g id=\"line2d_8\">\r\n     <path d=\"M 133.664063 50.094687 \r\nL 153.664063 50.094687 \r\n\" style=\"fill:none;stroke:#008000;stroke-width:1.5;\"/>\r\n    </g>\r\n    <g id=\"text_9\">\r\n     <!-- Median -->\r\n     <g transform=\"translate(161.664063 53.594687)scale(0.1 -0.1)\">\r\n      <defs>\r\n       <path d=\"M 45.40625 46.390625 \r\nL 45.40625 75.984375 \r\nL 54.390625 75.984375 \r\nL 54.390625 0 \r\nL 45.40625 0 \r\nL 45.40625 8.203125 \r\nQ 42.578125 3.328125 38.25 0.953125 \r\nQ 33.9375 -1.421875 27.875 -1.421875 \r\nQ 17.96875 -1.421875 11.734375 6.484375 \r\nQ 5.515625 14.40625 5.515625 27.296875 \r\nQ 5.515625 40.1875 11.734375 48.09375 \r\nQ 17.96875 56 27.875 56 \r\nQ 33.9375 56 38.25 53.625 \r\nQ 42.578125 51.265625 45.40625 46.390625 \r\nz\r\nM 14.796875 27.296875 \r\nQ 14.796875 17.390625 18.875 11.75 \r\nQ 22.953125 6.109375 30.078125 6.109375 \r\nQ 37.203125 6.109375 41.296875 11.75 \r\nQ 45.40625 17.390625 45.40625 27.296875 \r\nQ 45.40625 37.203125 41.296875 42.84375 \r\nQ 37.203125 48.484375 30.078125 48.484375 \r\nQ 22.953125 48.484375 18.875 42.84375 \r\nQ 14.796875 37.203125 14.796875 27.296875 \r\nz\r\n\" id=\"DejaVuSans-100\"/>\r\n      </defs>\r\n      <use xlink:href=\"#DejaVuSans-77\"/>\r\n      <use x=\"86.279297\" xlink:href=\"#DejaVuSans-101\"/>\r\n      <use x=\"147.802734\" xlink:href=\"#DejaVuSans-100\"/>\r\n      <use x=\"211.279297\" xlink:href=\"#DejaVuSans-105\"/>\r\n      <use x=\"239.0625\" xlink:href=\"#DejaVuSans-97\"/>\r\n      <use x=\"300.341797\" xlink:href=\"#DejaVuSans-110\"/>\r\n     </g>\r\n    </g>\r\n   </g>\r\n  </g>\r\n  <g id=\"axes_2\">\r\n   <g id=\"patch_18\">\r\n    <path d=\"M 237.5875 117.118125 \r\nL 417.7 117.118125 \r\nL 417.7 22.318125 \r\nL 237.5875 22.318125 \r\nz\r\n\" style=\"fill:#ffffff;\"/>\r\n   </g>\r\n   <g id=\"patch_19\">\r\n    <path clip-path=\"url(#pe385b4bfee)\" d=\"M 245.774432 117.118125 \r\nL 259.140851 117.118125 \r\nL 259.140851 31.13173 \r\nL 245.774432 31.13173 \r\nz\r\n\" style=\"fill:#0000ff;opacity:0.5;\"/>\r\n   </g>\r\n   <g id=\"patch_20\">\r\n    <path clip-path=\"url(#pe385b4bfee)\" d=\"M 262.482456 117.118125 \r\nL 275.848875 117.118125 \r\nL 275.848875 106.631979 \r\nL 262.482456 106.631979 \r\nz\r\n\" style=\"fill:#0000ff;opacity:0.5;\"/>\r\n   </g>\r\n   <g id=\"patch_21\">\r\n    <path clip-path=\"url(#pe385b4bfee)\" d=\"M 279.19048 117.118125 \r\nL 292.556899 117.118125 \r\nL 292.556899 112.923667 \r\nL 279.19048 112.923667 \r\nz\r\n\" style=\"fill:#0000ff;opacity:0.5;\"/>\r\n   </g>\r\n   <g id=\"patch_22\">\r\n    <path clip-path=\"url(#pe385b4bfee)\" d=\"M 295.898504 117.118125 \r\nL 309.264923 117.118125 \r\nL 309.264923 115.020896 \r\nL 295.898504 115.020896 \r\nz\r\n\" style=\"fill:#0000ff;opacity:0.5;\"/>\r\n   </g>\r\n   <g id=\"patch_23\">\r\n    <path clip-path=\"url(#pe385b4bfee)\" d=\"M 312.606528 117.118125 \r\nL 325.972948 117.118125 \r\nL 325.972948 117.118125 \r\nL 312.606528 117.118125 \r\nz\r\n\" style=\"fill:#0000ff;opacity:0.5;\"/>\r\n   </g>\r\n   <g id=\"patch_24\">\r\n    <path clip-path=\"url(#pe385b4bfee)\" d=\"M 329.314552 117.118125 \r\nL 342.680972 117.118125 \r\nL 342.680972 116.06951 \r\nL 329.314552 116.06951 \r\nz\r\n\" style=\"fill:#0000ff;opacity:0.5;\"/>\r\n   </g>\r\n   <g id=\"patch_25\">\r\n    <path clip-path=\"url(#pe385b4bfee)\" d=\"M 346.022577 117.118125 \r\nL 359.388996 117.118125 \r\nL 359.388996 117.118125 \r\nL 346.022577 117.118125 \r\nz\r\n\" style=\"fill:#0000ff;opacity:0.5;\"/>\r\n   </g>\r\n   <g id=\"patch_26\">\r\n    <path clip-path=\"url(#pe385b4bfee)\" d=\"M 362.730601 117.118125 \r\nL 376.09702 117.118125 \r\nL 376.09702 117.118125 \r\nL 362.730601 117.118125 \r\nz\r\n\" style=\"fill:#0000ff;opacity:0.5;\"/>\r\n   </g>\r\n   <g id=\"patch_27\">\r\n    <path clip-path=\"url(#pe385b4bfee)\" d=\"M 379.438625 117.118125 \r\nL 392.805044 117.118125 \r\nL 392.805044 117.118125 \r\nL 379.438625 117.118125 \r\nz\r\n\" style=\"fill:#0000ff;opacity:0.5;\"/>\r\n   </g>\r\n   <g id=\"patch_28\">\r\n    <path clip-path=\"url(#pe385b4bfee)\" d=\"M 396.146649 117.118125 \r\nL 409.513068 117.118125 \r\nL 409.513068 116.06951 \r\nL 396.146649 116.06951 \r\nz\r\n\" style=\"fill:#0000ff;opacity:0.5;\"/>\r\n   </g>\r\n   <g id=\"matplotlib.axis_3\">\r\n    <g id=\"xtick_4\">\r\n     <g id=\"line2d_9\">\r\n      <g>\r\n       <use style=\"stroke:#000000;stroke-width:0.8;\" x=\"242.931136\" xlink:href=\"#ma26008b6c9\" y=\"117.118125\"/>\r\n      </g>\r\n     </g>\r\n     <g id=\"text_10\">\r\n      <!-- 0 -->\r\n      <g transform=\"translate(239.749886 131.716563)scale(0.1 -0.1)\">\r\n       <use xlink:href=\"#DejaVuSans-48\"/>\r\n      </g>\r\n     </g>\r\n    </g>\r\n    <g id=\"xtick_5\">\r\n     <g id=\"line2d_10\">\r\n      <g>\r\n       <use style=\"stroke:#000000;stroke-width:0.8;\" x=\"301.555783\" xlink:href=\"#ma26008b6c9\" y=\"117.118125\"/>\r\n      </g>\r\n     </g>\r\n     <g id=\"text_11\">\r\n      <!-- 200 -->\r\n      <g transform=\"translate(292.012033 131.716563)scale(0.1 -0.1)\">\r\n       <use xlink:href=\"#DejaVuSans-50\"/>\r\n       <use x=\"63.623047\" xlink:href=\"#DejaVuSans-48\"/>\r\n       <use x=\"127.246094\" xlink:href=\"#DejaVuSans-48\"/>\r\n      </g>\r\n     </g>\r\n    </g>\r\n    <g id=\"xtick_6\">\r\n     <g id=\"line2d_11\">\r\n      <g>\r\n       <use style=\"stroke:#000000;stroke-width:0.8;\" x=\"360.180429\" xlink:href=\"#ma26008b6c9\" y=\"117.118125\"/>\r\n      </g>\r\n     </g>\r\n     <g id=\"text_12\">\r\n      <!-- 400 -->\r\n      <g transform=\"translate(350.636679 131.716563)scale(0.1 -0.1)\">\r\n       <use xlink:href=\"#DejaVuSans-52\"/>\r\n       <use x=\"63.623047\" xlink:href=\"#DejaVuSans-48\"/>\r\n       <use x=\"127.246094\" xlink:href=\"#DejaVuSans-48\"/>\r\n      </g>\r\n     </g>\r\n    </g>\r\n   </g>\r\n   <g id=\"matplotlib.axis_4\">\r\n    <g id=\"ytick_4\">\r\n     <g id=\"line2d_12\">\r\n      <g>\r\n       <use style=\"stroke:#000000;stroke-width:0.8;\" x=\"237.5875\" xlink:href=\"#m17c3ba5321\" y=\"117.118125\"/>\r\n      </g>\r\n     </g>\r\n     <g id=\"text_13\">\r\n      <!-- 0 -->\r\n      <g transform=\"translate(224.225 120.917344)scale(0.1 -0.1)\">\r\n       <use xlink:href=\"#DejaVuSans-48\"/>\r\n      </g>\r\n     </g>\r\n    </g>\r\n    <g id=\"ytick_5\">\r\n     <g id=\"line2d_13\">\r\n      <g>\r\n       <use style=\"stroke:#000000;stroke-width:0.8;\" x=\"237.5875\" xlink:href=\"#m17c3ba5321\" y=\"90.902761\"/>\r\n      </g>\r\n     </g>\r\n     <g id=\"text_14\">\r\n      <!-- 25 -->\r\n      <g transform=\"translate(217.8625 94.70198)scale(0.1 -0.1)\">\r\n       <use xlink:href=\"#DejaVuSans-50\"/>\r\n       <use x=\"63.623047\" xlink:href=\"#DejaVuSans-53\"/>\r\n      </g>\r\n     </g>\r\n    </g>\r\n    <g id=\"ytick_6\">\r\n     <g id=\"line2d_14\">\r\n      <g>\r\n       <use style=\"stroke:#000000;stroke-width:0.8;\" x=\"237.5875\" xlink:href=\"#m17c3ba5321\" y=\"64.687397\"/>\r\n      </g>\r\n     </g>\r\n     <g id=\"text_15\">\r\n      <!-- 50 -->\r\n      <g transform=\"translate(217.8625 68.486615)scale(0.1 -0.1)\">\r\n       <use xlink:href=\"#DejaVuSans-53\"/>\r\n       <use x=\"63.623047\" xlink:href=\"#DejaVuSans-48\"/>\r\n      </g>\r\n     </g>\r\n    </g>\r\n    <g id=\"ytick_7\">\r\n     <g id=\"line2d_15\">\r\n      <g>\r\n       <use style=\"stroke:#000000;stroke-width:0.8;\" x=\"237.5875\" xlink:href=\"#m17c3ba5321\" y=\"38.472032\"/>\r\n      </g>\r\n     </g>\r\n     <g id=\"text_16\">\r\n      <!-- 75 -->\r\n      <g transform=\"translate(217.8625 42.271251)scale(0.1 -0.1)\">\r\n       <defs>\r\n        <path d=\"M 8.203125 72.90625 \r\nL 55.078125 72.90625 \r\nL 55.078125 68.703125 \r\nL 28.609375 0 \r\nL 18.3125 0 \r\nL 43.21875 64.59375 \r\nL 8.203125 64.59375 \r\nz\r\n\" id=\"DejaVuSans-55\"/>\r\n       </defs>\r\n       <use xlink:href=\"#DejaVuSans-55\"/>\r\n       <use x=\"63.623047\" xlink:href=\"#DejaVuSans-53\"/>\r\n      </g>\r\n     </g>\r\n    </g>\r\n   </g>\r\n   <g id=\"LineCollection_3\">\r\n    <path clip-path=\"url(#pe385b4bfee)\" d=\"M 256.962946 117.118125 \r\nL 256.962946 26.832411 \r\n\" style=\"fill:none;stroke:#ff0000;stroke-width:1.5;\"/>\r\n   </g>\r\n   <g id=\"LineCollection_4\">\r\n    <path clip-path=\"url(#pe385b4bfee)\" d=\"M 250.55234 117.118125 \r\nL 250.55234 26.832411 \r\n\" style=\"fill:none;stroke:#008000;stroke-width:1.5;\"/>\r\n   </g>\r\n   <g id=\"patch_29\">\r\n    <path d=\"M 237.5875 117.118125 \r\nL 237.5875 22.318125 \r\n\" style=\"fill:none;stroke:#000000;stroke-linecap:square;stroke-linejoin:miter;stroke-width:0.8;\"/>\r\n   </g>\r\n   <g id=\"patch_30\">\r\n    <path d=\"M 417.7 117.118125 \r\nL 417.7 22.318125 \r\n\" style=\"fill:none;stroke:#000000;stroke-linecap:square;stroke-linejoin:miter;stroke-width:0.8;\"/>\r\n   </g>\r\n   <g id=\"patch_31\">\r\n    <path d=\"M 237.5875 117.118125 \r\nL 417.7 117.118125 \r\n\" style=\"fill:none;stroke:#000000;stroke-linecap:square;stroke-linejoin:miter;stroke-width:0.8;\"/>\r\n   </g>\r\n   <g id=\"patch_32\">\r\n    <path d=\"M 237.5875 22.318125 \r\nL 417.7 22.318125 \r\n\" style=\"fill:none;stroke:#000000;stroke-linecap:square;stroke-linejoin:miter;stroke-width:0.8;\"/>\r\n   </g>\r\n   <g id=\"text_17\">\r\n    <!-- Neighbor Sharing -->\r\n    <g transform=\"translate(275.2975 16.318125)scale(0.12 -0.12)\">\r\n     <defs>\r\n      <path d=\"M 9.8125 72.90625 \r\nL 23.09375 72.90625 \r\nL 55.421875 11.921875 \r\nL 55.421875 72.90625 \r\nL 64.984375 72.90625 \r\nL 64.984375 0 \r\nL 51.703125 0 \r\nL 19.390625 60.984375 \r\nL 19.390625 0 \r\nL 9.8125 0 \r\nz\r\n\" id=\"DejaVuSans-78\"/>\r\n      <path d=\"M 48.6875 27.296875 \r\nQ 48.6875 37.203125 44.609375 42.84375 \r\nQ 40.53125 48.484375 33.40625 48.484375 \r\nQ 26.265625 48.484375 22.1875 42.84375 \r\nQ 18.109375 37.203125 18.109375 27.296875 \r\nQ 18.109375 17.390625 22.1875 11.75 \r\nQ 26.265625 6.109375 33.40625 6.109375 \r\nQ 40.53125 6.109375 44.609375 11.75 \r\nQ 48.6875 17.390625 48.6875 27.296875 \r\nz\r\nM 18.109375 46.390625 \r\nQ 20.953125 51.265625 25.265625 53.625 \r\nQ 29.59375 56 35.59375 56 \r\nQ 45.5625 56 51.78125 48.09375 \r\nQ 58.015625 40.1875 58.015625 27.296875 \r\nQ 58.015625 14.40625 51.78125 6.484375 \r\nQ 45.5625 -1.421875 35.59375 -1.421875 \r\nQ 29.59375 -1.421875 25.265625 0.953125 \r\nQ 20.953125 3.328125 18.109375 8.203125 \r\nL 18.109375 0 \r\nL 9.078125 0 \r\nL 9.078125 75.984375 \r\nL 18.109375 75.984375 \r\nz\r\n\" id=\"DejaVuSans-98\"/>\r\n      <path d=\"M 30.609375 48.390625 \r\nQ 23.390625 48.390625 19.1875 42.75 \r\nQ 14.984375 37.109375 14.984375 27.296875 \r\nQ 14.984375 17.484375 19.15625 11.84375 \r\nQ 23.34375 6.203125 30.609375 6.203125 \r\nQ 37.796875 6.203125 41.984375 11.859375 \r\nQ 46.1875 17.53125 46.1875 27.296875 \r\nQ 46.1875 37.015625 41.984375 42.703125 \r\nQ 37.796875 48.390625 30.609375 48.390625 \r\nz\r\nM 30.609375 56 \r\nQ 42.328125 56 49.015625 48.375 \r\nQ 55.71875 40.765625 55.71875 27.296875 \r\nQ 55.71875 13.875 49.015625 6.21875 \r\nQ 42.328125 -1.421875 30.609375 -1.421875 \r\nQ 18.84375 -1.421875 12.171875 6.21875 \r\nQ 5.515625 13.875 5.515625 27.296875 \r\nQ 5.515625 40.765625 12.171875 48.375 \r\nQ 18.84375 56 30.609375 56 \r\nz\r\n\" id=\"DejaVuSans-111\"/>\r\n     </defs>\r\n     <use xlink:href=\"#DejaVuSans-78\"/>\r\n     <use x=\"74.804688\" xlink:href=\"#DejaVuSans-101\"/>\r\n     <use x=\"136.328125\" xlink:href=\"#DejaVuSans-105\"/>\r\n     <use x=\"164.111328\" xlink:href=\"#DejaVuSans-103\"/>\r\n     <use x=\"227.587891\" xlink:href=\"#DejaVuSans-104\"/>\r\n     <use x=\"290.966797\" xlink:href=\"#DejaVuSans-98\"/>\r\n     <use x=\"354.443359\" xlink:href=\"#DejaVuSans-111\"/>\r\n     <use x=\"415.625\" xlink:href=\"#DejaVuSans-114\"/>\r\n     <use x=\"456.738281\" xlink:href=\"#DejaVuSans-32\"/>\r\n     <use x=\"488.525391\" xlink:href=\"#DejaVuSans-83\"/>\r\n     <use x=\"552.001953\" xlink:href=\"#DejaVuSans-104\"/>\r\n     <use x=\"615.380859\" xlink:href=\"#DejaVuSans-97\"/>\r\n     <use x=\"676.660156\" xlink:href=\"#DejaVuSans-114\"/>\r\n     <use x=\"717.773438\" xlink:href=\"#DejaVuSans-105\"/>\r\n     <use x=\"745.556641\" xlink:href=\"#DejaVuSans-110\"/>\r\n     <use x=\"808.935547\" xlink:href=\"#DejaVuSans-103\"/>\r\n    </g>\r\n   </g>\r\n   <g id=\"legend_2\">\r\n    <g id=\"patch_33\">\r\n     <path d=\"M 342.326563 59.674375 \r\nL 410.7 59.674375 \r\nQ 412.7 59.674375 412.7 57.674375 \r\nL 412.7 29.318125 \r\nQ 412.7 27.318125 410.7 27.318125 \r\nL 342.326563 27.318125 \r\nQ 340.326563 27.318125 340.326563 29.318125 \r\nL 340.326563 57.674375 \r\nQ 340.326563 59.674375 342.326563 59.674375 \r\nz\r\n\" style=\"fill:#ffffff;opacity:0.8;stroke:#cccccc;stroke-linejoin:miter;\"/>\r\n    </g>\r\n    <g id=\"line2d_16\">\r\n     <path d=\"M 344.326563 35.416562 \r\nL 364.326563 35.416562 \r\n\" style=\"fill:none;stroke:#ff0000;stroke-width:1.5;\"/>\r\n    </g>\r\n    <g id=\"text_18\">\r\n     <!-- Mean -->\r\n     <g transform=\"translate(372.326563 38.916562)scale(0.1 -0.1)\">\r\n      <use xlink:href=\"#DejaVuSans-77\"/>\r\n      <use x=\"86.279297\" xlink:href=\"#DejaVuSans-101\"/>\r\n      <use x=\"147.802734\" xlink:href=\"#DejaVuSans-97\"/>\r\n      <use x=\"209.082031\" xlink:href=\"#DejaVuSans-110\"/>\r\n     </g>\r\n    </g>\r\n    <g id=\"line2d_17\">\r\n     <path d=\"M 344.326563 50.094687 \r\nL 364.326563 50.094687 \r\n\" style=\"fill:none;stroke:#008000;stroke-width:1.5;\"/>\r\n    </g>\r\n    <g id=\"text_19\">\r\n     <!-- Median -->\r\n     <g transform=\"translate(372.326563 53.594687)scale(0.1 -0.1)\">\r\n      <use xlink:href=\"#DejaVuSans-77\"/>\r\n      <use x=\"86.279297\" xlink:href=\"#DejaVuSans-101\"/>\r\n      <use x=\"147.802734\" xlink:href=\"#DejaVuSans-100\"/>\r\n      <use x=\"211.279297\" xlink:href=\"#DejaVuSans-105\"/>\r\n      <use x=\"239.0625\" xlink:href=\"#DejaVuSans-97\"/>\r\n      <use x=\"300.341797\" xlink:href=\"#DejaVuSans-110\"/>\r\n     </g>\r\n    </g>\r\n   </g>\r\n  </g>\r\n  <g id=\"axes_3\">\r\n   <g id=\"patch_34\">\r\n    <path d=\"M 26.925 255.718125 \r\nL 207.0375 255.718125 \r\nL 207.0375 160.918125 \r\nL 26.925 160.918125 \r\nz\r\n\" style=\"fill:#ffffff;\"/>\r\n   </g>\r\n   <g id=\"patch_35\">\r\n    <path clip-path=\"url(#p9b2eac094c)\" d=\"M 35.111932 255.718125 \r\nL 48.478351 255.718125 \r\nL 48.478351 195.901503 \r\nL 35.111932 195.901503 \r\nz\r\n\" style=\"fill:#0000ff;opacity:0.5;\"/>\r\n   </g>\r\n   <g id=\"patch_36\">\r\n    <path clip-path=\"url(#p9b2eac094c)\" d=\"M 51.819956 255.718125 \r\nL 65.186375 255.718125 \r\nL 65.186375 169.73173 \r\nL 51.819956 169.73173 \r\nz\r\n\" style=\"fill:#0000ff;opacity:0.5;\"/>\r\n   </g>\r\n   <g id=\"patch_37\">\r\n    <path clip-path=\"url(#p9b2eac094c)\" d=\"M 68.52798 255.718125 \r\nL 81.894399 255.718125 \r\nL 81.894399 173.470269 \r\nL 68.52798 173.470269 \r\nz\r\n\" style=\"fill:#0000ff;opacity:0.5;\"/>\r\n   </g>\r\n   <g id=\"patch_38\">\r\n    <path clip-path=\"url(#p9b2eac094c)\" d=\"M 85.236004 255.718125 \r\nL 98.602423 255.718125 \r\nL 98.602423 195.901503 \r\nL 85.236004 195.901503 \r\nz\r\n\" style=\"fill:#0000ff;opacity:0.5;\"/>\r\n   </g>\r\n   <g id=\"patch_39\">\r\n    <path clip-path=\"url(#p9b2eac094c)\" d=\"M 101.944028 255.718125 \r\nL 115.310448 255.718125 \r\nL 115.310448 214.594197 \r\nL 101.944028 214.594197 \r\nz\r\n\" style=\"fill:#0000ff;opacity:0.5;\"/>\r\n   </g>\r\n   <g id=\"patch_40\">\r\n    <path clip-path=\"url(#p9b2eac094c)\" d=\"M 118.652052 255.718125 \r\nL 132.018472 255.718125 \r\nL 132.018472 225.809814 \r\nL 118.652052 225.809814 \r\nz\r\n\" style=\"fill:#0000ff;opacity:0.5;\"/>\r\n   </g>\r\n   <g id=\"patch_41\">\r\n    <path clip-path=\"url(#p9b2eac094c)\" d=\"M 135.360077 255.718125 \r\nL 148.726496 255.718125 \r\nL 148.726496 251.979586 \r\nL 135.360077 251.979586 \r\nz\r\n\" style=\"fill:#0000ff;opacity:0.5;\"/>\r\n   </g>\r\n   <g id=\"patch_42\">\r\n    <path clip-path=\"url(#p9b2eac094c)\" d=\"M 152.068101 255.718125 \r\nL 165.43452 255.718125 \r\nL 165.43452 251.979586 \r\nL 152.068101 251.979586 \r\nz\r\n\" style=\"fill:#0000ff;opacity:0.5;\"/>\r\n   </g>\r\n   <g id=\"patch_43\">\r\n    <path clip-path=\"url(#p9b2eac094c)\" d=\"M 168.776125 255.718125 \r\nL 182.142544 255.718125 \r\nL 182.142544 255.718125 \r\nL 168.776125 255.718125 \r\nz\r\n\" style=\"fill:#0000ff;opacity:0.5;\"/>\r\n   </g>\r\n   <g id=\"patch_44\">\r\n    <path clip-path=\"url(#p9b2eac094c)\" d=\"M 185.484149 255.718125 \r\nL 198.850568 255.718125 \r\nL 198.850568 248.241047 \r\nL 185.484149 248.241047 \r\nz\r\n\" style=\"fill:#0000ff;opacity:0.5;\"/>\r\n   </g>\r\n   <g id=\"matplotlib.axis_5\">\r\n    <g id=\"xtick_7\">\r\n     <g id=\"line2d_18\">\r\n      <g>\r\n       <use style=\"stroke:#000000;stroke-width:0.8;\" x=\"28.560134\" xlink:href=\"#ma26008b6c9\" y=\"255.718125\"/>\r\n      </g>\r\n     </g>\r\n     <g id=\"text_20\">\r\n      <!-- 0 -->\r\n      <g transform=\"translate(25.378884 270.316563)scale(0.1 -0.1)\">\r\n       <use xlink:href=\"#DejaVuSans-48\"/>\r\n      </g>\r\n     </g>\r\n    </g>\r\n    <g id=\"xtick_8\">\r\n     <g id=\"line2d_19\">\r\n      <g>\r\n       <use style=\"stroke:#000000;stroke-width:0.8;\" x=\"66.106255\" xlink:href=\"#ma26008b6c9\" y=\"255.718125\"/>\r\n      </g>\r\n     </g>\r\n     <g id=\"text_21\">\r\n      <!-- 100 -->\r\n      <g transform=\"translate(56.562505 270.316563)scale(0.1 -0.1)\">\r\n       <use xlink:href=\"#DejaVuSans-49\"/>\r\n       <use x=\"63.623047\" xlink:href=\"#DejaVuSans-48\"/>\r\n       <use x=\"127.246094\" xlink:href=\"#DejaVuSans-48\"/>\r\n      </g>\r\n     </g>\r\n    </g>\r\n    <g id=\"xtick_9\">\r\n     <g id=\"line2d_20\">\r\n      <g>\r\n       <use style=\"stroke:#000000;stroke-width:0.8;\" x=\"103.652377\" xlink:href=\"#ma26008b6c9\" y=\"255.718125\"/>\r\n      </g>\r\n     </g>\r\n     <g id=\"text_22\">\r\n      <!-- 200 -->\r\n      <g transform=\"translate(94.108627 270.316563)scale(0.1 -0.1)\">\r\n       <use xlink:href=\"#DejaVuSans-50\"/>\r\n       <use x=\"63.623047\" xlink:href=\"#DejaVuSans-48\"/>\r\n       <use x=\"127.246094\" xlink:href=\"#DejaVuSans-48\"/>\r\n      </g>\r\n     </g>\r\n    </g>\r\n    <g id=\"xtick_10\">\r\n     <g id=\"line2d_21\">\r\n      <g>\r\n       <use style=\"stroke:#000000;stroke-width:0.8;\" x=\"141.198498\" xlink:href=\"#ma26008b6c9\" y=\"255.718125\"/>\r\n      </g>\r\n     </g>\r\n     <g id=\"text_23\">\r\n      <!-- 300 -->\r\n      <g transform=\"translate(131.654748 270.316563)scale(0.1 -0.1)\">\r\n       <defs>\r\n        <path d=\"M 40.578125 39.3125 \r\nQ 47.65625 37.796875 51.625 33 \r\nQ 55.609375 28.21875 55.609375 21.1875 \r\nQ 55.609375 10.40625 48.1875 4.484375 \r\nQ 40.765625 -1.421875 27.09375 -1.421875 \r\nQ 22.515625 -1.421875 17.65625 -0.515625 \r\nQ 12.796875 0.390625 7.625 2.203125 \r\nL 7.625 11.71875 \r\nQ 11.71875 9.328125 16.59375 8.109375 \r\nQ 21.484375 6.890625 26.8125 6.890625 \r\nQ 36.078125 6.890625 40.9375 10.546875 \r\nQ 45.796875 14.203125 45.796875 21.1875 \r\nQ 45.796875 27.640625 41.28125 31.265625 \r\nQ 36.765625 34.90625 28.71875 34.90625 \r\nL 20.21875 34.90625 \r\nL 20.21875 43.015625 \r\nL 29.109375 43.015625 \r\nQ 36.375 43.015625 40.234375 45.921875 \r\nQ 44.09375 48.828125 44.09375 54.296875 \r\nQ 44.09375 59.90625 40.109375 62.90625 \r\nQ 36.140625 65.921875 28.71875 65.921875 \r\nQ 24.65625 65.921875 20.015625 65.03125 \r\nQ 15.375 64.15625 9.8125 62.3125 \r\nL 9.8125 71.09375 \r\nQ 15.4375 72.65625 20.34375 73.4375 \r\nQ 25.25 74.21875 29.59375 74.21875 \r\nQ 40.828125 74.21875 47.359375 69.109375 \r\nQ 53.90625 64.015625 53.90625 55.328125 \r\nQ 53.90625 49.265625 50.4375 45.09375 \r\nQ 46.96875 40.921875 40.578125 39.3125 \r\nz\r\n\" id=\"DejaVuSans-51\"/>\r\n       </defs>\r\n       <use xlink:href=\"#DejaVuSans-51\"/>\r\n       <use x=\"63.623047\" xlink:href=\"#DejaVuSans-48\"/>\r\n       <use x=\"127.246094\" xlink:href=\"#DejaVuSans-48\"/>\r\n      </g>\r\n     </g>\r\n    </g>\r\n    <g id=\"xtick_11\">\r\n     <g id=\"line2d_22\">\r\n      <g>\r\n       <use style=\"stroke:#000000;stroke-width:0.8;\" x=\"178.74462\" xlink:href=\"#ma26008b6c9\" y=\"255.718125\"/>\r\n      </g>\r\n     </g>\r\n     <g id=\"text_24\">\r\n      <!-- 400 -->\r\n      <g transform=\"translate(169.20087 270.316563)scale(0.1 -0.1)\">\r\n       <use xlink:href=\"#DejaVuSans-52\"/>\r\n       <use x=\"63.623047\" xlink:href=\"#DejaVuSans-48\"/>\r\n       <use x=\"127.246094\" xlink:href=\"#DejaVuSans-48\"/>\r\n      </g>\r\n     </g>\r\n    </g>\r\n   </g>\r\n   <g id=\"matplotlib.axis_6\">\r\n    <g id=\"ytick_8\">\r\n     <g id=\"line2d_23\">\r\n      <g>\r\n       <use style=\"stroke:#000000;stroke-width:0.8;\" x=\"26.925\" xlink:href=\"#m17c3ba5321\" y=\"255.718125\"/>\r\n      </g>\r\n     </g>\r\n     <g id=\"text_25\">\r\n      <!-- 0 -->\r\n      <g transform=\"translate(13.5625 259.517344)scale(0.1 -0.1)\">\r\n       <use xlink:href=\"#DejaVuSans-48\"/>\r\n      </g>\r\n     </g>\r\n    </g>\r\n    <g id=\"ytick_9\">\r\n     <g id=\"line2d_24\">\r\n      <g>\r\n       <use style=\"stroke:#000000;stroke-width:0.8;\" x=\"26.925\" xlink:href=\"#m17c3ba5321\" y=\"218.332736\"/>\r\n      </g>\r\n     </g>\r\n     <g id=\"text_26\">\r\n      <!-- 10 -->\r\n      <g transform=\"translate(7.2 222.131955)scale(0.1 -0.1)\">\r\n       <use xlink:href=\"#DejaVuSans-49\"/>\r\n       <use x=\"63.623047\" xlink:href=\"#DejaVuSans-48\"/>\r\n      </g>\r\n     </g>\r\n    </g>\r\n    <g id=\"ytick_10\">\r\n     <g id=\"line2d_25\">\r\n      <g>\r\n       <use style=\"stroke:#000000;stroke-width:0.8;\" x=\"26.925\" xlink:href=\"#m17c3ba5321\" y=\"180.947347\"/>\r\n      </g>\r\n     </g>\r\n     <g id=\"text_27\">\r\n      <!-- 20 -->\r\n      <g transform=\"translate(7.2 184.746566)scale(0.1 -0.1)\">\r\n       <use xlink:href=\"#DejaVuSans-50\"/>\r\n       <use x=\"63.623047\" xlink:href=\"#DejaVuSans-48\"/>\r\n      </g>\r\n     </g>\r\n    </g>\r\n   </g>\r\n   <g id=\"LineCollection_5\">\r\n    <path clip-path=\"url(#p9b2eac094c)\" d=\"M 79.81059 255.718125 \r\nL 79.81059 165.432411 \r\n\" style=\"fill:none;stroke:#ff0000;stroke-width:1.5;\"/>\r\n   </g>\r\n   <g id=\"LineCollection_6\">\r\n    <path clip-path=\"url(#p9b2eac094c)\" d=\"M 75.492786 255.718125 \r\nL 75.492786 165.432411 \r\n\" style=\"fill:none;stroke:#008000;stroke-width:1.5;\"/>\r\n   </g>\r\n   <g id=\"patch_45\">\r\n    <path d=\"M 26.925 255.718125 \r\nL 26.925 160.918125 \r\n\" style=\"fill:none;stroke:#000000;stroke-linecap:square;stroke-linejoin:miter;stroke-width:0.8;\"/>\r\n   </g>\r\n   <g id=\"patch_46\">\r\n    <path d=\"M 207.0375 255.718125 \r\nL 207.0375 160.918125 \r\n\" style=\"fill:none;stroke:#000000;stroke-linecap:square;stroke-linejoin:miter;stroke-width:0.8;\"/>\r\n   </g>\r\n   <g id=\"patch_47\">\r\n    <path d=\"M 26.925 255.718125 \r\nL 207.0375 255.718125 \r\n\" style=\"fill:none;stroke:#000000;stroke-linecap:square;stroke-linejoin:miter;stroke-width:0.8;\"/>\r\n   </g>\r\n   <g id=\"patch_48\">\r\n    <path d=\"M 26.925 160.918125 \r\nL 207.0375 160.918125 \r\n\" style=\"fill:none;stroke:#000000;stroke-linecap:square;stroke-linejoin:miter;stroke-width:0.8;\"/>\r\n   </g>\r\n   <g id=\"text_28\">\r\n    <!-- Fully Connected Neighbor Sharing -->\r\n    <g transform=\"translate(14.702813 154.918125)scale(0.12 -0.12)\">\r\n     <defs>\r\n      <path d=\"M 9.8125 72.90625 \r\nL 51.703125 72.90625 \r\nL 51.703125 64.59375 \r\nL 19.671875 64.59375 \r\nL 19.671875 43.109375 \r\nL 48.578125 43.109375 \r\nL 48.578125 34.8125 \r\nL 19.671875 34.8125 \r\nL 19.671875 0 \r\nL 9.8125 0 \r\nz\r\n\" id=\"DejaVuSans-70\"/>\r\n      <path d=\"M 8.5 21.578125 \r\nL 8.5 54.6875 \r\nL 17.484375 54.6875 \r\nL 17.484375 21.921875 \r\nQ 17.484375 14.15625 20.5 10.265625 \r\nQ 23.53125 6.390625 29.59375 6.390625 \r\nQ 36.859375 6.390625 41.078125 11.03125 \r\nQ 45.3125 15.671875 45.3125 23.6875 \r\nL 45.3125 54.6875 \r\nL 54.296875 54.6875 \r\nL 54.296875 0 \r\nL 45.3125 0 \r\nL 45.3125 8.40625 \r\nQ 42.046875 3.421875 37.71875 1 \r\nQ 33.40625 -1.421875 27.6875 -1.421875 \r\nQ 18.265625 -1.421875 13.375 4.4375 \r\nQ 8.5 10.296875 8.5 21.578125 \r\nz\r\nM 31.109375 56 \r\nz\r\n\" id=\"DejaVuSans-117\"/>\r\n      <path d=\"M 9.421875 75.984375 \r\nL 18.40625 75.984375 \r\nL 18.40625 0 \r\nL 9.421875 0 \r\nz\r\n\" id=\"DejaVuSans-108\"/>\r\n      <path d=\"M 32.171875 -5.078125 \r\nQ 28.375 -14.84375 24.75 -17.8125 \r\nQ 21.140625 -20.796875 15.09375 -20.796875 \r\nL 7.90625 -20.796875 \r\nL 7.90625 -13.28125 \r\nL 13.1875 -13.28125 \r\nQ 16.890625 -13.28125 18.9375 -11.515625 \r\nQ 21 -9.765625 23.484375 -3.21875 \r\nL 25.09375 0.875 \r\nL 2.984375 54.6875 \r\nL 12.5 54.6875 \r\nL 29.59375 11.921875 \r\nL 46.6875 54.6875 \r\nL 56.203125 54.6875 \r\nz\r\n\" id=\"DejaVuSans-121\"/>\r\n      <path d=\"M 64.40625 67.28125 \r\nL 64.40625 56.890625 \r\nQ 59.421875 61.53125 53.78125 63.8125 \r\nQ 48.140625 66.109375 41.796875 66.109375 \r\nQ 29.296875 66.109375 22.65625 58.46875 \r\nQ 16.015625 50.828125 16.015625 36.375 \r\nQ 16.015625 21.96875 22.65625 14.328125 \r\nQ 29.296875 6.6875 41.796875 6.6875 \r\nQ 48.140625 6.6875 53.78125 8.984375 \r\nQ 59.421875 11.28125 64.40625 15.921875 \r\nL 64.40625 5.609375 \r\nQ 59.234375 2.09375 53.4375 0.328125 \r\nQ 47.65625 -1.421875 41.21875 -1.421875 \r\nQ 24.65625 -1.421875 15.125 8.703125 \r\nQ 5.609375 18.84375 5.609375 36.375 \r\nQ 5.609375 53.953125 15.125 64.078125 \r\nQ 24.65625 74.21875 41.21875 74.21875 \r\nQ 47.75 74.21875 53.53125 72.484375 \r\nQ 59.328125 70.75 64.40625 67.28125 \r\nz\r\n\" id=\"DejaVuSans-67\"/>\r\n      <path d=\"M 48.78125 52.59375 \r\nL 48.78125 44.1875 \r\nQ 44.96875 46.296875 41.140625 47.34375 \r\nQ 37.3125 48.390625 33.40625 48.390625 \r\nQ 24.65625 48.390625 19.8125 42.84375 \r\nQ 14.984375 37.3125 14.984375 27.296875 \r\nQ 14.984375 17.28125 19.8125 11.734375 \r\nQ 24.65625 6.203125 33.40625 6.203125 \r\nQ 37.3125 6.203125 41.140625 7.25 \r\nQ 44.96875 8.296875 48.78125 10.40625 \r\nL 48.78125 2.09375 \r\nQ 45.015625 0.34375 40.984375 -0.53125 \r\nQ 36.96875 -1.421875 32.421875 -1.421875 \r\nQ 20.0625 -1.421875 12.78125 6.34375 \r\nQ 5.515625 14.109375 5.515625 27.296875 \r\nQ 5.515625 40.671875 12.859375 48.328125 \r\nQ 20.21875 56 33.015625 56 \r\nQ 37.15625 56 41.109375 55.140625 \r\nQ 45.0625 54.296875 48.78125 52.59375 \r\nz\r\n\" id=\"DejaVuSans-99\"/>\r\n      <path d=\"M 18.3125 70.21875 \r\nL 18.3125 54.6875 \r\nL 36.8125 54.6875 \r\nL 36.8125 47.703125 \r\nL 18.3125 47.703125 \r\nL 18.3125 18.015625 \r\nQ 18.3125 11.328125 20.140625 9.421875 \r\nQ 21.96875 7.515625 27.59375 7.515625 \r\nL 36.8125 7.515625 \r\nL 36.8125 0 \r\nL 27.59375 0 \r\nQ 17.1875 0 13.234375 3.875 \r\nQ 9.28125 7.765625 9.28125 18.015625 \r\nL 9.28125 47.703125 \r\nL 2.6875 47.703125 \r\nL 2.6875 54.6875 \r\nL 9.28125 54.6875 \r\nL 9.28125 70.21875 \r\nz\r\n\" id=\"DejaVuSans-116\"/>\r\n     </defs>\r\n     <use xlink:href=\"#DejaVuSans-70\"/>\r\n     <use x=\"52.019531\" xlink:href=\"#DejaVuSans-117\"/>\r\n     <use x=\"115.398438\" xlink:href=\"#DejaVuSans-108\"/>\r\n     <use x=\"143.181641\" xlink:href=\"#DejaVuSans-108\"/>\r\n     <use x=\"170.964844\" xlink:href=\"#DejaVuSans-121\"/>\r\n     <use x=\"230.144531\" xlink:href=\"#DejaVuSans-32\"/>\r\n     <use x=\"261.931641\" xlink:href=\"#DejaVuSans-67\"/>\r\n     <use x=\"331.755859\" xlink:href=\"#DejaVuSans-111\"/>\r\n     <use x=\"392.9375\" xlink:href=\"#DejaVuSans-110\"/>\r\n     <use x=\"456.316406\" xlink:href=\"#DejaVuSans-110\"/>\r\n     <use x=\"519.695312\" xlink:href=\"#DejaVuSans-101\"/>\r\n     <use x=\"581.21875\" xlink:href=\"#DejaVuSans-99\"/>\r\n     <use x=\"636.199219\" xlink:href=\"#DejaVuSans-116\"/>\r\n     <use x=\"675.408203\" xlink:href=\"#DejaVuSans-101\"/>\r\n     <use x=\"736.931641\" xlink:href=\"#DejaVuSans-100\"/>\r\n     <use x=\"800.408203\" xlink:href=\"#DejaVuSans-32\"/>\r\n     <use x=\"832.195312\" xlink:href=\"#DejaVuSans-78\"/>\r\n     <use x=\"907\" xlink:href=\"#DejaVuSans-101\"/>\r\n     <use x=\"968.523438\" xlink:href=\"#DejaVuSans-105\"/>\r\n     <use x=\"996.306641\" xlink:href=\"#DejaVuSans-103\"/>\r\n     <use x=\"1059.783203\" xlink:href=\"#DejaVuSans-104\"/>\r\n     <use x=\"1123.162109\" xlink:href=\"#DejaVuSans-98\"/>\r\n     <use x=\"1186.638672\" xlink:href=\"#DejaVuSans-111\"/>\r\n     <use x=\"1247.820312\" xlink:href=\"#DejaVuSans-114\"/>\r\n     <use x=\"1288.933594\" xlink:href=\"#DejaVuSans-32\"/>\r\n     <use x=\"1320.720703\" xlink:href=\"#DejaVuSans-83\"/>\r\n     <use x=\"1384.197266\" xlink:href=\"#DejaVuSans-104\"/>\r\n     <use x=\"1447.576172\" xlink:href=\"#DejaVuSans-97\"/>\r\n     <use x=\"1508.855469\" xlink:href=\"#DejaVuSans-114\"/>\r\n     <use x=\"1549.96875\" xlink:href=\"#DejaVuSans-105\"/>\r\n     <use x=\"1577.751953\" xlink:href=\"#DejaVuSans-110\"/>\r\n     <use x=\"1641.130859\" xlink:href=\"#DejaVuSans-103\"/>\r\n    </g>\r\n   </g>\r\n   <g id=\"legend_3\">\r\n    <g id=\"patch_49\">\r\n     <path d=\"M 131.664063 198.274375 \r\nL 200.0375 198.274375 \r\nQ 202.0375 198.274375 202.0375 196.274375 \r\nL 202.0375 167.918125 \r\nQ 202.0375 165.918125 200.0375 165.918125 \r\nL 131.664063 165.918125 \r\nQ 129.664063 165.918125 129.664063 167.918125 \r\nL 129.664063 196.274375 \r\nQ 129.664063 198.274375 131.664063 198.274375 \r\nz\r\n\" style=\"fill:#ffffff;opacity:0.8;stroke:#cccccc;stroke-linejoin:miter;\"/>\r\n    </g>\r\n    <g id=\"line2d_26\">\r\n     <path d=\"M 133.664063 174.016563 \r\nL 153.664063 174.016563 \r\n\" style=\"fill:none;stroke:#ff0000;stroke-width:1.5;\"/>\r\n    </g>\r\n    <g id=\"text_29\">\r\n     <!-- Mean -->\r\n     <g transform=\"translate(161.664063 177.516563)scale(0.1 -0.1)\">\r\n      <use xlink:href=\"#DejaVuSans-77\"/>\r\n      <use x=\"86.279297\" xlink:href=\"#DejaVuSans-101\"/>\r\n      <use x=\"147.802734\" xlink:href=\"#DejaVuSans-97\"/>\r\n      <use x=\"209.082031\" xlink:href=\"#DejaVuSans-110\"/>\r\n     </g>\r\n    </g>\r\n    <g id=\"line2d_27\">\r\n     <path d=\"M 133.664063 188.694688 \r\nL 153.664063 188.694688 \r\n\" style=\"fill:none;stroke:#008000;stroke-width:1.5;\"/>\r\n    </g>\r\n    <g id=\"text_30\">\r\n     <!-- Median -->\r\n     <g transform=\"translate(161.664063 192.194688)scale(0.1 -0.1)\">\r\n      <use xlink:href=\"#DejaVuSans-77\"/>\r\n      <use x=\"86.279297\" xlink:href=\"#DejaVuSans-101\"/>\r\n      <use x=\"147.802734\" xlink:href=\"#DejaVuSans-100\"/>\r\n      <use x=\"211.279297\" xlink:href=\"#DejaVuSans-105\"/>\r\n      <use x=\"239.0625\" xlink:href=\"#DejaVuSans-97\"/>\r\n      <use x=\"300.341797\" xlink:href=\"#DejaVuSans-110\"/>\r\n     </g>\r\n    </g>\r\n   </g>\r\n  </g>\r\n </g>\r\n <defs>\r\n  <clipPath id=\"p8059dcd439\">\r\n   <rect height=\"94.8\" width=\"180.1125\" x=\"26.925\" y=\"22.318125\"/>\r\n  </clipPath>\r\n  <clipPath id=\"pe385b4bfee\">\r\n   <rect height=\"94.8\" width=\"180.1125\" x=\"237.5875\" y=\"22.318125\"/>\r\n  </clipPath>\r\n  <clipPath id=\"p9b2eac094c\">\r\n   <rect height=\"94.8\" width=\"180.1125\" x=\"26.925\" y=\"160.918125\"/>\r\n  </clipPath>\r\n </defs>\r\n</svg>\r\n",
      "image/png": "[encoded data removed]"
     },
     "metadata": {
      "needs_background": "light"
     }
    },
    {
     "output_type": "stream",
     "name": "stdout",
     "text": [
      "Kinship Sharing:\nMean time to discovery of C1/C2 =  34.78 rounds\nMedian time to discovery of C1/C2 =  30.5 rounds\n\nNeighbor Sharing:\nMean time to discovery of C1/C2 =  47.87 rounds\nMedian time to discovery of C1/C2 =  26.0 rounds\n\nFully Connected Neighbor Sharing:\nMean time to discovery of C1/C2 =  136.5 rounds\nMedian time to discovery of C1/C2 =  125.0 rounds\n"
     ]
    }
   ],
   "source": [
    "plt.subplot(2, 2, 1)\n",
    "plt.hist(simduration1, facecolor='b', alpha=.5, rwidth=.8)\n",
    "ymin, ymax = plt.gca().get_ylim()\n",
    "plt.vlines(mean1, colors = 'r', ymin = ymin, ymax = ymax, label = 'Mean')\n",
    "plt.vlines(median1, colors = 'g', ymin = ymin, ymax = ymax, label = 'Median')\n",
    "plt.gca().legend()\n",
    "plt.title('Kinship Sharing')\n",
    "\n",
    "plt.subplot(2, 2, 2)\n",
    "plt.hist(simduration2, facecolor='b', alpha=.5, rwidth=.8)\n",
    "ymin, ymax = plt.gca().get_ylim()\n",
    "plt.vlines(mean2, colors = 'r', ymin = ymin, ymax = ymax, label = 'Mean')\n",
    "plt.vlines(median2, colors = 'g', ymin = ymin, ymax = ymax, label = 'Median')\n",
    "plt.gca().legend()\n",
    "plt.title('Neighbor Sharing')\n",
    "\n",
    "plt.subplot(2, 2, 3)\n",
    "plt.hist(simduration3, facecolor='b', alpha=.5, rwidth=.8)\n",
    "ymin, ymax = plt.gca().get_ylim()\n",
    "plt.vlines(mean3, colors = 'r', ymin = ymin, ymax = ymax, label = 'Mean')\n",
    "plt.vlines(median3, colors = 'g', ymin = ymin, ymax = ymax, label = 'Median')\n",
    "plt.gca().legend()\n",
    "plt.title('Fully Connected Neighbor Sharing')\n",
    "\n",
    "plt.tight_layout()\n",
    "plt.show()\n",
    "\n",
    "print(\"Kinship Sharing:\")\n",
    "print(\"Mean time to discovery of C1/C2 = \", mean1, \"rounds\")\n",
    "print(\"Median time to discovery of C1/C2 = \", median1, \"rounds\")\n",
    "print(\"\")\n",
    "print(\"Neighbor Sharing:\")\n",
    "print(\"Mean time to discovery of C1/C2 = \", mean2, \"rounds\")\n",
    "print(\"Median time to discovery of C1/C2 = \", median2, \"rounds\")\n",
    "print(\"\")\n",
    "print(\"Fully Connected Neighbor Sharing:\")\n",
    "print(\"Mean time to discovery of C1/C2 = \", mean3, \"rounds\")\n",
    "print(\"Median time to discovery of C1/C2 = \", median3, \"rounds\")"
   ]
  },
  {
   "cell_type": "code",
   "execution_count": null,
   "metadata": {},
   "outputs": [],
   "source": []
  }
 ],
 "metadata": {
  "kernelspec": {
   "display_name": "Python 3",
   "language": "python",
   "name": "python3"
  },
  "language_info": {
   "codemirror_mode": {
    "name": "ipython",
    "version": 3
   },
   "file_extension": ".py",
   "mimetype": "text/x-python",
   "name": "python",
   "nbconvert_exporter": "python",
   "pygments_lexer": "ipython3",
   "version": "3.9.1-final"
  }
 },
 "nbformat": 4,
 "nbformat_minor": 2
}