{
 "cells": [
  {
   "cell_type": "markdown",
   "metadata": {},
   "source": [
    "# ABM 5 \n",
    "## Cultural evolution"
   ]
  },
  {
   "cell_type": "markdown",
   "metadata": {},
   "source": [
    "<p> We will simulate the cultural evolution of a medicinal cocktail through various rounds of recombination of an initial set of basic ingredients. <br>\n",
    "The simulation was based on an experiment where pairs of individuals mixed virtual medicines to generate cocktails. Some unique combinations represented innovations of higher medicinal value. <br>\n",
    "The end of the simulation occurs when a pair combines two lineages of cocktails A and B into a super drug cocktail C. \n",
    "\n",
    "Cultural evolution occurs in a social network, where edges differ by their weight (reflecting level of social contact). <br> \n",
    "So first we import the file with data on nodes, edges and weights.</p>"
   ]
  },
  {
   "cell_type": "code",
   "execution_count": 1,
   "metadata": {},
   "outputs": [
    {
     "output_type": "stream",
     "name": "stdout",
     "text": [
      "Name: \nType: Graph\nNumber of nodes: 53\nNumber of edges: 477\nAverage degree:  18.0000\n"
     ]
    }
   ],
   "source": [
    "import networkx as nx\n",
    "import random as rd\n",
    "import numpy as np\n",
    "\n",
    "net = 'agtanet.txt'\n",
    "G = nx.read_weighted_edgelist(net, nodetype = int)\n",
    "print(nx.info(G))"
   ]
  },
  {
   "cell_type": "code",
   "execution_count": 2,
   "metadata": {},
   "outputs": [
    {
     "output_type": "execute_result",
     "data": {
      "text/plain": [
       "NodeView((0, 1, 2, 11, 20, 22, 23, 24, 25, 27, 31, 32, 33, 35, 36, 37, 38, 41, 43, 45, 13, 42, 44, 3, 4, 6, 7, 8, 15, 16, 21, 26, 28, 29, 30, 46, 5, 47, 48, 40, 9, 12, 14, 18, 19, 10, 17, 34, 39, 52, 49, 50, 51))"
      ]
     },
     "metadata": {},
     "execution_count": 2
    }
   ],
   "source": [
    "#list of nodes in G\n",
    "G.nodes()"
   ]
  },
  {
   "cell_type": "code",
   "execution_count": 3,
   "metadata": {},
   "outputs": [
    {
     "output_type": "execute_result",
     "data": {
      "text/plain": [
       "AtlasView({0: {'weight': 269.0}, 2: {'weight': 3.0}, 11: {'weight': 1.0}, 13: {'weight': 1.0}, 20: {'weight': 1.0}, 22: {'weight': 9.0}, 23: {'weight': 12.0}, 24: {'weight': 107.0}, 25: {'weight': 3.0}, 27: {'weight': 5.0}, 31: {'weight': 1.0}, 33: {'weight': 6.0}, 35: {'weight': 1.0}, 37: {'weight': 2.0}, 38: {'weight': 1.0}, 41: {'weight': 1.0}, 42: {'weight': 1.0}, 43: {'weight': 11.0}, 44: {'weight': 1.0}, 45: {'weight': 3.0}})"
      ]
     },
     "metadata": {},
     "execution_count": 3
    }
   ],
   "source": [
    "# important: G[i] lists all neighbours of node i in G\n",
    "G[1] "
   ]
  },
  {
   "cell_type": "code",
   "execution_count": 4,
   "metadata": {},
   "outputs": [
    {
     "output_type": "execute_result",
     "data": {
      "text/plain": [
       "{'weight': 7.0}"
      ]
     },
     "metadata": {},
     "execution_count": 4
    }
   ],
   "source": [
    "# would list all 477 edges\n",
    "G.edges()\n",
    "\n",
    "# all edges with data (weight) info\n",
    "G.edges(data=True) \n",
    "\n",
    "# lists data (weight) on that edge\n",
    "G[2][26] \n",
    "\n",
    "#G.has_edge(2,36) "
   ]
  },
  {
   "cell_type": "markdown",
   "metadata": {},
   "source": [
    "<p> We have another file with info on kinship (relatedness) between the  nodes in each dyad.<br> \n",
    "Kinship is coded as kin = 10 (close kin), kin = 20 (distant kin), kin = 30 (non-kin). <br>\n",
    "Let us import is as well with another name.</p>"
   ]
  },
  {
   "cell_type": "code",
   "execution_count": 5,
   "metadata": {},
   "outputs": [
    {
     "output_type": "stream",
     "name": "stdout",
     "text": [
      "['0 1 269.0 10\\n']\n"
     ]
    }
   ],
   "source": [
    "kin = 'agtanetkin.txt'\n",
    "file_kin = open(kin, \"r\") # 'open' reads kin and creates kinfile\n",
    "\n",
    "line1 = file_kin.readlines(1) # thats how the start of kin was read\n",
    "print(line1)"
   ]
  },
  {
   "cell_type": "markdown",
   "metadata": {},
   "source": [
    "We need to read each line properly for our purposes "
   ]
  },
  {
   "cell_type": "code",
   "execution_count": 6,
   "metadata": {
    "scrolled": true
   },
   "outputs": [
    {
     "output_type": "stream",
     "name": "stdout",
     "text": [
      "0 2 3.0 30\n\n['0', ' ', '2', ' ', '3', '.', '0', ' ', '3', '0', '\\n']\n['0', '2', '3.0', '30\\n']\n['0', '2', '3.0', '30']\n[0, 2, 3, 30]\n"
     ]
    }
   ],
   "source": [
    "for line in file_kin.readlines(1):\n",
    "    print(line)\n",
    "    elems0 = [x for x in line]\n",
    "    elems1 = [x for x in line.split(\" \")]\n",
    "    elems2 = [x for x in line.strip(\"\\n \").split(\" \")]\n",
    "    elems3 = [int(float(x)) for x in line.strip(\"\\n \").split(\" \")] # that's what we want \n",
    "    #elems4 = [float(x) if \".\" in x else int(x) for x in line.strip(\"\\n \").split(\" \")]\n",
    "    \n",
    "print(elems0)\n",
    "print(elems1)\n",
    "print(elems2)\n",
    "print(elems3)\n",
    "#print(elems4)"
   ]
  },
  {
   "cell_type": "code",
   "execution_count": 7,
   "metadata": {},
   "outputs": [],
   "source": [
    "Agtakin = 'agtanetkin.txt'\n",
    "file_kin = open(Agtakin, \"r\") \n",
    "\n",
    "for line in file_kin.readlines(): \n",
    "    elems = [int(float(x)) if \"e\" in x or \".\" in x else int(x) for x in line.strip(\"\\n \").split(\" \")]\n",
    "    i=int(elems[0]) # extracts i and j nodes from dyad\n",
    "    j=int(elems[1])\n",
    "    kinship= int(elems[3]/10) # so kinship is 1 for close kin, 2 for distant kin, 3 for non-kin\n",
    "    #print(kinship)\n",
    "    \n",
    "    if G.has_edge(i,j) == True: # now check in G if (i, j) exists\n",
    "        G[i][j]['kin']=kinship # if so, create variable kin with value kinship \n",
    "\n",
    "file_kin.close()"
   ]
  },
  {
   "cell_type": "code",
   "execution_count": 10,
   "metadata": {},
   "outputs": [
    {
     "output_type": "execute_result",
     "data": {
      "text/plain": [
       "EdgeDataView([(0, 1, {'weight': 269.0, 'kin': 1}), (0, 2, {'weight': 3.0, 'kin': 3}), (0, 11, {'weight': 1.0, 'kin': 3}), (0, 20, {'weight': 1.0, 'kin': 3}), (0, 22, {'weight': 1.0, 'kin': 3}), (0, 23, {'weight': 4.0, 'kin': 3}), (0, 24, {'weight': 115.0, 'kin': 3}), (0, 25, {'weight': 1.0, 'kin': 3}), (0, 27, {'weight': 2.0, 'kin': 3}), (0, 31, {'weight': 1.0, 'kin': 3}), (0, 32, {'weight': 1.0, 'kin': 3}), (0, 33, {'weight': 4.0, 'kin': 3}), (0, 35, {'weight': 1.0, 'kin': 3}), (0, 36, {'weight': 1.0, 'kin': 3}), (0, 37, {'weight': 1.0, 'kin': 3}), (0, 38, {'weight': 1.0, 'kin': 3}), (0, 41, {'weight': 2.0, 'kin': 3}), (0, 43, {'weight': 1.0, 'kin': 3}), (0, 45, {'weight': 2.0, 'kin': 3}), (1, 2, {'weight': 3.0, 'kin': 3}), (1, 11, {'weight': 1.0, 'kin': 3}), (1, 13, {'weight': 1.0, 'kin': 3}), (1, 20, {'weight': 1.0, 'kin': 3}), (1, 22, {'weight': 9.0, 'kin': 3}), (1, 23, {'weight': 12.0, 'kin': 3}), (1, 24, {'weight': 107.0, 'kin': 1}), (1, 25, {'weight': 3.0, 'kin': 2}), (1, 27, {'weight': 5.0, 'kin': 2}), (1, 31, {'weight': 1.0, 'kin': 3}), (1, 33, {'weight': 6.0, 'kin': 2}), (1, 35, {'weight': 1.0, 'kin': 3}), (1, 37, {'weight': 2.0, 'kin': 3}), (1, 38, {'weight': 1.0, 'kin': 3}), (1, 41, {'weight': 1.0, 'kin': 3}), (1, 42, {'weight': 1.0, 'kin': 2}), (1, 43, {'weight': 11.0, 'kin': 3}), (1, 44, {'weight': 1.0, 'kin': 3}), (1, 45, {'weight': 3.0, 'kin': 3}), (2, 3, {'weight': 6.0, 'kin': 1}), (2, 4, {'weight': 8.0, 'kin': 3}), (2, 6, {'weight': 1.0, 'kin': 3}), (2, 7, {'weight': 7.0, 'kin': 1}), (2, 8, {'weight': 1.0, 'kin': 3}), (2, 15, {'weight': 2.0, 'kin': 3}), (2, 16, {'weight': 1.0, 'kin': 3}), (2, 21, {'weight': 1.0, 'kin': 3}), (2, 24, {'weight': 3.0, 'kin': 3}), (2, 25, {'weight': 86.0, 'kin': 3}), (2, 26, {'weight': 7.0, 'kin': 3}), (2, 27, {'weight': 32.0, 'kin': 3}), (2, 28, {'weight': 111.0, 'kin': 3}), (2, 29, {'weight': 130.0, 'kin': 2}), (2, 30, {'weight': 31.0, 'kin': 2}), (2, 31, {'weight': 35.0, 'kin': 1}), (2, 33, {'weight': 10.0, 'kin': 2}), (2, 35, {'weight': 1.0, 'kin': 3}), (2, 36, {'weight': 10.0, 'kin': 3}), (2, 37, {'weight': 10.0, 'kin': 3}), (2, 41, {'weight': 16.0, 'kin': 3}), (2, 42, {'weight': 156.0, 'kin': 3}), (2, 44, {'weight': 2.0, 'kin': 3}), (2, 46, {'weight': 1.0, 'kin': 3}), (11, 10, {'weight': 121.0, 'kin': 1}), (11, 12, {'weight': 1.0, 'kin': 3}), (11, 13, {'weight': 7.0, 'kin': 3}), (11, 14, {'weight': 13.0, 'kin': 3}), (11, 16, {'weight': 14.0, 'kin': 3}), (11, 17, {'weight': 13.0, 'kin': 2}), (11, 18, {'weight': 5.0, 'kin': 2}), (11, 19, {'weight': 1.0, 'kin': 3}), (11, 20, {'weight': 7.0, 'kin': 3}), (11, 21, {'weight': 5.0, 'kin': 3}), (11, 22, {'weight': 37.0, 'kin': 3}), (11, 23, {'weight': 28.0, 'kin': 3}), (11, 25, {'weight': 1.0, 'kin': 3}), (11, 31, {'weight': 1.0, 'kin': 3}), (11, 34, {'weight': 79.0, 'kin': 3}), (11, 35, {'weight': 79.0, 'kin': 2}), (11, 36, {'weight': 46.0, 'kin': 3}), (11, 37, {'weight': 33.0, 'kin': 3}), (11, 38, {'weight': 33.0, 'kin': 3}), (11, 39, {'weight': 18.0, 'kin': 3}), (11, 40, {'weight': 2.0, 'kin': 3}), (11, 41, {'weight': 4.0, 'kin': 3}), (11, 43, {'weight': 33.0, 'kin': 3}), (20, 9, {'weight': 17.0, 'kin': 3}), (20, 10, {'weight': 5.0, 'kin': 3}), (20, 12, {'weight': 22.0, 'kin': 3}), (20, 13, {'weight': 300.0, 'kin': 3}), (20, 14, {'weight': 23.0, 'kin': 3}), (20, 15, {'weight': 19.0, 'kin': 3}), (20, 16, {'weight': 61.0, 'kin': 1}), (20, 17, {'weight': 40.0, 'kin': 3}), (20, 18, {'weight': 17.0, 'kin': 2}), (20, 19, {'weight': 35.0, 'kin': 3}), (20, 21, {'weight': 194.0, 'kin': 1}), (20, 22, {'weight': 1.0, 'kin': 3}), (20, 27, {'weight': 2.0, 'kin': 3}), (20, 28, {'weight': 1.0, 'kin': 3}), (20, 29, {'weight': 1.0, 'kin': 3}), (20, 30, {'weight': 1.0, 'kin': 3}), (20, 31, {'weight': 4.0, 'kin': 3}), (20, 34, {'weight': 1.0, 'kin': 3}), (20, 35, {'weight': 2.0, 'kin': 3}), (20, 37, {'weight': 2.0, 'kin': 3}), (20, 38, {'weight': 2.0, 'kin': 3}), (20, 41, {'weight': 1.0, 'kin': 3}), (20, 43, {'weight': 1.0, 'kin': 3}), (22, 10, {'weight': 12.0, 'kin': 3}), (22, 13, {'weight': 2.0, 'kin': 3}), (22, 23, {'weight': 292.0, 'kin': 2}), (22, 24, {'weight': 1.0, 'kin': 3}), (22, 25, {'weight': 1.0, 'kin': 3}), (22, 27, {'weight': 2.0, 'kin': 3}), (22, 31, {'weight': 1.0, 'kin': 3}), (22, 33, {'weight': 2.0, 'kin': 3}), (22, 34, {'weight': 120.0, 'kin': 3}), (22, 35, {'weight': 173.0, 'kin': 3}), (22, 36, {'weight': 84.0, 'kin': 3}), (22, 37, {'weight': 71.0, 'kin': 3}), (22, 38, {'weight': 158.0, 'kin': 3}), (22, 39, {'weight': 78.0, 'kin': 3}), (22, 40, {'weight': 70.0, 'kin': 2}), (22, 41, {'weight': 3.0, 'kin': 3}), (22, 43, {'weight': 349.0, 'kin': 2}), (22, 44, {'weight': 1.0, 'kin': 3}), (22, 45, {'weight': 1.0, 'kin': 3}), (23, 10, {'weight': 21.0, 'kin': 3}), (23, 24, {'weight': 1.0, 'kin': 3}), (23, 25, {'weight': 1.0, 'kin': 3}), (23, 27, {'weight': 2.0, 'kin': 3}), (23, 31, {'weight': 1.0, 'kin': 3}), (23, 34, {'weight': 117.0, 'kin': 2}), (23, 35, {'weight': 114.0, 'kin': 3}), (23, 36, {'weight': 67.0, 'kin': 2}), (23, 37, {'weight': 58.0, 'kin': 3}), (23, 38, {'weight': 140.0, 'kin': 2}), (23, 39, {'weight': 85.0, 'kin': 2}), (23, 40, {'weight': 46.0, 'kin': 1}), (23, 41, {'weight': 2.0, 'kin': 3}), (23, 43, {'weight': 277.0, 'kin': 1}), (23, 45, {'weight': 2.0, 'kin': 3}), (24, 10, {'weight': 1.0, 'kin': 3}), (24, 27, {'weight': 2.0, 'kin': 2}), (24, 31, {'weight': 5.0, 'kin': 3}), (24, 32, {'weight': 10.0, 'kin': 2}), (24, 33, {'weight': 29.0, 'kin': 2}), (24, 38, {'weight': 1.0, 'kin': 3}), (24, 39, {'weight': 1.0, 'kin': 3}), (24, 43, {'weight': 1.0, 'kin': 3}), (25, 3, {'weight': 3.0, 'kin': 3}), (25, 6, {'weight': 4.0, 'kin': 2}), (25, 7, {'weight': 4.0, 'kin': 3}), (25, 8, {'weight': 3.0, 'kin': 3}), (25, 13, {'weight': 1.0, 'kin': 3}), (25, 26, {'weight': 5.0, 'kin': 1}), (25, 27, {'weight': 49.0, 'kin': 1}), (25, 28, {'weight': 81.0, 'kin': 1}), (25, 29, {'weight': 98.0, 'kin': 2}), (25, 30, {'weight': 15.0, 'kin': 3}), (25, 31, {'weight': 57.0, 'kin': 3}), (25, 32, {'weight': 1.0, 'kin': 3}), (25, 33, {'weight': 23.0, 'kin': 3}), (25, 34, {'weight': 1.0, 'kin': 3}), (25, 35, {'weight': 4.0, 'kin': 3}), (25, 36, {'weight': 1.0, 'kin': 3}), (25, 37, {'weight': 7.0, 'kin': 3}), (25, 39, {'weight': 1.0, 'kin': 3}), (25, 41, {'weight': 65.0, 'kin': 3}), (25, 42, {'weight': 38.0, 'kin': 1}), (25, 44, {'weight': 2.0, 'kin': 2}), (25, 45, {'weight': 5.0, 'kin': 1}), (27, 4, {'weight': 9.0, 'kin': 3}), (27, 5, {'weight': 4.0, 'kin': 2}), (27, 7, {'weight': 5.0, 'kin': 3}), (27, 9, {'weight': 1.0, 'kin': 3}), (27, 10, {'weight': 2.0, 'kin': 3}), (27, 12, {'weight': 1.0, 'kin': 3}), (27, 13, {'weight': 2.0, 'kin': 3}), (27, 14, {'weight': 1.0, 'kin': 3}), (27, 16, {'weight': 1.0, 'kin': 3}), (27, 19, {'weight': 1.0, 'kin': 3}), (27, 21, {'weight': 2.0, 'kin': 3}), (27, 26, {'weight': 8.0, 'kin': 1}), (27, 28, {'weight': 2.0, 'kin': 1}), (27, 29, {'weight': 11.0, 'kin': 2}), (27, 30, {'weight': 5.0, 'kin': 3}), (27, 31, {'weight': 8.0, 'kin': 3}), (27, 32, {'weight': 1.0, 'kin': 3}), (27, 33, {'weight': 32.0, 'kin': 3}), (27, 34, {'weight': 5.0, 'kin': 3}), (27, 35, {'weight': 3.0, 'kin': 3}), (27, 36, {'weight': 2.0, 'kin': 3}), (27, 37, {'weight': 4.0, 'kin': 3}), (27, 39, {'weight': 2.0, 'kin': 3}), (27, 40, {'weight': 3.0, 'kin': 3}), (27, 41, {'weight': 42.0, 'kin': 3}), (27, 42, {'weight': 30.0, 'kin': 1}), (27, 43, {'weight': 2.0, 'kin': 3}), (27, 44, {'weight': 5.0, 'kin': 2}), (27, 45, {'weight': 4.0, 'kin': 2}), (31, 3, {'weight': 8.0, 'kin': 2}), (31, 4, {'weight': 15.0, 'kin': 3}), (31, 5, {'weight': 13.0, 'kin': 3}), (31, 7, {'weight': 8.0, 'kin': 1}), (31, 10, {'weight': 3.0, 'kin': 3}), (31, 13, {'weight': 2.0, 'kin': 3}), (31, 16, {'weight': 1.0, 'kin': 3}), (31, 26, {'weight': 8.0, 'kin': 3}), (31, 28, {'weight': 54.0, 'kin': 2}), (31, 29, {'weight': 73.0, 'kin': 1}), (31, 30, {'weight': 64.0, 'kin': 1}), (31, 32, {'weight': 26.0, 'kin': 1}), (31, 33, {'weight': 114.0, 'kin': 1}), (31, 34, {'weight': 1.0, 'kin': 3}), (31, 35, {'weight': 1.0, 'kin': 3}), (31, 36, {'weight': 6.0, 'kin': 3}), (31, 37, {'weight': 7.0, 'kin': 3}), (31, 38, {'weight': 1.0, 'kin': 2}), (31, 41, {'weight': 10.0, 'kin': 3}), (31, 42, {'weight': 4.0, 'kin': 3}), (31, 44, {'weight': 1.0, 'kin': 3}), (31, 45, {'weight': 2.0, 'kin': 3}), (32, 28, {'weight': 4.0, 'kin': 2}), (32, 29, {'weight': 2.0, 'kin': 1}), (32, 33, {'weight': 47.0, 'kin': 1}), (33, 4, {'weight': 8.0, 'kin': 2}), (33, 5, {'weight': 2.0, 'kin': 3}), (33, 7, {'weight': 6.0, 'kin': 2}), (33, 10, {'weight': 10.0, 'kin': 3}), (33, 26, {'weight': 7.0, 'kin': 3}), (33, 28, {'weight': 21.0, 'kin': 2}), (33, 29, {'weight': 24.0, 'kin': 1}), (33, 30, {'weight': 11.0, 'kin': 1}), (33, 34, {'weight': 4.0, 'kin': 3}), (33, 36, {'weight': 1.0, 'kin': 3}), (33, 37, {'weight': 1.0, 'kin': 3}), (33, 41, {'weight': 21.0, 'kin': 3}), (33, 42, {'weight': 2.0, 'kin': 3}), (33, 43, {'weight': 1.0, 'kin': 3}), (35, 10, {'weight': 121.0, 'kin': 3}), (35, 13, {'weight': 3.0, 'kin': 3}), (35, 16, {'weight': 2.0, 'kin': 3}), (35, 34, {'weight': 362.0, 'kin': 3}), (35, 36, {'weight': 286.0, 'kin': 3}), (35, 37, {'weight': 189.0, 'kin': 3}), (35, 38, {'weight': 72.0, 'kin': 2}), (35, 39, {'weight': 296.0, 'kin': 3}), (35, 40, {'weight': 25.0, 'kin': 3}), (35, 41, {'weight': 6.0, 'kin': 3}), (35, 43, {'weight': 135.0, 'kin': 3}), (35, 44, {'weight': 1.0, 'kin': 3}), (36, 3, {'weight': 3.0, 'kin': 3}), (36, 4, {'weight': 7.0, 'kin': 3}), (36, 6, {'weight': 1.0, 'kin': 3}), (36, 7, {'weight': 3.0, 'kin': 3}), (36, 10, {'weight': 53.0, 'kin': 3}), (36, 13, {'weight': 1.0, 'kin': 3}), (36, 26, {'weight': 2.0, 'kin': 3}), (36, 28, {'weight': 6.0, 'kin': 3}), (36, 29, {'weight': 8.0, 'kin': 3}), (36, 30, {'weight': 7.0, 'kin': 3}), (36, 34, {'weight': 300.0, 'kin': 1}), (36, 37, {'weight': 207.0, 'kin': 1}), (36, 38, {'weight': 34.0, 'kin': 2}), (36, 39, {'weight': 337.0, 'kin': 1}), (36, 40, {'weight': 9.0, 'kin': 2}), (36, 41, {'weight': 34.0, 'kin': 2}), (36, 43, {'weight': 90.0, 'kin': 2}), (37, 3, {'weight': 2.0, 'kin': 3}), (37, 4, {'weight': 12.0, 'kin': 3}), (37, 7, {'weight': 2.0, 'kin': 3}), (37, 10, {'weight': 45.0, 'kin': 3}), (37, 12, {'weight': 3.0, 'kin': 3}), (37, 14, {'weight': 2.0, 'kin': 3}), (37, 15, {'weight': 2.0, 'kin': 2}), (37, 16, {'weight': 1.0, 'kin': 3}), (37, 21, {'weight': 3.0, 'kin': 3}), (37, 26, {'weight': 2.0, 'kin': 3}), (37, 28, {'weight': 6.0, 'kin': 3}), (37, 29, {'weight': 4.0, 'kin': 3}), (37, 30, {'weight': 8.0, 'kin': 3}), (37, 34, {'weight': 195.0, 'kin': 1}), (37, 38, {'weight': 45.0, 'kin': 3}), (37, 39, {'weight': 198.0, 'kin': 1}), (37, 40, {'weight': 6.0, 'kin': 3}), (37, 41, {'weight': 25.0, 'kin': 2}), (37, 42, {'weight': 6.0, 'kin': 3}), (37, 43, {'weight': 64.0, 'kin': 3}), (37, 45, {'weight': 1.0, 'kin': 3}), (38, 3, {'weight': 1.0, 'kin': 3}), (38, 4, {'weight': 1.0, 'kin': 2}), (38, 5, {'weight': 1.0, 'kin': 3}), (38, 6, {'weight': 1.0, 'kin': 3}), (38, 8, {'weight': 1.0, 'kin': 3}), (38, 10, {'weight': 17.0, 'kin': 3}), (38, 13, {'weight': 2.0, 'kin': 3}), (38, 16, {'weight': 1.0, 'kin': 3}), (38, 34, {'weight': 74.0, 'kin': 2}), (38, 39, {'weight': 52.0, 'kin': 2}), (38, 40, {'weight': 140.0, 'kin': 2}), (38, 41, {'weight': 1.0, 'kin': 3}), (38, 43, {'weight': 169.0, 'kin': 2}), (41, 9, {'weight': 1.0, 'kin': 3}), (41, 10, {'weight': 2.0, 'kin': 3}), (41, 12, {'weight': 1.0, 'kin': 3}), (41, 13, {'weight': 1.0, 'kin': 3}), (41, 14, {'weight': 1.0, 'kin': 3}), (41, 15, {'weight': 1.0, 'kin': 2}), (41, 16, {'weight': 2.0, 'kin': 3}), (41, 19, {'weight': 1.0, 'kin': 3}), (41, 28, {'weight': 15.0, 'kin': 3}), (41, 29, {'weight': 13.0, 'kin': 3}), (41, 34, {'weight': 8.0, 'kin': 2}), (41, 39, {'weight': 23.0, 'kin': 2}), (41, 42, {'weight': 146.0, 'kin': 3}), (41, 43, {'weight': 1.0, 'kin': 3}), (43, 10, {'weight': 8.0, 'kin': 3}), (43, 13, {'weight': 2.0, 'kin': 3}), (43, 16, {'weight': 1.0, 'kin': 3}), (43, 30, {'weight': 1.0, 'kin': 3}), (43, 34, {'weight': 131.0, 'kin': 2}), (43, 39, {'weight': 97.0, 'kin': 2}), (43, 40, {'weight': 62.0, 'kin': 1}), (43, 44, {'weight': 1.0, 'kin': 3}), (43, 45, {'weight': 1.0, 'kin': 3}), (45, 3, {'weight': 1.0, 'kin': 3}), (45, 6, {'weight': 128.0, 'kin': 2}), (45, 8, {'weight': 113.0, 'kin': 3}), (45, 44, {'weight': 188.0, 'kin': 1}), (13, 9, {'weight': 17.0, 'kin': 3}), (13, 10, {'weight': 5.0, 'kin': 3}), (13, 12, {'weight': 32.0, 'kin': 3}), (13, 14, {'weight': 33.0, 'kin': 2}), (13, 15, {'weight': 17.0, 'kin': 2}), (13, 16, {'weight': 82.0, 'kin': 3}), (13, 17, {'weight': 66.0, 'kin': 3}), (13, 18, {'weight': 21.0, 'kin': 3}), (13, 19, {'weight': 60.0, 'kin': 3}), (13, 21, {'weight': 158.0, 'kin': 3}), (13, 28, {'weight': 3.0, 'kin': 3}), (13, 29, {'weight': 3.0, 'kin': 3}), (13, 30, {'weight': 2.0, 'kin': 3}), (13, 39, {'weight': 1.0, 'kin': 3}), (42, 9, {'weight': 1.0, 'kin': 3}), (42, 12, {'weight': 1.0, 'kin': 3}), (42, 14, {'weight': 1.0, 'kin': 3}), (42, 21, {'weight': 1.0, 'kin': 3}), (42, 28, {'weight': 57.0, 'kin': 1}), (42, 29, {'weight': 53.0, 'kin': 2}), (42, 30, {'weight': 4.0, 'kin': 3}), (44, 3, {'weight': 1.0, 'kin': 3}), (44, 6, {'weight': 89.0, 'kin': 2}), (44, 8, {'weight': 107.0, 'kin': 3}), (44, 29, {'weight': 1.0, 'kin': 3}), (44, 30, {'weight': 1.0, 'kin': 3}), (44, 34, {'weight': 1.0, 'kin': 3}), (44, 39, {'weight': 1.0, 'kin': 3}), (3, 4, {'weight': 4.0, 'kin': 3}), (3, 5, {'weight': 4.0, 'kin': 3}), (3, 6, {'weight': 8.0, 'kin': 3}), (3, 7, {'weight': 82.0, 'kin': 2}), (3, 8, {'weight': 6.0, 'kin': 3}), (3, 26, {'weight': 143.0, 'kin': 3}), (3, 28, {'weight': 21.0, 'kin': 3}), (3, 29, {'weight': 18.0, 'kin': 3}), (3, 30, {'weight': 15.0, 'kin': 3}), (3, 47, {'weight': 1.0, 'kin': 3}), (3, 48, {'weight': 1.0, 'kin': 3}), (4, 5, {'weight': 46.0, 'kin': 2}), (4, 6, {'weight': 27.0, 'kin': 2}), (4, 7, {'weight': 30.0, 'kin': 3}), (4, 8, {'weight': 3.0, 'kin': 2}), (4, 26, {'weight': 18.0, 'kin': 3}), (4, 28, {'weight': 9.0, 'kin': 3}), (4, 29, {'weight': 11.0, 'kin': 2}), (4, 30, {'weight': 11.0, 'kin': 2}), (4, 40, {'weight': 1.0, 'kin': 3}), (6, 5, {'weight': 53.0, 'kin': 1}), (6, 7, {'weight': 2.0, 'kin': 3}), (6, 8, {'weight': 184.0, 'kin': 2}), (6, 26, {'weight': 8.0, 'kin': 2}), (6, 28, {'weight': 1.0, 'kin': 2}), (6, 30, {'weight': 1.0, 'kin': 2}), (6, 46, {'weight': 1.0, 'kin': 2}), (7, 5, {'weight': 7.0, 'kin': 3}), (7, 8, {'weight': 3.0, 'kin': 3}), (7, 26, {'weight': 190.0, 'kin': 3}), (7, 28, {'weight': 7.0, 'kin': 3}), (7, 29, {'weight': 7.0, 'kin': 2}), (7, 30, {'weight': 14.0, 'kin': 2}), (8, 5, {'weight': 24.0, 'kin': 3}), (8, 26, {'weight': 3.0, 'kin': 3}), (8, 28, {'weight': 1.0, 'kin': 3}), (15, 9, {'weight': 17.0, 'kin': 3}), (15, 12, {'weight': 23.0, 'kin': 3}), (15, 14, {'weight': 24.0, 'kin': 2}), (15, 16, {'weight': 18.0, 'kin': 3}), (15, 17, {'weight': 2.0, 'kin': 3}), (15, 19, {'weight': 22.0, 'kin': 3}), (15, 21, {'weight': 28.0, 'kin': 3}), (15, 28, {'weight': 1.0, 'kin': 3}), (15, 30, {'weight': 1.0, 'kin': 3}), (16, 9, {'weight': 18.0, 'kin': 3}), (16, 10, {'weight': 31.0, 'kin': 3}), (16, 12, {'weight': 22.0, 'kin': 3}), (16, 14, {'weight': 35.0, 'kin': 3}), (16, 17, {'weight': 204.0, 'kin': 3}), (16, 18, {'weight': 114.0, 'kin': 1}), (16, 19, {'weight': 71.0, 'kin': 2}), (16, 21, {'weight': 46.0, 'kin': 1}), (16, 30, {'weight': 1.0, 'kin': 3}), (16, 34, {'weight': 2.0, 'kin': 3}), (21, 9, {'weight': 17.0, 'kin': 3}), (21, 10, {'weight': 1.0, 'kin': 3}), (21, 12, {'weight': 151.0, 'kin': 3}), (21, 14, {'weight': 108.0, 'kin': 3}), (21, 17, {'weight': 23.0, 'kin': 3}), (21, 18, {'weight': 4.0, 'kin': 2}), (21, 19, {'weight': 37.0, 'kin': 3}), (21, 30, {'weight': 2.0, 'kin': 3}), (26, 5, {'weight': 10.0, 'kin': 2}), (26, 28, {'weight': 19.0, 'kin': 1}), (26, 29, {'weight': 14.0, 'kin': 2}), (26, 30, {'weight': 13.0, 'kin': 3}), (28, 5, {'weight': 12.0, 'kin': 2}), (28, 10, {'weight': 2.0, 'kin': 3}), (28, 17, {'weight': 1.0, 'kin': 3}), (28, 29, {'weight': 333.0, 'kin': 1}), (28, 30, {'weight': 16.0, 'kin': 2}), (28, 39, {'weight': 1.0, 'kin': 3}), (28, 46, {'weight': 1.0, 'kin': 3}), (29, 5, {'weight': 11.0, 'kin': 3}), (29, 10, {'weight': 2.0, 'kin': 3}), (29, 30, {'weight': 19.0, 'kin': 1}), (29, 39, {'weight': 2.0, 'kin': 3}), (29, 46, {'weight': 1.0, 'kin': 2}), (30, 5, {'weight': 2.0, 'kin': 2}), (30, 9, {'weight': 1.0, 'kin': 3}), (30, 12, {'weight': 1.0, 'kin': 3}), (30, 14, {'weight': 1.0, 'kin': 3}), (30, 19, {'weight': 1.0, 'kin': 3}), (46, 47, {'weight': 57.0, 'kin': 1}), (46, 48, {'weight': 39.0, 'kin': 2}), (47, 48, {'weight': 307.0, 'kin': 1}), (47, 52, {'weight': 1.0, 'kin': 3}), (48, 52, {'weight': 1.0, 'kin': 3}), (40, 10, {'weight': 5.0, 'kin': 3}), (40, 34, {'weight': 19.0, 'kin': 2}), (40, 39, {'weight': 9.0, 'kin': 2}), (9, 12, {'weight': 17.0, 'kin': 3}), (9, 14, {'weight': 17.0, 'kin': 3}), (9, 18, {'weight': 2.0, 'kin': 2}), (9, 19, {'weight': 17.0, 'kin': 3}), (12, 14, {'weight': 139.0, 'kin': 1}), (12, 17, {'weight': 1.0, 'kin': 3}), (12, 18, {'weight': 4.0, 'kin': 3}), (12, 19, {'weight': 22.0, 'kin': 3}), (14, 10, {'weight': 19.0, 'kin': 3}), (14, 17, {'weight': 11.0, 'kin': 3}), (14, 18, {'weight': 31.0, 'kin': 3}), (14, 19, {'weight': 26.0, 'kin': 3}), (18, 10, {'weight': 13.0, 'kin': 3}), (18, 17, {'weight': 99.0, 'kin': 1}), (18, 19, {'weight': 6.0, 'kin': 2}), (19, 10, {'weight': 1.0, 'kin': 3}), (19, 17, {'weight': 46.0, 'kin': 2}), (10, 17, {'weight': 15.0, 'kin': 3}), (10, 34, {'weight': 80.0, 'kin': 3}), (10, 39, {'weight': 32.0, 'kin': 3}), (34, 39, {'weight': 307.0, 'kin': 1}), (52, 49, {'weight': 288.0, 'kin': 1}), (52, 50, {'weight': 285.0, 'kin': 1}), (52, 51, {'weight': 298.0, 'kin': 1}), (49, 50, {'weight': 395.0, 'kin': 1}), (49, 51, {'weight': 393.0, 'kin': 1}), (50, 51, {'weight': 392.0, 'kin': 1})])"
      ]
     },
     "metadata": {},
     "execution_count": 10
    }
   ],
   "source": [
    "G.edges(data=True) # now edges in G have attribute weight and kin"
   ]
  },
  {
   "cell_type": "markdown",
   "metadata": {},
   "source": [
    "Now we create a weighted network only with close kin"
   ]
  },
  {
   "cell_type": "code",
   "execution_count": 11,
   "metadata": {},
   "outputs": [],
   "source": [
    "G_closekin = nx.Graph() # creates a new empty network\n",
    "for i, j in G.edges:\n",
    "    if G[i][j]['kin'] == 1: # if (i, j) dyad in G is kin = 1\n",
    "        G_closekin.add_edge(i, j) # add that edge to new network\n",
    "        G_closekin[i][j]['weight'] = G[i][j]['weight'] # add weight from G to new network "
   ]
  },
  {
   "cell_type": "code",
   "execution_count": 12,
   "metadata": {},
   "outputs": [
    {
     "output_type": "stream",
     "name": "stdout",
     "text": [
      "53 43\n"
     ]
    }
   ],
   "source": [
    "print(len(G), len(G_closekin)) #size of close kin network"
   ]
  },
  {
   "cell_type": "code",
   "execution_count": 13,
   "metadata": {},
   "outputs": [
    {
     "output_type": "execute_result",
     "data": {
      "text/plain": [
       "EdgeDataView([(0, 1, {'weight': 269.0}), (1, 24, {'weight': 107.0}), (2, 3, {'weight': 6.0}), (2, 7, {'weight': 7.0}), (2, 31, {'weight': 35.0}), (7, 31, {'weight': 8.0}), (31, 29, {'weight': 73.0}), (31, 30, {'weight': 64.0}), (31, 32, {'weight': 26.0}), (31, 33, {'weight': 114.0}), (11, 10, {'weight': 121.0}), (20, 16, {'weight': 61.0}), (20, 21, {'weight': 194.0}), (16, 18, {'weight': 114.0}), (16, 21, {'weight': 46.0}), (23, 40, {'weight': 46.0}), (23, 43, {'weight': 277.0}), (40, 43, {'weight': 62.0}), (25, 26, {'weight': 5.0}), (25, 27, {'weight': 49.0}), (25, 28, {'weight': 81.0}), (25, 42, {'weight': 38.0}), (25, 45, {'weight': 5.0}), (26, 27, {'weight': 8.0}), (26, 28, {'weight': 19.0}), (27, 28, {'weight': 2.0}), (27, 42, {'weight': 30.0}), (28, 42, {'weight': 57.0}), (28, 29, {'weight': 333.0}), (45, 44, {'weight': 188.0}), (29, 32, {'weight': 2.0}), (29, 33, {'weight': 24.0}), (29, 30, {'weight': 19.0}), (30, 33, {'weight': 11.0}), (32, 33, {'weight': 47.0}), (36, 34, {'weight': 300.0}), (36, 37, {'weight': 207.0}), (36, 39, {'weight': 337.0}), (34, 37, {'weight': 195.0}), (34, 39, {'weight': 307.0}), (37, 39, {'weight': 198.0}), (6, 5, {'weight': 53.0}), (18, 17, {'weight': 99.0}), (46, 47, {'weight': 57.0}), (47, 48, {'weight': 307.0}), (12, 14, {'weight': 139.0}), (52, 49, {'weight': 288.0}), (52, 50, {'weight': 285.0}), (52, 51, {'weight': 298.0}), (49, 50, {'weight': 395.0}), (49, 51, {'weight': 393.0}), (50, 51, {'weight': 392.0})])"
      ]
     },
     "metadata": {},
     "execution_count": 13
    }
   ],
   "source": [
    "G_closekin.edges(data=True)"
   ]
  },
  {
   "cell_type": "markdown",
   "metadata": {},
   "source": [
    "We add the missing 10 nodes from G so that they can be found in G_closekin, but as isolates (no edges) since they have not close kin"
   ]
  },
  {
   "cell_type": "code",
   "execution_count": 14,
   "metadata": {},
   "outputs": [],
   "source": [
    "for node in G: \n",
    "    if node not in G_closekin:\n",
    "        G_closekin.add_node(node)"
   ]
  },
  {
   "cell_type": "code",
   "execution_count": 15,
   "metadata": {},
   "outputs": [
    {
     "output_type": "stream",
     "name": "stdout",
     "text": [
      "53 53\n"
     ]
    }
   ],
   "source": [
    "print(len(G), len(G_closekin))"
   ]
  },
  {
   "cell_type": "markdown",
   "metadata": {},
   "source": [
    "<p> Now we go back to G.<br>\n",
    "We want to select one from all possible neighbours of each G node, taking into account edge weights (= the strength of social bond between node and neighbour)<br>\n",
    "As a result, every node will have a partner in that round."
   ]
  },
  {
   "cell_type": "code",
   "execution_count": 16,
   "metadata": {},
   "outputs": [
    {
     "output_type": "stream",
     "name": "stdout",
     "text": [
      "44 45\n35 43\n47 48\n17 16\n51 52\n16 17\n42 2\n34 23\n24 1\n43 40\n37 36\n2 29\n45 6\n39 36\n10 34\n13 20\n29 26\n3 29\n28 29\n27 41\n5 7\n0 1\n30 2\n21 20\n18 16\n41 31\n31 33\n49 51\n15 16\n36 35\n6 8\n8 44\n4 37\n20 18\n38 11\n46 48\n33 26\n9 20\n50 49\n32 33\n40 38\n22 23\n26 7\n48 47\n19 14\n14 21\n23 34\n11 34\n7 26\n52 51\n12 9\n25 41\n1 0\n"
     ]
    }
   ],
   "source": [
    "rounds = 1\n",
    "# purpose of this loop is to select one neighbour \n",
    "for x in range(rounds): \n",
    "    global node, selected_neighbour\n",
    "    random_node_list = rd.sample(range(len(G)), len(G)) # select G nodes in random order\n",
    "    for node in random_node_list: # for each node in random list\n",
    "        neighbour_list = []\n",
    "        for neighbour in G[node]: # G[node] = all neighbours of node\n",
    "            for times in range(int(G[node][neighbour]['weight'])): # counts weight x of a link\n",
    "                neighbour_list.append(neighbour) # and adds that neighbour x times to neighbour_list  \n",
    "        selected_neighbour = rd.choice(neighbour_list) # then selects one neighbour from the list \n",
    "        print(node, selected_neighbour) # print each node neighbour pair"
   ]
  },
  {
   "cell_type": "markdown",
   "metadata": {},
   "source": [
    "Next we give a set of basic medicinal drugs to each none. <br> \n",
    "We do it by creating an incidence matrix with rows = nodes, columns = medicines <br >\n",
    "We start with 6 basic drugs, and room for innovations (new drugs)"
   ]
  },
  {
   "cell_type": "code",
   "execution_count": 17,
   "metadata": {},
   "outputs": [
    {
     "output_type": "execute_result",
     "data": {
      "text/plain": [
       "[[0, 0, 0, 0, 0, 0, -1, -1, -1, -1, -1, -1, -1, -1],\n",
       " [0, 0, 0, 0, 0, 0, -1, -1, -1, -1, -1, -1, -1, -1],\n",
       " [0, 0, 0, 0, 0, 0, -1, -1, -1, -1, -1, -1, -1, -1],\n",
       " [0, 0, 0, 0, 0, 0, -1, -1, -1, -1, -1, -1, -1, -1],\n",
       " [0, 0, 0, 0, 0, 0, -1, -1, -1, -1, -1, -1, -1, -1],\n",
       " [0, 0, 0, 0, 0, 0, -1, -1, -1, -1, -1, -1, -1, -1],\n",
       " [0, 0, 0, 0, 0, 0, -1, -1, -1, -1, -1, -1, -1, -1],\n",
       " [0, 0, 0, 0, 0, 0, -1, -1, -1, -1, -1, -1, -1, -1],\n",
       " [0, 0, 0, 0, 0, 0, -1, -1, -1, -1, -1, -1, -1, -1],\n",
       " [0, 0, 0, 0, 0, 0, -1, -1, -1, -1, -1, -1, -1, -1],\n",
       " [0, 0, 0, 0, 0, 0, -1, -1, -1, -1, -1, -1, -1, -1],\n",
       " [0, 0, 0, 0, 0, 0, -1, -1, -1, -1, -1, -1, -1, -1],\n",
       " [0, 0, 0, 0, 0, 0, -1, -1, -1, -1, -1, -1, -1, -1],\n",
       " [0, 0, 0, 0, 0, 0, -1, -1, -1, -1, -1, -1, -1, -1],\n",
       " [0, 0, 0, 0, 0, 0, -1, -1, -1, -1, -1, -1, -1, -1],\n",
       " [0, 0, 0, 0, 0, 0, -1, -1, -1, -1, -1, -1, -1, -1],\n",
       " [0, 0, 0, 0, 0, 0, -1, -1, -1, -1, -1, -1, -1, -1],\n",
       " [0, 0, 0, 0, 0, 0, -1, -1, -1, -1, -1, -1, -1, -1],\n",
       " [0, 0, 0, 0, 0, 0, -1, -1, -1, -1, -1, -1, -1, -1],\n",
       " [0, 0, 0, 0, 0, 0, -1, -1, -1, -1, -1, -1, -1, -1],\n",
       " [0, 0, 0, 0, 0, 0, -1, -1, -1, -1, -1, -1, -1, -1],\n",
       " [0, 0, 0, 0, 0, 0, -1, -1, -1, -1, -1, -1, -1, -1],\n",
       " [0, 0, 0, 0, 0, 0, -1, -1, -1, -1, -1, -1, -1, -1],\n",
       " [0, 0, 0, 0, 0, 0, -1, -1, -1, -1, -1, -1, -1, -1],\n",
       " [0, 0, 0, 0, 0, 0, -1, -1, -1, -1, -1, -1, -1, -1],\n",
       " [0, 0, 0, 0, 0, 0, -1, -1, -1, -1, -1, -1, -1, -1],\n",
       " [0, 0, 0, 0, 0, 0, -1, -1, -1, -1, -1, -1, -1, -1],\n",
       " [0, 0, 0, 0, 0, 0, -1, -1, -1, -1, -1, -1, -1, -1],\n",
       " [0, 0, 0, 0, 0, 0, -1, -1, -1, -1, -1, -1, -1, -1],\n",
       " [0, 0, 0, 0, 0, 0, -1, -1, -1, -1, -1, -1, -1, -1],\n",
       " [0, 0, 0, 0, 0, 0, -1, -1, -1, -1, -1, -1, -1, -1],\n",
       " [0, 0, 0, 0, 0, 0, -1, -1, -1, -1, -1, -1, -1, -1],\n",
       " [0, 0, 0, 0, 0, 0, -1, -1, -1, -1, -1, -1, -1, -1],\n",
       " [0, 0, 0, 0, 0, 0, -1, -1, -1, -1, -1, -1, -1, -1],\n",
       " [0, 0, 0, 0, 0, 0, -1, -1, -1, -1, -1, -1, -1, -1],\n",
       " [0, 0, 0, 0, 0, 0, -1, -1, -1, -1, -1, -1, -1, -1],\n",
       " [0, 0, 0, 0, 0, 0, -1, -1, -1, -1, -1, -1, -1, -1],\n",
       " [0, 0, 0, 0, 0, 0, -1, -1, -1, -1, -1, -1, -1, -1],\n",
       " [0, 0, 0, 0, 0, 0, -1, -1, -1, -1, -1, -1, -1, -1],\n",
       " [0, 0, 0, 0, 0, 0, -1, -1, -1, -1, -1, -1, -1, -1],\n",
       " [0, 0, 0, 0, 0, 0, -1, -1, -1, -1, -1, -1, -1, -1],\n",
       " [0, 0, 0, 0, 0, 0, -1, -1, -1, -1, -1, -1, -1, -1],\n",
       " [0, 0, 0, 0, 0, 0, -1, -1, -1, -1, -1, -1, -1, -1],\n",
       " [0, 0, 0, 0, 0, 0, -1, -1, -1, -1, -1, -1, -1, -1],\n",
       " [0, 0, 0, 0, 0, 0, -1, -1, -1, -1, -1, -1, -1, -1],\n",
       " [0, 0, 0, 0, 0, 0, -1, -1, -1, -1, -1, -1, -1, -1],\n",
       " [0, 0, 0, 0, 0, 0, -1, -1, -1, -1, -1, -1, -1, -1],\n",
       " [0, 0, 0, 0, 0, 0, -1, -1, -1, -1, -1, -1, -1, -1],\n",
       " [0, 0, 0, 0, 0, 0, -1, -1, -1, -1, -1, -1, -1, -1],\n",
       " [0, 0, 0, 0, 0, 0, -1, -1, -1, -1, -1, -1, -1, -1],\n",
       " [0, 0, 0, 0, 0, 0, -1, -1, -1, -1, -1, -1, -1, -1],\n",
       " [0, 0, 0, 0, 0, 0, -1, -1, -1, -1, -1, -1, -1, -1],\n",
       " [0, 0, 0, 0, 0, 0, -1, -1, -1, -1, -1, -1, -1, -1]]"
      ]
     },
     "metadata": {},
     "execution_count": 17
    }
   ],
   "source": [
    "# number of rows (individuals) is the size of G\n",
    "# each column (tool or drug) is present (0) or absent (-1); we start with 6 0s and 8 -1s \n",
    "matrix_node_tools=[[0]*6 + [-1]*8 for i in range (len(G))]\n",
    "matrix_node_tools"
   ]
  },
  {
   "cell_type": "markdown",
   "metadata": {},
   "source": [
    "Each tool has a fitness or medicinal value, and we are using the original values in Derex and Boyd's original experiment"
   ]
  },
  {
   "cell_type": "code",
   "execution_count": 18,
   "metadata": {},
   "outputs": [],
   "source": [
    "fitness_values = [6, 8, 10, 6, 8, 10, 30, 30, 60, 60, 120, 120, 300, 300] # each column has a value"
   ]
  },
  {
   "cell_type": "markdown",
   "metadata": {},
   "source": [
    "Now we create a dictionary with the special combinations of 3 drugs that generate a superior drug. <br>\n",
    "Notice that there are two lineages: in lineage A, triad (0, 1, 2) creates drug 6 (A1), which is needed for drug 8 or A2 = (0, 4, 6), which is needed for drug 10. <br>\n",
    "Therefore lineage A is A1 = 6, A2 = 8, A3 = 10. <br>\n",
    "Lineage B will be B1 = 7, B2 = 9, B3 = 11. <br>\n",
    "The superdrug C is a combination of top A and B, with two options: superdrug 12 = (A2, A3, B3), or superdrug 13 = (B2, B3, A3) <br>\n",
    "(to avoid privileging A or B)"
   ]
  },
  {
   "cell_type": "code",
   "execution_count": 19,
   "metadata": {},
   "outputs": [],
   "source": [
    "innovations_dict = {(0, 1, 2): 6, \n",
    "             (3, 4, 5): 7,\n",
    "             (0, 4, 6): 8,\n",
    "             (1, 2, 7): 9,\n",
    "             (4, 5, 8): 10,\n",
    "             (1, 3, 9): 11,\n",
    "             (8, 10, 11): 12,\n",
    "             (9, 10, 11): 13}"
   ]
  },
  {
   "cell_type": "markdown",
   "metadata": {},
   "source": [
    "Now the pairs can start playing. First we create the lists of drugs of node and neighbour"
   ]
  },
  {
   "cell_type": "code",
   "execution_count": 21,
   "metadata": {},
   "outputs": [
    {
     "output_type": "stream",
     "name": "stdout",
     "text": [
      "1\n[0 1 2 3 4 5]\n[0 1 2 3 4 5]\n"
     ]
    }
   ],
   "source": [
    "# ingredients of node are 0s in matrix, so we select for each node (row) column where value is > -1\n",
    "print(node) # this value is stored from a previous loop\n",
    "ingredients_node= np.where(np.array(matrix_node_tools[node])>-1)[0] # don't forget to select element [0]\n",
    "print(ingredients_node)\n",
    "ingredients_neighbour=np.where(np.array(matrix_node_tools[selected_neighbour])>-1)[0]\n",
    "print(ingredients_neighbour)\n"
   ]
  },
  {
   "cell_type": "markdown",
   "metadata": {},
   "source": [
    "From their original sets above, they choose tools based on drug value. <br>\n",
    "To create the drug triad, node selects 2 of its drugs, and neighbour selects 1 "
   ]
  },
  {
   "cell_type": "code",
   "execution_count": 22,
   "metadata": {},
   "outputs": [
    {
     "output_type": "stream",
     "name": "stdout",
     "text": [
      "0 1\n"
     ]
    }
   ],
   "source": [
    "node_tools=[] #weigthed sampling\n",
    "for tool in ingredients_node:\n",
    "    for times in range(fitness_values[tool]):\n",
    "        node_tools.append(tool)\n",
    "node_tool_1, node_tool_2 = rd.sample(node_tools, 2)\n",
    "print(node_tool_1, node_tool_2)"
   ]
  },
  {
   "cell_type": "code",
   "execution_count": 23,
   "metadata": {},
   "outputs": [
    {
     "output_type": "stream",
     "name": "stdout",
     "text": [
      "0\n"
     ]
    }
   ],
   "source": [
    "neighbour_tools=[]\n",
    "for tool in ingredients_neighbour:\n",
    "    for times in range(fitness_values[tool]):\n",
    "        neighbour_tools.append(tool)\n",
    "neighbour_tool = rd.choice(neighbour_tools)\n",
    "print(neighbour_tool)"
   ]
  },
  {
   "cell_type": "code",
   "execution_count": 24,
   "metadata": {},
   "outputs": [
    {
     "output_type": "stream",
     "name": "stdout",
     "text": [
      "(0, 0, 1)\n-1\n"
     ]
    }
   ],
   "source": [
    "# just as a test: how to combine the drugs and see if chosen triad generated a new drug\n",
    "triad = [node_tool_1, node_tool_2, neighbour_tool] # create triad\n",
    "triad = tuple(sorted(triad)) # sort order\n",
    "print(triad)\n",
    "new_tool = innovations_dict.get(triad, -1) \n",
    "print(new_tool)\n",
    "#if triad is in dictionary, returns its key or ID (6, 7 etc), otherwise -1 or absent"
   ]
  },
  {
   "cell_type": "markdown",
   "metadata": {},
   "source": [
    "Now we put the elements above together to run the attepmts until a new drug is created"
   ]
  },
  {
   "cell_type": "code",
   "execution_count": 28,
   "metadata": {},
   "outputs": [
    {
     "output_type": "stream",
     "name": "stdout",
     "text": [
      "7 1 32 33\n"
     ]
    }
   ],
   "source": [
    "rounds=10000 \n",
    "stop_sim=0 # simulation starts\n",
    "for epoch in range(rounds):\n",
    "    random_node_list = rd.sample(range(len(G)), len(G))\n",
    "    for node in random_node_list: # select pairs\n",
    "        neighbour_list = []\n",
    "        for neighbour in G[node]:\n",
    "            for times in range(int(G[node][neighbour]['weight'])):\n",
    "                neighbour_list.append(neighbour)\n",
    "        selected_neighbour = rd.choice(neighbour_list)\n",
    "        \n",
    "        ingredients_node=np.where(np.array(matrix_node_tools[node])>-1)[0] # take their current drugs\n",
    "        ingredients_neighbour=np.where(np.array(matrix_node_tools[selected_neighbour])>-1)[0]\n",
    "        \n",
    "        node_tools=[] # drugs chosen for triad\n",
    "        for tool in ingredients_node:\n",
    "            for times in range(fitness_values[tool]):\n",
    "                node_tools.append(tool)\n",
    "        node_tool_1, node_tool_2 = rd.sample(node_tools, 2)\n",
    "        \n",
    "        neighbour_tools=[]\n",
    "        for tool in ingredients_neighbour:\n",
    "            for times in range(fitness_values[tool]):\n",
    "                neighbour_tools.append(tool)\n",
    "        neighbour_tool = rd.choice(neighbour_tools)\n",
    "        \n",
    "        triad = [node_tool_1, node_tool_2, neighbour_tool] # tirad generates a new tool or nothing\n",
    "        triad = tuple(sorted(triad))\n",
    "        new_tool = innovations_dict.get(triad,-1) \n",
    "        \n",
    "        if new_tool > -1: # when a new tool is created, print which drug, round, and players\n",
    "            print(new_tool, epoch + 1, node, selected_neighbour)\n",
    "            stop_sim=1\n",
    "            break\n",
    "    if stop_sim==1: # then stop\n",
    "        break"
   ]
  },
  {
   "cell_type": "markdown",
   "metadata": {},
   "source": [
    "Now we will run a simulation where any new drugs are transmitted only to close kin"
   ]
  },
  {
   "cell_type": "code",
   "execution_count": 29,
   "metadata": {},
   "outputs": [
    {
     "output_type": "stream",
     "name": "stdout",
     "text": [
      "6 1 35 36\n7 1 5 31\n7 2 50 52\n7 3 42 41\n6 4 14 12\n9 4 32 33\n9 4 26 7\n9 4 52 50\n7 4 24 1\n7 5 38 23\n9 5 24 0\n6 5 45 44\n6 5 44 6\n7 6 17 21\n8 6 10 36\n11 6 26 3\n9 7 16 20\n8 8 12 13\n11 10 16 18\n9 10 42 41\n6 10 4 6\n6 11 19 17\n7 12 22 43\n9 12 35 43\n9 14 38 39\n6 14 48 46\n11 15 36 34\n8 16 30 25\n10 17 45 44\n13 17 25 31\n"
     ]
    }
   ],
   "source": [
    "periods=10000\n",
    "stop_sim=0\n",
    "sim_duration = []\n",
    "for epoch in range(periods):\n",
    "    random_node_list = rd.sample(range(len(G)), len(G))\n",
    "    for node in random_node_list:\n",
    "        neighbour_list = []\n",
    "        for neighbour in G[node]:\n",
    "            for times in range(int(G[node][neighbour]['weight'])):\n",
    "                neighbour_list.append(neighbour)\n",
    "        selected_neighbour = rd.choice(neighbour_list)\n",
    "       \n",
    "        ingredients_node=np.where(np.array(matrix_node_tools[node])>-1)[0] \n",
    "        ingredients_neighbour=np.where(np.array(matrix_node_tools[selected_neighbour])>-1)[0]\n",
    "        \n",
    "        node_tools=[]\n",
    "        for tool in ingredients_node:\n",
    "            for times in range(fitness_values[tool]):\n",
    "                node_tools.append(tool)\n",
    "        node_tool_1, node_tool_2 = rd.sample(node_tools, 2)\n",
    "        \n",
    "        neighbour_tools=[]\n",
    "        for tool in ingredients_neighbour:\n",
    "            for times in range(fitness_values[tool]):\n",
    "                neighbour_tools.append(tool)\n",
    "        neighbour_tool = rd.choice(neighbour_tools)\n",
    "  \n",
    "        triad = [node_tool_1, node_tool_2, neighbour_tool]\n",
    "        triad = tuple(sorted(triad))\n",
    "        new_tool = innovations_dict.get(triad,-1)\n",
    "        \n",
    "        # until here, similar to previous cell  \n",
    "        \n",
    "        if new_tool > -1: # if a new drug was created (6, 7 or 8 etc) \n",
    "            # check if node and neighbour already have invented tool \n",
    "            have_new_tool = -1 # we need this later\n",
    "            if matrix_node_tools[node][new_tool] == -1: # if position (i = node, j = new tool) in matrix is absent\n",
    "                have_new_tool = 1 \n",
    "                matrix_node_tools[node][new_tool] = epoch + 1 # node gains new tools, replace -1 with round of discovery\n",
    "                for node_kin in G_closekin[node]: # now use matrix G_closekin to identify all close kin of node \n",
    "                    matrix_node_tools[node_kin][new_tool] = epoch + 1 # tranmits new tool to all kin\n",
    "            \n",
    "            if matrix_node_tools[selected_neighbour][new_tool] == -1: #check if selected neighbour has tool\n",
    "                have_new_tool = 1 \n",
    "                matrix_node_tools[selected_neighbour][new_tool]= epoch + 1 # neighbours gains new tool\n",
    "                for neighbour_kin in G_closekin[selected_neighbour]:\n",
    "                    matrix_node_tools[neighbour_kin][new_tool] = epoch+ 1\n",
    "\n",
    "            if have_new_tool == 1: #if either node or neighbour received the new tool\n",
    "                print(new_tool, epoch + 1, node, selected_neighbour)\n",
    "                if new_tool in [12,13]: # BUT if the new tool is a superdrug C1=12 or C2=13\n",
    "                    stop_sim=1 # simulations ends\n",
    "                    \n",
    "        if stop_sim==1:\n",
    "            break\n",
    "    if stop_sim==1:\n",
    "        break"
   ]
  },
  {
   "cell_type": "markdown",
   "metadata": {},
   "source": [
    "We can examine matrix to see when drugs were discovered and who created the superdrug <br>\n",
    "(can you interpret it?)"
   ]
  },
  {
   "cell_type": "code",
   "execution_count": 30,
   "metadata": {},
   "outputs": [
    {
     "output_type": "execute_result",
     "data": {
      "text/plain": [
       "[[0, 0, 0, 0, 0, 0, -1, -1, -1, 5, -1, -1, -1, -1],\n",
       " [0, 0, 0, 0, 0, 0, -1, 4, -1, 5, -1, -1, -1, -1],\n",
       " [0, 0, 0, 0, 0, 0, -1, 1, -1, 4, -1, 6, -1, 17],\n",
       " [0, 0, 0, 0, 0, 0, -1, -1, -1, -1, -1, 6, -1, -1],\n",
       " [0, 0, 0, 0, 0, 0, 10, -1, -1, -1, -1, -1, -1, -1],\n",
       " [0, 0, 0, 0, 0, 0, 5, 1, -1, -1, -1, -1, -1, -1],\n",
       " [0, 0, 0, 0, 0, 0, 5, 1, -1, -1, -1, -1, -1, -1],\n",
       " [0, 0, 0, 0, 0, 0, -1, 1, -1, 4, -1, -1, -1, 17],\n",
       " [0, 0, 0, 0, 0, 0, -1, -1, -1, -1, -1, -1, -1, -1],\n",
       " [0, 0, 0, 0, 0, 0, -1, -1, -1, -1, -1, -1, -1, -1],\n",
       " [0, 0, 0, 0, 0, 0, -1, -1, 6, -1, -1, -1, -1, -1],\n",
       " [0, 0, 0, 0, 0, 0, -1, -1, 6, -1, -1, -1, -1, -1],\n",
       " [0, 0, 0, 0, 0, 0, 4, -1, 8, -1, -1, -1, -1, -1],\n",
       " [0, 0, 0, 0, 0, 0, -1, -1, 8, -1, -1, -1, -1, -1],\n",
       " [0, 0, 0, 0, 0, 0, 4, -1, 8, -1, -1, -1, -1, -1],\n",
       " [0, 0, 0, 0, 0, 0, -1, -1, -1, -1, -1, -1, -1, -1],\n",
       " [0, 0, 0, 0, 0, 0, -1, 6, -1, 7, -1, 10, -1, -1],\n",
       " [0, 0, 0, 0, 0, 0, 11, 6, -1, -1, -1, -1, -1, -1],\n",
       " [0, 0, 0, 0, 0, 0, 11, 6, -1, 7, -1, 10, -1, -1],\n",
       " [0, 0, 0, 0, 0, 0, 11, -1, -1, -1, -1, -1, -1, -1],\n",
       " [0, 0, 0, 0, 0, 0, -1, 6, -1, 7, -1, 10, -1, -1],\n",
       " [0, 0, 0, 0, 0, 0, -1, 6, -1, 7, -1, 10, -1, -1],\n",
       " [0, 0, 0, 0, 0, 0, -1, 12, -1, -1, -1, -1, -1, -1],\n",
       " [0, 0, 0, 0, 0, 0, -1, 5, -1, 12, -1, -1, -1, -1],\n",
       " [0, 0, 0, 0, 0, 0, -1, 4, -1, 5, -1, -1, -1, -1],\n",
       " [0, 0, 0, 0, 0, 0, 5, 3, 16, 10, 17, 6, -1, 17],\n",
       " [0, 0, 0, 0, 0, 0, -1, -1, 16, 4, -1, 6, -1, 17],\n",
       " [0, 0, 0, 0, 0, 0, -1, 3, 16, 10, -1, 6, -1, 17],\n",
       " [0, 0, 0, 0, 0, 0, -1, 3, 16, 10, -1, 6, -1, 17],\n",
       " [0, 0, 0, 0, 0, 0, -1, 1, 16, 4, -1, -1, -1, 17],\n",
       " [0, 0, 0, 0, 0, 0, -1, 1, 16, -1, -1, -1, -1, 17],\n",
       " [0, 0, 0, 0, 0, 0, -1, 1, 16, 4, -1, -1, -1, 17],\n",
       " [0, 0, 0, 0, 0, 0, -1, 1, -1, 4, -1, -1, -1, 17],\n",
       " [0, 0, 0, 0, 0, 0, -1, 1, 16, 4, -1, -1, -1, 17],\n",
       " [0, 0, 0, 0, 0, 0, 1, -1, 6, 14, -1, 15, -1, -1],\n",
       " [0, 0, 0, 0, 0, 0, 1, -1, -1, 12, -1, -1, -1, -1],\n",
       " [0, 0, 0, 0, 0, 0, 1, -1, 6, 14, -1, 15, -1, -1],\n",
       " [0, 0, 0, 0, 0, 0, 1, -1, 6, 14, -1, 15, -1, -1],\n",
       " [0, 0, 0, 0, 0, 0, -1, 5, -1, 14, -1, -1, -1, -1],\n",
       " [0, 0, 0, 0, 0, 0, 1, -1, 6, 14, -1, 15, -1, -1],\n",
       " [0, 0, 0, 0, 0, 0, -1, 5, -1, 12, -1, -1, -1, -1],\n",
       " [0, 0, 0, 0, 0, 0, -1, 3, -1, 10, -1, -1, -1, -1],\n",
       " [0, 0, 0, 0, 0, 0, -1, 3, 16, 10, -1, -1, -1, 17],\n",
       " [0, 0, 0, 0, 0, 0, -1, 5, -1, 12, -1, -1, -1, -1],\n",
       " [0, 0, 0, 0, 0, 0, 5, -1, -1, -1, 17, -1, -1, -1],\n",
       " [0, 0, 0, 0, 0, 0, 5, -1, 16, -1, 17, -1, -1, 17],\n",
       " [0, 0, 0, 0, 0, 0, 14, -1, -1, -1, -1, -1, -1, -1],\n",
       " [0, 0, 0, 0, 0, 0, 14, -1, -1, -1, -1, -1, -1, -1],\n",
       " [0, 0, 0, 0, 0, 0, 14, -1, -1, -1, -1, -1, -1, -1],\n",
       " [0, 0, 0, 0, 0, 0, -1, 2, -1, 4, -1, -1, -1, -1],\n",
       " [0, 0, 0, 0, 0, 0, -1, 2, -1, 4, -1, -1, -1, -1],\n",
       " [0, 0, 0, 0, 0, 0, -1, 2, -1, 4, -1, -1, -1, -1],\n",
       " [0, 0, 0, 0, 0, 0, -1, 2, -1, 4, -1, -1, -1, -1]]"
      ]
     },
     "metadata": {},
     "execution_count": 30
    }
   ],
   "source": [
    "matrix_node_tools"
   ]
  },
  {
   "cell_type": "markdown",
   "metadata": {},
   "source": [
    "## The code below implements the simulation multiple times (parameter 'sims'), and plots a distribution of rounds until discovery of superdrug."
   ]
  },
  {
   "cell_type": "markdown",
   "metadata": {},
   "source": [
    "* This cell imports and prepares the files, therefore needs to be run only once"
   ]
  },
  {
   "cell_type": "code",
   "execution_count": 31,
   "metadata": {},
   "outputs": [],
   "source": [
    "net = 'agtanet.txt'\n",
    "G = nx.read_weighted_edgelist(net, nodetype = int)\n",
    "\n",
    "Agtakin = 'agtanetkin.txt'\n",
    "file_kin = open(Agtakin, \"r\") \n",
    "for line in file_kin.readlines(): \n",
    "    elems = [int(float(x)) if \"e\" in x or \".\" in x else int(x) for x in line.strip(\"\\n \").split(\" \")]\n",
    "    i=int(elems[0]) # extracts i and j nodes from dyad\n",
    "    j=int(elems[1])\n",
    "    kinship= int(elems[3]/10) # so kinship is 1 for close kin, 2 for distant kin, 3 for non-kin\n",
    "    #print(kinship)\n",
    "    if G.has_edge(i,j) == True: # now check in G if (i, j) exists\n",
    "        G[i][j]['kin']=kinship # if so, create variable kin with value kinship \n",
    "file_kin.close()"
   ]
  },
  {
   "cell_type": "markdown",
   "metadata": {},
   "source": [
    "* This cell should be re-run everytime you change number of sims, conditions etc."
   ]
  },
  {
   "cell_type": "code",
   "execution_count": 32,
   "metadata": {},
   "outputs": [
    {
     "output_type": "display_data",
     "data": {
      "text/plain": "<Figure size 432x288 with 1 Axes>",
      "image/svg+xml": "<?xml version=\"1.0\" encoding=\"utf-8\" standalone=\"no\"?>\r\n<!DOCTYPE svg PUBLIC \"-//W3C//DTD SVG 1.1//EN\"\r\n  \"http://www.w3.org/Graphics/SVG/1.1/DTD/svg11.dtd\">\r\n<!-- Created with matplotlib (https://matplotlib.org/) -->\r\n<svg height=\"248.518125pt\" version=\"1.1\" viewBox=\"0 0 372.103125 248.518125\" width=\"372.103125pt\" xmlns=\"http://www.w3.org/2000/svg\" xmlns:xlink=\"http://www.w3.org/1999/xlink\">\r\n <metadata>\r\n  <rdf:RDF xmlns:cc=\"http://creativecommons.org/ns#\" xmlns:dc=\"http://purl.org/dc/elements/1.1/\" xmlns:rdf=\"http://www.w3.org/1999/02/22-rdf-syntax-ns#\">\r\n   <cc:Work>\r\n    <dc:type rdf:resource=\"http://purl.org/dc/dcmitype/StillImage\"/>\r\n    <dc:date>2021-03-12T10:41:24.992211</dc:date>\r\n    <dc:format>image/svg+xml</dc:format>\r\n    <dc:creator>\r\n     <cc:Agent>\r\n      <dc:title>Matplotlib v3.3.4, https://matplotlib.org/</dc:title>\r\n     </cc:Agent>\r\n    </dc:creator>\r\n   </cc:Work>\r\n  </rdf:RDF>\r\n </metadata>\r\n <defs>\r\n  <style type=\"text/css\">*{stroke-linecap:butt;stroke-linejoin:round;}</style>\r\n </defs>\r\n <g id=\"figure_1\">\r\n  <g id=\"patch_1\">\r\n   <path d=\"M 0 248.518125 \r\nL 372.103125 248.518125 \r\nL 372.103125 0 \r\nL 0 0 \r\nz\r\n\" style=\"fill:none;\"/>\r\n  </g>\r\n  <g id=\"axes_1\">\r\n   <g id=\"patch_2\">\r\n    <path d=\"M 30.103125 224.64 \r\nL 364.903125 224.64 \r\nL 364.903125 7.2 \r\nL 30.103125 7.2 \r\nz\r\n\" style=\"fill:#ffffff;\"/>\r\n   </g>\r\n   <g id=\"patch_3\">\r\n    <path clip-path=\"url(#pa03556b657)\" d=\"M 45.321307 224.64 \r\nL 70.167318 224.64 \r\nL 70.167318 17.554286 \r\nL 45.321307 17.554286 \r\nz\r\n\" style=\"fill:#0000ff;opacity:0.5;\"/>\r\n   </g>\r\n   <g id=\"patch_4\">\r\n    <path clip-path=\"url(#pa03556b657)\" d=\"M 76.378821 224.64 \r\nL 101.224832 224.64 \r\nL 101.224832 224.64 \r\nL 76.378821 224.64 \r\nz\r\n\" style=\"fill:#0000ff;opacity:0.5;\"/>\r\n   </g>\r\n   <g id=\"patch_5\">\r\n    <path clip-path=\"url(#pa03556b657)\" d=\"M 107.436335 224.64 \r\nL 132.282346 224.64 \r\nL 132.282346 224.64 \r\nL 107.436335 224.64 \r\nz\r\n\" style=\"fill:#0000ff;opacity:0.5;\"/>\r\n   </g>\r\n   <g id=\"patch_6\">\r\n    <path clip-path=\"url(#pa03556b657)\" d=\"M 138.493849 224.64 \r\nL 163.33986 224.64 \r\nL 163.33986 155.611429 \r\nL 138.493849 155.611429 \r\nz\r\n\" style=\"fill:#0000ff;opacity:0.5;\"/>\r\n   </g>\r\n   <g id=\"patch_7\">\r\n    <path clip-path=\"url(#pa03556b657)\" d=\"M 169.551362 224.64 \r\nL 194.397374 224.64 \r\nL 194.397374 155.611429 \r\nL 169.551362 155.611429 \r\nz\r\n\" style=\"fill:#0000ff;opacity:0.5;\"/>\r\n   </g>\r\n   <g id=\"patch_8\">\r\n    <path clip-path=\"url(#pa03556b657)\" d=\"M 200.608876 224.64 \r\nL 225.454888 224.64 \r\nL 225.454888 86.582857 \r\nL 200.608876 86.582857 \r\nz\r\n\" style=\"fill:#0000ff;opacity:0.5;\"/>\r\n   </g>\r\n   <g id=\"patch_9\">\r\n    <path clip-path=\"url(#pa03556b657)\" d=\"M 231.66639 224.64 \r\nL 256.512401 224.64 \r\nL 256.512401 86.582857 \r\nL 231.66639 86.582857 \r\nz\r\n\" style=\"fill:#0000ff;opacity:0.5;\"/>\r\n   </g>\r\n   <g id=\"patch_10\">\r\n    <path clip-path=\"url(#pa03556b657)\" d=\"M 262.723904 224.64 \r\nL 287.569915 224.64 \r\nL 287.569915 224.64 \r\nL 262.723904 224.64 \r\nz\r\n\" style=\"fill:#0000ff;opacity:0.5;\"/>\r\n   </g>\r\n   <g id=\"patch_11\">\r\n    <path clip-path=\"url(#pa03556b657)\" d=\"M 293.781418 224.64 \r\nL 318.627429 224.64 \r\nL 318.627429 224.64 \r\nL 293.781418 224.64 \r\nz\r\n\" style=\"fill:#0000ff;opacity:0.5;\"/>\r\n   </g>\r\n   <g id=\"patch_12\">\r\n    <path clip-path=\"url(#pa03556b657)\" d=\"M 324.838932 224.64 \r\nL 349.684943 224.64 \r\nL 349.684943 155.611429 \r\nL 324.838932 155.611429 \r\nz\r\n\" style=\"fill:#0000ff;opacity:0.5;\"/>\r\n   </g>\r\n   <g id=\"matplotlib.axis_1\">\r\n    <g id=\"xtick_1\">\r\n     <g id=\"line2d_1\">\r\n      <defs>\r\n       <path d=\"M 0 0 \r\nL 0 3.5 \r\n\" id=\"ma9365dee27\" style=\"stroke:#000000;stroke-width:0.8;\"/>\r\n      </defs>\r\n      <g>\r\n       <use style=\"stroke:#000000;stroke-width:0.8;\" x=\"57.744312\" xlink:href=\"#ma9365dee27\" y=\"224.64\"/>\r\n      </g>\r\n     </g>\r\n     <g id=\"text_1\">\r\n      <!-- 15 -->\r\n      <g transform=\"translate(51.381812 239.238437)scale(0.1 -0.1)\">\r\n       <defs>\r\n        <path d=\"M 12.40625 8.296875 \r\nL 28.515625 8.296875 \r\nL 28.515625 63.921875 \r\nL 10.984375 60.40625 \r\nL 10.984375 69.390625 \r\nL 28.421875 72.90625 \r\nL 38.28125 72.90625 \r\nL 38.28125 8.296875 \r\nL 54.390625 8.296875 \r\nL 54.390625 0 \r\nL 12.40625 0 \r\nz\r\n\" id=\"DejaVuSans-49\"/>\r\n        <path d=\"M 10.796875 72.90625 \r\nL 49.515625 72.90625 \r\nL 49.515625 64.59375 \r\nL 19.828125 64.59375 \r\nL 19.828125 46.734375 \r\nQ 21.96875 47.46875 24.109375 47.828125 \r\nQ 26.265625 48.1875 28.421875 48.1875 \r\nQ 40.625 48.1875 47.75 41.5 \r\nQ 54.890625 34.8125 54.890625 23.390625 \r\nQ 54.890625 11.625 47.5625 5.09375 \r\nQ 40.234375 -1.421875 26.90625 -1.421875 \r\nQ 22.3125 -1.421875 17.546875 -0.640625 \r\nQ 12.796875 0.140625 7.71875 1.703125 \r\nL 7.71875 11.625 \r\nQ 12.109375 9.234375 16.796875 8.0625 \r\nQ 21.484375 6.890625 26.703125 6.890625 \r\nQ 35.15625 6.890625 40.078125 11.328125 \r\nQ 45.015625 15.765625 45.015625 23.390625 \r\nQ 45.015625 31 40.078125 35.4375 \r\nQ 35.15625 39.890625 26.703125 39.890625 \r\nQ 22.75 39.890625 18.8125 39.015625 \r\nQ 14.890625 38.140625 10.796875 36.28125 \r\nz\r\n\" id=\"DejaVuSans-53\"/>\r\n       </defs>\r\n       <use xlink:href=\"#DejaVuSans-49\"/>\r\n       <use x=\"63.623047\" xlink:href=\"#DejaVuSans-53\"/>\r\n      </g>\r\n     </g>\r\n    </g>\r\n    <g id=\"xtick_2\">\r\n     <g id=\"line2d_2\">\r\n      <g>\r\n       <use style=\"stroke:#000000;stroke-width:0.8;\" x=\"96.566205\" xlink:href=\"#ma9365dee27\" y=\"224.64\"/>\r\n      </g>\r\n     </g>\r\n     <g id=\"text_2\">\r\n      <!-- 20 -->\r\n      <g transform=\"translate(90.203705 239.238437)scale(0.1 -0.1)\">\r\n       <defs>\r\n        <path d=\"M 19.1875 8.296875 \r\nL 53.609375 8.296875 \r\nL 53.609375 0 \r\nL 7.328125 0 \r\nL 7.328125 8.296875 \r\nQ 12.9375 14.109375 22.625 23.890625 \r\nQ 32.328125 33.6875 34.8125 36.53125 \r\nQ 39.546875 41.84375 41.421875 45.53125 \r\nQ 43.3125 49.21875 43.3125 52.78125 \r\nQ 43.3125 58.59375 39.234375 62.25 \r\nQ 35.15625 65.921875 28.609375 65.921875 \r\nQ 23.96875 65.921875 18.8125 64.3125 \r\nQ 13.671875 62.703125 7.8125 59.421875 \r\nL 7.8125 69.390625 \r\nQ 13.765625 71.78125 18.9375 73 \r\nQ 24.125 74.21875 28.421875 74.21875 \r\nQ 39.75 74.21875 46.484375 68.546875 \r\nQ 53.21875 62.890625 53.21875 53.421875 \r\nQ 53.21875 48.921875 51.53125 44.890625 \r\nQ 49.859375 40.875 45.40625 35.40625 \r\nQ 44.1875 33.984375 37.640625 27.21875 \r\nQ 31.109375 20.453125 19.1875 8.296875 \r\nz\r\n\" id=\"DejaVuSans-50\"/>\r\n        <path d=\"M 31.78125 66.40625 \r\nQ 24.171875 66.40625 20.328125 58.90625 \r\nQ 16.5 51.421875 16.5 36.375 \r\nQ 16.5 21.390625 20.328125 13.890625 \r\nQ 24.171875 6.390625 31.78125 6.390625 \r\nQ 39.453125 6.390625 43.28125 13.890625 \r\nQ 47.125 21.390625 47.125 36.375 \r\nQ 47.125 51.421875 43.28125 58.90625 \r\nQ 39.453125 66.40625 31.78125 66.40625 \r\nz\r\nM 31.78125 74.21875 \r\nQ 44.046875 74.21875 50.515625 64.515625 \r\nQ 56.984375 54.828125 56.984375 36.375 \r\nQ 56.984375 17.96875 50.515625 8.265625 \r\nQ 44.046875 -1.421875 31.78125 -1.421875 \r\nQ 19.53125 -1.421875 13.0625 8.265625 \r\nQ 6.59375 17.96875 6.59375 36.375 \r\nQ 6.59375 54.828125 13.0625 64.515625 \r\nQ 19.53125 74.21875 31.78125 74.21875 \r\nz\r\n\" id=\"DejaVuSans-48\"/>\r\n       </defs>\r\n       <use xlink:href=\"#DejaVuSans-50\"/>\r\n       <use x=\"63.623047\" xlink:href=\"#DejaVuSans-48\"/>\r\n      </g>\r\n     </g>\r\n    </g>\r\n    <g id=\"xtick_3\">\r\n     <g id=\"line2d_3\">\r\n      <g>\r\n       <use style=\"stroke:#000000;stroke-width:0.8;\" x=\"135.388097\" xlink:href=\"#ma9365dee27\" y=\"224.64\"/>\r\n      </g>\r\n     </g>\r\n     <g id=\"text_3\">\r\n      <!-- 25 -->\r\n      <g transform=\"translate(129.025597 239.238437)scale(0.1 -0.1)\">\r\n       <use xlink:href=\"#DejaVuSans-50\"/>\r\n       <use x=\"63.623047\" xlink:href=\"#DejaVuSans-53\"/>\r\n      </g>\r\n     </g>\r\n    </g>\r\n    <g id=\"xtick_4\">\r\n     <g id=\"line2d_4\">\r\n      <g>\r\n       <use style=\"stroke:#000000;stroke-width:0.8;\" x=\"174.20999\" xlink:href=\"#ma9365dee27\" y=\"224.64\"/>\r\n      </g>\r\n     </g>\r\n     <g id=\"text_4\">\r\n      <!-- 30 -->\r\n      <g transform=\"translate(167.84749 239.238437)scale(0.1 -0.1)\">\r\n       <defs>\r\n        <path d=\"M 40.578125 39.3125 \r\nQ 47.65625 37.796875 51.625 33 \r\nQ 55.609375 28.21875 55.609375 21.1875 \r\nQ 55.609375 10.40625 48.1875 4.484375 \r\nQ 40.765625 -1.421875 27.09375 -1.421875 \r\nQ 22.515625 -1.421875 17.65625 -0.515625 \r\nQ 12.796875 0.390625 7.625 2.203125 \r\nL 7.625 11.71875 \r\nQ 11.71875 9.328125 16.59375 8.109375 \r\nQ 21.484375 6.890625 26.8125 6.890625 \r\nQ 36.078125 6.890625 40.9375 10.546875 \r\nQ 45.796875 14.203125 45.796875 21.1875 \r\nQ 45.796875 27.640625 41.28125 31.265625 \r\nQ 36.765625 34.90625 28.71875 34.90625 \r\nL 20.21875 34.90625 \r\nL 20.21875 43.015625 \r\nL 29.109375 43.015625 \r\nQ 36.375 43.015625 40.234375 45.921875 \r\nQ 44.09375 48.828125 44.09375 54.296875 \r\nQ 44.09375 59.90625 40.109375 62.90625 \r\nQ 36.140625 65.921875 28.71875 65.921875 \r\nQ 24.65625 65.921875 20.015625 65.03125 \r\nQ 15.375 64.15625 9.8125 62.3125 \r\nL 9.8125 71.09375 \r\nQ 15.4375 72.65625 20.34375 73.4375 \r\nQ 25.25 74.21875 29.59375 74.21875 \r\nQ 40.828125 74.21875 47.359375 69.109375 \r\nQ 53.90625 64.015625 53.90625 55.328125 \r\nQ 53.90625 49.265625 50.4375 45.09375 \r\nQ 46.96875 40.921875 40.578125 39.3125 \r\nz\r\n\" id=\"DejaVuSans-51\"/>\r\n       </defs>\r\n       <use xlink:href=\"#DejaVuSans-51\"/>\r\n       <use x=\"63.623047\" xlink:href=\"#DejaVuSans-48\"/>\r\n      </g>\r\n     </g>\r\n    </g>\r\n    <g id=\"xtick_5\">\r\n     <g id=\"line2d_5\">\r\n      <g>\r\n       <use style=\"stroke:#000000;stroke-width:0.8;\" x=\"213.031882\" xlink:href=\"#ma9365dee27\" y=\"224.64\"/>\r\n      </g>\r\n     </g>\r\n     <g id=\"text_5\">\r\n      <!-- 35 -->\r\n      <g transform=\"translate(206.669382 239.238437)scale(0.1 -0.1)\">\r\n       <use xlink:href=\"#DejaVuSans-51\"/>\r\n       <use x=\"63.623047\" xlink:href=\"#DejaVuSans-53\"/>\r\n      </g>\r\n     </g>\r\n    </g>\r\n    <g id=\"xtick_6\">\r\n     <g id=\"line2d_6\">\r\n      <g>\r\n       <use style=\"stroke:#000000;stroke-width:0.8;\" x=\"251.853774\" xlink:href=\"#ma9365dee27\" y=\"224.64\"/>\r\n      </g>\r\n     </g>\r\n     <g id=\"text_6\">\r\n      <!-- 40 -->\r\n      <g transform=\"translate(245.491274 239.238437)scale(0.1 -0.1)\">\r\n       <defs>\r\n        <path d=\"M 37.796875 64.3125 \r\nL 12.890625 25.390625 \r\nL 37.796875 25.390625 \r\nz\r\nM 35.203125 72.90625 \r\nL 47.609375 72.90625 \r\nL 47.609375 25.390625 \r\nL 58.015625 25.390625 \r\nL 58.015625 17.1875 \r\nL 47.609375 17.1875 \r\nL 47.609375 0 \r\nL 37.796875 0 \r\nL 37.796875 17.1875 \r\nL 4.890625 17.1875 \r\nL 4.890625 26.703125 \r\nz\r\n\" id=\"DejaVuSans-52\"/>\r\n       </defs>\r\n       <use xlink:href=\"#DejaVuSans-52\"/>\r\n       <use x=\"63.623047\" xlink:href=\"#DejaVuSans-48\"/>\r\n      </g>\r\n     </g>\r\n    </g>\r\n    <g id=\"xtick_7\">\r\n     <g id=\"line2d_7\">\r\n      <g>\r\n       <use style=\"stroke:#000000;stroke-width:0.8;\" x=\"290.675667\" xlink:href=\"#ma9365dee27\" y=\"224.64\"/>\r\n      </g>\r\n     </g>\r\n     <g id=\"text_7\">\r\n      <!-- 45 -->\r\n      <g transform=\"translate(284.313167 239.238437)scale(0.1 -0.1)\">\r\n       <use xlink:href=\"#DejaVuSans-52\"/>\r\n       <use x=\"63.623047\" xlink:href=\"#DejaVuSans-53\"/>\r\n      </g>\r\n     </g>\r\n    </g>\r\n    <g id=\"xtick_8\">\r\n     <g id=\"line2d_8\">\r\n      <g>\r\n       <use style=\"stroke:#000000;stroke-width:0.8;\" x=\"329.497559\" xlink:href=\"#ma9365dee27\" y=\"224.64\"/>\r\n      </g>\r\n     </g>\r\n     <g id=\"text_8\">\r\n      <!-- 50 -->\r\n      <g transform=\"translate(323.135059 239.238437)scale(0.1 -0.1)\">\r\n       <use xlink:href=\"#DejaVuSans-53\"/>\r\n       <use x=\"63.623047\" xlink:href=\"#DejaVuSans-48\"/>\r\n      </g>\r\n     </g>\r\n    </g>\r\n   </g>\r\n   <g id=\"matplotlib.axis_2\">\r\n    <g id=\"ytick_1\">\r\n     <g id=\"line2d_9\">\r\n      <defs>\r\n       <path d=\"M 0 0 \r\nL -3.5 0 \r\n\" id=\"m98948d80f9\" style=\"stroke:#000000;stroke-width:0.8;\"/>\r\n      </defs>\r\n      <g>\r\n       <use style=\"stroke:#000000;stroke-width:0.8;\" x=\"30.103125\" xlink:href=\"#m98948d80f9\" y=\"224.64\"/>\r\n      </g>\r\n     </g>\r\n     <g id=\"text_9\">\r\n      <!-- 0.0 -->\r\n      <g transform=\"translate(7.2 228.439219)scale(0.1 -0.1)\">\r\n       <defs>\r\n        <path d=\"M 10.6875 12.40625 \r\nL 21 12.40625 \r\nL 21 0 \r\nL 10.6875 0 \r\nz\r\n\" id=\"DejaVuSans-46\"/>\r\n       </defs>\r\n       <use xlink:href=\"#DejaVuSans-48\"/>\r\n       <use x=\"63.623047\" xlink:href=\"#DejaVuSans-46\"/>\r\n       <use x=\"95.410156\" xlink:href=\"#DejaVuSans-48\"/>\r\n      </g>\r\n     </g>\r\n    </g>\r\n    <g id=\"ytick_2\">\r\n     <g id=\"line2d_10\">\r\n      <g>\r\n       <use style=\"stroke:#000000;stroke-width:0.8;\" x=\"30.103125\" xlink:href=\"#m98948d80f9\" y=\"190.125714\"/>\r\n      </g>\r\n     </g>\r\n     <g id=\"text_10\">\r\n      <!-- 0.5 -->\r\n      <g transform=\"translate(7.2 193.924933)scale(0.1 -0.1)\">\r\n       <use xlink:href=\"#DejaVuSans-48\"/>\r\n       <use x=\"63.623047\" xlink:href=\"#DejaVuSans-46\"/>\r\n       <use x=\"95.410156\" xlink:href=\"#DejaVuSans-53\"/>\r\n      </g>\r\n     </g>\r\n    </g>\r\n    <g id=\"ytick_3\">\r\n     <g id=\"line2d_11\">\r\n      <g>\r\n       <use style=\"stroke:#000000;stroke-width:0.8;\" x=\"30.103125\" xlink:href=\"#m98948d80f9\" y=\"155.611429\"/>\r\n      </g>\r\n     </g>\r\n     <g id=\"text_11\">\r\n      <!-- 1.0 -->\r\n      <g transform=\"translate(7.2 159.410647)scale(0.1 -0.1)\">\r\n       <use xlink:href=\"#DejaVuSans-49\"/>\r\n       <use x=\"63.623047\" xlink:href=\"#DejaVuSans-46\"/>\r\n       <use x=\"95.410156\" xlink:href=\"#DejaVuSans-48\"/>\r\n      </g>\r\n     </g>\r\n    </g>\r\n    <g id=\"ytick_4\">\r\n     <g id=\"line2d_12\">\r\n      <g>\r\n       <use style=\"stroke:#000000;stroke-width:0.8;\" x=\"30.103125\" xlink:href=\"#m98948d80f9\" y=\"121.097143\"/>\r\n      </g>\r\n     </g>\r\n     <g id=\"text_12\">\r\n      <!-- 1.5 -->\r\n      <g transform=\"translate(7.2 124.896362)scale(0.1 -0.1)\">\r\n       <use xlink:href=\"#DejaVuSans-49\"/>\r\n       <use x=\"63.623047\" xlink:href=\"#DejaVuSans-46\"/>\r\n       <use x=\"95.410156\" xlink:href=\"#DejaVuSans-53\"/>\r\n      </g>\r\n     </g>\r\n    </g>\r\n    <g id=\"ytick_5\">\r\n     <g id=\"line2d_13\">\r\n      <g>\r\n       <use style=\"stroke:#000000;stroke-width:0.8;\" x=\"30.103125\" xlink:href=\"#m98948d80f9\" y=\"86.582857\"/>\r\n      </g>\r\n     </g>\r\n     <g id=\"text_13\">\r\n      <!-- 2.0 -->\r\n      <g transform=\"translate(7.2 90.382076)scale(0.1 -0.1)\">\r\n       <use xlink:href=\"#DejaVuSans-50\"/>\r\n       <use x=\"63.623047\" xlink:href=\"#DejaVuSans-46\"/>\r\n       <use x=\"95.410156\" xlink:href=\"#DejaVuSans-48\"/>\r\n      </g>\r\n     </g>\r\n    </g>\r\n    <g id=\"ytick_6\">\r\n     <g id=\"line2d_14\">\r\n      <g>\r\n       <use style=\"stroke:#000000;stroke-width:0.8;\" x=\"30.103125\" xlink:href=\"#m98948d80f9\" y=\"52.068571\"/>\r\n      </g>\r\n     </g>\r\n     <g id=\"text_14\">\r\n      <!-- 2.5 -->\r\n      <g transform=\"translate(7.2 55.86779)scale(0.1 -0.1)\">\r\n       <use xlink:href=\"#DejaVuSans-50\"/>\r\n       <use x=\"63.623047\" xlink:href=\"#DejaVuSans-46\"/>\r\n       <use x=\"95.410156\" xlink:href=\"#DejaVuSans-53\"/>\r\n      </g>\r\n     </g>\r\n    </g>\r\n    <g id=\"ytick_7\">\r\n     <g id=\"line2d_15\">\r\n      <g>\r\n       <use style=\"stroke:#000000;stroke-width:0.8;\" x=\"30.103125\" xlink:href=\"#m98948d80f9\" y=\"17.554286\"/>\r\n      </g>\r\n     </g>\r\n     <g id=\"text_15\">\r\n      <!-- 3.0 -->\r\n      <g transform=\"translate(7.2 21.353504)scale(0.1 -0.1)\">\r\n       <use xlink:href=\"#DejaVuSans-51\"/>\r\n       <use x=\"63.623047\" xlink:href=\"#DejaVuSans-46\"/>\r\n       <use x=\"95.410156\" xlink:href=\"#DejaVuSans-48\"/>\r\n      </g>\r\n     </g>\r\n    </g>\r\n   </g>\r\n   <g id=\"patch_13\">\r\n    <path d=\"M 30.103125 224.64 \r\nL 30.103125 7.2 \r\n\" style=\"fill:none;stroke:#000000;stroke-linecap:square;stroke-linejoin:miter;stroke-width:0.8;\"/>\r\n   </g>\r\n   <g id=\"patch_14\">\r\n    <path d=\"M 364.903125 224.64 \r\nL 364.903125 7.2 \r\n\" style=\"fill:none;stroke:#000000;stroke-linecap:square;stroke-linejoin:miter;stroke-width:0.8;\"/>\r\n   </g>\r\n   <g id=\"patch_15\">\r\n    <path d=\"M 30.103125 224.64 \r\nL 364.903125 224.64 \r\n\" style=\"fill:none;stroke:#000000;stroke-linecap:square;stroke-linejoin:miter;stroke-width:0.8;\"/>\r\n   </g>\r\n   <g id=\"patch_16\">\r\n    <path d=\"M 30.103125 7.2 \r\nL 364.903125 7.2 \r\n\" style=\"fill:none;stroke:#000000;stroke-linecap:square;stroke-linejoin:miter;stroke-width:0.8;\"/>\r\n   </g>\r\n  </g>\r\n </g>\r\n <defs>\r\n  <clipPath id=\"pa03556b657\">\r\n   <rect height=\"217.44\" width=\"334.8\" x=\"30.103125\" y=\"7.2\"/>\r\n  </clipPath>\r\n </defs>\r\n</svg>\r\n",
      "image/png": "[encoded data removed]"
     },
     "metadata": {
      "needs_background": "light"
     }
    },
    {
     "output_type": "stream",
     "name": "stdout",
     "text": [
      "Simulations =  10\nMean time to discovery of C1/C2 =  30.0 rounds\n"
     ]
    }
   ],
   "source": [
    "import networkx as nx\n",
    "import random as rd\n",
    "import numpy as np\n",
    "import matplotlib.pyplot as plt\n",
    "import matplotlib\n",
    "\n",
    "sims = 10\n",
    "sim_duration = [] # to store each simulation duration \n",
    "\n",
    "# beginning of simulations\n",
    "for i in range(sims):\n",
    "    G_closekin = nx.Graph() # creates a new empty network\n",
    "    for i, j in G.edges:\n",
    "        if G[i][j]['kin'] == 1: # if (i, j) dyad in G is kin = 1\n",
    "            G_closekin.add_edge(i, j) # add that edge to new network\n",
    "            G_closekin[i][j]['weight'] = G[i][j]['weight'] # add weight from G to new network \n",
    "\n",
    "    for node in G: \n",
    "        if node not in G_closekin:\n",
    "            G_closekin.add_node(node)\n",
    "\n",
    "    matrix_node_tools=[[0]*6 + [-1]*8 for i in range (len(G))]\n",
    "    fitness_values = [6, 8, 10, 6, 8, 10, 30, 30, 60, 60, 120, 120, 300, 300] # each column has a value\n",
    "    innovations_dict = {(0, 1, 2): 6, \n",
    "                 (3, 4, 5): 7,\n",
    "                 (0, 4, 6): 8,\n",
    "                 (1, 2, 7): 9,\n",
    "                 (4, 5, 8): 10,\n",
    "                 (1, 3, 9): 11,\n",
    "                 (8, 10, 11): 12,\n",
    "                 (9, 10, 11): 13}\n",
    "\n",
    "    periods=10000\n",
    "    stop_sim=0   \n",
    "    for epoch in range(periods):\n",
    "        random_node_list = rd.sample(range(len(G)), len(G))\n",
    "        for node in random_node_list:\n",
    "            neighbour_list = []\n",
    "            for neighbour in G[node]:\n",
    "                for times in range(int(G[node][neighbour]['weight'])):\n",
    "                    neighbour_list.append(neighbour)\n",
    "            selected_neighbour = rd.choice(neighbour_list)\n",
    "\n",
    "            ingredients_node=np.where(np.array(matrix_node_tools[node])>-1)[0] \n",
    "            ingredients_neighbour=np.where(np.array(matrix_node_tools[selected_neighbour])>-1)[0]\n",
    "\n",
    "            node_tools=[]\n",
    "            for tool in ingredients_node:\n",
    "                for times in range(fitness_values[tool]):\n",
    "                    node_tools.append(tool)\n",
    "            node_tool_1, node_tool_2 = rd.sample(node_tools, 2)\n",
    "\n",
    "            neighbour_tools=[]\n",
    "            for tool in ingredients_neighbour:\n",
    "                for times in range(fitness_values[tool]):\n",
    "                    neighbour_tools.append(tool)\n",
    "            neighbour_tool = rd.choice(neighbour_tools)\n",
    "\n",
    "            triad = [node_tool_1, node_tool_2, neighbour_tool]\n",
    "            triad = tuple(sorted(triad))\n",
    "            new_tool = innovations_dict.get(triad,-1)\n",
    "\n",
    "            # until here, similar to previous cell  \n",
    "\n",
    "            if new_tool > -1: # if a new drug was created (6, 7 or 8 etc) \n",
    "                # check if node and neighbour already have invented tool \n",
    "                have_new_tool = -1 # we need this later\n",
    "                if matrix_node_tools[node][new_tool] == -1: # if position (i = node, j = new tool) in matrix is absent\n",
    "                    have_new_tool = 1 \n",
    "                    matrix_node_tools[node][new_tool] = epoch + 1 # node gains new tools, replace -1 with round of discovery\n",
    "                    for node_kin in G_closekin[node]: # now use matrix G_closekin to identify all close kin of node \n",
    "                        matrix_node_tools[node_kin][new_tool] = epoch + 1 # tranmits new tool to all kin\n",
    "\n",
    "                if matrix_node_tools[selected_neighbour][new_tool] == -1: #check if selected neighbour has tool\n",
    "                    have_new_tool = 1 \n",
    "                    matrix_node_tools[selected_neighbour][new_tool]= epoch + 1 # neighbours gains new tool\n",
    "                    for neighbour_kin in G_closekin[selected_neighbour]:\n",
    "                        matrix_node_tools[neighbour_kin][new_tool] = epoch+ 1\n",
    "\n",
    "                if have_new_tool == 1: #if either node or neighbour received the new tool\n",
    "                    #print(new_tool, epoch + 1, node, selected_neighbour)\n",
    "                    if new_tool in [12,13]: # BUT if the new tool is a superdrug C1=12 or C2=13\n",
    "                        stop_sim=1 # simulations ends\n",
    "                        sim_duration.append(epoch + 1)                        \n",
    "            if stop_sim==1:\n",
    "                break\n",
    "        if stop_sim==1:\n",
    "            break\n",
    "\n",
    "plt.hist(sim_duration, facecolor='b', alpha=.5, rwidth=.8)\n",
    "plt.show()\n",
    "print(\"Simulations = \", sims)\n",
    "print(\"Mean time to discovery of C1/C2 = \", np.mean(sim_duration), \"rounds\")"
   ]
  },
  {
   "cell_type": "markdown",
   "metadata": {},
   "source": [
    "## Exercise 1\n",
    "\n",
    "Modify the code so that:\n",
    "* Instead of transferring the new tool only to close kin, both node and neighbour transmit new tools to **all** their neighbours \n",
    "\n"
   ]
  },
  {
   "cell_type": "code",
   "execution_count": 33,
   "metadata": {},
   "outputs": [
    {
     "output_type": "display_data",
     "data": {
      "text/plain": "<Figure size 432x288 with 1 Axes>",
      "image/svg+xml": "<?xml version=\"1.0\" encoding=\"utf-8\" standalone=\"no\"?>\r\n<!DOCTYPE svg PUBLIC \"-//W3C//DTD SVG 1.1//EN\"\r\n  \"http://www.w3.org/Graphics/SVG/1.1/DTD/svg11.dtd\">\r\n<!-- Created with matplotlib (https://matplotlib.org/) -->\r\n<svg height=\"248.518125pt\" version=\"1.1\" viewBox=\"0 0 362.5625 248.518125\" width=\"362.5625pt\" xmlns=\"http://www.w3.org/2000/svg\" xmlns:xlink=\"http://www.w3.org/1999/xlink\">\r\n <metadata>\r\n  <rdf:RDF xmlns:cc=\"http://creativecommons.org/ns#\" xmlns:dc=\"http://purl.org/dc/elements/1.1/\" xmlns:rdf=\"http://www.w3.org/1999/02/22-rdf-syntax-ns#\">\r\n   <cc:Work>\r\n    <dc:type rdf:resource=\"http://purl.org/dc/dcmitype/StillImage\"/>\r\n    <dc:date>2021-03-12T10:44:49.318604</dc:date>\r\n    <dc:format>image/svg+xml</dc:format>\r\n    <dc:creator>\r\n     <cc:Agent>\r\n      <dc:title>Matplotlib v3.3.4, https://matplotlib.org/</dc:title>\r\n     </cc:Agent>\r\n    </dc:creator>\r\n   </cc:Work>\r\n  </rdf:RDF>\r\n </metadata>\r\n <defs>\r\n  <style type=\"text/css\">*{stroke-linecap:butt;stroke-linejoin:round;}</style>\r\n </defs>\r\n <g id=\"figure_1\">\r\n  <g id=\"patch_1\">\r\n   <path d=\"M 0 248.518125 \r\nL 362.5625 248.518125 \r\nL 362.5625 0 \r\nL 0 0 \r\nz\r\n\" style=\"fill:none;\"/>\r\n  </g>\r\n  <g id=\"axes_1\">\r\n   <g id=\"patch_2\">\r\n    <path d=\"M 20.5625 224.64 \r\nL 355.3625 224.64 \r\nL 355.3625 7.2 \r\nL 20.5625 7.2 \r\nz\r\n\" style=\"fill:#ffffff;\"/>\r\n   </g>\r\n   <g id=\"patch_3\">\r\n    <path clip-path=\"url(#pb20437fcec)\" d=\"M 35.780682 224.64 \r\nL 60.626693 224.64 \r\nL 60.626693 17.554286 \r\nL 35.780682 17.554286 \r\nz\r\n\" style=\"fill:#0000ff;opacity:0.5;\"/>\r\n   </g>\r\n   <g id=\"patch_4\">\r\n    <path clip-path=\"url(#pb20437fcec)\" d=\"M 66.838196 224.64 \r\nL 91.684207 224.64 \r\nL 91.684207 183.222857 \r\nL 66.838196 183.222857 \r\nz\r\n\" style=\"fill:#0000ff;opacity:0.5;\"/>\r\n   </g>\r\n   <g id=\"patch_5\">\r\n    <path clip-path=\"url(#pb20437fcec)\" d=\"M 97.89571 224.64 \r\nL 122.741721 224.64 \r\nL 122.741721 183.222857 \r\nL 97.89571 183.222857 \r\nz\r\n\" style=\"fill:#0000ff;opacity:0.5;\"/>\r\n   </g>\r\n   <g id=\"patch_6\">\r\n    <path clip-path=\"url(#pb20437fcec)\" d=\"M 128.953224 224.64 \r\nL 153.799235 224.64 \r\nL 153.799235 183.222857 \r\nL 128.953224 183.222857 \r\nz\r\n\" style=\"fill:#0000ff;opacity:0.5;\"/>\r\n   </g>\r\n   <g id=\"patch_7\">\r\n    <path clip-path=\"url(#pb20437fcec)\" d=\"M 160.010737 224.64 \r\nL 184.856749 224.64 \r\nL 184.856749 224.64 \r\nL 160.010737 224.64 \r\nz\r\n\" style=\"fill:#0000ff;opacity:0.5;\"/>\r\n   </g>\r\n   <g id=\"patch_8\">\r\n    <path clip-path=\"url(#pb20437fcec)\" d=\"M 191.068251 224.64 \r\nL 215.914263 224.64 \r\nL 215.914263 224.64 \r\nL 191.068251 224.64 \r\nz\r\n\" style=\"fill:#0000ff;opacity:0.5;\"/>\r\n   </g>\r\n   <g id=\"patch_9\">\r\n    <path clip-path=\"url(#pb20437fcec)\" d=\"M 222.125765 224.64 \r\nL 246.971776 224.64 \r\nL 246.971776 183.222857 \r\nL 222.125765 183.222857 \r\nz\r\n\" style=\"fill:#0000ff;opacity:0.5;\"/>\r\n   </g>\r\n   <g id=\"patch_10\">\r\n    <path clip-path=\"url(#pb20437fcec)\" d=\"M 253.183279 224.64 \r\nL 278.02929 224.64 \r\nL 278.02929 224.64 \r\nL 253.183279 224.64 \r\nz\r\n\" style=\"fill:#0000ff;opacity:0.5;\"/>\r\n   </g>\r\n   <g id=\"patch_11\">\r\n    <path clip-path=\"url(#pb20437fcec)\" d=\"M 284.240793 224.64 \r\nL 309.086804 224.64 \r\nL 309.086804 224.64 \r\nL 284.240793 224.64 \r\nz\r\n\" style=\"fill:#0000ff;opacity:0.5;\"/>\r\n   </g>\r\n   <g id=\"patch_12\">\r\n    <path clip-path=\"url(#pb20437fcec)\" d=\"M 315.298307 224.64 \r\nL 340.144318 224.64 \r\nL 340.144318 183.222857 \r\nL 315.298307 183.222857 \r\nz\r\n\" style=\"fill:#0000ff;opacity:0.5;\"/>\r\n   </g>\r\n   <g id=\"matplotlib.axis_1\">\r\n    <g id=\"xtick_1\">\r\n     <g id=\"line2d_1\">\r\n      <defs>\r\n       <path d=\"M 0 0 \r\nL 0 3.5 \r\n\" id=\"m409f2ea17f\" style=\"stroke:#000000;stroke-width:0.8;\"/>\r\n      </defs>\r\n      <g>\r\n       <use style=\"stroke:#000000;stroke-width:0.8;\" x=\"23.926335\" xlink:href=\"#m409f2ea17f\" y=\"224.64\"/>\r\n      </g>\r\n     </g>\r\n     <g id=\"text_1\">\r\n      <!-- 0 -->\r\n      <g transform=\"translate(20.745085 239.238437)scale(0.1 -0.1)\">\r\n       <defs>\r\n        <path d=\"M 31.78125 66.40625 \r\nQ 24.171875 66.40625 20.328125 58.90625 \r\nQ 16.5 51.421875 16.5 36.375 \r\nQ 16.5 21.390625 20.328125 13.890625 \r\nQ 24.171875 6.390625 31.78125 6.390625 \r\nQ 39.453125 6.390625 43.28125 13.890625 \r\nQ 47.125 21.390625 47.125 36.375 \r\nQ 47.125 51.421875 43.28125 58.90625 \r\nQ 39.453125 66.40625 31.78125 66.40625 \r\nz\r\nM 31.78125 74.21875 \r\nQ 44.046875 74.21875 50.515625 64.515625 \r\nQ 56.984375 54.828125 56.984375 36.375 \r\nQ 56.984375 17.96875 50.515625 8.265625 \r\nQ 44.046875 -1.421875 31.78125 -1.421875 \r\nQ 19.53125 -1.421875 13.0625 8.265625 \r\nQ 6.59375 17.96875 6.59375 36.375 \r\nQ 6.59375 54.828125 13.0625 64.515625 \r\nQ 19.53125 74.21875 31.78125 74.21875 \r\nz\r\n\" id=\"DejaVuSans-48\"/>\r\n       </defs>\r\n       <use xlink:href=\"#DejaVuSans-48\"/>\r\n      </g>\r\n     </g>\r\n    </g>\r\n    <g id=\"xtick_2\">\r\n     <g id=\"line2d_2\">\r\n      <g>\r\n       <use style=\"stroke:#000000;stroke-width:0.8;\" x=\"67.669312\" xlink:href=\"#m409f2ea17f\" y=\"224.64\"/>\r\n      </g>\r\n     </g>\r\n     <g id=\"text_2\">\r\n      <!-- 20 -->\r\n      <g transform=\"translate(61.306812 239.238437)scale(0.1 -0.1)\">\r\n       <defs>\r\n        <path d=\"M 19.1875 8.296875 \r\nL 53.609375 8.296875 \r\nL 53.609375 0 \r\nL 7.328125 0 \r\nL 7.328125 8.296875 \r\nQ 12.9375 14.109375 22.625 23.890625 \r\nQ 32.328125 33.6875 34.8125 36.53125 \r\nQ 39.546875 41.84375 41.421875 45.53125 \r\nQ 43.3125 49.21875 43.3125 52.78125 \r\nQ 43.3125 58.59375 39.234375 62.25 \r\nQ 35.15625 65.921875 28.609375 65.921875 \r\nQ 23.96875 65.921875 18.8125 64.3125 \r\nQ 13.671875 62.703125 7.8125 59.421875 \r\nL 7.8125 69.390625 \r\nQ 13.765625 71.78125 18.9375 73 \r\nQ 24.125 74.21875 28.421875 74.21875 \r\nQ 39.75 74.21875 46.484375 68.546875 \r\nQ 53.21875 62.890625 53.21875 53.421875 \r\nQ 53.21875 48.921875 51.53125 44.890625 \r\nQ 49.859375 40.875 45.40625 35.40625 \r\nQ 44.1875 33.984375 37.640625 27.21875 \r\nQ 31.109375 20.453125 19.1875 8.296875 \r\nz\r\n\" id=\"DejaVuSans-50\"/>\r\n       </defs>\r\n       <use xlink:href=\"#DejaVuSans-50\"/>\r\n       <use x=\"63.623047\" xlink:href=\"#DejaVuSans-48\"/>\r\n      </g>\r\n     </g>\r\n    </g>\r\n    <g id=\"xtick_3\">\r\n     <g id=\"line2d_3\">\r\n      <g>\r\n       <use style=\"stroke:#000000;stroke-width:0.8;\" x=\"111.41229\" xlink:href=\"#m409f2ea17f\" y=\"224.64\"/>\r\n      </g>\r\n     </g>\r\n     <g id=\"text_3\">\r\n      <!-- 40 -->\r\n      <g transform=\"translate(105.04979 239.238437)scale(0.1 -0.1)\">\r\n       <defs>\r\n        <path d=\"M 37.796875 64.3125 \r\nL 12.890625 25.390625 \r\nL 37.796875 25.390625 \r\nz\r\nM 35.203125 72.90625 \r\nL 47.609375 72.90625 \r\nL 47.609375 25.390625 \r\nL 58.015625 25.390625 \r\nL 58.015625 17.1875 \r\nL 47.609375 17.1875 \r\nL 47.609375 0 \r\nL 37.796875 0 \r\nL 37.796875 17.1875 \r\nL 4.890625 17.1875 \r\nL 4.890625 26.703125 \r\nz\r\n\" id=\"DejaVuSans-52\"/>\r\n       </defs>\r\n       <use xlink:href=\"#DejaVuSans-52\"/>\r\n       <use x=\"63.623047\" xlink:href=\"#DejaVuSans-48\"/>\r\n      </g>\r\n     </g>\r\n    </g>\r\n    <g id=\"xtick_4\">\r\n     <g id=\"line2d_4\">\r\n      <g>\r\n       <use style=\"stroke:#000000;stroke-width:0.8;\" x=\"155.155267\" xlink:href=\"#m409f2ea17f\" y=\"224.64\"/>\r\n      </g>\r\n     </g>\r\n     <g id=\"text_4\">\r\n      <!-- 60 -->\r\n      <g transform=\"translate(148.792767 239.238437)scale(0.1 -0.1)\">\r\n       <defs>\r\n        <path d=\"M 33.015625 40.375 \r\nQ 26.375 40.375 22.484375 35.828125 \r\nQ 18.609375 31.296875 18.609375 23.390625 \r\nQ 18.609375 15.53125 22.484375 10.953125 \r\nQ 26.375 6.390625 33.015625 6.390625 \r\nQ 39.65625 6.390625 43.53125 10.953125 \r\nQ 47.40625 15.53125 47.40625 23.390625 \r\nQ 47.40625 31.296875 43.53125 35.828125 \r\nQ 39.65625 40.375 33.015625 40.375 \r\nz\r\nM 52.59375 71.296875 \r\nL 52.59375 62.3125 \r\nQ 48.875 64.0625 45.09375 64.984375 \r\nQ 41.3125 65.921875 37.59375 65.921875 \r\nQ 27.828125 65.921875 22.671875 59.328125 \r\nQ 17.53125 52.734375 16.796875 39.40625 \r\nQ 19.671875 43.65625 24.015625 45.921875 \r\nQ 28.375 48.1875 33.59375 48.1875 \r\nQ 44.578125 48.1875 50.953125 41.515625 \r\nQ 57.328125 34.859375 57.328125 23.390625 \r\nQ 57.328125 12.15625 50.6875 5.359375 \r\nQ 44.046875 -1.421875 33.015625 -1.421875 \r\nQ 20.359375 -1.421875 13.671875 8.265625 \r\nQ 6.984375 17.96875 6.984375 36.375 \r\nQ 6.984375 53.65625 15.1875 63.9375 \r\nQ 23.390625 74.21875 37.203125 74.21875 \r\nQ 40.921875 74.21875 44.703125 73.484375 \r\nQ 48.484375 72.75 52.59375 71.296875 \r\nz\r\n\" id=\"DejaVuSans-54\"/>\r\n       </defs>\r\n       <use xlink:href=\"#DejaVuSans-54\"/>\r\n       <use x=\"63.623047\" xlink:href=\"#DejaVuSans-48\"/>\r\n      </g>\r\n     </g>\r\n    </g>\r\n    <g id=\"xtick_5\">\r\n     <g id=\"line2d_5\">\r\n      <g>\r\n       <use style=\"stroke:#000000;stroke-width:0.8;\" x=\"198.898244\" xlink:href=\"#m409f2ea17f\" y=\"224.64\"/>\r\n      </g>\r\n     </g>\r\n     <g id=\"text_5\">\r\n      <!-- 80 -->\r\n      <g transform=\"translate(192.535744 239.238437)scale(0.1 -0.1)\">\r\n       <defs>\r\n        <path d=\"M 31.78125 34.625 \r\nQ 24.75 34.625 20.71875 30.859375 \r\nQ 16.703125 27.09375 16.703125 20.515625 \r\nQ 16.703125 13.921875 20.71875 10.15625 \r\nQ 24.75 6.390625 31.78125 6.390625 \r\nQ 38.8125 6.390625 42.859375 10.171875 \r\nQ 46.921875 13.96875 46.921875 20.515625 \r\nQ 46.921875 27.09375 42.890625 30.859375 \r\nQ 38.875 34.625 31.78125 34.625 \r\nz\r\nM 21.921875 38.8125 \r\nQ 15.578125 40.375 12.03125 44.71875 \r\nQ 8.5 49.078125 8.5 55.328125 \r\nQ 8.5 64.0625 14.71875 69.140625 \r\nQ 20.953125 74.21875 31.78125 74.21875 \r\nQ 42.671875 74.21875 48.875 69.140625 \r\nQ 55.078125 64.0625 55.078125 55.328125 \r\nQ 55.078125 49.078125 51.53125 44.71875 \r\nQ 48 40.375 41.703125 38.8125 \r\nQ 48.828125 37.15625 52.796875 32.3125 \r\nQ 56.78125 27.484375 56.78125 20.515625 \r\nQ 56.78125 9.90625 50.3125 4.234375 \r\nQ 43.84375 -1.421875 31.78125 -1.421875 \r\nQ 19.734375 -1.421875 13.25 4.234375 \r\nQ 6.78125 9.90625 6.78125 20.515625 \r\nQ 6.78125 27.484375 10.78125 32.3125 \r\nQ 14.796875 37.15625 21.921875 38.8125 \r\nz\r\nM 18.3125 54.390625 \r\nQ 18.3125 48.734375 21.84375 45.5625 \r\nQ 25.390625 42.390625 31.78125 42.390625 \r\nQ 38.140625 42.390625 41.71875 45.5625 \r\nQ 45.3125 48.734375 45.3125 54.390625 \r\nQ 45.3125 60.0625 41.71875 63.234375 \r\nQ 38.140625 66.40625 31.78125 66.40625 \r\nQ 25.390625 66.40625 21.84375 63.234375 \r\nQ 18.3125 60.0625 18.3125 54.390625 \r\nz\r\n\" id=\"DejaVuSans-56\"/>\r\n       </defs>\r\n       <use xlink:href=\"#DejaVuSans-56\"/>\r\n       <use x=\"63.623047\" xlink:href=\"#DejaVuSans-48\"/>\r\n      </g>\r\n     </g>\r\n    </g>\r\n    <g id=\"xtick_6\">\r\n     <g id=\"line2d_6\">\r\n      <g>\r\n       <use style=\"stroke:#000000;stroke-width:0.8;\" x=\"242.641222\" xlink:href=\"#m409f2ea17f\" y=\"224.64\"/>\r\n      </g>\r\n     </g>\r\n     <g id=\"text_6\">\r\n      <!-- 100 -->\r\n      <g transform=\"translate(233.097472 239.238437)scale(0.1 -0.1)\">\r\n       <defs>\r\n        <path d=\"M 12.40625 8.296875 \r\nL 28.515625 8.296875 \r\nL 28.515625 63.921875 \r\nL 10.984375 60.40625 \r\nL 10.984375 69.390625 \r\nL 28.421875 72.90625 \r\nL 38.28125 72.90625 \r\nL 38.28125 8.296875 \r\nL 54.390625 8.296875 \r\nL 54.390625 0 \r\nL 12.40625 0 \r\nz\r\n\" id=\"DejaVuSans-49\"/>\r\n       </defs>\r\n       <use xlink:href=\"#DejaVuSans-49\"/>\r\n       <use x=\"63.623047\" xlink:href=\"#DejaVuSans-48\"/>\r\n       <use x=\"127.246094\" xlink:href=\"#DejaVuSans-48\"/>\r\n      </g>\r\n     </g>\r\n    </g>\r\n    <g id=\"xtick_7\">\r\n     <g id=\"line2d_7\">\r\n      <g>\r\n       <use style=\"stroke:#000000;stroke-width:0.8;\" x=\"286.384199\" xlink:href=\"#m409f2ea17f\" y=\"224.64\"/>\r\n      </g>\r\n     </g>\r\n     <g id=\"text_7\">\r\n      <!-- 120 -->\r\n      <g transform=\"translate(276.840449 239.238437)scale(0.1 -0.1)\">\r\n       <use xlink:href=\"#DejaVuSans-49\"/>\r\n       <use x=\"63.623047\" xlink:href=\"#DejaVuSans-50\"/>\r\n       <use x=\"127.246094\" xlink:href=\"#DejaVuSans-48\"/>\r\n      </g>\r\n     </g>\r\n    </g>\r\n    <g id=\"xtick_8\">\r\n     <g id=\"line2d_8\">\r\n      <g>\r\n       <use style=\"stroke:#000000;stroke-width:0.8;\" x=\"330.127176\" xlink:href=\"#m409f2ea17f\" y=\"224.64\"/>\r\n      </g>\r\n     </g>\r\n     <g id=\"text_8\">\r\n      <!-- 140 -->\r\n      <g transform=\"translate(320.583426 239.238437)scale(0.1 -0.1)\">\r\n       <use xlink:href=\"#DejaVuSans-49\"/>\r\n       <use x=\"63.623047\" xlink:href=\"#DejaVuSans-52\"/>\r\n       <use x=\"127.246094\" xlink:href=\"#DejaVuSans-48\"/>\r\n      </g>\r\n     </g>\r\n    </g>\r\n   </g>\r\n   <g id=\"matplotlib.axis_2\">\r\n    <g id=\"ytick_1\">\r\n     <g id=\"line2d_9\">\r\n      <defs>\r\n       <path d=\"M 0 0 \r\nL -3.5 0 \r\n\" id=\"mf752cd2890\" style=\"stroke:#000000;stroke-width:0.8;\"/>\r\n      </defs>\r\n      <g>\r\n       <use style=\"stroke:#000000;stroke-width:0.8;\" x=\"20.5625\" xlink:href=\"#mf752cd2890\" y=\"224.64\"/>\r\n      </g>\r\n     </g>\r\n     <g id=\"text_9\">\r\n      <!-- 0 -->\r\n      <g transform=\"translate(7.2 228.439219)scale(0.1 -0.1)\">\r\n       <use xlink:href=\"#DejaVuSans-48\"/>\r\n      </g>\r\n     </g>\r\n    </g>\r\n    <g id=\"ytick_2\">\r\n     <g id=\"line2d_10\">\r\n      <g>\r\n       <use style=\"stroke:#000000;stroke-width:0.8;\" x=\"20.5625\" xlink:href=\"#mf752cd2890\" y=\"183.222857\"/>\r\n      </g>\r\n     </g>\r\n     <g id=\"text_10\">\r\n      <!-- 1 -->\r\n      <g transform=\"translate(7.2 187.022076)scale(0.1 -0.1)\">\r\n       <use xlink:href=\"#DejaVuSans-49\"/>\r\n      </g>\r\n     </g>\r\n    </g>\r\n    <g id=\"ytick_3\">\r\n     <g id=\"line2d_11\">\r\n      <g>\r\n       <use style=\"stroke:#000000;stroke-width:0.8;\" x=\"20.5625\" xlink:href=\"#mf752cd2890\" y=\"141.805714\"/>\r\n      </g>\r\n     </g>\r\n     <g id=\"text_11\">\r\n      <!-- 2 -->\r\n      <g transform=\"translate(7.2 145.604933)scale(0.1 -0.1)\">\r\n       <use xlink:href=\"#DejaVuSans-50\"/>\r\n      </g>\r\n     </g>\r\n    </g>\r\n    <g id=\"ytick_4\">\r\n     <g id=\"line2d_12\">\r\n      <g>\r\n       <use style=\"stroke:#000000;stroke-width:0.8;\" x=\"20.5625\" xlink:href=\"#mf752cd2890\" y=\"100.388571\"/>\r\n      </g>\r\n     </g>\r\n     <g id=\"text_12\">\r\n      <!-- 3 -->\r\n      <g transform=\"translate(7.2 104.18779)scale(0.1 -0.1)\">\r\n       <defs>\r\n        <path d=\"M 40.578125 39.3125 \r\nQ 47.65625 37.796875 51.625 33 \r\nQ 55.609375 28.21875 55.609375 21.1875 \r\nQ 55.609375 10.40625 48.1875 4.484375 \r\nQ 40.765625 -1.421875 27.09375 -1.421875 \r\nQ 22.515625 -1.421875 17.65625 -0.515625 \r\nQ 12.796875 0.390625 7.625 2.203125 \r\nL 7.625 11.71875 \r\nQ 11.71875 9.328125 16.59375 8.109375 \r\nQ 21.484375 6.890625 26.8125 6.890625 \r\nQ 36.078125 6.890625 40.9375 10.546875 \r\nQ 45.796875 14.203125 45.796875 21.1875 \r\nQ 45.796875 27.640625 41.28125 31.265625 \r\nQ 36.765625 34.90625 28.71875 34.90625 \r\nL 20.21875 34.90625 \r\nL 20.21875 43.015625 \r\nL 29.109375 43.015625 \r\nQ 36.375 43.015625 40.234375 45.921875 \r\nQ 44.09375 48.828125 44.09375 54.296875 \r\nQ 44.09375 59.90625 40.109375 62.90625 \r\nQ 36.140625 65.921875 28.71875 65.921875 \r\nQ 24.65625 65.921875 20.015625 65.03125 \r\nQ 15.375 64.15625 9.8125 62.3125 \r\nL 9.8125 71.09375 \r\nQ 15.4375 72.65625 20.34375 73.4375 \r\nQ 25.25 74.21875 29.59375 74.21875 \r\nQ 40.828125 74.21875 47.359375 69.109375 \r\nQ 53.90625 64.015625 53.90625 55.328125 \r\nQ 53.90625 49.265625 50.4375 45.09375 \r\nQ 46.96875 40.921875 40.578125 39.3125 \r\nz\r\n\" id=\"DejaVuSans-51\"/>\r\n       </defs>\r\n       <use xlink:href=\"#DejaVuSans-51\"/>\r\n      </g>\r\n     </g>\r\n    </g>\r\n    <g id=\"ytick_5\">\r\n     <g id=\"line2d_13\">\r\n      <g>\r\n       <use style=\"stroke:#000000;stroke-width:0.8;\" x=\"20.5625\" xlink:href=\"#mf752cd2890\" y=\"58.971429\"/>\r\n      </g>\r\n     </g>\r\n     <g id=\"text_13\">\r\n      <!-- 4 -->\r\n      <g transform=\"translate(7.2 62.770647)scale(0.1 -0.1)\">\r\n       <use xlink:href=\"#DejaVuSans-52\"/>\r\n      </g>\r\n     </g>\r\n    </g>\r\n    <g id=\"ytick_6\">\r\n     <g id=\"line2d_14\">\r\n      <g>\r\n       <use style=\"stroke:#000000;stroke-width:0.8;\" x=\"20.5625\" xlink:href=\"#mf752cd2890\" y=\"17.554286\"/>\r\n      </g>\r\n     </g>\r\n     <g id=\"text_14\">\r\n      <!-- 5 -->\r\n      <g transform=\"translate(7.2 21.353504)scale(0.1 -0.1)\">\r\n       <defs>\r\n        <path d=\"M 10.796875 72.90625 \r\nL 49.515625 72.90625 \r\nL 49.515625 64.59375 \r\nL 19.828125 64.59375 \r\nL 19.828125 46.734375 \r\nQ 21.96875 47.46875 24.109375 47.828125 \r\nQ 26.265625 48.1875 28.421875 48.1875 \r\nQ 40.625 48.1875 47.75 41.5 \r\nQ 54.890625 34.8125 54.890625 23.390625 \r\nQ 54.890625 11.625 47.5625 5.09375 \r\nQ 40.234375 -1.421875 26.90625 -1.421875 \r\nQ 22.3125 -1.421875 17.546875 -0.640625 \r\nQ 12.796875 0.140625 7.71875 1.703125 \r\nL 7.71875 11.625 \r\nQ 12.109375 9.234375 16.796875 8.0625 \r\nQ 21.484375 6.890625 26.703125 6.890625 \r\nQ 35.15625 6.890625 40.078125 11.328125 \r\nQ 45.015625 15.765625 45.015625 23.390625 \r\nQ 45.015625 31 40.078125 35.4375 \r\nQ 35.15625 39.890625 26.703125 39.890625 \r\nQ 22.75 39.890625 18.8125 39.015625 \r\nQ 14.890625 38.140625 10.796875 36.28125 \r\nz\r\n\" id=\"DejaVuSans-53\"/>\r\n       </defs>\r\n       <use xlink:href=\"#DejaVuSans-53\"/>\r\n      </g>\r\n     </g>\r\n    </g>\r\n   </g>\r\n   <g id=\"patch_13\">\r\n    <path d=\"M 20.5625 224.64 \r\nL 20.5625 7.2 \r\n\" style=\"fill:none;stroke:#000000;stroke-linecap:square;stroke-linejoin:miter;stroke-width:0.8;\"/>\r\n   </g>\r\n   <g id=\"patch_14\">\r\n    <path d=\"M 355.3625 224.64 \r\nL 355.3625 7.2 \r\n\" style=\"fill:none;stroke:#000000;stroke-linecap:square;stroke-linejoin:miter;stroke-width:0.8;\"/>\r\n   </g>\r\n   <g id=\"patch_15\">\r\n    <path d=\"M 20.5625 224.64 \r\nL 355.3625 224.64 \r\n\" style=\"fill:none;stroke:#000000;stroke-linecap:square;stroke-linejoin:miter;stroke-width:0.8;\"/>\r\n   </g>\r\n   <g id=\"patch_16\">\r\n    <path d=\"M 20.5625 7.2 \r\nL 355.3625 7.2 \r\n\" style=\"fill:none;stroke:#000000;stroke-linecap:square;stroke-linejoin:miter;stroke-width:0.8;\"/>\r\n   </g>\r\n  </g>\r\n </g>\r\n <defs>\r\n  <clipPath id=\"pb20437fcec\">\r\n   <rect height=\"217.44\" width=\"334.8\" x=\"20.5625\" y=\"7.2\"/>\r\n  </clipPath>\r\n </defs>\r\n</svg>\r\n",
      "image/png": "[encoded data removed]"
     },
     "metadata": {
      "needs_background": "light"
     }
    },
    {
     "output_type": "stream",
     "name": "stdout",
     "text": [
      "Simulations =  10\nMean time to discovery of C1/C2 =  39.8 rounds\n"
     ]
    }
   ],
   "source": [
    "import networkx as nx\n",
    "import random as rd\n",
    "import numpy as np\n",
    "import matplotlib.pyplot as plt\n",
    "import matplotlib\n",
    "\n",
    "sims = 10\n",
    "sim_duration = [] # to store each simulation duration \n",
    "\n",
    "# beginning of simulations\n",
    "for i in range(sims):\n",
    "    G_closekin = nx.Graph() # creates a new empty network\n",
    "    for i, j in G.edges:\n",
    "        if G[i][j]['kin'] == 1: # if (i, j) dyad in G is kin = 1\n",
    "            G_closekin.add_edge(i, j) # add that edge to new network\n",
    "            G_closekin[i][j]['weight'] = G[i][j]['weight'] # add weight from G to new network \n",
    "\n",
    "    for node in G: \n",
    "        if node not in G_closekin:\n",
    "            G_closekin.add_node(node)\n",
    "\n",
    "    matrix_node_tools=[[0]*6 + [-1]*8 for i in range (len(G))]\n",
    "    fitness_values = [6, 8, 10, 6, 8, 10, 30, 30, 60, 60, 120, 120, 300, 300] # each column has a value\n",
    "    innovations_dict = {(0, 1, 2): 6, \n",
    "                 (3, 4, 5): 7,\n",
    "                 (0, 4, 6): 8,\n",
    "                 (1, 2, 7): 9,\n",
    "                 (4, 5, 8): 10,\n",
    "                 (1, 3, 9): 11,\n",
    "                 (8, 10, 11): 12,\n",
    "                 (9, 10, 11): 13}\n",
    "\n",
    "    periods=10000\n",
    "    stop_sim=0   \n",
    "    for epoch in range(periods):\n",
    "        random_node_list = rd.sample(range(len(G)), len(G))\n",
    "        for node in random_node_list:\n",
    "            neighbour_list = []\n",
    "            for neighbour in G[node]:\n",
    "                for times in range(int(G[node][neighbour]['weight'])):\n",
    "                    neighbour_list.append(neighbour)\n",
    "            selected_neighbour = rd.choice(neighbour_list)\n",
    "\n",
    "            ingredients_node=np.where(np.array(matrix_node_tools[node])>-1)[0] \n",
    "            ingredients_neighbour=np.where(np.array(matrix_node_tools[selected_neighbour])>-1)[0]\n",
    "\n",
    "            node_tools=[]\n",
    "            for tool in ingredients_node:\n",
    "                for times in range(fitness_values[tool]):\n",
    "                    node_tools.append(tool)\n",
    "            node_tool_1, node_tool_2 = rd.sample(node_tools, 2)\n",
    "\n",
    "            neighbour_tools=[]\n",
    "            for tool in ingredients_neighbour:\n",
    "                for times in range(fitness_values[tool]):\n",
    "                    neighbour_tools.append(tool)\n",
    "            neighbour_tool = rd.choice(neighbour_tools)\n",
    "\n",
    "            triad = [node_tool_1, node_tool_2, neighbour_tool]\n",
    "            triad = tuple(sorted(triad))\n",
    "            new_tool = innovations_dict.get(triad,-1)\n",
    "\n",
    "            # until here, similar to previous cell  \n",
    "\n",
    "            if new_tool > -1: # if a new drug was created (6, 7 or 8 etc) \n",
    "                # check if node and neighbour already have invented tool \n",
    "                have_new_tool = -1 # we need this later\n",
    "                if matrix_node_tools[node][new_tool] == -1: # if position (i = node, j = new tool) in matrix is absent\n",
    "                    have_new_tool = 1 \n",
    "                    matrix_node_tools[node][new_tool] = epoch + 1 # node gains new tools, replace -1 with round of discovery\n",
    "                    for allneibs in G[node]: # now use matrix G_closekin to identify all close kin of node \n",
    "                        matrix_node_tools[allneibs][new_tool] = epoch + 1 # tranmits new tool to all kin\n",
    "\n",
    "                if matrix_node_tools[selected_neighbour][new_tool] == -1: #check if selected neighbour has tool\n",
    "                    have_new_tool = 1 \n",
    "                    matrix_node_tools[selected_neighbour][new_tool]= epoch + 1 # neighbours gains new tool\n",
    "                    for allneibneibs in G[selected_neighbour]:\n",
    "                        matrix_node_tools[allneibneibs][new_tool] = epoch+ 1\n",
    "\n",
    "                if have_new_tool == 1: #if either node or neighbour received the new tool\n",
    "                    #print(new_tool, epoch + 1, node, selected_neighbour)\n",
    "                    if new_tool in [12,13]: # BUT if the new tool is a superdrug C1=12 or C2=13\n",
    "                        stop_sim=1 # simulations ends\n",
    "                        sim_duration.append(epoch + 1)                        \n",
    "            if stop_sim==1:\n",
    "                break\n",
    "        if stop_sim==1:\n",
    "            break\n",
    "\n",
    "plt.hist(sim_duration, facecolor='b', alpha=.5, rwidth=.8)\n",
    "plt.show()\n",
    "print(\"Simulations = \", sims)\n",
    "print(\"Mean time to discovery of C1/C2 = \", np.mean(sim_duration), \"rounds\")"
   ]
  },
  {
   "cell_type": "markdown",
   "metadata": {},
   "source": [
    "## Exercise 2\n",
    "Modify code so that instead of the Agta network, you play the game with a *complete* or fully connected network of the same size. <br>\n",
    "Notes: <br>\n",
    "* to create a complete graph of size n, use:  C = nx.complete_graph(53) (default is undirected) <br>\n",
    "* you have to remove selection based on weights of links, since the complete graph has no weigths. Select neighbour randomly."
   ]
  },
  {
   "cell_type": "code",
   "execution_count": 34,
   "metadata": {},
   "outputs": [
    {
     "output_type": "display_data",
     "data": {
      "text/plain": "<Figure size 432x288 with 1 Axes>",
      "image/svg+xml": "<?xml version=\"1.0\" encoding=\"utf-8\" standalone=\"no\"?>\r\n<!DOCTYPE svg PUBLIC \"-//W3C//DTD SVG 1.1//EN\"\r\n  \"http://www.w3.org/Graphics/SVG/1.1/DTD/svg11.dtd\">\r\n<!-- Created with matplotlib (https://matplotlib.org/) -->\r\n<svg height=\"248.518125pt\" version=\"1.1\" viewBox=\"0 0 379.853316 248.518125\" width=\"379.853316pt\" xmlns=\"http://www.w3.org/2000/svg\" xmlns:xlink=\"http://www.w3.org/1999/xlink\">\r\n <metadata>\r\n  <rdf:RDF xmlns:cc=\"http://creativecommons.org/ns#\" xmlns:dc=\"http://purl.org/dc/elements/1.1/\" xmlns:rdf=\"http://www.w3.org/1999/02/22-rdf-syntax-ns#\">\r\n   <cc:Work>\r\n    <dc:type rdf:resource=\"http://purl.org/dc/dcmitype/StillImage\"/>\r\n    <dc:date>2021-03-12T10:49:19.446138</dc:date>\r\n    <dc:format>image/svg+xml</dc:format>\r\n    <dc:creator>\r\n     <cc:Agent>\r\n      <dc:title>Matplotlib v3.3.4, https://matplotlib.org/</dc:title>\r\n     </cc:Agent>\r\n    </dc:creator>\r\n   </cc:Work>\r\n  </rdf:RDF>\r\n </metadata>\r\n <defs>\r\n  <style type=\"text/css\">*{stroke-linecap:butt;stroke-linejoin:round;}</style>\r\n </defs>\r\n <g id=\"figure_1\">\r\n  <g id=\"patch_1\">\r\n   <path d=\"M 0 248.518125 \r\nL 379.853316 248.518125 \r\nL 379.853316 0 \r\nL 0 0 \r\nz\r\n\" style=\"fill:none;\"/>\r\n  </g>\r\n  <g id=\"axes_1\">\r\n   <g id=\"patch_2\">\r\n    <path d=\"M 36.465625 224.64 \r\nL 371.265625 224.64 \r\nL 371.265625 7.2 \r\nL 36.465625 7.2 \r\nz\r\n\" style=\"fill:#ffffff;\"/>\r\n   </g>\r\n   <g id=\"patch_3\">\r\n    <path clip-path=\"url(#pf5f258c274)\" d=\"M 51.683807 224.64 \r\nL 76.529818 224.64 \r\nL 76.529818 17.554286 \r\nL 51.683807 17.554286 \r\nz\r\n\" style=\"fill:#0000ff;opacity:0.5;\"/>\r\n   </g>\r\n   <g id=\"patch_4\">\r\n    <path clip-path=\"url(#pf5f258c274)\" d=\"M 82.741321 224.64 \r\nL 107.587332 224.64 \r\nL 107.587332 121.097143 \r\nL 82.741321 121.097143 \r\nz\r\n\" style=\"fill:#0000ff;opacity:0.5;\"/>\r\n   </g>\r\n   <g id=\"patch_5\">\r\n    <path clip-path=\"url(#pf5f258c274)\" d=\"M 113.798835 224.64 \r\nL 138.644846 224.64 \r\nL 138.644846 121.097143 \r\nL 113.798835 121.097143 \r\nz\r\n\" style=\"fill:#0000ff;opacity:0.5;\"/>\r\n   </g>\r\n   <g id=\"patch_6\">\r\n    <path clip-path=\"url(#pf5f258c274)\" d=\"M 144.856349 224.64 \r\nL 169.70236 224.64 \r\nL 169.70236 224.64 \r\nL 144.856349 224.64 \r\nz\r\n\" style=\"fill:#0000ff;opacity:0.5;\"/>\r\n   </g>\r\n   <g id=\"patch_7\">\r\n    <path clip-path=\"url(#pf5f258c274)\" d=\"M 175.913862 224.64 \r\nL 200.759874 224.64 \r\nL 200.759874 224.64 \r\nL 175.913862 224.64 \r\nz\r\n\" style=\"fill:#0000ff;opacity:0.5;\"/>\r\n   </g>\r\n   <g id=\"patch_8\">\r\n    <path clip-path=\"url(#pf5f258c274)\" d=\"M 206.971376 224.64 \r\nL 231.817388 224.64 \r\nL 231.817388 17.554286 \r\nL 206.971376 17.554286 \r\nz\r\n\" style=\"fill:#0000ff;opacity:0.5;\"/>\r\n   </g>\r\n   <g id=\"patch_9\">\r\n    <path clip-path=\"url(#pf5f258c274)\" d=\"M 238.02889 224.64 \r\nL 262.874901 224.64 \r\nL 262.874901 224.64 \r\nL 238.02889 224.64 \r\nz\r\n\" style=\"fill:#0000ff;opacity:0.5;\"/>\r\n   </g>\r\n   <g id=\"patch_10\">\r\n    <path clip-path=\"url(#pf5f258c274)\" d=\"M 269.086404 224.64 \r\nL 293.932415 224.64 \r\nL 293.932415 17.554286 \r\nL 269.086404 17.554286 \r\nz\r\n\" style=\"fill:#0000ff;opacity:0.5;\"/>\r\n   </g>\r\n   <g id=\"patch_11\">\r\n    <path clip-path=\"url(#pf5f258c274)\" d=\"M 300.143918 224.64 \r\nL 324.989929 224.64 \r\nL 324.989929 121.097143 \r\nL 300.143918 121.097143 \r\nz\r\n\" style=\"fill:#0000ff;opacity:0.5;\"/>\r\n   </g>\r\n   <g id=\"patch_12\">\r\n    <path clip-path=\"url(#pf5f258c274)\" d=\"M 331.201432 224.64 \r\nL 356.047443 224.64 \r\nL 356.047443 121.097143 \r\nL 331.201432 121.097143 \r\nz\r\n\" style=\"fill:#0000ff;opacity:0.5;\"/>\r\n   </g>\r\n   <g id=\"matplotlib.axis_1\">\r\n    <g id=\"xtick_1\">\r\n     <g id=\"line2d_1\">\r\n      <defs>\r\n       <path d=\"M 0 0 \r\nL 0 3.5 \r\n\" id=\"mb548d7349d\" style=\"stroke:#000000;stroke-width:0.8;\"/>\r\n      </defs>\r\n      <g>\r\n       <use style=\"stroke:#000000;stroke-width:0.8;\" x=\"46.59987\" xlink:href=\"#mb548d7349d\" y=\"224.64\"/>\r\n      </g>\r\n     </g>\r\n     <g id=\"text_1\">\r\n      <!-- 40 -->\r\n      <g transform=\"translate(40.23737 239.238437)scale(0.1 -0.1)\">\r\n       <defs>\r\n        <path d=\"M 37.796875 64.3125 \r\nL 12.890625 25.390625 \r\nL 37.796875 25.390625 \r\nz\r\nM 35.203125 72.90625 \r\nL 47.609375 72.90625 \r\nL 47.609375 25.390625 \r\nL 58.015625 25.390625 \r\nL 58.015625 17.1875 \r\nL 47.609375 17.1875 \r\nL 47.609375 0 \r\nL 37.796875 0 \r\nL 37.796875 17.1875 \r\nL 4.890625 17.1875 \r\nL 4.890625 26.703125 \r\nz\r\n\" id=\"DejaVuSans-52\"/>\r\n        <path d=\"M 31.78125 66.40625 \r\nQ 24.171875 66.40625 20.328125 58.90625 \r\nQ 16.5 51.421875 16.5 36.375 \r\nQ 16.5 21.390625 20.328125 13.890625 \r\nQ 24.171875 6.390625 31.78125 6.390625 \r\nQ 39.453125 6.390625 43.28125 13.890625 \r\nQ 47.125 21.390625 47.125 36.375 \r\nQ 47.125 51.421875 43.28125 58.90625 \r\nQ 39.453125 66.40625 31.78125 66.40625 \r\nz\r\nM 31.78125 74.21875 \r\nQ 44.046875 74.21875 50.515625 64.515625 \r\nQ 56.984375 54.828125 56.984375 36.375 \r\nQ 56.984375 17.96875 50.515625 8.265625 \r\nQ 44.046875 -1.421875 31.78125 -1.421875 \r\nQ 19.53125 -1.421875 13.0625 8.265625 \r\nQ 6.59375 17.96875 6.59375 36.375 \r\nQ 6.59375 54.828125 13.0625 64.515625 \r\nQ 19.53125 74.21875 31.78125 74.21875 \r\nz\r\n\" id=\"DejaVuSans-48\"/>\r\n       </defs>\r\n       <use xlink:href=\"#DejaVuSans-52\"/>\r\n       <use x=\"63.623047\" xlink:href=\"#DejaVuSans-48\"/>\r\n      </g>\r\n     </g>\r\n    </g>\r\n    <g id=\"xtick_2\">\r\n     <g id=\"line2d_2\">\r\n      <g>\r\n       <use style=\"stroke:#000000;stroke-width:0.8;\" x=\"86.163582\" xlink:href=\"#mb548d7349d\" y=\"224.64\"/>\r\n      </g>\r\n     </g>\r\n     <g id=\"text_2\">\r\n      <!-- 60 -->\r\n      <g transform=\"translate(79.801082 239.238437)scale(0.1 -0.1)\">\r\n       <defs>\r\n        <path d=\"M 33.015625 40.375 \r\nQ 26.375 40.375 22.484375 35.828125 \r\nQ 18.609375 31.296875 18.609375 23.390625 \r\nQ 18.609375 15.53125 22.484375 10.953125 \r\nQ 26.375 6.390625 33.015625 6.390625 \r\nQ 39.65625 6.390625 43.53125 10.953125 \r\nQ 47.40625 15.53125 47.40625 23.390625 \r\nQ 47.40625 31.296875 43.53125 35.828125 \r\nQ 39.65625 40.375 33.015625 40.375 \r\nz\r\nM 52.59375 71.296875 \r\nL 52.59375 62.3125 \r\nQ 48.875 64.0625 45.09375 64.984375 \r\nQ 41.3125 65.921875 37.59375 65.921875 \r\nQ 27.828125 65.921875 22.671875 59.328125 \r\nQ 17.53125 52.734375 16.796875 39.40625 \r\nQ 19.671875 43.65625 24.015625 45.921875 \r\nQ 28.375 48.1875 33.59375 48.1875 \r\nQ 44.578125 48.1875 50.953125 41.515625 \r\nQ 57.328125 34.859375 57.328125 23.390625 \r\nQ 57.328125 12.15625 50.6875 5.359375 \r\nQ 44.046875 -1.421875 33.015625 -1.421875 \r\nQ 20.359375 -1.421875 13.671875 8.265625 \r\nQ 6.984375 17.96875 6.984375 36.375 \r\nQ 6.984375 53.65625 15.1875 63.9375 \r\nQ 23.390625 74.21875 37.203125 74.21875 \r\nQ 40.921875 74.21875 44.703125 73.484375 \r\nQ 48.484375 72.75 52.59375 71.296875 \r\nz\r\n\" id=\"DejaVuSans-54\"/>\r\n       </defs>\r\n       <use xlink:href=\"#DejaVuSans-54\"/>\r\n       <use x=\"63.623047\" xlink:href=\"#DejaVuSans-48\"/>\r\n      </g>\r\n     </g>\r\n    </g>\r\n    <g id=\"xtick_3\">\r\n     <g id=\"line2d_3\">\r\n      <g>\r\n       <use style=\"stroke:#000000;stroke-width:0.8;\" x=\"125.727294\" xlink:href=\"#mb548d7349d\" y=\"224.64\"/>\r\n      </g>\r\n     </g>\r\n     <g id=\"text_3\">\r\n      <!-- 80 -->\r\n      <g transform=\"translate(119.364794 239.238437)scale(0.1 -0.1)\">\r\n       <defs>\r\n        <path d=\"M 31.78125 34.625 \r\nQ 24.75 34.625 20.71875 30.859375 \r\nQ 16.703125 27.09375 16.703125 20.515625 \r\nQ 16.703125 13.921875 20.71875 10.15625 \r\nQ 24.75 6.390625 31.78125 6.390625 \r\nQ 38.8125 6.390625 42.859375 10.171875 \r\nQ 46.921875 13.96875 46.921875 20.515625 \r\nQ 46.921875 27.09375 42.890625 30.859375 \r\nQ 38.875 34.625 31.78125 34.625 \r\nz\r\nM 21.921875 38.8125 \r\nQ 15.578125 40.375 12.03125 44.71875 \r\nQ 8.5 49.078125 8.5 55.328125 \r\nQ 8.5 64.0625 14.71875 69.140625 \r\nQ 20.953125 74.21875 31.78125 74.21875 \r\nQ 42.671875 74.21875 48.875 69.140625 \r\nQ 55.078125 64.0625 55.078125 55.328125 \r\nQ 55.078125 49.078125 51.53125 44.71875 \r\nQ 48 40.375 41.703125 38.8125 \r\nQ 48.828125 37.15625 52.796875 32.3125 \r\nQ 56.78125 27.484375 56.78125 20.515625 \r\nQ 56.78125 9.90625 50.3125 4.234375 \r\nQ 43.84375 -1.421875 31.78125 -1.421875 \r\nQ 19.734375 -1.421875 13.25 4.234375 \r\nQ 6.78125 9.90625 6.78125 20.515625 \r\nQ 6.78125 27.484375 10.78125 32.3125 \r\nQ 14.796875 37.15625 21.921875 38.8125 \r\nz\r\nM 18.3125 54.390625 \r\nQ 18.3125 48.734375 21.84375 45.5625 \r\nQ 25.390625 42.390625 31.78125 42.390625 \r\nQ 38.140625 42.390625 41.71875 45.5625 \r\nQ 45.3125 48.734375 45.3125 54.390625 \r\nQ 45.3125 60.0625 41.71875 63.234375 \r\nQ 38.140625 66.40625 31.78125 66.40625 \r\nQ 25.390625 66.40625 21.84375 63.234375 \r\nQ 18.3125 60.0625 18.3125 54.390625 \r\nz\r\n\" id=\"DejaVuSans-56\"/>\r\n       </defs>\r\n       <use xlink:href=\"#DejaVuSans-56\"/>\r\n       <use x=\"63.623047\" xlink:href=\"#DejaVuSans-48\"/>\r\n      </g>\r\n     </g>\r\n    </g>\r\n    <g id=\"xtick_4\">\r\n     <g id=\"line2d_4\">\r\n      <g>\r\n       <use style=\"stroke:#000000;stroke-width:0.8;\" x=\"165.291006\" xlink:href=\"#mb548d7349d\" y=\"224.64\"/>\r\n      </g>\r\n     </g>\r\n     <g id=\"text_4\">\r\n      <!-- 100 -->\r\n      <g transform=\"translate(155.747256 239.238437)scale(0.1 -0.1)\">\r\n       <defs>\r\n        <path d=\"M 12.40625 8.296875 \r\nL 28.515625 8.296875 \r\nL 28.515625 63.921875 \r\nL 10.984375 60.40625 \r\nL 10.984375 69.390625 \r\nL 28.421875 72.90625 \r\nL 38.28125 72.90625 \r\nL 38.28125 8.296875 \r\nL 54.390625 8.296875 \r\nL 54.390625 0 \r\nL 12.40625 0 \r\nz\r\n\" id=\"DejaVuSans-49\"/>\r\n       </defs>\r\n       <use xlink:href=\"#DejaVuSans-49\"/>\r\n       <use x=\"63.623047\" xlink:href=\"#DejaVuSans-48\"/>\r\n       <use x=\"127.246094\" xlink:href=\"#DejaVuSans-48\"/>\r\n      </g>\r\n     </g>\r\n    </g>\r\n    <g id=\"xtick_5\">\r\n     <g id=\"line2d_5\">\r\n      <g>\r\n       <use style=\"stroke:#000000;stroke-width:0.8;\" x=\"204.854718\" xlink:href=\"#mb548d7349d\" y=\"224.64\"/>\r\n      </g>\r\n     </g>\r\n     <g id=\"text_5\">\r\n      <!-- 120 -->\r\n      <g transform=\"translate(195.310968 239.238437)scale(0.1 -0.1)\">\r\n       <defs>\r\n        <path d=\"M 19.1875 8.296875 \r\nL 53.609375 8.296875 \r\nL 53.609375 0 \r\nL 7.328125 0 \r\nL 7.328125 8.296875 \r\nQ 12.9375 14.109375 22.625 23.890625 \r\nQ 32.328125 33.6875 34.8125 36.53125 \r\nQ 39.546875 41.84375 41.421875 45.53125 \r\nQ 43.3125 49.21875 43.3125 52.78125 \r\nQ 43.3125 58.59375 39.234375 62.25 \r\nQ 35.15625 65.921875 28.609375 65.921875 \r\nQ 23.96875 65.921875 18.8125 64.3125 \r\nQ 13.671875 62.703125 7.8125 59.421875 \r\nL 7.8125 69.390625 \r\nQ 13.765625 71.78125 18.9375 73 \r\nQ 24.125 74.21875 28.421875 74.21875 \r\nQ 39.75 74.21875 46.484375 68.546875 \r\nQ 53.21875 62.890625 53.21875 53.421875 \r\nQ 53.21875 48.921875 51.53125 44.890625 \r\nQ 49.859375 40.875 45.40625 35.40625 \r\nQ 44.1875 33.984375 37.640625 27.21875 \r\nQ 31.109375 20.453125 19.1875 8.296875 \r\nz\r\n\" id=\"DejaVuSans-50\"/>\r\n       </defs>\r\n       <use xlink:href=\"#DejaVuSans-49\"/>\r\n       <use x=\"63.623047\" xlink:href=\"#DejaVuSans-50\"/>\r\n       <use x=\"127.246094\" xlink:href=\"#DejaVuSans-48\"/>\r\n      </g>\r\n     </g>\r\n    </g>\r\n    <g id=\"xtick_6\">\r\n     <g id=\"line2d_6\">\r\n      <g>\r\n       <use style=\"stroke:#000000;stroke-width:0.8;\" x=\"244.41843\" xlink:href=\"#mb548d7349d\" y=\"224.64\"/>\r\n      </g>\r\n     </g>\r\n     <g id=\"text_6\">\r\n      <!-- 140 -->\r\n      <g transform=\"translate(234.87468 239.238437)scale(0.1 -0.1)\">\r\n       <use xlink:href=\"#DejaVuSans-49\"/>\r\n       <use x=\"63.623047\" xlink:href=\"#DejaVuSans-52\"/>\r\n       <use x=\"127.246094\" xlink:href=\"#DejaVuSans-48\"/>\r\n      </g>\r\n     </g>\r\n    </g>\r\n    <g id=\"xtick_7\">\r\n     <g id=\"line2d_7\">\r\n      <g>\r\n       <use style=\"stroke:#000000;stroke-width:0.8;\" x=\"283.982142\" xlink:href=\"#mb548d7349d\" y=\"224.64\"/>\r\n      </g>\r\n     </g>\r\n     <g id=\"text_7\">\r\n      <!-- 160 -->\r\n      <g transform=\"translate(274.438392 239.238437)scale(0.1 -0.1)\">\r\n       <use xlink:href=\"#DejaVuSans-49\"/>\r\n       <use x=\"63.623047\" xlink:href=\"#DejaVuSans-54\"/>\r\n       <use x=\"127.246094\" xlink:href=\"#DejaVuSans-48\"/>\r\n      </g>\r\n     </g>\r\n    </g>\r\n    <g id=\"xtick_8\">\r\n     <g id=\"line2d_8\">\r\n      <g>\r\n       <use style=\"stroke:#000000;stroke-width:0.8;\" x=\"323.545854\" xlink:href=\"#mb548d7349d\" y=\"224.64\"/>\r\n      </g>\r\n     </g>\r\n     <g id=\"text_8\">\r\n      <!-- 180 -->\r\n      <g transform=\"translate(314.002104 239.238437)scale(0.1 -0.1)\">\r\n       <use xlink:href=\"#DejaVuSans-49\"/>\r\n       <use x=\"63.623047\" xlink:href=\"#DejaVuSans-56\"/>\r\n       <use x=\"127.246094\" xlink:href=\"#DejaVuSans-48\"/>\r\n      </g>\r\n     </g>\r\n    </g>\r\n    <g id=\"xtick_9\">\r\n     <g id=\"line2d_9\">\r\n      <g>\r\n       <use style=\"stroke:#000000;stroke-width:0.8;\" x=\"363.109566\" xlink:href=\"#mb548d7349d\" y=\"224.64\"/>\r\n      </g>\r\n     </g>\r\n     <g id=\"text_9\">\r\n      <!-- 200 -->\r\n      <g transform=\"translate(353.565816 239.238437)scale(0.1 -0.1)\">\r\n       <use xlink:href=\"#DejaVuSans-50\"/>\r\n       <use x=\"63.623047\" xlink:href=\"#DejaVuSans-48\"/>\r\n       <use x=\"127.246094\" xlink:href=\"#DejaVuSans-48\"/>\r\n      </g>\r\n     </g>\r\n    </g>\r\n   </g>\r\n   <g id=\"matplotlib.axis_2\">\r\n    <g id=\"ytick_1\">\r\n     <g id=\"line2d_10\">\r\n      <defs>\r\n       <path d=\"M 0 0 \r\nL -3.5 0 \r\n\" id=\"m65accd63ad\" style=\"stroke:#000000;stroke-width:0.8;\"/>\r\n      </defs>\r\n      <g>\r\n       <use style=\"stroke:#000000;stroke-width:0.8;\" x=\"36.465625\" xlink:href=\"#m65accd63ad\" y=\"224.64\"/>\r\n      </g>\r\n     </g>\r\n     <g id=\"text_10\">\r\n      <!-- 0.00 -->\r\n      <g transform=\"translate(7.2 228.439219)scale(0.1 -0.1)\">\r\n       <defs>\r\n        <path d=\"M 10.6875 12.40625 \r\nL 21 12.40625 \r\nL 21 0 \r\nL 10.6875 0 \r\nz\r\n\" id=\"DejaVuSans-46\"/>\r\n       </defs>\r\n       <use xlink:href=\"#DejaVuSans-48\"/>\r\n       <use x=\"63.623047\" xlink:href=\"#DejaVuSans-46\"/>\r\n       <use x=\"95.410156\" xlink:href=\"#DejaVuSans-48\"/>\r\n       <use x=\"159.033203\" xlink:href=\"#DejaVuSans-48\"/>\r\n      </g>\r\n     </g>\r\n    </g>\r\n    <g id=\"ytick_2\">\r\n     <g id=\"line2d_11\">\r\n      <g>\r\n       <use style=\"stroke:#000000;stroke-width:0.8;\" x=\"36.465625\" xlink:href=\"#m65accd63ad\" y=\"198.754286\"/>\r\n      </g>\r\n     </g>\r\n     <g id=\"text_11\">\r\n      <!-- 0.25 -->\r\n      <g transform=\"translate(7.2 202.553504)scale(0.1 -0.1)\">\r\n       <defs>\r\n        <path d=\"M 10.796875 72.90625 \r\nL 49.515625 72.90625 \r\nL 49.515625 64.59375 \r\nL 19.828125 64.59375 \r\nL 19.828125 46.734375 \r\nQ 21.96875 47.46875 24.109375 47.828125 \r\nQ 26.265625 48.1875 28.421875 48.1875 \r\nQ 40.625 48.1875 47.75 41.5 \r\nQ 54.890625 34.8125 54.890625 23.390625 \r\nQ 54.890625 11.625 47.5625 5.09375 \r\nQ 40.234375 -1.421875 26.90625 -1.421875 \r\nQ 22.3125 -1.421875 17.546875 -0.640625 \r\nQ 12.796875 0.140625 7.71875 1.703125 \r\nL 7.71875 11.625 \r\nQ 12.109375 9.234375 16.796875 8.0625 \r\nQ 21.484375 6.890625 26.703125 6.890625 \r\nQ 35.15625 6.890625 40.078125 11.328125 \r\nQ 45.015625 15.765625 45.015625 23.390625 \r\nQ 45.015625 31 40.078125 35.4375 \r\nQ 35.15625 39.890625 26.703125 39.890625 \r\nQ 22.75 39.890625 18.8125 39.015625 \r\nQ 14.890625 38.140625 10.796875 36.28125 \r\nz\r\n\" id=\"DejaVuSans-53\"/>\r\n       </defs>\r\n       <use xlink:href=\"#DejaVuSans-48\"/>\r\n       <use x=\"63.623047\" xlink:href=\"#DejaVuSans-46\"/>\r\n       <use x=\"95.410156\" xlink:href=\"#DejaVuSans-50\"/>\r\n       <use x=\"159.033203\" xlink:href=\"#DejaVuSans-53\"/>\r\n      </g>\r\n     </g>\r\n    </g>\r\n    <g id=\"ytick_3\">\r\n     <g id=\"line2d_12\">\r\n      <g>\r\n       <use style=\"stroke:#000000;stroke-width:0.8;\" x=\"36.465625\" xlink:href=\"#m65accd63ad\" y=\"172.868571\"/>\r\n      </g>\r\n     </g>\r\n     <g id=\"text_12\">\r\n      <!-- 0.50 -->\r\n      <g transform=\"translate(7.2 176.66779)scale(0.1 -0.1)\">\r\n       <use xlink:href=\"#DejaVuSans-48\"/>\r\n       <use x=\"63.623047\" xlink:href=\"#DejaVuSans-46\"/>\r\n       <use x=\"95.410156\" xlink:href=\"#DejaVuSans-53\"/>\r\n       <use x=\"159.033203\" xlink:href=\"#DejaVuSans-48\"/>\r\n      </g>\r\n     </g>\r\n    </g>\r\n    <g id=\"ytick_4\">\r\n     <g id=\"line2d_13\">\r\n      <g>\r\n       <use style=\"stroke:#000000;stroke-width:0.8;\" x=\"36.465625\" xlink:href=\"#m65accd63ad\" y=\"146.982857\"/>\r\n      </g>\r\n     </g>\r\n     <g id=\"text_13\">\r\n      <!-- 0.75 -->\r\n      <g transform=\"translate(7.2 150.782076)scale(0.1 -0.1)\">\r\n       <defs>\r\n        <path d=\"M 8.203125 72.90625 \r\nL 55.078125 72.90625 \r\nL 55.078125 68.703125 \r\nL 28.609375 0 \r\nL 18.3125 0 \r\nL 43.21875 64.59375 \r\nL 8.203125 64.59375 \r\nz\r\n\" id=\"DejaVuSans-55\"/>\r\n       </defs>\r\n       <use xlink:href=\"#DejaVuSans-48\"/>\r\n       <use x=\"63.623047\" xlink:href=\"#DejaVuSans-46\"/>\r\n       <use x=\"95.410156\" xlink:href=\"#DejaVuSans-55\"/>\r\n       <use x=\"159.033203\" xlink:href=\"#DejaVuSans-53\"/>\r\n      </g>\r\n     </g>\r\n    </g>\r\n    <g id=\"ytick_5\">\r\n     <g id=\"line2d_14\">\r\n      <g>\r\n       <use style=\"stroke:#000000;stroke-width:0.8;\" x=\"36.465625\" xlink:href=\"#m65accd63ad\" y=\"121.097143\"/>\r\n      </g>\r\n     </g>\r\n     <g id=\"text_14\">\r\n      <!-- 1.00 -->\r\n      <g transform=\"translate(7.2 124.896362)scale(0.1 -0.1)\">\r\n       <use xlink:href=\"#DejaVuSans-49\"/>\r\n       <use x=\"63.623047\" xlink:href=\"#DejaVuSans-46\"/>\r\n       <use x=\"95.410156\" xlink:href=\"#DejaVuSans-48\"/>\r\n       <use x=\"159.033203\" xlink:href=\"#DejaVuSans-48\"/>\r\n      </g>\r\n     </g>\r\n    </g>\r\n    <g id=\"ytick_6\">\r\n     <g id=\"line2d_15\">\r\n      <g>\r\n       <use style=\"stroke:#000000;stroke-width:0.8;\" x=\"36.465625\" xlink:href=\"#m65accd63ad\" y=\"95.211429\"/>\r\n      </g>\r\n     </g>\r\n     <g id=\"text_15\">\r\n      <!-- 1.25 -->\r\n      <g transform=\"translate(7.2 99.010647)scale(0.1 -0.1)\">\r\n       <use xlink:href=\"#DejaVuSans-49\"/>\r\n       <use x=\"63.623047\" xlink:href=\"#DejaVuSans-46\"/>\r\n       <use x=\"95.410156\" xlink:href=\"#DejaVuSans-50\"/>\r\n       <use x=\"159.033203\" xlink:href=\"#DejaVuSans-53\"/>\r\n      </g>\r\n     </g>\r\n    </g>\r\n    <g id=\"ytick_7\">\r\n     <g id=\"line2d_16\">\r\n      <g>\r\n       <use style=\"stroke:#000000;stroke-width:0.8;\" x=\"36.465625\" xlink:href=\"#m65accd63ad\" y=\"69.325714\"/>\r\n      </g>\r\n     </g>\r\n     <g id=\"text_16\">\r\n      <!-- 1.50 -->\r\n      <g transform=\"translate(7.2 73.124933)scale(0.1 -0.1)\">\r\n       <use xlink:href=\"#DejaVuSans-49\"/>\r\n       <use x=\"63.623047\" xlink:href=\"#DejaVuSans-46\"/>\r\n       <use x=\"95.410156\" xlink:href=\"#DejaVuSans-53\"/>\r\n       <use x=\"159.033203\" xlink:href=\"#DejaVuSans-48\"/>\r\n      </g>\r\n     </g>\r\n    </g>\r\n    <g id=\"ytick_8\">\r\n     <g id=\"line2d_17\">\r\n      <g>\r\n       <use style=\"stroke:#000000;stroke-width:0.8;\" x=\"36.465625\" xlink:href=\"#m65accd63ad\" y=\"43.44\"/>\r\n      </g>\r\n     </g>\r\n     <g id=\"text_17\">\r\n      <!-- 1.75 -->\r\n      <g transform=\"translate(7.2 47.239219)scale(0.1 -0.1)\">\r\n       <use xlink:href=\"#DejaVuSans-49\"/>\r\n       <use x=\"63.623047\" xlink:href=\"#DejaVuSans-46\"/>\r\n       <use x=\"95.410156\" xlink:href=\"#DejaVuSans-55\"/>\r\n       <use x=\"159.033203\" xlink:href=\"#DejaVuSans-53\"/>\r\n      </g>\r\n     </g>\r\n    </g>\r\n    <g id=\"ytick_9\">\r\n     <g id=\"line2d_18\">\r\n      <g>\r\n       <use style=\"stroke:#000000;stroke-width:0.8;\" x=\"36.465625\" xlink:href=\"#m65accd63ad\" y=\"17.554286\"/>\r\n      </g>\r\n     </g>\r\n     <g id=\"text_18\">\r\n      <!-- 2.00 -->\r\n      <g transform=\"translate(7.2 21.353504)scale(0.1 -0.1)\">\r\n       <use xlink:href=\"#DejaVuSans-50\"/>\r\n       <use x=\"63.623047\" xlink:href=\"#DejaVuSans-46\"/>\r\n       <use x=\"95.410156\" xlink:href=\"#DejaVuSans-48\"/>\r\n       <use x=\"159.033203\" xlink:href=\"#DejaVuSans-48\"/>\r\n      </g>\r\n     </g>\r\n    </g>\r\n   </g>\r\n   <g id=\"patch_13\">\r\n    <path d=\"M 36.465625 224.64 \r\nL 36.465625 7.2 \r\n\" style=\"fill:none;stroke:#000000;stroke-linecap:square;stroke-linejoin:miter;stroke-width:0.8;\"/>\r\n   </g>\r\n   <g id=\"patch_14\">\r\n    <path d=\"M 371.265625 224.64 \r\nL 371.265625 7.2 \r\n\" style=\"fill:none;stroke:#000000;stroke-linecap:square;stroke-linejoin:miter;stroke-width:0.8;\"/>\r\n   </g>\r\n   <g id=\"patch_15\">\r\n    <path d=\"M 36.465625 224.64 \r\nL 371.265625 224.64 \r\n\" style=\"fill:none;stroke:#000000;stroke-linecap:square;stroke-linejoin:miter;stroke-width:0.8;\"/>\r\n   </g>\r\n   <g id=\"patch_16\">\r\n    <path d=\"M 36.465625 7.2 \r\nL 371.265625 7.2 \r\n\" style=\"fill:none;stroke:#000000;stroke-linecap:square;stroke-linejoin:miter;stroke-width:0.8;\"/>\r\n   </g>\r\n  </g>\r\n </g>\r\n <defs>\r\n  <clipPath id=\"pf5f258c274\">\r\n   <rect height=\"217.44\" width=\"334.8\" x=\"36.465625\" y=\"7.2\"/>\r\n  </clipPath>\r\n </defs>\r\n</svg>\r\n",
      "image/png": "[encoded data removed]"
     },
     "metadata": {
      "needs_background": "light"
     }
    },
    {
     "output_type": "stream",
     "name": "stdout",
     "text": [
      "Simulations =  10\nMean time to discovery of C1/C2 =  116.5 rounds\n"
     ]
    }
   ],
   "source": [
    "import networkx as nx\n",
    "import random as rd\n",
    "import numpy as np\n",
    "import matplotlib.pyplot as plt\n",
    "import matplotlib\n",
    "\n",
    "G = nx.complete_graph(53)\n",
    "\n",
    "sims = 10\n",
    "sim_duration = [] # to store each simulation duration \n",
    "\n",
    "# beginning of simulations\n",
    "for i in range(sims):\n",
    "\n",
    "    matrix_node_tools=[[0]*6 + [-1]*8 for i in range (len(G))]\n",
    "    fitness_values = [6, 8, 10, 6, 8, 10, 30, 30, 60, 60, 120, 120, 300, 300] # each column has a value\n",
    "    innovations_dict = {(0, 1, 2): 6, \n",
    "                 (3, 4, 5): 7,\n",
    "                 (0, 4, 6): 8,\n",
    "                 (1, 2, 7): 9,\n",
    "                 (4, 5, 8): 10,\n",
    "                 (1, 3, 9): 11,\n",
    "                 (8, 10, 11): 12,\n",
    "                 (9, 10, 11): 13}\n",
    "\n",
    "    periods=10000\n",
    "    stop_sim=0   \n",
    "    for epoch in range(periods):\n",
    "        random_node_list = rd.sample(range(len(G)), len(G))\n",
    "        for node in random_node_list:\n",
    "            neighbour_list = []\n",
    "            for neighbour in G[node]:\n",
    "                neighbour_list.append(neighbour)\n",
    "            selected_neighbour = rd.choice(neighbour_list)\n",
    "\n",
    "            ingredients_node=np.where(np.array(matrix_node_tools[node])>-1)[0] \n",
    "            ingredients_neighbour=np.where(np.array(matrix_node_tools[selected_neighbour])>-1)[0]\n",
    "\n",
    "            node_tools=[]\n",
    "            for tool in ingredients_node:\n",
    "                for times in range(fitness_values[tool]):\n",
    "                    node_tools.append(tool)\n",
    "            node_tool_1, node_tool_2 = rd.sample(node_tools, 2)\n",
    "\n",
    "            neighbour_tools=[]\n",
    "            for tool in ingredients_neighbour:\n",
    "                for times in range(fitness_values[tool]):\n",
    "                    neighbour_tools.append(tool)\n",
    "            neighbour_tool = rd.choice(neighbour_tools)\n",
    "\n",
    "            triad = [node_tool_1, node_tool_2, neighbour_tool]\n",
    "            triad = tuple(sorted(triad))\n",
    "            new_tool = innovations_dict.get(triad,-1)\n",
    "\n",
    "            # until here, similar to previous cell  \n",
    "\n",
    "            if new_tool > -1: # if a new drug was created (6, 7 or 8 etc) \n",
    "                # check if node and neighbour already have invented tool \n",
    "                have_new_tool = -1 # we need this later\n",
    "                if matrix_node_tools[node][new_tool] == -1: # if position (i = node, j = new tool) in matrix is absent\n",
    "                    have_new_tool = 1 \n",
    "                    matrix_node_tools[node][new_tool] = epoch + 1 # node gains new tools, replace -1 with round of discovery\n",
    "                    for allneibs in G[node]: # now use matrix G_closekin to identify all close kin of node \n",
    "                        matrix_node_tools[allneibs][new_tool] = epoch + 1 # tranmits new tool to all kin\n",
    "\n",
    "                if matrix_node_tools[selected_neighbour][new_tool] == -1: #check if selected neighbour has tool\n",
    "                    have_new_tool = 1 \n",
    "                    matrix_node_tools[selected_neighbour][new_tool]= epoch + 1 # neighbours gains new tool\n",
    "                    for allneibneibs in G[selected_neighbour]:\n",
    "                        matrix_node_tools[allneibneibs][new_tool] = epoch+ 1\n",
    "\n",
    "                if have_new_tool == 1: #if either node or neighbour received the new tool\n",
    "                    #print(new_tool, epoch + 1, node, selected_neighbour)\n",
    "                    if new_tool in [12,13]: # BUT if the new tool is a superdrug C1=12 or C2=13\n",
    "                        stop_sim=1 # simulations ends\n",
    "                        sim_duration.append(epoch + 1)                        \n",
    "            if stop_sim==1:\n",
    "                break\n",
    "        if stop_sim==1:\n",
    "            break\n",
    "\n",
    "plt.hist(sim_duration, facecolor='b', alpha=.5, rwidth=.8)\n",
    "plt.show()\n",
    "print(\"Simulations = \", sims)\n",
    "print(\"Mean time to discovery of C1/C2 = \", np.mean(sim_duration), \"rounds\")"
   ]
  },
  {
   "cell_type": "code",
   "execution_count": null,
   "metadata": {},
   "outputs": [],
   "source": []
  }
 ],
 "metadata": {
  "kernelspec": {
   "display_name": "Python 3",
   "language": "python",
   "name": "python3"
  },
  "language_info": {
   "codemirror_mode": {
    "name": "ipython",
    "version": 3
   },
   "file_extension": ".py",
   "mimetype": "text/x-python",
   "name": "python",
   "nbconvert_exporter": "python",
   "pygments_lexer": "ipython3",
   "version": "3.9.1-final"
  }
 },
 "nbformat": 4,
 "nbformat_minor": 2
}